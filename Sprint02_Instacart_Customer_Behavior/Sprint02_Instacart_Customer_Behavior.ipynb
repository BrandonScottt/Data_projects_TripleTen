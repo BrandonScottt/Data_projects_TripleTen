{
 "cells": [
  {
   "cell_type": "markdown",
   "id": "90ec7f6c",
   "metadata": {},
   "source": [
    "<div style=\"border:solid blue 2px; padding: 20px\">\n",
    "  \n",
    "**Hello Brandon.**\n",
    "\n",
    "My name is Yulia, and I will be reviewing your project. \n",
    "\n",
    "You will find my comments in coloured cells marked as 'Reviewer's comment'. The cell colour will vary based on the contents - I am explaining it further below. \n",
    "\n",
    "**Note:** Please do not remove or change my comments - they will help me in my future reviews and will make the process smoother for both of us. \n",
    "\n",
    "<div class=\"alert alert-success\"; style=\"border-left: 7px solid green\">\n",
    "<b>✅ Reviewer's comment</b> \n",
    "    \n",
    "Such comment will mark efficient solutions and good ideas that can be used in other projects.\n",
    "</div>\n",
    "\n",
    "<div class=\"alert alert-warning\"; style=\"border-left: 7px solid gold\">\n",
    "<b>⚠️ Reviewer's comment</b> \n",
    "    \n",
    "The parts marked with yellow comments indicate that there is room for optimisation. Though the correction is not necessary it is good if you implement it.\n",
    "</div>\n",
    "\n",
    "<div class=\"alert alert-danger\"; style=\"border-left: 7px solid red\">\n",
    "<b>⛔️ Reviewer's comment</b> \n",
    "    \n",
    "If you see such a comment, it means that there is a problem that needs to be fixed. Please note that I won't be able to accept your project until the issue is resolved.\n",
    "</div>\n",
    "\n",
    "You are also very welcome to leave your comments / describe the corrections you've done / ask me questions, marking them with a different colour. You can use the example below: \n",
    "\n",
    "<div class=\"alert alert-info\"; style=\"border-left: 7px solid blue\">\n",
    "<b>Student's comment</b>"
   ]
  },
  {
   "cell_type": "markdown",
   "id": "0c70d02d",
   "metadata": {},
   "source": [
    "<div style=\"border:solid green 2px; padding: 20px\">\n",
    "    \n",
    "<div class=\"alert alert-success\">\n",
    "<b>Review summary</b> \n",
    "    \n",
    "Brandon, thanks for submitting the project. You've done a very good job and I enjoyed reviewing it.\n",
    "    \n",
    "- You followed the project structure.\n",
    "- You stidued the data thoroughly.\n",
    "- You treated the missing values very well.\n",
    "- The charts you plotted clearly answered the questions.\n",
    "       \n",
    "    \n",
    "    \n",
    "<div class=\"alert alert-danger\">\n",
    "    \n",
    "\n",
    "    \n",
    "There are only a few critical comments that need to be corrected. You will find them in the red-coloured cells in relevant sections. Could you please try to correct them and send the project back to me?\n",
    "\n",
    "</div>\n",
    "    \n",
    "You may also work on the yellow comments. If you have any questions please write them when you return your project. \n",
    "    \n",
    "I'll be looking forward to getting your updated notebook."
   ]
  },
  {
   "cell_type": "markdown",
   "id": "6a159c6b",
   "metadata": {},
   "source": [
    "<div class=\"alert alert-danger\"; style=\"border-left: 7px solid red\">\n",
    "<b>⛔️ Reviewer's comment, v. 1</b> \n",
    "\n",
    "\n",
    "    \n",
    "A project title and an introduction are important parts of the project. Could you please add them? \n",
    "    \n",
    "It is optimal if the introduction consists of:\n",
    "    \n",
    "- a brief description of the situation;\n",
    "- the goal of the project;\n",
    "- description of the data we are going to use.\n",
    "</div>\n"
   ]
  },
  {
   "cell_type": "markdown",
   "id": "568a30be",
   "metadata": {},
   "source": [
    "# Exploratory Data Analysis on Instacart Orders"
   ]
  },
  {
   "cell_type": "markdown",
   "id": "3ba8344d",
   "metadata": {},
   "source": [
    "In this project, we will conduct an Exploratory Data Analysis (EDA) on Instacart orders to uncover patterns, trends, and insights from the provided datasets. Instacart is an online grocery delivery and pick-up service, and our goal is to gain a comprehensive understanding of customer behavior, order patterns, and product preferences."
   ]
  },
  {
   "cell_type": "markdown",
   "id": "8d5c09fa",
   "metadata": {},
   "source": [
    "<div class=\"alert alert-info\"; style=\"border-left: 7px solid blue\">\n",
    "<b>Added project title and an introduction</b>"
   ]
  },
  {
   "cell_type": "code",
   "execution_count": 1,
   "id": "fbf1adab",
   "metadata": {},
   "outputs": [],
   "source": [
    "import pandas as pd\n",
    "import matplotlib.pyplot as plt"
   ]
  },
  {
   "cell_type": "code",
   "execution_count": 2,
   "id": "ad36396d",
   "metadata": {},
   "outputs": [],
   "source": [
    "order_df = pd.read_csv('/datasets/instacart_orders.csv', sep=';')\n",
    "product_df = pd.read_csv('/datasets/products.csv', sep=';')\n",
    "order_product_df = pd.read_csv('/datasets/order_products.csv', sep=';')\n",
    "aisle_df = pd.read_csv('/datasets/aisles.csv', sep=';')\n",
    "department_df = pd.read_csv('/datasets/departments.csv', sep=';')"
   ]
  },
  {
   "cell_type": "code",
   "execution_count": 3,
   "id": "ad6a1efa",
   "metadata": {},
   "outputs": [
    {
     "data": {
      "text/html": [
       "<div>\n",
       "<style scoped>\n",
       "    .dataframe tbody tr th:only-of-type {\n",
       "        vertical-align: middle;\n",
       "    }\n",
       "\n",
       "    .dataframe tbody tr th {\n",
       "        vertical-align: top;\n",
       "    }\n",
       "\n",
       "    .dataframe thead th {\n",
       "        text-align: right;\n",
       "    }\n",
       "</style>\n",
       "<table border=\"1\" class=\"dataframe\">\n",
       "  <thead>\n",
       "    <tr style=\"text-align: right;\">\n",
       "      <th></th>\n",
       "      <th>order_id</th>\n",
       "      <th>user_id</th>\n",
       "      <th>order_number</th>\n",
       "      <th>order_dow</th>\n",
       "      <th>order_hour_of_day</th>\n",
       "      <th>days_since_prior_order</th>\n",
       "    </tr>\n",
       "  </thead>\n",
       "  <tbody>\n",
       "    <tr>\n",
       "      <th>0</th>\n",
       "      <td>1515936</td>\n",
       "      <td>183418</td>\n",
       "      <td>11</td>\n",
       "      <td>6</td>\n",
       "      <td>13</td>\n",
       "      <td>30.0</td>\n",
       "    </tr>\n",
       "    <tr>\n",
       "      <th>1</th>\n",
       "      <td>1690866</td>\n",
       "      <td>163593</td>\n",
       "      <td>5</td>\n",
       "      <td>5</td>\n",
       "      <td>12</td>\n",
       "      <td>9.0</td>\n",
       "    </tr>\n",
       "    <tr>\n",
       "      <th>2</th>\n",
       "      <td>1454967</td>\n",
       "      <td>39980</td>\n",
       "      <td>4</td>\n",
       "      <td>5</td>\n",
       "      <td>19</td>\n",
       "      <td>2.0</td>\n",
       "    </tr>\n",
       "    <tr>\n",
       "      <th>3</th>\n",
       "      <td>1768857</td>\n",
       "      <td>82516</td>\n",
       "      <td>56</td>\n",
       "      <td>0</td>\n",
       "      <td>20</td>\n",
       "      <td>10.0</td>\n",
       "    </tr>\n",
       "    <tr>\n",
       "      <th>4</th>\n",
       "      <td>3007858</td>\n",
       "      <td>196724</td>\n",
       "      <td>2</td>\n",
       "      <td>4</td>\n",
       "      <td>12</td>\n",
       "      <td>17.0</td>\n",
       "    </tr>\n",
       "  </tbody>\n",
       "</table>\n",
       "</div>"
      ],
      "text/plain": [
       "   order_id  user_id  order_number  order_dow  order_hour_of_day  \\\n",
       "0   1515936   183418            11          6                 13   \n",
       "1   1690866   163593             5          5                 12   \n",
       "2   1454967    39980             4          5                 19   \n",
       "3   1768857    82516            56          0                 20   \n",
       "4   3007858   196724             2          4                 12   \n",
       "\n",
       "   days_since_prior_order  \n",
       "0                    30.0  \n",
       "1                     9.0  \n",
       "2                     2.0  \n",
       "3                    10.0  \n",
       "4                    17.0  "
      ]
     },
     "execution_count": 3,
     "metadata": {},
     "output_type": "execute_result"
    }
   ],
   "source": [
    "order_df.head()"
   ]
  },
  {
   "cell_type": "code",
   "execution_count": 4,
   "id": "5130e05e",
   "metadata": {},
   "outputs": [
    {
     "data": {
      "text/html": [
       "<div>\n",
       "<style scoped>\n",
       "    .dataframe tbody tr th:only-of-type {\n",
       "        vertical-align: middle;\n",
       "    }\n",
       "\n",
       "    .dataframe tbody tr th {\n",
       "        vertical-align: top;\n",
       "    }\n",
       "\n",
       "    .dataframe thead th {\n",
       "        text-align: right;\n",
       "    }\n",
       "</style>\n",
       "<table border=\"1\" class=\"dataframe\">\n",
       "  <thead>\n",
       "    <tr style=\"text-align: right;\">\n",
       "      <th></th>\n",
       "      <th>product_id</th>\n",
       "      <th>product_name</th>\n",
       "      <th>aisle_id</th>\n",
       "      <th>department_id</th>\n",
       "    </tr>\n",
       "  </thead>\n",
       "  <tbody>\n",
       "    <tr>\n",
       "      <th>0</th>\n",
       "      <td>1</td>\n",
       "      <td>Chocolate Sandwich Cookies</td>\n",
       "      <td>61</td>\n",
       "      <td>19</td>\n",
       "    </tr>\n",
       "    <tr>\n",
       "      <th>1</th>\n",
       "      <td>2</td>\n",
       "      <td>All-Seasons Salt</td>\n",
       "      <td>104</td>\n",
       "      <td>13</td>\n",
       "    </tr>\n",
       "    <tr>\n",
       "      <th>2</th>\n",
       "      <td>3</td>\n",
       "      <td>Robust Golden Unsweetened Oolong Tea</td>\n",
       "      <td>94</td>\n",
       "      <td>7</td>\n",
       "    </tr>\n",
       "    <tr>\n",
       "      <th>3</th>\n",
       "      <td>4</td>\n",
       "      <td>Smart Ones Classic Favorites Mini Rigatoni Wit...</td>\n",
       "      <td>38</td>\n",
       "      <td>1</td>\n",
       "    </tr>\n",
       "    <tr>\n",
       "      <th>4</th>\n",
       "      <td>5</td>\n",
       "      <td>Green Chile Anytime Sauce</td>\n",
       "      <td>5</td>\n",
       "      <td>13</td>\n",
       "    </tr>\n",
       "  </tbody>\n",
       "</table>\n",
       "</div>"
      ],
      "text/plain": [
       "   product_id                                       product_name  aisle_id  \\\n",
       "0           1                         Chocolate Sandwich Cookies        61   \n",
       "1           2                                   All-Seasons Salt       104   \n",
       "2           3               Robust Golden Unsweetened Oolong Tea        94   \n",
       "3           4  Smart Ones Classic Favorites Mini Rigatoni Wit...        38   \n",
       "4           5                          Green Chile Anytime Sauce         5   \n",
       "\n",
       "   department_id  \n",
       "0             19  \n",
       "1             13  \n",
       "2              7  \n",
       "3              1  \n",
       "4             13  "
      ]
     },
     "execution_count": 4,
     "metadata": {},
     "output_type": "execute_result"
    }
   ],
   "source": [
    "product_df.head()"
   ]
  },
  {
   "cell_type": "code",
   "execution_count": 5,
   "id": "d8370c05",
   "metadata": {},
   "outputs": [
    {
     "data": {
      "text/html": [
       "<div>\n",
       "<style scoped>\n",
       "    .dataframe tbody tr th:only-of-type {\n",
       "        vertical-align: middle;\n",
       "    }\n",
       "\n",
       "    .dataframe tbody tr th {\n",
       "        vertical-align: top;\n",
       "    }\n",
       "\n",
       "    .dataframe thead th {\n",
       "        text-align: right;\n",
       "    }\n",
       "</style>\n",
       "<table border=\"1\" class=\"dataframe\">\n",
       "  <thead>\n",
       "    <tr style=\"text-align: right;\">\n",
       "      <th></th>\n",
       "      <th>order_id</th>\n",
       "      <th>product_id</th>\n",
       "      <th>add_to_cart_order</th>\n",
       "      <th>reordered</th>\n",
       "    </tr>\n",
       "  </thead>\n",
       "  <tbody>\n",
       "    <tr>\n",
       "      <th>0</th>\n",
       "      <td>2141543</td>\n",
       "      <td>11440</td>\n",
       "      <td>17.0</td>\n",
       "      <td>0</td>\n",
       "    </tr>\n",
       "    <tr>\n",
       "      <th>1</th>\n",
       "      <td>567889</td>\n",
       "      <td>1560</td>\n",
       "      <td>1.0</td>\n",
       "      <td>1</td>\n",
       "    </tr>\n",
       "    <tr>\n",
       "      <th>2</th>\n",
       "      <td>2261212</td>\n",
       "      <td>26683</td>\n",
       "      <td>1.0</td>\n",
       "      <td>1</td>\n",
       "    </tr>\n",
       "    <tr>\n",
       "      <th>3</th>\n",
       "      <td>491251</td>\n",
       "      <td>8670</td>\n",
       "      <td>35.0</td>\n",
       "      <td>1</td>\n",
       "    </tr>\n",
       "    <tr>\n",
       "      <th>4</th>\n",
       "      <td>2571142</td>\n",
       "      <td>1940</td>\n",
       "      <td>5.0</td>\n",
       "      <td>1</td>\n",
       "    </tr>\n",
       "  </tbody>\n",
       "</table>\n",
       "</div>"
      ],
      "text/plain": [
       "   order_id  product_id  add_to_cart_order  reordered\n",
       "0   2141543       11440               17.0          0\n",
       "1    567889        1560                1.0          1\n",
       "2   2261212       26683                1.0          1\n",
       "3    491251        8670               35.0          1\n",
       "4   2571142        1940                5.0          1"
      ]
     },
     "execution_count": 5,
     "metadata": {},
     "output_type": "execute_result"
    }
   ],
   "source": [
    "order_product_df.head()"
   ]
  },
  {
   "cell_type": "code",
   "execution_count": 6,
   "id": "59e2090f",
   "metadata": {},
   "outputs": [
    {
     "data": {
      "text/html": [
       "<div>\n",
       "<style scoped>\n",
       "    .dataframe tbody tr th:only-of-type {\n",
       "        vertical-align: middle;\n",
       "    }\n",
       "\n",
       "    .dataframe tbody tr th {\n",
       "        vertical-align: top;\n",
       "    }\n",
       "\n",
       "    .dataframe thead th {\n",
       "        text-align: right;\n",
       "    }\n",
       "</style>\n",
       "<table border=\"1\" class=\"dataframe\">\n",
       "  <thead>\n",
       "    <tr style=\"text-align: right;\">\n",
       "      <th></th>\n",
       "      <th>aisle_id</th>\n",
       "      <th>aisle</th>\n",
       "    </tr>\n",
       "  </thead>\n",
       "  <tbody>\n",
       "    <tr>\n",
       "      <th>0</th>\n",
       "      <td>1</td>\n",
       "      <td>prepared soups salads</td>\n",
       "    </tr>\n",
       "    <tr>\n",
       "      <th>1</th>\n",
       "      <td>2</td>\n",
       "      <td>specialty cheeses</td>\n",
       "    </tr>\n",
       "    <tr>\n",
       "      <th>2</th>\n",
       "      <td>3</td>\n",
       "      <td>energy granola bars</td>\n",
       "    </tr>\n",
       "    <tr>\n",
       "      <th>3</th>\n",
       "      <td>4</td>\n",
       "      <td>instant foods</td>\n",
       "    </tr>\n",
       "    <tr>\n",
       "      <th>4</th>\n",
       "      <td>5</td>\n",
       "      <td>marinades meat preparation</td>\n",
       "    </tr>\n",
       "  </tbody>\n",
       "</table>\n",
       "</div>"
      ],
      "text/plain": [
       "   aisle_id                       aisle\n",
       "0         1       prepared soups salads\n",
       "1         2           specialty cheeses\n",
       "2         3         energy granola bars\n",
       "3         4               instant foods\n",
       "4         5  marinades meat preparation"
      ]
     },
     "execution_count": 6,
     "metadata": {},
     "output_type": "execute_result"
    }
   ],
   "source": [
    "aisle_df.head()"
   ]
  },
  {
   "cell_type": "code",
   "execution_count": 7,
   "id": "6fc81694",
   "metadata": {},
   "outputs": [
    {
     "data": {
      "text/html": [
       "<div>\n",
       "<style scoped>\n",
       "    .dataframe tbody tr th:only-of-type {\n",
       "        vertical-align: middle;\n",
       "    }\n",
       "\n",
       "    .dataframe tbody tr th {\n",
       "        vertical-align: top;\n",
       "    }\n",
       "\n",
       "    .dataframe thead th {\n",
       "        text-align: right;\n",
       "    }\n",
       "</style>\n",
       "<table border=\"1\" class=\"dataframe\">\n",
       "  <thead>\n",
       "    <tr style=\"text-align: right;\">\n",
       "      <th></th>\n",
       "      <th>department_id</th>\n",
       "      <th>department</th>\n",
       "    </tr>\n",
       "  </thead>\n",
       "  <tbody>\n",
       "    <tr>\n",
       "      <th>0</th>\n",
       "      <td>1</td>\n",
       "      <td>frozen</td>\n",
       "    </tr>\n",
       "    <tr>\n",
       "      <th>1</th>\n",
       "      <td>2</td>\n",
       "      <td>other</td>\n",
       "    </tr>\n",
       "    <tr>\n",
       "      <th>2</th>\n",
       "      <td>3</td>\n",
       "      <td>bakery</td>\n",
       "    </tr>\n",
       "    <tr>\n",
       "      <th>3</th>\n",
       "      <td>4</td>\n",
       "      <td>produce</td>\n",
       "    </tr>\n",
       "    <tr>\n",
       "      <th>4</th>\n",
       "      <td>5</td>\n",
       "      <td>alcohol</td>\n",
       "    </tr>\n",
       "  </tbody>\n",
       "</table>\n",
       "</div>"
      ],
      "text/plain": [
       "   department_id department\n",
       "0              1     frozen\n",
       "1              2      other\n",
       "2              3     bakery\n",
       "3              4    produce\n",
       "4              5    alcohol"
      ]
     },
     "execution_count": 7,
     "metadata": {},
     "output_type": "execute_result"
    }
   ],
   "source": [
    "department_df.head()"
   ]
  },
  {
   "cell_type": "markdown",
   "id": "9aec0886",
   "metadata": {},
   "source": [
    "<div class=\"alert alert-danger\"; style=\"border-left: 7px solid red\">\n",
    "<b>⛔️ Reviewer's comment, v. 1</b> \n",
    "\n",
    "\n",
    "`head()` is a good method to take a look at the data. But to get more information about the data (check whether data types are optimal, check whether there are missing values or not) please also use `info()` method for each dataframe.\n",
    "    \n",
    "--- \n",
    "    \n",
    "After you've studied the data, please don't forget to describe your observations and conclusion.\n",
    "</div>\n"
   ]
  },
  {
   "cell_type": "code",
   "execution_count": 8,
   "id": "edd31fbd",
   "metadata": {},
   "outputs": [
    {
     "name": "stdout",
     "output_type": "stream",
     "text": [
      "<class 'pandas.core.frame.DataFrame'>\n",
      "RangeIndex: 478967 entries, 0 to 478966\n",
      "Data columns (total 6 columns):\n",
      " #   Column                  Non-Null Count   Dtype  \n",
      "---  ------                  --------------   -----  \n",
      " 0   order_id                478967 non-null  int64  \n",
      " 1   user_id                 478967 non-null  int64  \n",
      " 2   order_number            478967 non-null  int64  \n",
      " 3   order_dow               478967 non-null  int64  \n",
      " 4   order_hour_of_day       478967 non-null  int64  \n",
      " 5   days_since_prior_order  450148 non-null  float64\n",
      "dtypes: float64(1), int64(5)\n",
      "memory usage: 21.9 MB\n"
     ]
    }
   ],
   "source": [
    "order_df.info()"
   ]
  },
  {
   "cell_type": "code",
   "execution_count": 9,
   "id": "37b79263",
   "metadata": {},
   "outputs": [
    {
     "name": "stdout",
     "output_type": "stream",
     "text": [
      "<class 'pandas.core.frame.DataFrame'>\n",
      "RangeIndex: 49694 entries, 0 to 49693\n",
      "Data columns (total 4 columns):\n",
      " #   Column         Non-Null Count  Dtype \n",
      "---  ------         --------------  ----- \n",
      " 0   product_id     49694 non-null  int64 \n",
      " 1   product_name   48436 non-null  object\n",
      " 2   aisle_id       49694 non-null  int64 \n",
      " 3   department_id  49694 non-null  int64 \n",
      "dtypes: int64(3), object(1)\n",
      "memory usage: 1.5+ MB\n"
     ]
    }
   ],
   "source": [
    "product_df.info()"
   ]
  },
  {
   "cell_type": "code",
   "execution_count": 10,
   "id": "82bcd015",
   "metadata": {},
   "outputs": [
    {
     "name": "stdout",
     "output_type": "stream",
     "text": [
      "<class 'pandas.core.frame.DataFrame'>\n",
      "RangeIndex: 4545007 entries, 0 to 4545006\n",
      "Data columns (total 4 columns):\n",
      " #   Column             Dtype  \n",
      "---  ------             -----  \n",
      " 0   order_id           int64  \n",
      " 1   product_id         int64  \n",
      " 2   add_to_cart_order  float64\n",
      " 3   reordered          int64  \n",
      "dtypes: float64(1), int64(3)\n",
      "memory usage: 138.7 MB\n"
     ]
    }
   ],
   "source": [
    "order_product_df.info()"
   ]
  },
  {
   "cell_type": "code",
   "execution_count": 11,
   "id": "16ec4aa4",
   "metadata": {},
   "outputs": [
    {
     "name": "stdout",
     "output_type": "stream",
     "text": [
      "<class 'pandas.core.frame.DataFrame'>\n",
      "RangeIndex: 134 entries, 0 to 133\n",
      "Data columns (total 2 columns):\n",
      " #   Column    Non-Null Count  Dtype \n",
      "---  ------    --------------  ----- \n",
      " 0   aisle_id  134 non-null    int64 \n",
      " 1   aisle     134 non-null    object\n",
      "dtypes: int64(1), object(1)\n",
      "memory usage: 2.2+ KB\n"
     ]
    }
   ],
   "source": [
    "aisle_df.info()"
   ]
  },
  {
   "cell_type": "code",
   "execution_count": 12,
   "id": "f9f80f53",
   "metadata": {},
   "outputs": [
    {
     "name": "stdout",
     "output_type": "stream",
     "text": [
      "<class 'pandas.core.frame.DataFrame'>\n",
      "RangeIndex: 21 entries, 0 to 20\n",
      "Data columns (total 2 columns):\n",
      " #   Column         Non-Null Count  Dtype \n",
      "---  ------         --------------  ----- \n",
      " 0   department_id  21 non-null     int64 \n",
      " 1   department     21 non-null     object\n",
      "dtypes: int64(1), object(1)\n",
      "memory usage: 464.0+ bytes\n"
     ]
    }
   ],
   "source": [
    "department_df.info()"
   ]
  },
  {
   "cell_type": "markdown",
   "id": "cd87689c",
   "metadata": {},
   "source": [
    "<div class=\"alert alert-info\"; style=\"border-left: 7px solid blue\">\n",
    "<b>used info() method to all DF</b>\n",
    "\n",
    "order_df have some missing value in days_since_prior_order column and product_df have some missing value in product_name column"
   ]
  },
  {
   "cell_type": "markdown",
   "id": "07357848-dc64-4156-9cc3-01ff4365226d",
   "metadata": {},
   "source": [
    "## Find and remove duplicate values (and describe why you make your choices)"
   ]
  },
  {
   "cell_type": "markdown",
   "id": "f179f0a9",
   "metadata": {},
   "source": [
    "### `orders` data frame"
   ]
  },
  {
   "cell_type": "code",
   "execution_count": 13,
   "id": "b99297a5-405a-463d-8535-9adc3da4ad74",
   "metadata": {
    "scrolled": true
   },
   "outputs": [
    {
     "data": {
      "text/plain": [
       "15"
      ]
     },
     "execution_count": 13,
     "metadata": {},
     "output_type": "execute_result"
    }
   ],
   "source": [
    "# Check for duplicated orders\n",
    "order_df.duplicated().sum()"
   ]
  },
  {
   "cell_type": "code",
   "execution_count": 14,
   "id": "0d44de5d",
   "metadata": {},
   "outputs": [
    {
     "data": {
      "text/html": [
       "<div>\n",
       "<style scoped>\n",
       "    .dataframe tbody tr th:only-of-type {\n",
       "        vertical-align: middle;\n",
       "    }\n",
       "\n",
       "    .dataframe tbody tr th {\n",
       "        vertical-align: top;\n",
       "    }\n",
       "\n",
       "    .dataframe thead th {\n",
       "        text-align: right;\n",
       "    }\n",
       "</style>\n",
       "<table border=\"1\" class=\"dataframe\">\n",
       "  <thead>\n",
       "    <tr style=\"text-align: right;\">\n",
       "      <th></th>\n",
       "      <th>order_id</th>\n",
       "      <th>user_id</th>\n",
       "      <th>order_number</th>\n",
       "      <th>order_dow</th>\n",
       "      <th>order_hour_of_day</th>\n",
       "      <th>days_since_prior_order</th>\n",
       "    </tr>\n",
       "  </thead>\n",
       "  <tbody>\n",
       "    <tr>\n",
       "      <th>1295</th>\n",
       "      <td>1474941</td>\n",
       "      <td>115569</td>\n",
       "      <td>5</td>\n",
       "      <td>2</td>\n",
       "      <td>2</td>\n",
       "      <td>28.0</td>\n",
       "    </tr>\n",
       "    <tr>\n",
       "      <th>2391</th>\n",
       "      <td>1640269</td>\n",
       "      <td>173965</td>\n",
       "      <td>15</td>\n",
       "      <td>2</td>\n",
       "      <td>2</td>\n",
       "      <td>2.0</td>\n",
       "    </tr>\n",
       "    <tr>\n",
       "      <th>2550</th>\n",
       "      <td>1223696</td>\n",
       "      <td>55276</td>\n",
       "      <td>11</td>\n",
       "      <td>2</td>\n",
       "      <td>2</td>\n",
       "      <td>30.0</td>\n",
       "    </tr>\n",
       "    <tr>\n",
       "      <th>5965</th>\n",
       "      <td>579194</td>\n",
       "      <td>85018</td>\n",
       "      <td>14</td>\n",
       "      <td>2</td>\n",
       "      <td>2</td>\n",
       "      <td>11.0</td>\n",
       "    </tr>\n",
       "    <tr>\n",
       "      <th>17680</th>\n",
       "      <td>2004230</td>\n",
       "      <td>203121</td>\n",
       "      <td>4</td>\n",
       "      <td>2</td>\n",
       "      <td>2</td>\n",
       "      <td>8.0</td>\n",
       "    </tr>\n",
       "    <tr>\n",
       "      <th>...</th>\n",
       "      <td>...</td>\n",
       "      <td>...</td>\n",
       "      <td>...</td>\n",
       "      <td>...</td>\n",
       "      <td>...</td>\n",
       "      <td>...</td>\n",
       "    </tr>\n",
       "    <tr>\n",
       "      <th>457660</th>\n",
       "      <td>1562381</td>\n",
       "      <td>19378</td>\n",
       "      <td>5</td>\n",
       "      <td>2</td>\n",
       "      <td>2</td>\n",
       "      <td>6.0</td>\n",
       "    </tr>\n",
       "    <tr>\n",
       "      <th>460316</th>\n",
       "      <td>1986084</td>\n",
       "      <td>117453</td>\n",
       "      <td>81</td>\n",
       "      <td>2</td>\n",
       "      <td>2</td>\n",
       "      <td>8.0</td>\n",
       "    </tr>\n",
       "    <tr>\n",
       "      <th>462676</th>\n",
       "      <td>1362113</td>\n",
       "      <td>19654</td>\n",
       "      <td>20</td>\n",
       "      <td>2</td>\n",
       "      <td>2</td>\n",
       "      <td>21.0</td>\n",
       "    </tr>\n",
       "    <tr>\n",
       "      <th>472800</th>\n",
       "      <td>1746383</td>\n",
       "      <td>88484</td>\n",
       "      <td>19</td>\n",
       "      <td>2</td>\n",
       "      <td>2</td>\n",
       "      <td>5.0</td>\n",
       "    </tr>\n",
       "    <tr>\n",
       "      <th>472923</th>\n",
       "      <td>1519815</td>\n",
       "      <td>149345</td>\n",
       "      <td>1</td>\n",
       "      <td>2</td>\n",
       "      <td>2</td>\n",
       "      <td>NaN</td>\n",
       "    </tr>\n",
       "  </tbody>\n",
       "</table>\n",
       "<p>136 rows × 6 columns</p>\n",
       "</div>"
      ],
      "text/plain": [
       "        order_id  user_id  order_number  order_dow  order_hour_of_day  \\\n",
       "1295     1474941   115569             5          2                  2   \n",
       "2391     1640269   173965            15          2                  2   \n",
       "2550     1223696    55276            11          2                  2   \n",
       "5965      579194    85018            14          2                  2   \n",
       "17680    2004230   203121             4          2                  2   \n",
       "...          ...      ...           ...        ...                ...   \n",
       "457660   1562381    19378             5          2                  2   \n",
       "460316   1986084   117453            81          2                  2   \n",
       "462676   1362113    19654            20          2                  2   \n",
       "472800   1746383    88484            19          2                  2   \n",
       "472923   1519815   149345             1          2                  2   \n",
       "\n",
       "        days_since_prior_order  \n",
       "1295                      28.0  \n",
       "2391                       2.0  \n",
       "2550                      30.0  \n",
       "5965                      11.0  \n",
       "17680                      8.0  \n",
       "...                        ...  \n",
       "457660                     6.0  \n",
       "460316                     8.0  \n",
       "462676                    21.0  \n",
       "472800                     5.0  \n",
       "472923                     NaN  \n",
       "\n",
       "[136 rows x 6 columns]"
      ]
     },
     "execution_count": 14,
     "metadata": {},
     "output_type": "execute_result"
    }
   ],
   "source": [
    "# Check for all orders placed Wednesday at 2:00 AM\n",
    "order_df[(order_df['order_dow'] == 2) & (order_df['order_hour_of_day'] == 2)]"
   ]
  },
  {
   "cell_type": "code",
   "execution_count": 15,
   "id": "480563c7",
   "metadata": {},
   "outputs": [],
   "source": [
    "# Remove duplicate orders\n",
    "order_df = order_df.drop_duplicates(subset='order_id')"
   ]
  },
  {
   "cell_type": "code",
   "execution_count": 16,
   "id": "0b2396a2",
   "metadata": {},
   "outputs": [
    {
     "data": {
      "text/plain": [
       "0"
      ]
     },
     "execution_count": 16,
     "metadata": {},
     "output_type": "execute_result"
    }
   ],
   "source": [
    "# Double check for duplicate rows\n",
    "order_df.duplicated().sum()"
   ]
  },
  {
   "cell_type": "code",
   "execution_count": 17,
   "id": "f6113ef1",
   "metadata": {},
   "outputs": [
    {
     "data": {
      "text/plain": [
       "order_id                  0.0\n",
       "user_id                   0.0\n",
       "order_number              0.0\n",
       "order_dow                 0.0\n",
       "order_hour_of_day         0.0\n",
       "days_since_prior_order    0.0\n",
       "dtype: float64"
      ]
     },
     "execution_count": 17,
     "metadata": {},
     "output_type": "execute_result"
    }
   ],
   "source": [
    "# Double check for duplicate rows\n",
    "order_df[order_df.duplicated('order_id', keep=False)].sum()"
   ]
  },
  {
   "cell_type": "markdown",
   "id": "5e8905ae",
   "metadata": {},
   "source": [
    "No more duplicates in Order DF"
   ]
  },
  {
   "cell_type": "markdown",
   "id": "01211594",
   "metadata": {},
   "source": [
    "<div class=\"alert alert-success\"; style=\"border-left: 7px solid green\">\n",
    "<b>✅ Reviewer's comment, v. 1</b> \n",
    "    \n",
    "Well done, you've found and removed all the duplicates."
   ]
  },
  {
   "cell_type": "markdown",
   "id": "45e6bc46",
   "metadata": {},
   "source": [
    "### `products` data frame"
   ]
  },
  {
   "cell_type": "code",
   "execution_count": 18,
   "id": "5f526b5b-8175-46fa-a0fd-441767d50e64",
   "metadata": {},
   "outputs": [
    {
     "data": {
      "text/plain": [
       "product_id       0.0\n",
       "product_name     0.0\n",
       "aisle_id         0.0\n",
       "department_id    0.0\n",
       "dtype: float64"
      ]
     },
     "execution_count": 18,
     "metadata": {},
     "output_type": "execute_result"
    }
   ],
   "source": [
    "# Check for fully duplicate rows\n",
    "product_df[product_df.duplicated()].sum()"
   ]
  },
  {
   "cell_type": "code",
   "execution_count": 19,
   "id": "88daa4f4",
   "metadata": {},
   "outputs": [
    {
     "data": {
      "text/plain": [
       "product_id       0.0\n",
       "product_name     0.0\n",
       "aisle_id         0.0\n",
       "department_id    0.0\n",
       "dtype: float64"
      ]
     },
     "execution_count": 19,
     "metadata": {},
     "output_type": "execute_result"
    }
   ],
   "source": [
    "# Check for just duplicate product IDs\n",
    "product_df[product_df.duplicated('product_id', keep=False)].sum()"
   ]
  },
  {
   "cell_type": "code",
   "execution_count": 20,
   "id": "c773f0bf",
   "metadata": {},
   "outputs": [
    {
     "data": {
      "text/plain": [
       "1361"
      ]
     },
     "execution_count": 20,
     "metadata": {},
     "output_type": "execute_result"
    }
   ],
   "source": [
    "# Check for just duplicate product names (convert names to lowercase to compare better)\n",
    "lower_case_dups = product_df['product_name'].str.lower().duplicated()\n",
    "lower_case_dups.sum()"
   ]
  },
  {
   "cell_type": "code",
   "execution_count": 21,
   "id": "43376b75",
   "metadata": {},
   "outputs": [
    {
     "data": {
      "text/plain": [
       "48436"
      ]
     },
     "execution_count": 21,
     "metadata": {},
     "output_type": "execute_result"
    }
   ],
   "source": [
    "none_missin_value = ~product_df['product_name'].isna()\n",
    "none_missin_value.sum()"
   ]
  },
  {
   "cell_type": "code",
   "execution_count": 22,
   "id": "01efd02e",
   "metadata": {},
   "outputs": [
    {
     "data": {
      "text/plain": [
       "104"
      ]
     },
     "execution_count": 22,
     "metadata": {},
     "output_type": "execute_result"
    }
   ],
   "source": [
    "# Check for duplicate product names that aren't missing\n",
    "(lower_case_dups & none_missin_value).sum()"
   ]
  },
  {
   "cell_type": "markdown",
   "id": "9da8d293",
   "metadata": {},
   "source": [
    "There are 104 duplicates product names found in product DF"
   ]
  },
  {
   "cell_type": "markdown",
   "id": "6caeb860",
   "metadata": {},
   "source": [
    "<div class=\"alert alert-success\"; style=\"border-left: 7px solid green\">\n",
    "<b>✅ Reviewer's comment, v. 1</b> \n",
    "    \n",
    "Ok, very good. We keep those duplicates as they are not the full ones and have unique IDs."
   ]
  },
  {
   "cell_type": "markdown",
   "id": "60f30db1",
   "metadata": {},
   "source": [
    "### `departments` data frame"
   ]
  },
  {
   "cell_type": "code",
   "execution_count": 23,
   "id": "fb410ad4-0fbf-4b80-bb09-23fdea79afe3",
   "metadata": {},
   "outputs": [
    {
     "data": {
      "text/plain": [
       "department_id    0.0\n",
       "department       0.0\n",
       "dtype: float64"
      ]
     },
     "execution_count": 23,
     "metadata": {},
     "output_type": "execute_result"
    }
   ],
   "source": [
    "department_df[department_df.duplicated()].sum()"
   ]
  },
  {
   "cell_type": "code",
   "execution_count": 24,
   "id": "332b12bb",
   "metadata": {},
   "outputs": [
    {
     "data": {
      "text/plain": [
       "department_id    0.0\n",
       "department       0.0\n",
       "dtype: float64"
      ]
     },
     "execution_count": 24,
     "metadata": {},
     "output_type": "execute_result"
    }
   ],
   "source": [
    "department_df[department_df.duplicated('department_id', keep=False)].sum()"
   ]
  },
  {
   "cell_type": "code",
   "execution_count": 25,
   "id": "79a0e2f6",
   "metadata": {},
   "outputs": [
    {
     "data": {
      "text/html": [
       "<div>\n",
       "<style scoped>\n",
       "    .dataframe tbody tr th:only-of-type {\n",
       "        vertical-align: middle;\n",
       "    }\n",
       "\n",
       "    .dataframe tbody tr th {\n",
       "        vertical-align: top;\n",
       "    }\n",
       "\n",
       "    .dataframe thead th {\n",
       "        text-align: right;\n",
       "    }\n",
       "</style>\n",
       "<table border=\"1\" class=\"dataframe\">\n",
       "  <thead>\n",
       "    <tr style=\"text-align: right;\">\n",
       "      <th></th>\n",
       "      <th>department_id</th>\n",
       "      <th>department</th>\n",
       "    </tr>\n",
       "  </thead>\n",
       "  <tbody>\n",
       "    <tr>\n",
       "      <th>0</th>\n",
       "      <td>1</td>\n",
       "      <td>frozen</td>\n",
       "    </tr>\n",
       "    <tr>\n",
       "      <th>1</th>\n",
       "      <td>2</td>\n",
       "      <td>other</td>\n",
       "    </tr>\n",
       "    <tr>\n",
       "      <th>2</th>\n",
       "      <td>3</td>\n",
       "      <td>bakery</td>\n",
       "    </tr>\n",
       "    <tr>\n",
       "      <th>3</th>\n",
       "      <td>4</td>\n",
       "      <td>produce</td>\n",
       "    </tr>\n",
       "    <tr>\n",
       "      <th>4</th>\n",
       "      <td>5</td>\n",
       "      <td>alcohol</td>\n",
       "    </tr>\n",
       "    <tr>\n",
       "      <th>5</th>\n",
       "      <td>6</td>\n",
       "      <td>international</td>\n",
       "    </tr>\n",
       "    <tr>\n",
       "      <th>6</th>\n",
       "      <td>7</td>\n",
       "      <td>beverages</td>\n",
       "    </tr>\n",
       "    <tr>\n",
       "      <th>7</th>\n",
       "      <td>8</td>\n",
       "      <td>pets</td>\n",
       "    </tr>\n",
       "    <tr>\n",
       "      <th>8</th>\n",
       "      <td>9</td>\n",
       "      <td>dry goods pasta</td>\n",
       "    </tr>\n",
       "    <tr>\n",
       "      <th>9</th>\n",
       "      <td>10</td>\n",
       "      <td>bulk</td>\n",
       "    </tr>\n",
       "    <tr>\n",
       "      <th>10</th>\n",
       "      <td>11</td>\n",
       "      <td>personal care</td>\n",
       "    </tr>\n",
       "    <tr>\n",
       "      <th>11</th>\n",
       "      <td>12</td>\n",
       "      <td>meat seafood</td>\n",
       "    </tr>\n",
       "    <tr>\n",
       "      <th>12</th>\n",
       "      <td>13</td>\n",
       "      <td>pantry</td>\n",
       "    </tr>\n",
       "    <tr>\n",
       "      <th>13</th>\n",
       "      <td>14</td>\n",
       "      <td>breakfast</td>\n",
       "    </tr>\n",
       "    <tr>\n",
       "      <th>14</th>\n",
       "      <td>15</td>\n",
       "      <td>canned goods</td>\n",
       "    </tr>\n",
       "    <tr>\n",
       "      <th>15</th>\n",
       "      <td>16</td>\n",
       "      <td>dairy eggs</td>\n",
       "    </tr>\n",
       "    <tr>\n",
       "      <th>16</th>\n",
       "      <td>17</td>\n",
       "      <td>household</td>\n",
       "    </tr>\n",
       "    <tr>\n",
       "      <th>17</th>\n",
       "      <td>18</td>\n",
       "      <td>babies</td>\n",
       "    </tr>\n",
       "    <tr>\n",
       "      <th>18</th>\n",
       "      <td>19</td>\n",
       "      <td>snacks</td>\n",
       "    </tr>\n",
       "    <tr>\n",
       "      <th>19</th>\n",
       "      <td>20</td>\n",
       "      <td>deli</td>\n",
       "    </tr>\n",
       "    <tr>\n",
       "      <th>20</th>\n",
       "      <td>21</td>\n",
       "      <td>missing</td>\n",
       "    </tr>\n",
       "  </tbody>\n",
       "</table>\n",
       "</div>"
      ],
      "text/plain": [
       "    department_id       department\n",
       "0               1           frozen\n",
       "1               2            other\n",
       "2               3           bakery\n",
       "3               4          produce\n",
       "4               5          alcohol\n",
       "5               6    international\n",
       "6               7        beverages\n",
       "7               8             pets\n",
       "8               9  dry goods pasta\n",
       "9              10             bulk\n",
       "10             11    personal care\n",
       "11             12     meat seafood\n",
       "12             13           pantry\n",
       "13             14        breakfast\n",
       "14             15     canned goods\n",
       "15             16       dairy eggs\n",
       "16             17        household\n",
       "17             18           babies\n",
       "18             19           snacks\n",
       "19             20             deli\n",
       "20             21          missing"
      ]
     },
     "execution_count": 25,
     "metadata": {},
     "output_type": "execute_result"
    }
   ],
   "source": [
    "department_df"
   ]
  },
  {
   "cell_type": "markdown",
   "id": "bd30d78e",
   "metadata": {},
   "source": [
    "They are all unique department"
   ]
  },
  {
   "cell_type": "markdown",
   "id": "889349c1",
   "metadata": {},
   "source": [
    "### `aisles` data frame"
   ]
  },
  {
   "cell_type": "code",
   "execution_count": 26,
   "id": "9da89fb9-4679-40f5-ad0d-c34df753a3f8",
   "metadata": {},
   "outputs": [
    {
     "data": {
      "text/plain": [
       "aisle_id    0.0\n",
       "aisle       0.0\n",
       "dtype: float64"
      ]
     },
     "execution_count": 26,
     "metadata": {},
     "output_type": "execute_result"
    }
   ],
   "source": [
    "aisle_df[aisle_df.duplicated()].sum()"
   ]
  },
  {
   "cell_type": "code",
   "execution_count": 27,
   "id": "da7c2822",
   "metadata": {},
   "outputs": [
    {
     "data": {
      "text/plain": [
       "aisle_id    0.0\n",
       "aisle       0.0\n",
       "dtype: float64"
      ]
     },
     "execution_count": 27,
     "metadata": {},
     "output_type": "execute_result"
    }
   ],
   "source": [
    "aisle_df[aisle_df.duplicated('aisle_id', keep=False)].sum()"
   ]
  },
  {
   "cell_type": "code",
   "execution_count": 28,
   "id": "ea48a101",
   "metadata": {},
   "outputs": [
    {
     "data": {
      "text/html": [
       "<div>\n",
       "<style scoped>\n",
       "    .dataframe tbody tr th:only-of-type {\n",
       "        vertical-align: middle;\n",
       "    }\n",
       "\n",
       "    .dataframe tbody tr th {\n",
       "        vertical-align: top;\n",
       "    }\n",
       "\n",
       "    .dataframe thead th {\n",
       "        text-align: right;\n",
       "    }\n",
       "</style>\n",
       "<table border=\"1\" class=\"dataframe\">\n",
       "  <thead>\n",
       "    <tr style=\"text-align: right;\">\n",
       "      <th></th>\n",
       "      <th>aisle_id</th>\n",
       "      <th>aisle</th>\n",
       "    </tr>\n",
       "  </thead>\n",
       "  <tbody>\n",
       "    <tr>\n",
       "      <th>0</th>\n",
       "      <td>1</td>\n",
       "      <td>prepared soups salads</td>\n",
       "    </tr>\n",
       "    <tr>\n",
       "      <th>1</th>\n",
       "      <td>2</td>\n",
       "      <td>specialty cheeses</td>\n",
       "    </tr>\n",
       "    <tr>\n",
       "      <th>2</th>\n",
       "      <td>3</td>\n",
       "      <td>energy granola bars</td>\n",
       "    </tr>\n",
       "    <tr>\n",
       "      <th>3</th>\n",
       "      <td>4</td>\n",
       "      <td>instant foods</td>\n",
       "    </tr>\n",
       "    <tr>\n",
       "      <th>4</th>\n",
       "      <td>5</td>\n",
       "      <td>marinades meat preparation</td>\n",
       "    </tr>\n",
       "    <tr>\n",
       "      <th>...</th>\n",
       "      <td>...</td>\n",
       "      <td>...</td>\n",
       "    </tr>\n",
       "    <tr>\n",
       "      <th>129</th>\n",
       "      <td>130</td>\n",
       "      <td>hot cereal pancake mixes</td>\n",
       "    </tr>\n",
       "    <tr>\n",
       "      <th>130</th>\n",
       "      <td>131</td>\n",
       "      <td>dry pasta</td>\n",
       "    </tr>\n",
       "    <tr>\n",
       "      <th>131</th>\n",
       "      <td>132</td>\n",
       "      <td>beauty</td>\n",
       "    </tr>\n",
       "    <tr>\n",
       "      <th>132</th>\n",
       "      <td>133</td>\n",
       "      <td>muscles joints pain relief</td>\n",
       "    </tr>\n",
       "    <tr>\n",
       "      <th>133</th>\n",
       "      <td>134</td>\n",
       "      <td>specialty wines champagnes</td>\n",
       "    </tr>\n",
       "  </tbody>\n",
       "</table>\n",
       "<p>134 rows × 2 columns</p>\n",
       "</div>"
      ],
      "text/plain": [
       "     aisle_id                       aisle\n",
       "0           1       prepared soups salads\n",
       "1           2           specialty cheeses\n",
       "2           3         energy granola bars\n",
       "3           4               instant foods\n",
       "4           5  marinades meat preparation\n",
       "..        ...                         ...\n",
       "129       130    hot cereal pancake mixes\n",
       "130       131                   dry pasta\n",
       "131       132                      beauty\n",
       "132       133  muscles joints pain relief\n",
       "133       134  specialty wines champagnes\n",
       "\n",
       "[134 rows x 2 columns]"
      ]
     },
     "execution_count": 28,
     "metadata": {},
     "output_type": "execute_result"
    }
   ],
   "source": [
    "aisle_df"
   ]
  },
  {
   "cell_type": "markdown",
   "id": "ac63826f",
   "metadata": {},
   "source": [
    "They are all unique aisle"
   ]
  },
  {
   "cell_type": "markdown",
   "id": "474f0498",
   "metadata": {},
   "source": [
    "<div class=\"alert alert-success\"; style=\"border-left: 7px solid green\">\n",
    "<b>✅ Reviewer's comment, v. 1</b> \n",
    "    \n",
    "You are right."
   ]
  },
  {
   "cell_type": "markdown",
   "id": "274cd06a",
   "metadata": {},
   "source": [
    "### `order_products` data frame"
   ]
  },
  {
   "cell_type": "code",
   "execution_count": 29,
   "id": "52326689-84a8-4b8f-a881-7c68780f62c9",
   "metadata": {},
   "outputs": [
    {
     "data": {
      "text/plain": [
       "order_id             0.0\n",
       "product_id           0.0\n",
       "add_to_cart_order    0.0\n",
       "reordered            0.0\n",
       "dtype: float64"
      ]
     },
     "execution_count": 29,
     "metadata": {},
     "output_type": "execute_result"
    }
   ],
   "source": [
    "# Check for fullly duplicate rows\n",
    "order_product_df[order_product_df.duplicated()].sum()"
   ]
  },
  {
   "cell_type": "code",
   "execution_count": 30,
   "id": "7b861391",
   "metadata": {},
   "outputs": [
    {
     "data": {
      "text/plain": [
       "order_id             0.0\n",
       "product_id           0.0\n",
       "add_to_cart_order    0.0\n",
       "reordered            0.0\n",
       "dtype: float64"
      ]
     },
     "execution_count": 30,
     "metadata": {},
     "output_type": "execute_result"
    }
   ],
   "source": [
    "# Double check for any other tricky duplicates\n",
    "order_product_df[order_product_df.duplicated(keep=False)].sum()"
   ]
  },
  {
   "cell_type": "markdown",
   "id": "0b890492",
   "metadata": {},
   "source": [
    "no duplicate in order products DF"
   ]
  },
  {
   "cell_type": "markdown",
   "id": "83314f0f",
   "metadata": {},
   "source": [
    "<div class=\"alert alert-danger\"; style=\"border-left: 7px solid red\">\n",
    "<b>⛔️ Reviewer's comment, v. 1</b> \n",
    "\n",
    "\n",
    "\n",
    "When checking for duplcates, we should not only target at full duplicates, but also check for the uniqueness of the combinations that should not be repeated. In this case, for example, there should be no repeatition of `order_id` + `product_id`. (While duplicated `product_id` is quite normal as the same product can be purchased in many orders.)\n",
    "    \n",
    "So, could you please check for the repeated `order_id` + `product_id`.\n",
    "    \n",
    "<a class=\"tocSkip\"></a><s>\n"
   ]
  },
  {
   "cell_type": "code",
   "execution_count": 31,
   "id": "6df27b82",
   "metadata": {},
   "outputs": [
    {
     "data": {
      "text/plain": [
       "order_id             0.0\n",
       "product_id           0.0\n",
       "add_to_cart_order    0.0\n",
       "reordered            0.0\n",
       "dtype: float64"
      ]
     },
     "execution_count": 31,
     "metadata": {},
     "output_type": "execute_result"
    }
   ],
   "source": [
    "order_product_df[order_product_df.duplicated(['order_id', 'product_id'], keep=False)].sum()"
   ]
  },
  {
   "cell_type": "markdown",
   "id": "690c1c5d",
   "metadata": {},
   "source": [
    "<div class=\"alert alert-info\"; style=\"border-left: 7px solid blue\">\n",
    "<b>updates</b>"
   ]
  },
  {
   "cell_type": "markdown",
   "id": "1e46de76",
   "metadata": {},
   "source": [
    "## Find and remove missing values\n"
   ]
  },
  {
   "cell_type": "markdown",
   "id": "c0aebd78",
   "metadata": {},
   "source": [
    "### `products` data frame"
   ]
  },
  {
   "cell_type": "code",
   "execution_count": 32,
   "id": "fe4a8b0f",
   "metadata": {},
   "outputs": [
    {
     "data": {
      "text/plain": [
       "product_id          0\n",
       "product_name     1258\n",
       "aisle_id            0\n",
       "department_id       0\n",
       "dtype: int64"
      ]
     },
     "execution_count": 32,
     "metadata": {},
     "output_type": "execute_result"
    }
   ],
   "source": [
    "product_df.isna().sum()"
   ]
  },
  {
   "cell_type": "code",
   "execution_count": 33,
   "id": "e96167bc",
   "metadata": {},
   "outputs": [
    {
     "data": {
      "text/plain": [
       "array([100])"
      ]
     },
     "execution_count": 33,
     "metadata": {},
     "output_type": "execute_result"
    }
   ],
   "source": [
    "# Are all of the missing product names associated with aisle ID 100?\n",
    "product_df[product_df['product_name'].isna()]['aisle_id'].unique()"
   ]
  },
  {
   "cell_type": "code",
   "execution_count": 34,
   "id": "8fd0a541",
   "metadata": {},
   "outputs": [
    {
     "data": {
      "text/plain": [
       "array([21])"
      ]
     },
     "execution_count": 34,
     "metadata": {},
     "output_type": "execute_result"
    }
   ],
   "source": [
    "# Are all of the missing product names associated with department ID 21?\n",
    "product_df[product_df['product_name'].isna()]['department_id'].unique()"
   ]
  },
  {
   "cell_type": "code",
   "execution_count": 35,
   "id": "325c3464",
   "metadata": {},
   "outputs": [
    {
     "data": {
      "text/html": [
       "<div>\n",
       "<style scoped>\n",
       "    .dataframe tbody tr th:only-of-type {\n",
       "        vertical-align: middle;\n",
       "    }\n",
       "\n",
       "    .dataframe tbody tr th {\n",
       "        vertical-align: top;\n",
       "    }\n",
       "\n",
       "    .dataframe thead th {\n",
       "        text-align: right;\n",
       "    }\n",
       "</style>\n",
       "<table border=\"1\" class=\"dataframe\">\n",
       "  <thead>\n",
       "    <tr style=\"text-align: right;\">\n",
       "      <th></th>\n",
       "      <th>aisle_id</th>\n",
       "      <th>aisle</th>\n",
       "    </tr>\n",
       "  </thead>\n",
       "  <tbody>\n",
       "    <tr>\n",
       "      <th>99</th>\n",
       "      <td>100</td>\n",
       "      <td>missing</td>\n",
       "    </tr>\n",
       "  </tbody>\n",
       "</table>\n",
       "</div>"
      ],
      "text/plain": [
       "    aisle_id    aisle\n",
       "99       100  missing"
      ]
     },
     "execution_count": 35,
     "metadata": {},
     "output_type": "execute_result"
    }
   ],
   "source": [
    "# What is this ailse and department?\n",
    "aisle_df[aisle_df['aisle_id'] == 100]"
   ]
  },
  {
   "cell_type": "code",
   "execution_count": 36,
   "id": "0084f3aa",
   "metadata": {},
   "outputs": [
    {
     "data": {
      "text/html": [
       "<div>\n",
       "<style scoped>\n",
       "    .dataframe tbody tr th:only-of-type {\n",
       "        vertical-align: middle;\n",
       "    }\n",
       "\n",
       "    .dataframe tbody tr th {\n",
       "        vertical-align: top;\n",
       "    }\n",
       "\n",
       "    .dataframe thead th {\n",
       "        text-align: right;\n",
       "    }\n",
       "</style>\n",
       "<table border=\"1\" class=\"dataframe\">\n",
       "  <thead>\n",
       "    <tr style=\"text-align: right;\">\n",
       "      <th></th>\n",
       "      <th>department_id</th>\n",
       "      <th>department</th>\n",
       "    </tr>\n",
       "  </thead>\n",
       "  <tbody>\n",
       "    <tr>\n",
       "      <th>20</th>\n",
       "      <td>21</td>\n",
       "      <td>missing</td>\n",
       "    </tr>\n",
       "  </tbody>\n",
       "</table>\n",
       "</div>"
      ],
      "text/plain": [
       "    department_id department\n",
       "20             21    missing"
      ]
     },
     "execution_count": 36,
     "metadata": {},
     "output_type": "execute_result"
    }
   ],
   "source": [
    "department_df[department_df['department_id'] == 21]"
   ]
  },
  {
   "cell_type": "code",
   "execution_count": 37,
   "id": "6b295120",
   "metadata": {},
   "outputs": [
    {
     "data": {
      "text/plain": [
       "product_id       0\n",
       "product_name     0\n",
       "aisle_id         0\n",
       "department_id    0\n",
       "dtype: int64"
      ]
     },
     "execution_count": 37,
     "metadata": {},
     "output_type": "execute_result"
    }
   ],
   "source": [
    "# Fill missing product names with 'Unknown'\n",
    "product_df['product_name'].fillna('Unknown', inplace=True)\n",
    "product_df.isna().sum()"
   ]
  },
  {
   "cell_type": "markdown",
   "id": "fc70e5ad",
   "metadata": {},
   "source": [
    "The missing product name has a missing name in both 'aisle' and 'department'. filled na in product name with Unknown"
   ]
  },
  {
   "cell_type": "markdown",
   "id": "cf14e493",
   "metadata": {},
   "source": [
    "<div class=\"alert alert-success\"; style=\"border-left: 7px solid green\">\n",
    "<b>✅ Reviewer's comment, v. 1</b> \n",
    "    \n",
    "Excellent."
   ]
  },
  {
   "cell_type": "markdown",
   "id": "7eb45c86",
   "metadata": {},
   "source": [
    "### `orders` data frame"
   ]
  },
  {
   "cell_type": "code",
   "execution_count": 38,
   "id": "93e41d96",
   "metadata": {},
   "outputs": [
    {
     "data": {
      "text/plain": [
       "order_id                      0\n",
       "user_id                       0\n",
       "order_number                  0\n",
       "order_dow                     0\n",
       "order_hour_of_day             0\n",
       "days_since_prior_order    28817\n",
       "dtype: int64"
      ]
     },
     "execution_count": 38,
     "metadata": {},
     "output_type": "execute_result"
    }
   ],
   "source": [
    "order_df.isna().sum()"
   ]
  },
  {
   "cell_type": "code",
   "execution_count": 39,
   "id": "166e5a86",
   "metadata": {},
   "outputs": [
    {
     "data": {
      "text/plain": [
       "order_id                  0\n",
       "user_id                   0\n",
       "order_number              0\n",
       "order_dow                 0\n",
       "order_hour_of_day         0\n",
       "days_since_prior_order    0\n",
       "dtype: int64"
      ]
     },
     "execution_count": 39,
     "metadata": {},
     "output_type": "execute_result"
    }
   ],
   "source": [
    "# Are there any missing values where it's not a customer's first order?\n",
    "order_df[order_df['days_since_prior_order'].notna()].isna().sum()"
   ]
  },
  {
   "cell_type": "markdown",
   "id": "02dbbdf9",
   "metadata": {},
   "source": [
    "<div class=\"alert alert-danger\"; style=\"border-left: 7px solid red\">\n",
    "<b>⛔️ Reviewer's comment, v. 1</b> \n",
    "\n",
    "Please confirm that all 28817 missing values in `days_since_prior_order` are attributed to clients' first orders ('order_number'==1)."
   ]
  },
  {
   "cell_type": "code",
   "execution_count": 40,
   "id": "510d7f59",
   "metadata": {},
   "outputs": [
    {
     "data": {
      "text/plain": [
       "order_id                      0\n",
       "user_id                       0\n",
       "order_number                  0\n",
       "order_dow                     0\n",
       "order_hour_of_day             0\n",
       "days_since_prior_order    28817\n",
       "dtype: int64"
      ]
     },
     "execution_count": 40,
     "metadata": {},
     "output_type": "execute_result"
    }
   ],
   "source": [
    "order_df[order_df['order_number'] == 1].isna().sum()"
   ]
  },
  {
   "cell_type": "markdown",
   "id": "4e23d089",
   "metadata": {},
   "source": [
    "<div class=\"alert alert-info\"; style=\"border-left: 7px solid blue\">\n",
    "<b>my apologies, yes all the missing values in days_since_prior_order are attributed to clients' first orders ('order_number'==1)</b>"
   ]
  },
  {
   "cell_type": "markdown",
   "id": "69dc9ca4",
   "metadata": {},
   "source": [
    "### `order_products` data frame"
   ]
  },
  {
   "cell_type": "code",
   "execution_count": 41,
   "id": "b8240253",
   "metadata": {},
   "outputs": [
    {
     "data": {
      "text/plain": [
       "order_id               0\n",
       "product_id             0\n",
       "add_to_cart_order    836\n",
       "reordered              0\n",
       "dtype: int64"
      ]
     },
     "execution_count": 41,
     "metadata": {},
     "output_type": "execute_result"
    }
   ],
   "source": [
    "order_product_df.isna().sum()"
   ]
  },
  {
   "cell_type": "code",
   "execution_count": 42,
   "id": "9a78e5ee",
   "metadata": {},
   "outputs": [
    {
     "data": {
      "text/plain": [
       "order_id             3421079.0\n",
       "product_id             49694.0\n",
       "add_to_cart_order         64.0\n",
       "reordered                  1.0\n",
       "dtype: float64"
      ]
     },
     "execution_count": 42,
     "metadata": {},
     "output_type": "execute_result"
    }
   ],
   "source": [
    "# What are the min and max values in this column?\n",
    "order_product_df.max()"
   ]
  },
  {
   "cell_type": "markdown",
   "id": "98136bfb",
   "metadata": {},
   "source": [
    "<div class=\"alert alert-warning\"; style=\"border-left: 7px solid gold\">\n",
    "<b>⚠️ Reviewer's comment, v. 1</b> \n",
    "\n",
    "It's not very clear from the task description, but you need to check the minimum and maximum values in `add_to_cart_order` - the column with missing values."
   ]
  },
  {
   "cell_type": "code",
   "execution_count": 43,
   "id": "cddce415",
   "metadata": {},
   "outputs": [
    {
     "data": {
      "text/plain": [
       "order_id             4.0\n",
       "product_id           1.0\n",
       "add_to_cart_order    1.0\n",
       "reordered            0.0\n",
       "dtype: float64"
      ]
     },
     "execution_count": 43,
     "metadata": {},
     "output_type": "execute_result"
    }
   ],
   "source": [
    "order_product_df.min()"
   ]
  },
  {
   "cell_type": "code",
   "execution_count": 44,
   "id": "1d9cd467",
   "metadata": {},
   "outputs": [
    {
     "data": {
      "text/plain": [
       "64.0"
      ]
     },
     "execution_count": 44,
     "metadata": {},
     "output_type": "execute_result"
    }
   ],
   "source": [
    "order_product_df['add_to_cart_order'].max()"
   ]
  },
  {
   "cell_type": "code",
   "execution_count": 45,
   "id": "0b54c96a",
   "metadata": {},
   "outputs": [
    {
     "data": {
      "text/plain": [
       "1.0"
      ]
     },
     "execution_count": 45,
     "metadata": {},
     "output_type": "execute_result"
    }
   ],
   "source": [
    "order_product_df['add_to_cart_order'].min()"
   ]
  },
  {
   "cell_type": "markdown",
   "id": "71fb9322",
   "metadata": {},
   "source": [
    "<div class=\"alert alert-info\"; style=\"border-left: 7px solid blue\">\n",
    "<b>small update, value remain the same</b>"
   ]
  },
  {
   "cell_type": "code",
   "execution_count": 46,
   "id": "ab9d0c2b",
   "metadata": {},
   "outputs": [
    {
     "data": {
      "text/plain": [
       "array([2449164, 1968313, 2926893, 1717990, 1959075,  844733,   61355,\n",
       "        936852,  264710, 1564093,  129627,  293169, 2849370, 1386261,\n",
       "       3308010,  903110, 2136777, 3347453, 1888628,  165801, 2094761,\n",
       "       1038146, 2997021,  813364, 2256933,  171934, 2409109, 1730767,\n",
       "       1169835,  733526,  404157, 3125735,  747668, 1800005, 1961723,\n",
       "        871281,  388234, 1648217, 1477139,  102236, 1021563, 1832957,\n",
       "       2721963,  678116, 1220886, 1673227, 2999801, 1633337, 2470674,\n",
       "       2625444, 1677118, 2479011, 3383594, 1183255, 1713430, 2652650,\n",
       "       1598369, 1916118,  854647, 1302315,  888470,  180546, 2621907,\n",
       "       1308785, 2729254,    9310, 2170451, 2979697, 1625713, 1529171])"
      ]
     },
     "execution_count": 46,
     "metadata": {},
     "output_type": "execute_result"
    }
   ],
   "source": [
    "# Save all order IDs with at least one missing value in 'add_to_cart_order'\n",
    "orders_with_missing_values = order_product_df[order_product_df['add_to_cart_order'].isna()]['order_id'].unique()\n",
    "orders_with_missing_values"
   ]
  },
  {
   "cell_type": "code",
   "execution_count": 47,
   "id": "54c31695",
   "metadata": {
    "scrolled": true
   },
   "outputs": [
    {
     "data": {
      "text/plain": [
       "order_id             0.0\n",
       "product_id           0.0\n",
       "add_to_cart_order    0.0\n",
       "reordered            0.0\n",
       "dtype: float64"
      ]
     },
     "execution_count": 47,
     "metadata": {},
     "output_type": "execute_result"
    }
   ],
   "source": [
    "# Do all orders with missing values have more than 64 products?\n",
    "order_product_df[(order_product_df['order_id'].isin(orders_with_missing_values)) & (order_product_df['add_to_cart_order'] > 64)].sum()"
   ]
  },
  {
   "cell_type": "markdown",
   "id": "97f56155",
   "metadata": {},
   "source": [
    "<div class=\"alert alert-danger\"; style=\"border-left: 7px solid red\">\n",
    "<b>⛔️ Reviewer's comment, v. 1</b> \n",
    "\n",
    "To answer the question you need to: \n",
    "    \n",
    "1. Save the IDs of the orders with missing `add_to_cart_order` to a list (which you've done already). \n",
    "2. Select all the entries attributed to those order IDs into a separate dataframe.\n",
    "3. Group this new dataframe by order ID and check sizes of those groups - to find the minimum size.\n",
    "    \n",
    "Could you please try to do this?"
   ]
  },
  {
   "cell_type": "code",
   "execution_count": 48,
   "id": "224fb8bd",
   "metadata": {},
   "outputs": [
    {
     "data": {
      "text/plain": [
       "65"
      ]
     },
     "execution_count": 48,
     "metadata": {},
     "output_type": "execute_result"
    }
   ],
   "source": [
    "orders_with_missing_values = order_product_df[order_product_df['add_to_cart_order'].isna()]['order_id'].unique()\n",
    "\n",
    "missing_values_df = order_product_df[order_product_df['order_id'].isin(orders_with_missing_values)]\n",
    "\n",
    "missing_values_df.groupby('order_id').size().min()"
   ]
  },
  {
   "cell_type": "markdown",
   "id": "da08a48c",
   "metadata": {},
   "source": [
    "<div class=\"alert alert-info\"; style=\"border-left: 7px solid blue\">\n",
    "<b>updates based on comment, there are no missing values for orders with more than 64 products</b>"
   ]
  },
  {
   "cell_type": "code",
   "execution_count": 49,
   "id": "7a987d08",
   "metadata": {},
   "outputs": [],
   "source": [
    "# Replace missing values with 999 and convert column to integer type\n",
    "order_product_df['add_to_cart_order'].fillna(999, inplace=True)\n",
    "order_product_df['add_to_cart_order'] = order_product_df['add_to_cart_order'].astype(int)"
   ]
  },
  {
   "cell_type": "code",
   "execution_count": 50,
   "id": "9e56c722",
   "metadata": {},
   "outputs": [
    {
     "data": {
      "text/plain": [
       "0"
      ]
     },
     "execution_count": 50,
     "metadata": {},
     "output_type": "execute_result"
    }
   ],
   "source": [
    "order_product_df['add_to_cart_order'].isna().sum()"
   ]
  },
  {
   "cell_type": "code",
   "execution_count": 51,
   "id": "e1679b15",
   "metadata": {},
   "outputs": [
    {
     "data": {
      "text/plain": [
       "dtype('int64')"
      ]
     },
     "execution_count": 51,
     "metadata": {},
     "output_type": "execute_result"
    }
   ],
   "source": [
    "order_product_df['add_to_cart_order'].dtype"
   ]
  },
  {
   "cell_type": "markdown",
   "id": "fea4bcc7",
   "metadata": {},
   "source": [
    "No more missing value in order_product and changed data type to int."
   ]
  },
  {
   "cell_type": "markdown",
   "id": "turkish-kidney",
   "metadata": {},
   "source": [
    "# [A] Easy (must complete all to pass)"
   ]
  },
  {
   "cell_type": "markdown",
   "id": "short-capability",
   "metadata": {},
   "source": [
    "### [A1] Verify that the `'order_hour_of_day'` and `'order_dow'` values in the `orders` tables are sensible (i.e. `'order_hour_of_day'` ranges from 0 to 23 and `'order_dow'` ranges from 0 to 6)"
   ]
  },
  {
   "cell_type": "code",
   "execution_count": 52,
   "id": "growing-fruit",
   "metadata": {},
   "outputs": [
    {
     "data": {
      "text/html": [
       "<div>\n",
       "<style scoped>\n",
       "    .dataframe tbody tr th:only-of-type {\n",
       "        vertical-align: middle;\n",
       "    }\n",
       "\n",
       "    .dataframe tbody tr th {\n",
       "        vertical-align: top;\n",
       "    }\n",
       "\n",
       "    .dataframe thead th {\n",
       "        text-align: right;\n",
       "    }\n",
       "</style>\n",
       "<table border=\"1\" class=\"dataframe\">\n",
       "  <thead>\n",
       "    <tr style=\"text-align: right;\">\n",
       "      <th></th>\n",
       "      <th>order_id</th>\n",
       "      <th>user_id</th>\n",
       "      <th>order_number</th>\n",
       "      <th>order_dow</th>\n",
       "      <th>order_hour_of_day</th>\n",
       "      <th>days_since_prior_order</th>\n",
       "    </tr>\n",
       "  </thead>\n",
       "  <tbody>\n",
       "  </tbody>\n",
       "</table>\n",
       "</div>"
      ],
      "text/plain": [
       "Empty DataFrame\n",
       "Columns: [order_id, user_id, order_number, order_dow, order_hour_of_day, days_since_prior_order]\n",
       "Index: []"
      ]
     },
     "execution_count": 52,
     "metadata": {},
     "output_type": "execute_result"
    }
   ],
   "source": [
    "order_df[(order_df['order_hour_of_day'] < 0) | (order_df['order_hour_of_day'] > 23)]"
   ]
  },
  {
   "cell_type": "code",
   "execution_count": 53,
   "id": "accessory-malaysia",
   "metadata": {},
   "outputs": [
    {
     "data": {
      "text/html": [
       "<div>\n",
       "<style scoped>\n",
       "    .dataframe tbody tr th:only-of-type {\n",
       "        vertical-align: middle;\n",
       "    }\n",
       "\n",
       "    .dataframe tbody tr th {\n",
       "        vertical-align: top;\n",
       "    }\n",
       "\n",
       "    .dataframe thead th {\n",
       "        text-align: right;\n",
       "    }\n",
       "</style>\n",
       "<table border=\"1\" class=\"dataframe\">\n",
       "  <thead>\n",
       "    <tr style=\"text-align: right;\">\n",
       "      <th></th>\n",
       "      <th>order_id</th>\n",
       "      <th>user_id</th>\n",
       "      <th>order_number</th>\n",
       "      <th>order_dow</th>\n",
       "      <th>order_hour_of_day</th>\n",
       "      <th>days_since_prior_order</th>\n",
       "    </tr>\n",
       "  </thead>\n",
       "  <tbody>\n",
       "  </tbody>\n",
       "</table>\n",
       "</div>"
      ],
      "text/plain": [
       "Empty DataFrame\n",
       "Columns: [order_id, user_id, order_number, order_dow, order_hour_of_day, days_since_prior_order]\n",
       "Index: []"
      ]
     },
     "execution_count": 53,
     "metadata": {},
     "output_type": "execute_result"
    }
   ],
   "source": [
    "order_df[(order_df['order_dow'] < 0) | (order_df['order_dow'] > 6)]"
   ]
  },
  {
   "cell_type": "markdown",
   "id": "f97c5b1d",
   "metadata": {},
   "source": [
    "<div class=\"alert alert-danger\"; style=\"border-left: 7px solid red\">\n",
    "<b>⛔️ Reviewer's comment, v. 1</b> \n",
    "\n",
    "Could you please add the conclusion you make from the checks above?"
   ]
  },
  {
   "cell_type": "markdown",
   "id": "16f4ca3b",
   "metadata": {},
   "source": [
    "<div class=\"alert alert-info\"; style=\"border-left: 7px solid blue\">\n",
    "<b>Since there are no value found out of the ranges given, we can verify that the order_hour_of_day and order_dow values in the orders tables are sensible </b>"
   ]
  },
  {
   "cell_type": "markdown",
   "id": "a6743a70",
   "metadata": {},
   "source": [
    "### [A2] What time of day do people shop for groceries?"
   ]
  },
  {
   "cell_type": "code",
   "execution_count": 54,
   "id": "a36cca27",
   "metadata": {},
   "outputs": [
    {
     "data": {
      "image/png": "[encoded data removed]",
      "text/plain": [
       "<Figure size 720x432 with 1 Axes>"
      ]
     },
     "metadata": {
      "needs_background": "light"
     },
     "output_type": "display_data"
    }
   ],
   "source": [
    "hourly_order_counts = order_df['order_hour_of_day'].value_counts().sort_index()\n",
    "\n",
    "plt.figure(figsize=(10, 6))\n",
    "hourly_order_counts.plot(kind='bar', color='skyblue')\n",
    "plt.title('Number of Orders at Each Hour of the Day')\n",
    "plt.xlabel('Hour of the Day')\n",
    "plt.ylabel('Number of Orders')\n",
    "plt.xticks(rotation=0)\n",
    "plt.show()"
   ]
  },
  {
   "cell_type": "markdown",
   "id": "11270eed",
   "metadata": {},
   "source": [
    "People shops mostly between 9 O'clock (9 A.M.) to 17 O'clock (5 P.M.)"
   ]
  },
  {
   "cell_type": "markdown",
   "id": "6c486f29",
   "metadata": {},
   "source": [
    "<div class=\"alert alert-success\"; style=\"border-left: 7px solid green\">\n",
    "<b>✅ Reviewer's comment, v. 1</b> \n",
    "    \n",
    "Excellent chart type and it has all the required elements, such as title and axis names. And you are making a right conclusion."
   ]
  },
  {
   "cell_type": "markdown",
   "id": "documented-command",
   "metadata": {},
   "source": [
    "### [A3] What day of the week do people shop for groceries?"
   ]
  },
  {
   "cell_type": "code",
   "execution_count": 55,
   "id": "c07057bc",
   "metadata": {},
   "outputs": [],
   "source": [
    "day_of_week_mapping = {0: 'Monday', 1: 'Tuesday', 2: 'Wednesday', 3: 'Thursday', 4: 'Friday', 5: 'Saturday', 6: 'Sunday'}"
   ]
  },
  {
   "cell_type": "code",
   "execution_count": 56,
   "id": "chief-digit",
   "metadata": {},
   "outputs": [
    {
     "data": {
      "image/png": "[encoded data removed]",
      "text/plain": [
       "<Figure size 720x432 with 1 Axes>"
      ]
     },
     "metadata": {
      "needs_background": "light"
     },
     "output_type": "display_data"
    }
   ],
   "source": [
    "daily_order_counts = order_df['order_dow'].value_counts().sort_index()\n",
    "daily_order_counts.index = daily_order_counts.index.map(day_of_week_mapping)\n",
    "\n",
    "# Plot the results\n",
    "plt.figure(figsize=(10, 6))\n",
    "daily_order_counts.plot(kind='bar', color='green')\n",
    "plt.title('Number of Orders on Each Day of the Week')\n",
    "plt.xlabel('Day of the Week')\n",
    "plt.ylabel('Number of Orders')\n",
    "plt.xticks(rotation=0)\n",
    "plt.show()"
   ]
  },
  {
   "cell_type": "markdown",
   "id": "dominant-lightning",
   "metadata": {},
   "source": [
    "Every Monday and Tuesday has the most number of people gone for shopping"
   ]
  },
  {
   "cell_type": "markdown",
   "id": "18156635",
   "metadata": {},
   "source": [
    "<div class=\"alert alert-success\"; style=\"border-left: 7px solid green\">\n",
    "<b>✅ Reviewer's comment, v. 1</b> \n",
    "    \n",
    "Well done."
   ]
  },
  {
   "cell_type": "markdown",
   "id": "cutting-concert",
   "metadata": {},
   "source": [
    "### [A4] How long do people wait until placing another order?"
   ]
  },
  {
   "cell_type": "code",
   "execution_count": 57,
   "id": "c231f523",
   "metadata": {},
   "outputs": [
    {
     "data": {
      "text/plain": [
       "30.0    51337\n",
       "7.0     44577\n",
       "6.0     33930\n",
       "4.0     31006\n",
       "3.0     30224\n",
       "5.0     30096\n",
       "2.0     27138\n",
       "8.0     25361\n",
       "1.0     20179\n",
       "9.0     16753\n",
       "14.0    13992\n",
       "10.0    13309\n",
       "13.0    11737\n",
       "11.0    11467\n",
       "12.0    10658\n",
       "0.0      9589\n",
       "15.0     9416\n",
       "16.0     6587\n",
       "21.0     6448\n",
       "17.0     5498\n",
       "20.0     5302\n",
       "18.0     4971\n",
       "19.0     4939\n",
       "22.0     4514\n",
       "28.0     3745\n",
       "23.0     3337\n",
       "24.0     3015\n",
       "27.0     2986\n",
       "25.0     2711\n",
       "29.0     2673\n",
       "26.0     2640\n",
       "Name: days_since_prior_order, dtype: int64"
      ]
     },
     "execution_count": 57,
     "metadata": {},
     "output_type": "execute_result"
    }
   ],
   "source": [
    "non_first_orders = order_df[order_df['days_since_prior_order'].notna()]\n",
    "non_first_orders['days_since_prior_order'].value_counts()"
   ]
  },
  {
   "cell_type": "code",
   "execution_count": 58,
   "id": "exciting-fantasy",
   "metadata": {},
   "outputs": [
    {
     "data": {
      "image/png": "[encoded data removed]",
      "text/plain": [
       "<Figure size 720x432 with 1 Axes>"
      ]
     },
     "metadata": {
      "needs_background": "light"
     },
     "output_type": "display_data"
    }
   ],
   "source": [
    "plt.figure(figsize=(10, 6))\n",
    "non_first_orders['days_since_prior_order'].value_counts().sort_index().plot(kind='bar', color='orange')\n",
    "plt.title('Distribution of Days Since Prior Order')\n",
    "plt.xlabel('Days Since Prior Order')\n",
    "plt.ylabel('Number of Orders')\n",
    "plt.show()"
   ]
  },
  {
   "cell_type": "markdown",
   "id": "8d926614",
   "metadata": {},
   "source": [
    "People mostly wait for about 1 week (7 days) after or 1 month after (30 days)"
   ]
  },
  {
   "cell_type": "markdown",
   "id": "45519715",
   "metadata": {},
   "source": [
    "<div class=\"alert alert-success\"; style=\"border-left: 7px solid green\">\n",
    "<b>✅ Reviewer's comment, v. 1</b> \n",
    "    \n",
    "You are absolutely right."
   ]
  },
  {
   "cell_type": "markdown",
   "id": "tight-staff",
   "metadata": {},
   "source": [
    "# [B] Medium (must complete all to pass)"
   ]
  },
  {
   "cell_type": "markdown",
   "id": "packed-classic",
   "metadata": {},
   "source": [
    "### [B1] Is there a difference in `'order_hour_of_day'` distributions on Wednesdays and Saturdays? Plot the histograms for both days and describe the differences that you see."
   ]
  },
  {
   "cell_type": "code",
   "execution_count": 59,
   "id": "d89b8403",
   "metadata": {},
   "outputs": [
    {
     "data": {
      "text/html": [
       "<div>\n",
       "<style scoped>\n",
       "    .dataframe tbody tr th:only-of-type {\n",
       "        vertical-align: middle;\n",
       "    }\n",
       "\n",
       "    .dataframe tbody tr th {\n",
       "        vertical-align: top;\n",
       "    }\n",
       "\n",
       "    .dataframe thead th {\n",
       "        text-align: right;\n",
       "    }\n",
       "</style>\n",
       "<table border=\"1\" class=\"dataframe\">\n",
       "  <thead>\n",
       "    <tr style=\"text-align: right;\">\n",
       "      <th></th>\n",
       "      <th>order_id</th>\n",
       "      <th>user_id</th>\n",
       "      <th>order_number</th>\n",
       "      <th>order_dow</th>\n",
       "      <th>order_hour_of_day</th>\n",
       "      <th>days_since_prior_order</th>\n",
       "    </tr>\n",
       "  </thead>\n",
       "  <tbody>\n",
       "    <tr>\n",
       "      <th>19</th>\n",
       "      <td>294269</td>\n",
       "      <td>107523</td>\n",
       "      <td>29</td>\n",
       "      <td>2</td>\n",
       "      <td>10</td>\n",
       "      <td>1.0</td>\n",
       "    </tr>\n",
       "    <tr>\n",
       "      <th>32</th>\n",
       "      <td>2744097</td>\n",
       "      <td>5316</td>\n",
       "      <td>27</td>\n",
       "      <td>2</td>\n",
       "      <td>17</td>\n",
       "      <td>8.0</td>\n",
       "    </tr>\n",
       "    <tr>\n",
       "      <th>41</th>\n",
       "      <td>939348</td>\n",
       "      <td>21335</td>\n",
       "      <td>28</td>\n",
       "      <td>2</td>\n",
       "      <td>15</td>\n",
       "      <td>6.0</td>\n",
       "    </tr>\n",
       "    <tr>\n",
       "      <th>46</th>\n",
       "      <td>2398578</td>\n",
       "      <td>84825</td>\n",
       "      <td>2</td>\n",
       "      <td>2</td>\n",
       "      <td>17</td>\n",
       "      <td>4.0</td>\n",
       "    </tr>\n",
       "    <tr>\n",
       "      <th>51</th>\n",
       "      <td>1739741</td>\n",
       "      <td>118405</td>\n",
       "      <td>48</td>\n",
       "      <td>2</td>\n",
       "      <td>10</td>\n",
       "      <td>3.0</td>\n",
       "    </tr>\n",
       "  </tbody>\n",
       "</table>\n",
       "</div>"
      ],
      "text/plain": [
       "    order_id  user_id  order_number  order_dow  order_hour_of_day  \\\n",
       "19    294269   107523            29          2                 10   \n",
       "32   2744097     5316            27          2                 17   \n",
       "41    939348    21335            28          2                 15   \n",
       "46   2398578    84825             2          2                 17   \n",
       "51   1739741   118405            48          2                 10   \n",
       "\n",
       "    days_since_prior_order  \n",
       "19                     1.0  \n",
       "32                     8.0  \n",
       "41                     6.0  \n",
       "46                     4.0  \n",
       "51                     3.0  "
      ]
     },
     "execution_count": 59,
     "metadata": {},
     "output_type": "execute_result"
    }
   ],
   "source": [
    "wednesday_orders = order_df[order_df['order_dow'] == 2]\n",
    "wednesday_orders.head()"
   ]
  },
  {
   "cell_type": "code",
   "execution_count": 60,
   "id": "94e54e8a",
   "metadata": {},
   "outputs": [
    {
     "data": {
      "text/html": [
       "<div>\n",
       "<style scoped>\n",
       "    .dataframe tbody tr th:only-of-type {\n",
       "        vertical-align: middle;\n",
       "    }\n",
       "\n",
       "    .dataframe tbody tr th {\n",
       "        vertical-align: top;\n",
       "    }\n",
       "\n",
       "    .dataframe thead th {\n",
       "        text-align: right;\n",
       "    }\n",
       "</style>\n",
       "<table border=\"1\" class=\"dataframe\">\n",
       "  <thead>\n",
       "    <tr style=\"text-align: right;\">\n",
       "      <th></th>\n",
       "      <th>order_id</th>\n",
       "      <th>user_id</th>\n",
       "      <th>order_number</th>\n",
       "      <th>order_dow</th>\n",
       "      <th>order_hour_of_day</th>\n",
       "      <th>days_since_prior_order</th>\n",
       "    </tr>\n",
       "  </thead>\n",
       "  <tbody>\n",
       "    <tr>\n",
       "      <th>1</th>\n",
       "      <td>1690866</td>\n",
       "      <td>163593</td>\n",
       "      <td>5</td>\n",
       "      <td>5</td>\n",
       "      <td>12</td>\n",
       "      <td>9.0</td>\n",
       "    </tr>\n",
       "    <tr>\n",
       "      <th>2</th>\n",
       "      <td>1454967</td>\n",
       "      <td>39980</td>\n",
       "      <td>4</td>\n",
       "      <td>5</td>\n",
       "      <td>19</td>\n",
       "      <td>2.0</td>\n",
       "    </tr>\n",
       "    <tr>\n",
       "      <th>8</th>\n",
       "      <td>2266494</td>\n",
       "      <td>34954</td>\n",
       "      <td>40</td>\n",
       "      <td>5</td>\n",
       "      <td>15</td>\n",
       "      <td>4.0</td>\n",
       "    </tr>\n",
       "    <tr>\n",
       "      <th>13</th>\n",
       "      <td>782916</td>\n",
       "      <td>36310</td>\n",
       "      <td>34</td>\n",
       "      <td>5</td>\n",
       "      <td>9</td>\n",
       "      <td>3.0</td>\n",
       "    </tr>\n",
       "    <tr>\n",
       "      <th>18</th>\n",
       "      <td>556588</td>\n",
       "      <td>6801</td>\n",
       "      <td>63</td>\n",
       "      <td>5</td>\n",
       "      <td>11</td>\n",
       "      <td>7.0</td>\n",
       "    </tr>\n",
       "  </tbody>\n",
       "</table>\n",
       "</div>"
      ],
      "text/plain": [
       "    order_id  user_id  order_number  order_dow  order_hour_of_day  \\\n",
       "1    1690866   163593             5          5                 12   \n",
       "2    1454967    39980             4          5                 19   \n",
       "8    2266494    34954            40          5                 15   \n",
       "13    782916    36310            34          5                  9   \n",
       "18    556588     6801            63          5                 11   \n",
       "\n",
       "    days_since_prior_order  \n",
       "1                      9.0  \n",
       "2                      2.0  \n",
       "8                      4.0  \n",
       "13                     3.0  \n",
       "18                     7.0  "
      ]
     },
     "execution_count": 60,
     "metadata": {},
     "output_type": "execute_result"
    }
   ],
   "source": [
    "saturday_orders = order_df[order_df['order_dow'] == 5]\n",
    "saturday_orders.head()"
   ]
  },
  {
   "cell_type": "code",
   "execution_count": 61,
   "id": "797c90a8",
   "metadata": {},
   "outputs": [
    {
     "data": {
      "image/png": "[encoded data removed]",
      "text/plain": [
       "<Figure size 864x432 with 2 Axes>"
      ]
     },
     "metadata": {
      "needs_background": "light"
     },
     "output_type": "display_data"
    }
   ],
   "source": [
    "plt.figure(figsize=(12, 6))\n",
    "\n",
    "plt.subplot(1, 2, 1)\n",
    "plt.hist(wednesday_orders['order_hour_of_day'], bins=24, color='skyblue', edgecolor='black')\n",
    "plt.title('Order Hour Distribution on Wednesdays')\n",
    "plt.xlabel('Hour of the Day')\n",
    "plt.ylabel('Number of Orders')\n",
    "plt.xticks(range(24))\n",
    "\n",
    "plt.subplot(1, 2, 2)\n",
    "plt.hist(saturday_orders['order_hour_of_day'], bins=24, color='lightgreen', edgecolor='black')\n",
    "plt.title('Order Hour Distribution on Saturdays')\n",
    "plt.xlabel('Hour of the Day')\n",
    "plt.ylabel('Number of Orders')\n",
    "plt.xticks(range(24))\n",
    "\n",
    "plt.tight_layout()\n",
    "plt.show()"
   ]
  },
  {
   "cell_type": "markdown",
   "id": "charitable-congo",
   "metadata": {},
   "source": [
    "There is only a slight difference shown in the 15 hour and 16 hour. They both have a similar pattern of distribution. "
   ]
  },
  {
   "cell_type": "markdown",
   "id": "2ac22589",
   "metadata": {},
   "source": [
    "<div class=\"alert alert-success\"; style=\"border-left: 7px solid green\">\n",
    "<b>✅ Reviewer's comment, v. 1</b> \n",
    "    \n",
    "Very good. \n",
    "    \n",
    "Another good way to compare the distribution for the two days is to plot overlapping charts and see the difference (please see below)."
   ]
  },
  {
   "cell_type": "code",
   "execution_count": 62,
   "id": "b493f86e",
   "metadata": {
    "scrolled": false
   },
   "outputs": [
    {
     "data": {
      "image/png": "[encoded data removed]",
      "text/plain": [
       "<Figure size 864x432 with 1 Axes>"
      ]
     },
     "metadata": {
      "needs_background": "light"
     },
     "output_type": "display_data"
    }
   ],
   "source": [
    "#added by reviewer\n",
    "plt.figure(figsize=(12, 6))\n",
    "\n",
    "plt.hist(wednesday_orders['order_hour_of_day'], bins=24, color='skyblue', edgecolor='black')\n",
    "plt.title('Order Hour Distribution on Wednesdays')\n",
    "plt.xlabel('Hour of the Day')\n",
    "plt.ylabel('Number of Orders')\n",
    "plt.xticks(range(24))\n",
    "\n",
    "plt.hist(saturday_orders['order_hour_of_day'], bins=24, color='lightgreen', edgecolor='black', alpha=0.5)\n",
    "plt.title('Order Hour Distribution on Saturdays')\n",
    "plt.xlabel('Hour of the Day')\n",
    "plt.ylabel('Number of Orders')\n",
    "plt.xticks(range(24))\n",
    "\n",
    "plt.show()"
   ]
  },
  {
   "cell_type": "markdown",
   "id": "e3891143",
   "metadata": {},
   "source": [
    "### [B2] What's the distribution for the number of orders per customer?"
   ]
  },
  {
   "cell_type": "code",
   "execution_count": 63,
   "id": "d8c26c23",
   "metadata": {},
   "outputs": [
    {
     "data": {
      "text/plain": [
       "1     55357\n",
       "2     36508\n",
       "3     21547\n",
       "4     13498\n",
       "5      8777\n",
       "6      6012\n",
       "7      4240\n",
       "8      3019\n",
       "9      2152\n",
       "10     1645\n",
       "11     1308\n",
       "12      947\n",
       "13      703\n",
       "14      512\n",
       "15      437\n",
       "16      263\n",
       "17      184\n",
       "18      121\n",
       "19       85\n",
       "20       52\n",
       "22       23\n",
       "21       22\n",
       "23       19\n",
       "24        3\n",
       "25        1\n",
       "26        1\n",
       "28        1\n",
       "Name: order_id, dtype: int64"
      ]
     },
     "execution_count": 63,
     "metadata": {},
     "output_type": "execute_result"
    }
   ],
   "source": [
    "orders_per_customer = order_df.groupby('user_id')['order_id'].count()\n",
    "orders_per_customer.value_counts()"
   ]
  },
  {
   "cell_type": "code",
   "execution_count": 64,
   "id": "106213a8",
   "metadata": {},
   "outputs": [
    {
     "data": {
      "text/plain": [
       "28"
      ]
     },
     "execution_count": 64,
     "metadata": {},
     "output_type": "execute_result"
    }
   ],
   "source": [
    "orders_per_customer.max()"
   ]
  },
  {
   "cell_type": "code",
   "execution_count": 65,
   "id": "00e69a66",
   "metadata": {},
   "outputs": [
    {
     "data": {
      "image/png": "[encoded data removed]",
      "text/plain": [
       "<Figure size 864x432 with 1 Axes>"
      ]
     },
     "metadata": {
      "needs_background": "light"
     },
     "output_type": "display_data"
    }
   ],
   "source": [
    "plt.figure(figsize=(12, 6))\n",
    "plt.hist(orders_per_customer, bins=orders_per_customer.max() + 2, color='lightcoral', edgecolor='black')\n",
    "plt.title('Distribution of Number of Orders Per Customer')\n",
    "plt.xlabel('Number of Orders')\n",
    "plt.ylabel('Number of Customers')\n",
    "plt.xticks(range(1, orders_per_customer.max() + 1, 2))\n",
    "plt.show()"
   ]
  },
  {
   "cell_type": "markdown",
   "id": "cb4c422a",
   "metadata": {},
   "source": [
    "<div class=\"alert alert-warning\"; style=\"border-left: 7px solid gold\">\n",
    "<b>⚠️ Reviewer's comment, v. 1</b> \n",
    "\n",
    "Please note that you are having the gap in the chart as you are setting a higher number of bins than you have distinct values in your data. So, it is advisable to set the number of bins equal (or smaller if you need to split into less bins) than the total number of unique values in your data (please see below)."
   ]
  },
  {
   "cell_type": "code",
   "execution_count": 66,
   "id": "fda7c07d",
   "metadata": {},
   "outputs": [
    {
     "data": {
      "image/png": "[encoded data removed]",
      "text/plain": [
       "<Figure size 864x432 with 1 Axes>"
      ]
     },
     "metadata": {
      "needs_background": "light"
     },
     "output_type": "display_data"
    }
   ],
   "source": [
    "#added by the reviewer\n",
    "\n",
    "plt.figure(figsize=(12, 6))\n",
    "plt.hist(orders_per_customer, bins=orders_per_customer.max(), color='lightcoral', edgecolor='black')\n",
    "plt.title('Distribution of Number of Orders Per Customer')\n",
    "plt.xlabel('Number of Orders')\n",
    "plt.ylabel('Number of Customers')\n",
    "plt.xticks(range(1, orders_per_customer.max() + 1, 2))\n",
    "plt.show()"
   ]
  },
  {
   "cell_type": "markdown",
   "id": "d2eff7d5",
   "metadata": {},
   "source": [
    "Customer mostly made between 1 to 3 orders."
   ]
  },
  {
   "cell_type": "markdown",
   "id": "54a0319c",
   "metadata": {},
   "source": [
    "### [B3] What are the top 20 popular products (display their id and name)?"
   ]
  },
  {
   "cell_type": "code",
   "execution_count": 67,
   "id": "exterior-arizona",
   "metadata": {
    "scrolled": true
   },
   "outputs": [
    {
     "data": {
      "text/html": [
       "<div>\n",
       "<style scoped>\n",
       "    .dataframe tbody tr th:only-of-type {\n",
       "        vertical-align: middle;\n",
       "    }\n",
       "\n",
       "    .dataframe tbody tr th {\n",
       "        vertical-align: top;\n",
       "    }\n",
       "\n",
       "    .dataframe thead th {\n",
       "        text-align: right;\n",
       "    }\n",
       "</style>\n",
       "<table border=\"1\" class=\"dataframe\">\n",
       "  <thead>\n",
       "    <tr style=\"text-align: right;\">\n",
       "      <th></th>\n",
       "      <th>order_id</th>\n",
       "      <th>product_id</th>\n",
       "      <th>add_to_cart_order</th>\n",
       "      <th>reordered</th>\n",
       "      <th>product_name</th>\n",
       "    </tr>\n",
       "  </thead>\n",
       "  <tbody>\n",
       "    <tr>\n",
       "      <th>0</th>\n",
       "      <td>2141543</td>\n",
       "      <td>11440</td>\n",
       "      <td>17</td>\n",
       "      <td>0</td>\n",
       "      <td>Chicken Breast Tenders Breaded</td>\n",
       "    </tr>\n",
       "    <tr>\n",
       "      <th>1</th>\n",
       "      <td>147172</td>\n",
       "      <td>11440</td>\n",
       "      <td>7</td>\n",
       "      <td>1</td>\n",
       "      <td>Chicken Breast Tenders Breaded</td>\n",
       "    </tr>\n",
       "    <tr>\n",
       "      <th>2</th>\n",
       "      <td>3341719</td>\n",
       "      <td>11440</td>\n",
       "      <td>4</td>\n",
       "      <td>1</td>\n",
       "      <td>Chicken Breast Tenders Breaded</td>\n",
       "    </tr>\n",
       "    <tr>\n",
       "      <th>3</th>\n",
       "      <td>1938779</td>\n",
       "      <td>11440</td>\n",
       "      <td>8</td>\n",
       "      <td>1</td>\n",
       "      <td>Chicken Breast Tenders Breaded</td>\n",
       "    </tr>\n",
       "    <tr>\n",
       "      <th>4</th>\n",
       "      <td>1728338</td>\n",
       "      <td>11440</td>\n",
       "      <td>23</td>\n",
       "      <td>0</td>\n",
       "      <td>Chicken Breast Tenders Breaded</td>\n",
       "    </tr>\n",
       "  </tbody>\n",
       "</table>\n",
       "</div>"
      ],
      "text/plain": [
       "   order_id  product_id  add_to_cart_order  reordered  \\\n",
       "0   2141543       11440                 17          0   \n",
       "1    147172       11440                  7          1   \n",
       "2   3341719       11440                  4          1   \n",
       "3   1938779       11440                  8          1   \n",
       "4   1728338       11440                 23          0   \n",
       "\n",
       "                     product_name  \n",
       "0  Chicken Breast Tenders Breaded  \n",
       "1  Chicken Breast Tenders Breaded  \n",
       "2  Chicken Breast Tenders Breaded  \n",
       "3  Chicken Breast Tenders Breaded  \n",
       "4  Chicken Breast Tenders Breaded  "
      ]
     },
     "execution_count": 67,
     "metadata": {},
     "output_type": "execute_result"
    }
   ],
   "source": [
    "merged_df = pd.merge(order_product_df, product_df[['product_id', 'product_name']], on='product_id', how='inner')\n",
    "merged_df.head()"
   ]
  },
  {
   "cell_type": "code",
   "execution_count": 68,
   "id": "universal-facial",
   "metadata": {},
   "outputs": [
    {
     "data": {
      "text/plain": [
       "Banana                                                    66050\n",
       "Bag of Organic Bananas                                    53297\n",
       "Organic Strawberries                                      37039\n",
       "Organic Baby Spinach                                      33971\n",
       "Organic Hass Avocado                                      29773\n",
       "                                                          ...  \n",
       "Water Essentia Sportscap                                      1\n",
       "Toothpaste Triple Protection Ultimate White Frost Mint        1\n",
       "Natural Balance Overnight Maxi                                1\n",
       "Twisted Berry Fruit & Veggie Juice                            1\n",
       "Traditional Chicken Cheese Enchilada Flavor Soup              1\n",
       "Name: product_name, Length: 44614, dtype: int64"
      ]
     },
     "execution_count": 68,
     "metadata": {},
     "output_type": "execute_result"
    }
   ],
   "source": [
    "product_order_counts = merged_df['product_name'].value_counts()\n",
    "product_order_counts"
   ]
  },
  {
   "cell_type": "code",
   "execution_count": 69,
   "id": "bbcdd20b",
   "metadata": {},
   "outputs": [
    {
     "data": {
      "text/html": [
       "<div>\n",
       "<style scoped>\n",
       "    .dataframe tbody tr th:only-of-type {\n",
       "        vertical-align: middle;\n",
       "    }\n",
       "\n",
       "    .dataframe tbody tr th {\n",
       "        vertical-align: top;\n",
       "    }\n",
       "\n",
       "    .dataframe thead th {\n",
       "        text-align: right;\n",
       "    }\n",
       "</style>\n",
       "<table border=\"1\" class=\"dataframe\">\n",
       "  <thead>\n",
       "    <tr style=\"text-align: right;\">\n",
       "      <th></th>\n",
       "      <th>product_id</th>\n",
       "      <th>product_name</th>\n",
       "    </tr>\n",
       "  </thead>\n",
       "  <tbody>\n",
       "    <tr>\n",
       "      <th>0</th>\n",
       "      <td>5876</td>\n",
       "      <td>Organic Lemon</td>\n",
       "    </tr>\n",
       "    <tr>\n",
       "      <th>1</th>\n",
       "      <td>8277</td>\n",
       "      <td>Apple Honeycrisp Organic</td>\n",
       "    </tr>\n",
       "    <tr>\n",
       "      <th>2</th>\n",
       "      <td>13176</td>\n",
       "      <td>Bag of Organic Bananas</td>\n",
       "    </tr>\n",
       "    <tr>\n",
       "      <th>3</th>\n",
       "      <td>16797</td>\n",
       "      <td>Strawberries</td>\n",
       "    </tr>\n",
       "    <tr>\n",
       "      <th>4</th>\n",
       "      <td>21137</td>\n",
       "      <td>Organic Strawberries</td>\n",
       "    </tr>\n",
       "    <tr>\n",
       "      <th>5</th>\n",
       "      <td>21903</td>\n",
       "      <td>Organic Baby Spinach</td>\n",
       "    </tr>\n",
       "    <tr>\n",
       "      <th>6</th>\n",
       "      <td>22935</td>\n",
       "      <td>Organic Yellow Onion</td>\n",
       "    </tr>\n",
       "    <tr>\n",
       "      <th>7</th>\n",
       "      <td>24852</td>\n",
       "      <td>Banana</td>\n",
       "    </tr>\n",
       "    <tr>\n",
       "      <th>8</th>\n",
       "      <td>24964</td>\n",
       "      <td>Organic Garlic</td>\n",
       "    </tr>\n",
       "    <tr>\n",
       "      <th>9</th>\n",
       "      <td>26209</td>\n",
       "      <td>Limes</td>\n",
       "    </tr>\n",
       "    <tr>\n",
       "      <th>10</th>\n",
       "      <td>27845</td>\n",
       "      <td>Organic Whole Milk</td>\n",
       "    </tr>\n",
       "    <tr>\n",
       "      <th>11</th>\n",
       "      <td>27966</td>\n",
       "      <td>Organic Raspberries</td>\n",
       "    </tr>\n",
       "    <tr>\n",
       "      <th>12</th>\n",
       "      <td>28204</td>\n",
       "      <td>Organic Fuji Apple</td>\n",
       "    </tr>\n",
       "    <tr>\n",
       "      <th>13</th>\n",
       "      <td>39275</td>\n",
       "      <td>Organic Blueberries</td>\n",
       "    </tr>\n",
       "    <tr>\n",
       "      <th>14</th>\n",
       "      <td>40706</td>\n",
       "      <td>Organic Grape Tomatoes</td>\n",
       "    </tr>\n",
       "    <tr>\n",
       "      <th>15</th>\n",
       "      <td>45007</td>\n",
       "      <td>Organic Zucchini</td>\n",
       "    </tr>\n",
       "    <tr>\n",
       "      <th>16</th>\n",
       "      <td>47209</td>\n",
       "      <td>Organic Hass Avocado</td>\n",
       "    </tr>\n",
       "    <tr>\n",
       "      <th>17</th>\n",
       "      <td>47626</td>\n",
       "      <td>Large Lemon</td>\n",
       "    </tr>\n",
       "    <tr>\n",
       "      <th>18</th>\n",
       "      <td>47766</td>\n",
       "      <td>Organic Avocado</td>\n",
       "    </tr>\n",
       "    <tr>\n",
       "      <th>19</th>\n",
       "      <td>49683</td>\n",
       "      <td>Cucumber Kirby</td>\n",
       "    </tr>\n",
       "  </tbody>\n",
       "</table>\n",
       "</div>"
      ],
      "text/plain": [
       "    product_id              product_name\n",
       "0         5876             Organic Lemon\n",
       "1         8277  Apple Honeycrisp Organic\n",
       "2        13176    Bag of Organic Bananas\n",
       "3        16797              Strawberries\n",
       "4        21137      Organic Strawberries\n",
       "5        21903      Organic Baby Spinach\n",
       "6        22935      Organic Yellow Onion\n",
       "7        24852                    Banana\n",
       "8        24964            Organic Garlic\n",
       "9        26209                     Limes\n",
       "10       27845        Organic Whole Milk\n",
       "11       27966       Organic Raspberries\n",
       "12       28204        Organic Fuji Apple\n",
       "13       39275       Organic Blueberries\n",
       "14       40706    Organic Grape Tomatoes\n",
       "15       45007          Organic Zucchini\n",
       "16       47209      Organic Hass Avocado\n",
       "17       47626               Large Lemon\n",
       "18       47766           Organic Avocado\n",
       "19       49683            Cucumber Kirby"
      ]
     },
     "execution_count": 69,
     "metadata": {},
     "output_type": "execute_result"
    }
   ],
   "source": [
    "top_20_products = product_order_counts.head(20)\n",
    "top_20_products_list = product_df.loc[product_df['product_name'].isin(top_20_products.index), ['product_id', 'product_name']]\n",
    "top_20_products_list.reset_index(drop=True)"
   ]
  },
  {
   "cell_type": "markdown",
   "id": "7df00f47",
   "metadata": {},
   "source": [
    "The top 20 most popular product"
   ]
  },
  {
   "cell_type": "markdown",
   "id": "09b4b6a9",
   "metadata": {},
   "source": [
    "<div class=\"alert alert-danger\"; style=\"border-left: 7px solid red\">\n",
    "<b>⛔️ Reviewer's comment, v. 1</b> \n",
    "\n",
    "Can you please have the list of the top 20 products sorted in a descending order by the number of orders? "
   ]
  },
  {
   "cell_type": "code",
   "execution_count": 70,
   "id": "95a2162e",
   "metadata": {},
   "outputs": [
    {
     "data": {
      "text/html": [
       "<div>\n",
       "<style scoped>\n",
       "    .dataframe tbody tr th:only-of-type {\n",
       "        vertical-align: middle;\n",
       "    }\n",
       "\n",
       "    .dataframe tbody tr th {\n",
       "        vertical-align: top;\n",
       "    }\n",
       "\n",
       "    .dataframe thead th {\n",
       "        text-align: right;\n",
       "    }\n",
       "</style>\n",
       "<table border=\"1\" class=\"dataframe\">\n",
       "  <thead>\n",
       "    <tr style=\"text-align: right;\">\n",
       "      <th></th>\n",
       "      <th>product_id</th>\n",
       "      <th>product_name</th>\n",
       "    </tr>\n",
       "  </thead>\n",
       "  <tbody>\n",
       "    <tr>\n",
       "      <th>0</th>\n",
       "      <td>24852</td>\n",
       "      <td>Banana</td>\n",
       "    </tr>\n",
       "    <tr>\n",
       "      <th>1</th>\n",
       "      <td>13176</td>\n",
       "      <td>Bag of Organic Bananas</td>\n",
       "    </tr>\n",
       "    <tr>\n",
       "      <th>2</th>\n",
       "      <td>21137</td>\n",
       "      <td>Organic Strawberries</td>\n",
       "    </tr>\n",
       "    <tr>\n",
       "      <th>3</th>\n",
       "      <td>21903</td>\n",
       "      <td>Organic Baby Spinach</td>\n",
       "    </tr>\n",
       "    <tr>\n",
       "      <th>4</th>\n",
       "      <td>47209</td>\n",
       "      <td>Organic Hass Avocado</td>\n",
       "    </tr>\n",
       "    <tr>\n",
       "      <th>5</th>\n",
       "      <td>47766</td>\n",
       "      <td>Organic Avocado</td>\n",
       "    </tr>\n",
       "    <tr>\n",
       "      <th>6</th>\n",
       "      <td>47626</td>\n",
       "      <td>Large Lemon</td>\n",
       "    </tr>\n",
       "    <tr>\n",
       "      <th>7</th>\n",
       "      <td>16797</td>\n",
       "      <td>Strawberries</td>\n",
       "    </tr>\n",
       "    <tr>\n",
       "      <th>8</th>\n",
       "      <td>26209</td>\n",
       "      <td>Limes</td>\n",
       "    </tr>\n",
       "    <tr>\n",
       "      <th>9</th>\n",
       "      <td>27845</td>\n",
       "      <td>Organic Whole Milk</td>\n",
       "    </tr>\n",
       "    <tr>\n",
       "      <th>10</th>\n",
       "      <td>27966</td>\n",
       "      <td>Organic Raspberries</td>\n",
       "    </tr>\n",
       "    <tr>\n",
       "      <th>11</th>\n",
       "      <td>22935</td>\n",
       "      <td>Organic Yellow Onion</td>\n",
       "    </tr>\n",
       "    <tr>\n",
       "      <th>12</th>\n",
       "      <td>24964</td>\n",
       "      <td>Organic Garlic</td>\n",
       "    </tr>\n",
       "    <tr>\n",
       "      <th>13</th>\n",
       "      <td>45007</td>\n",
       "      <td>Organic Zucchini</td>\n",
       "    </tr>\n",
       "    <tr>\n",
       "      <th>14</th>\n",
       "      <td>39275</td>\n",
       "      <td>Organic Blueberries</td>\n",
       "    </tr>\n",
       "    <tr>\n",
       "      <th>15</th>\n",
       "      <td>49683</td>\n",
       "      <td>Cucumber Kirby</td>\n",
       "    </tr>\n",
       "    <tr>\n",
       "      <th>16</th>\n",
       "      <td>28204</td>\n",
       "      <td>Organic Fuji Apple</td>\n",
       "    </tr>\n",
       "    <tr>\n",
       "      <th>17</th>\n",
       "      <td>5876</td>\n",
       "      <td>Organic Lemon</td>\n",
       "    </tr>\n",
       "    <tr>\n",
       "      <th>18</th>\n",
       "      <td>8277</td>\n",
       "      <td>Apple Honeycrisp Organic</td>\n",
       "    </tr>\n",
       "    <tr>\n",
       "      <th>19</th>\n",
       "      <td>40706</td>\n",
       "      <td>Organic Grape Tomatoes</td>\n",
       "    </tr>\n",
       "  </tbody>\n",
       "</table>\n",
       "</div>"
      ],
      "text/plain": [
       "    product_id              product_name\n",
       "0        24852                    Banana\n",
       "1        13176    Bag of Organic Bananas\n",
       "2        21137      Organic Strawberries\n",
       "3        21903      Organic Baby Spinach\n",
       "4        47209      Organic Hass Avocado\n",
       "5        47766           Organic Avocado\n",
       "6        47626               Large Lemon\n",
       "7        16797              Strawberries\n",
       "8        26209                     Limes\n",
       "9        27845        Organic Whole Milk\n",
       "10       27966       Organic Raspberries\n",
       "11       22935      Organic Yellow Onion\n",
       "12       24964            Organic Garlic\n",
       "13       45007          Organic Zucchini\n",
       "14       39275       Organic Blueberries\n",
       "15       49683            Cucumber Kirby\n",
       "16       28204        Organic Fuji Apple\n",
       "17        5876             Organic Lemon\n",
       "18        8277  Apple Honeycrisp Organic\n",
       "19       40706    Organic Grape Tomatoes"
      ]
     },
     "execution_count": 70,
     "metadata": {},
     "output_type": "execute_result"
    }
   ],
   "source": [
    "top_20_products = product_order_counts.head(20).reset_index().rename(columns={'index': 'product_name', 'product_name': 'order_count'})\n",
    "\n",
    "top_20_products_list = product_df.loc[product_df['product_name'].isin(top_20_products['product_name']), ['product_id', 'product_name']]\n",
    "\n",
    "top_20_products_list = pd.merge(top_20_products_list, top_20_products, on='product_name', how='inner')\n",
    "\n",
    "top_20_products_list = top_20_products_list.sort_values(by='order_count', ascending=False)\n",
    "\n",
    "top_20_products_list[['product_id', 'product_name']].reset_index(drop=True)"
   ]
  },
  {
   "cell_type": "markdown",
   "id": "fb9d357f",
   "metadata": {},
   "source": [
    "<div class=\"alert alert-info\"; style=\"border-left: 7px solid blue\">\n",
    "<b>updated </b>"
   ]
  },
  {
   "cell_type": "markdown",
   "id": "gross-theme",
   "metadata": {},
   "source": [
    "# [C] Hard (must complete at least two to pass)"
   ]
  },
  {
   "cell_type": "markdown",
   "id": "romantic-deposit",
   "metadata": {},
   "source": [
    "### [C1] How many items do people typically buy in one order? What does the distribution look like?"
   ]
  },
  {
   "cell_type": "code",
   "execution_count": 71,
   "id": "virtual-punch",
   "metadata": {},
   "outputs": [
    {
     "data": {
      "text/plain": [
       "order_id\n",
       "4          13\n",
       "9          15\n",
       "11          5\n",
       "19          3\n",
       "20          8\n",
       "           ..\n",
       "3421034    17\n",
       "3421053     9\n",
       "3421071     5\n",
       "3421077     4\n",
       "3421079     1\n",
       "Name: product_id, Length: 450046, dtype: int64"
      ]
     },
     "execution_count": 71,
     "metadata": {},
     "output_type": "execute_result"
    }
   ],
   "source": [
    "items_per_order = order_product_df.groupby('order_id')['product_id'].count()\n",
    "items_per_order"
   ]
  },
  {
   "cell_type": "code",
   "execution_count": 72,
   "id": "completed-frank",
   "metadata": {},
   "outputs": [
    {
     "data": {
      "text/plain": [
       "127"
      ]
     },
     "execution_count": 72,
     "metadata": {},
     "output_type": "execute_result"
    }
   ],
   "source": [
    "items_per_order.max()"
   ]
  },
  {
   "cell_type": "code",
   "execution_count": 73,
   "id": "sensitive-breathing",
   "metadata": {},
   "outputs": [
    {
     "data": {
      "image/png": "[encoded data removed]",
      "text/plain": [
       "<Figure size 1440x432 with 1 Axes>"
      ]
     },
     "metadata": {
      "needs_background": "light"
     },
     "output_type": "display_data"
    }
   ],
   "source": [
    "plt.figure(figsize=(20, 6))\n",
    "plt.hist(items_per_order, bins=20, color='lightblue', edgecolor='black')\n",
    "plt.title('Distribution of Items Per Order')\n",
    "plt.xlabel('Number of Items')\n",
    "plt.ylabel('Number of Orders')\n",
    "plt.xticks(range(1, items_per_order.max() + 1, 4))\n",
    "plt.show()"
   ]
  },
  {
   "cell_type": "markdown",
   "id": "designed-mortality",
   "metadata": {},
   "source": [
    "people typically buy about 1 to 14 item in one order"
   ]
  },
  {
   "cell_type": "markdown",
   "id": "dcd29cdb",
   "metadata": {},
   "source": [
    "<div class=\"alert alert-success\"; style=\"border-left: 7px solid green\">\n",
    "<b>✅ Reviewer's comment, v. 3</b> \n",
    "    \n",
    "Well done."
   ]
  },
  {
   "cell_type": "markdown",
   "id": "5e6b5537",
   "metadata": {},
   "source": [
    "### [C2] What are the top 20 items that are reordered most frequently (display their names and product IDs)?"
   ]
  },
  {
   "cell_type": "code",
   "execution_count": 74,
   "id": "9374e55a",
   "metadata": {},
   "outputs": [
    {
     "data": {
      "text/html": [
       "<div>\n",
       "<style scoped>\n",
       "    .dataframe tbody tr th:only-of-type {\n",
       "        vertical-align: middle;\n",
       "    }\n",
       "\n",
       "    .dataframe tbody tr th {\n",
       "        vertical-align: top;\n",
       "    }\n",
       "\n",
       "    .dataframe thead th {\n",
       "        text-align: right;\n",
       "    }\n",
       "</style>\n",
       "<table border=\"1\" class=\"dataframe\">\n",
       "  <thead>\n",
       "    <tr style=\"text-align: right;\">\n",
       "      <th></th>\n",
       "      <th>order_id</th>\n",
       "      <th>product_id</th>\n",
       "      <th>add_to_cart_order</th>\n",
       "      <th>reordered</th>\n",
       "      <th>product_name</th>\n",
       "    </tr>\n",
       "  </thead>\n",
       "  <tbody>\n",
       "    <tr>\n",
       "      <th>0</th>\n",
       "      <td>2141543</td>\n",
       "      <td>11440</td>\n",
       "      <td>17</td>\n",
       "      <td>0</td>\n",
       "      <td>Chicken Breast Tenders Breaded</td>\n",
       "    </tr>\n",
       "    <tr>\n",
       "      <th>1</th>\n",
       "      <td>147172</td>\n",
       "      <td>11440</td>\n",
       "      <td>7</td>\n",
       "      <td>1</td>\n",
       "      <td>Chicken Breast Tenders Breaded</td>\n",
       "    </tr>\n",
       "    <tr>\n",
       "      <th>2</th>\n",
       "      <td>3341719</td>\n",
       "      <td>11440</td>\n",
       "      <td>4</td>\n",
       "      <td>1</td>\n",
       "      <td>Chicken Breast Tenders Breaded</td>\n",
       "    </tr>\n",
       "    <tr>\n",
       "      <th>3</th>\n",
       "      <td>1938779</td>\n",
       "      <td>11440</td>\n",
       "      <td>8</td>\n",
       "      <td>1</td>\n",
       "      <td>Chicken Breast Tenders Breaded</td>\n",
       "    </tr>\n",
       "    <tr>\n",
       "      <th>4</th>\n",
       "      <td>1728338</td>\n",
       "      <td>11440</td>\n",
       "      <td>23</td>\n",
       "      <td>0</td>\n",
       "      <td>Chicken Breast Tenders Breaded</td>\n",
       "    </tr>\n",
       "  </tbody>\n",
       "</table>\n",
       "</div>"
      ],
      "text/plain": [
       "   order_id  product_id  add_to_cart_order  reordered  \\\n",
       "0   2141543       11440                 17          0   \n",
       "1    147172       11440                  7          1   \n",
       "2   3341719       11440                  4          1   \n",
       "3   1938779       11440                  8          1   \n",
       "4   1728338       11440                 23          0   \n",
       "\n",
       "                     product_name  \n",
       "0  Chicken Breast Tenders Breaded  \n",
       "1  Chicken Breast Tenders Breaded  \n",
       "2  Chicken Breast Tenders Breaded  \n",
       "3  Chicken Breast Tenders Breaded  \n",
       "4  Chicken Breast Tenders Breaded  "
      ]
     },
     "execution_count": 74,
     "metadata": {},
     "output_type": "execute_result"
    }
   ],
   "source": [
    "order_product_product_merged_df = pd.merge(order_product_df, product_df[['product_id', 'product_name']], on='product_id', how='inner')\n",
    "order_product_product_merged_df.head()"
   ]
  },
  {
   "cell_type": "code",
   "execution_count": 75,
   "id": "possible-change",
   "metadata": {
    "scrolled": true
   },
   "outputs": [
    {
     "data": {
      "text/plain": [
       "product_id\n",
       "1        0.564286\n",
       "2        0.000000\n",
       "3        0.738095\n",
       "4        0.510204\n",
       "7        0.500000\n",
       "           ...   \n",
       "49690    0.800000\n",
       "49691    0.430556\n",
       "49692    0.416667\n",
       "49693    0.440000\n",
       "49694    0.333333\n",
       "Name: reordered, Length: 45573, dtype: float64"
      ]
     },
     "execution_count": 75,
     "metadata": {},
     "output_type": "execute_result"
    }
   ],
   "source": [
    "reorder_rates = order_product_product_merged_df.groupby('product_id')['reordered'].mean()\n",
    "reorder_rates"
   ]
  },
  {
   "cell_type": "code",
   "execution_count": 76,
   "id": "professional-surfing",
   "metadata": {
    "scrolled": true
   },
   "outputs": [
    {
     "data": {
      "text/plain": [
       "product_id\n",
       "14721    1.0\n",
       "20949    1.0\n",
       "6723     1.0\n",
       "6732     1.0\n",
       "45088    1.0\n",
       "45078    1.0\n",
       "21016    1.0\n",
       "21005    1.0\n",
       "35192    1.0\n",
       "35197    1.0\n",
       "6810     1.0\n",
       "45040    1.0\n",
       "45035    1.0\n",
       "27373    1.0\n",
       "30748    1.0\n",
       "45031    1.0\n",
       "35137    1.0\n",
       "30747    1.0\n",
       "35228    1.0\n",
       "35229    1.0\n",
       "Name: reordered, dtype: float64"
      ]
     },
     "execution_count": 76,
     "metadata": {},
     "output_type": "execute_result"
    }
   ],
   "source": [
    "top_20_reordered_items = reorder_rates.sort_values(ascending=False).head(20)\n",
    "top_20_reordered_items"
   ]
  },
  {
   "cell_type": "markdown",
   "id": "0f2dd03a",
   "metadata": {},
   "source": [
    "<div class=\"alert alert-danger\"; style=\"border-left: 7px solid red\">\n",
    "<b>⛔️ Reviewer's comment, v. 1</b> \n",
    "\n",
    "The reorder rate is not a good metric here. A product with no first orders and 1 reorder will have the same reorder rate (100%) as a product with no first orders and 100 reorders. So could you please build the list based on the number (sum) of reorders? "
   ]
  },
  {
   "cell_type": "code",
   "execution_count": 77,
   "id": "48dd3658",
   "metadata": {},
   "outputs": [
    {
     "data": {
      "text/html": [
       "<div>\n",
       "<style scoped>\n",
       "    .dataframe tbody tr th:only-of-type {\n",
       "        vertical-align: middle;\n",
       "    }\n",
       "\n",
       "    .dataframe tbody tr th {\n",
       "        vertical-align: top;\n",
       "    }\n",
       "\n",
       "    .dataframe thead th {\n",
       "        text-align: right;\n",
       "    }\n",
       "</style>\n",
       "<table border=\"1\" class=\"dataframe\">\n",
       "  <thead>\n",
       "    <tr style=\"text-align: right;\">\n",
       "      <th></th>\n",
       "      <th>product_id</th>\n",
       "      <th>product_name</th>\n",
       "    </tr>\n",
       "  </thead>\n",
       "  <tbody>\n",
       "    <tr>\n",
       "      <th>0</th>\n",
       "      <td>6723</td>\n",
       "      <td>Palmiers- Petite</td>\n",
       "    </tr>\n",
       "    <tr>\n",
       "      <th>1</th>\n",
       "      <td>6732</td>\n",
       "      <td>Naturally Sparkling Mineral Water</td>\n",
       "    </tr>\n",
       "    <tr>\n",
       "      <th>2</th>\n",
       "      <td>6810</td>\n",
       "      <td>Raspberry Goji Paleo Prints</td>\n",
       "    </tr>\n",
       "    <tr>\n",
       "      <th>3</th>\n",
       "      <td>14721</td>\n",
       "      <td>Bone Strength Take Care</td>\n",
       "    </tr>\n",
       "    <tr>\n",
       "      <th>4</th>\n",
       "      <td>20949</td>\n",
       "      <td>Vanilla Sandwich Cookies</td>\n",
       "    </tr>\n",
       "    <tr>\n",
       "      <th>5</th>\n",
       "      <td>21005</td>\n",
       "      <td>Peanut Butter Pie Ice Cream</td>\n",
       "    </tr>\n",
       "    <tr>\n",
       "      <th>6</th>\n",
       "      <td>21016</td>\n",
       "      <td>Parchment Lined 8 in x 3.75 in x 2.5 in Pans</td>\n",
       "    </tr>\n",
       "    <tr>\n",
       "      <th>7</th>\n",
       "      <td>27373</td>\n",
       "      <td>Meat Loaf Meal</td>\n",
       "    </tr>\n",
       "    <tr>\n",
       "      <th>8</th>\n",
       "      <td>30747</td>\n",
       "      <td>Dentotape® Unflavored Waxed Tape</td>\n",
       "    </tr>\n",
       "    <tr>\n",
       "      <th>9</th>\n",
       "      <td>30748</td>\n",
       "      <td>Cheese &amp; Garlic Croutons</td>\n",
       "    </tr>\n",
       "    <tr>\n",
       "      <th>10</th>\n",
       "      <td>35137</td>\n",
       "      <td>Superior Preference Fade-Defying Color + Shine...</td>\n",
       "    </tr>\n",
       "    <tr>\n",
       "      <th>11</th>\n",
       "      <td>35192</td>\n",
       "      <td>Chocolate Soy Milk Singles</td>\n",
       "    </tr>\n",
       "    <tr>\n",
       "      <th>12</th>\n",
       "      <td>35197</td>\n",
       "      <td>Mocha Chocolate Chip  Organic Non-Dairy Frozen...</td>\n",
       "    </tr>\n",
       "    <tr>\n",
       "      <th>13</th>\n",
       "      <td>35228</td>\n",
       "      <td>Marvelous Muffins Baking Mix</td>\n",
       "    </tr>\n",
       "    <tr>\n",
       "      <th>14</th>\n",
       "      <td>35229</td>\n",
       "      <td>Bean &amp; Cheese Burritos</td>\n",
       "    </tr>\n",
       "    <tr>\n",
       "      <th>15</th>\n",
       "      <td>45031</td>\n",
       "      <td>Sugar Free Hazelnut Coffee Creamer</td>\n",
       "    </tr>\n",
       "    <tr>\n",
       "      <th>16</th>\n",
       "      <td>45035</td>\n",
       "      <td>Coffee Flavor Yogurt</td>\n",
       "    </tr>\n",
       "    <tr>\n",
       "      <th>17</th>\n",
       "      <td>45040</td>\n",
       "      <td>Head Lock Mega Gel</td>\n",
       "    </tr>\n",
       "    <tr>\n",
       "      <th>18</th>\n",
       "      <td>45078</td>\n",
       "      <td>Pomegranatea</td>\n",
       "    </tr>\n",
       "    <tr>\n",
       "      <th>19</th>\n",
       "      <td>45088</td>\n",
       "      <td>California Dill Pollen &amp; Garlic Goat Cheese &amp; ...</td>\n",
       "    </tr>\n",
       "  </tbody>\n",
       "</table>\n",
       "</div>"
      ],
      "text/plain": [
       "    product_id                                       product_name\n",
       "0         6723                                   Palmiers- Petite\n",
       "1         6732                  Naturally Sparkling Mineral Water\n",
       "2         6810                        Raspberry Goji Paleo Prints\n",
       "3        14721                            Bone Strength Take Care\n",
       "4        20949                           Vanilla Sandwich Cookies\n",
       "5        21005                        Peanut Butter Pie Ice Cream\n",
       "6        21016       Parchment Lined 8 in x 3.75 in x 2.5 in Pans\n",
       "7        27373                                     Meat Loaf Meal\n",
       "8        30747                   Dentotape® Unflavored Waxed Tape\n",
       "9        30748                           Cheese & Garlic Croutons\n",
       "10       35137  Superior Preference Fade-Defying Color + Shine...\n",
       "11       35192                         Chocolate Soy Milk Singles\n",
       "12       35197  Mocha Chocolate Chip  Organic Non-Dairy Frozen...\n",
       "13       35228                       Marvelous Muffins Baking Mix\n",
       "14       35229                             Bean & Cheese Burritos\n",
       "15       45031                 Sugar Free Hazelnut Coffee Creamer\n",
       "16       45035                               Coffee Flavor Yogurt\n",
       "17       45040                                 Head Lock Mega Gel\n",
       "18       45078                                       Pomegranatea\n",
       "19       45088  California Dill Pollen & Garlic Goat Cheese & ..."
      ]
     },
     "execution_count": 77,
     "metadata": {},
     "output_type": "execute_result"
    }
   ],
   "source": [
    "top_20_reordered_items_list = product_df.loc[product_df['product_id'].isin(top_20_reordered_items.index), ['product_id', 'product_name']]\n",
    "top_20_reordered_items_list.reset_index(drop=True)"
   ]
  },
  {
   "cell_type": "code",
   "execution_count": 78,
   "id": "29f0e2d3",
   "metadata": {},
   "outputs": [
    {
     "data": {
      "text/html": [
       "<div>\n",
       "<style scoped>\n",
       "    .dataframe tbody tr th:only-of-type {\n",
       "        vertical-align: middle;\n",
       "    }\n",
       "\n",
       "    .dataframe tbody tr th {\n",
       "        vertical-align: top;\n",
       "    }\n",
       "\n",
       "    .dataframe thead th {\n",
       "        text-align: right;\n",
       "    }\n",
       "</style>\n",
       "<table border=\"1\" class=\"dataframe\">\n",
       "  <thead>\n",
       "    <tr style=\"text-align: right;\">\n",
       "      <th></th>\n",
       "      <th>product_id</th>\n",
       "      <th>product_name</th>\n",
       "    </tr>\n",
       "  </thead>\n",
       "  <tbody>\n",
       "    <tr>\n",
       "      <th>0</th>\n",
       "      <td>5876</td>\n",
       "      <td>Organic Lemon</td>\n",
       "    </tr>\n",
       "    <tr>\n",
       "      <th>1</th>\n",
       "      <td>8277</td>\n",
       "      <td>Apple Honeycrisp Organic</td>\n",
       "    </tr>\n",
       "    <tr>\n",
       "      <th>2</th>\n",
       "      <td>13176</td>\n",
       "      <td>Bag of Organic Bananas</td>\n",
       "    </tr>\n",
       "    <tr>\n",
       "      <th>3</th>\n",
       "      <td>16797</td>\n",
       "      <td>Strawberries</td>\n",
       "    </tr>\n",
       "    <tr>\n",
       "      <th>4</th>\n",
       "      <td>21137</td>\n",
       "      <td>Organic Strawberries</td>\n",
       "    </tr>\n",
       "    <tr>\n",
       "      <th>5</th>\n",
       "      <td>21903</td>\n",
       "      <td>Organic Baby Spinach</td>\n",
       "    </tr>\n",
       "    <tr>\n",
       "      <th>6</th>\n",
       "      <td>22935</td>\n",
       "      <td>Organic Yellow Onion</td>\n",
       "    </tr>\n",
       "    <tr>\n",
       "      <th>7</th>\n",
       "      <td>24852</td>\n",
       "      <td>Banana</td>\n",
       "    </tr>\n",
       "    <tr>\n",
       "      <th>8</th>\n",
       "      <td>24964</td>\n",
       "      <td>Organic Garlic</td>\n",
       "    </tr>\n",
       "    <tr>\n",
       "      <th>9</th>\n",
       "      <td>26209</td>\n",
       "      <td>Limes</td>\n",
       "    </tr>\n",
       "    <tr>\n",
       "      <th>10</th>\n",
       "      <td>27845</td>\n",
       "      <td>Organic Whole Milk</td>\n",
       "    </tr>\n",
       "    <tr>\n",
       "      <th>11</th>\n",
       "      <td>27966</td>\n",
       "      <td>Organic Raspberries</td>\n",
       "    </tr>\n",
       "    <tr>\n",
       "      <th>12</th>\n",
       "      <td>28204</td>\n",
       "      <td>Organic Fuji Apple</td>\n",
       "    </tr>\n",
       "    <tr>\n",
       "      <th>13</th>\n",
       "      <td>39275</td>\n",
       "      <td>Organic Blueberries</td>\n",
       "    </tr>\n",
       "    <tr>\n",
       "      <th>14</th>\n",
       "      <td>45007</td>\n",
       "      <td>Organic Zucchini</td>\n",
       "    </tr>\n",
       "    <tr>\n",
       "      <th>15</th>\n",
       "      <td>47209</td>\n",
       "      <td>Organic Hass Avocado</td>\n",
       "    </tr>\n",
       "    <tr>\n",
       "      <th>16</th>\n",
       "      <td>47626</td>\n",
       "      <td>Large Lemon</td>\n",
       "    </tr>\n",
       "    <tr>\n",
       "      <th>17</th>\n",
       "      <td>47766</td>\n",
       "      <td>Organic Avocado</td>\n",
       "    </tr>\n",
       "    <tr>\n",
       "      <th>18</th>\n",
       "      <td>49235</td>\n",
       "      <td>Organic Half &amp; Half</td>\n",
       "    </tr>\n",
       "    <tr>\n",
       "      <th>19</th>\n",
       "      <td>49683</td>\n",
       "      <td>Cucumber Kirby</td>\n",
       "    </tr>\n",
       "  </tbody>\n",
       "</table>\n",
       "</div>"
      ],
      "text/plain": [
       "    product_id              product_name\n",
       "0         5876             Organic Lemon\n",
       "1         8277  Apple Honeycrisp Organic\n",
       "2        13176    Bag of Organic Bananas\n",
       "3        16797              Strawberries\n",
       "4        21137      Organic Strawberries\n",
       "5        21903      Organic Baby Spinach\n",
       "6        22935      Organic Yellow Onion\n",
       "7        24852                    Banana\n",
       "8        24964            Organic Garlic\n",
       "9        26209                     Limes\n",
       "10       27845        Organic Whole Milk\n",
       "11       27966       Organic Raspberries\n",
       "12       28204        Organic Fuji Apple\n",
       "13       39275       Organic Blueberries\n",
       "14       45007          Organic Zucchini\n",
       "15       47209      Organic Hass Avocado\n",
       "16       47626               Large Lemon\n",
       "17       47766           Organic Avocado\n",
       "18       49235       Organic Half & Half\n",
       "19       49683            Cucumber Kirby"
      ]
     },
     "execution_count": 78,
     "metadata": {},
     "output_type": "execute_result"
    }
   ],
   "source": [
    "reorder_counts = order_product_product_merged_df.groupby('product_id')['reordered'].sum()\n",
    "\n",
    "top_20_reordered_items = reorder_counts.sort_values(ascending=False).head(20)\n",
    "\n",
    "top_20_reordered_items_list = product_df.loc[product_df['product_id'].isin(top_20_reordered_items.index), ['product_id', 'product_name']]\n",
    "\n",
    "top_20_reordered_items_list.reset_index(drop=True)"
   ]
  },
  {
   "cell_type": "markdown",
   "id": "2677deba",
   "metadata": {},
   "source": [
    "<div class=\"alert alert-info\"; style=\"border-left: 7px solid blue\">\n",
    "<b>updated</b>"
   ]
  },
  {
   "cell_type": "markdown",
   "id": "80e70c74",
   "metadata": {},
   "source": [
    "The top 20 items that are reordered most frequently"
   ]
  },
  {
   "cell_type": "markdown",
   "id": "9d312b14",
   "metadata": {},
   "source": [
    "### [C3] For each product, what proportion of its orders are reorders?"
   ]
  },
  {
   "cell_type": "code",
   "execution_count": 79,
   "id": "81d38598",
   "metadata": {},
   "outputs": [
    {
     "data": {
      "text/html": [
       "<div>\n",
       "<style scoped>\n",
       "    .dataframe tbody tr th:only-of-type {\n",
       "        vertical-align: middle;\n",
       "    }\n",
       "\n",
       "    .dataframe tbody tr th {\n",
       "        vertical-align: top;\n",
       "    }\n",
       "\n",
       "    .dataframe thead th {\n",
       "        text-align: right;\n",
       "    }\n",
       "</style>\n",
       "<table border=\"1\" class=\"dataframe\">\n",
       "  <thead>\n",
       "    <tr style=\"text-align: right;\">\n",
       "      <th></th>\n",
       "      <th>order_id</th>\n",
       "      <th>product_id</th>\n",
       "      <th>add_to_cart_order</th>\n",
       "      <th>reordered</th>\n",
       "      <th>product_name</th>\n",
       "    </tr>\n",
       "  </thead>\n",
       "  <tbody>\n",
       "    <tr>\n",
       "      <th>0</th>\n",
       "      <td>2141543</td>\n",
       "      <td>11440</td>\n",
       "      <td>17</td>\n",
       "      <td>0</td>\n",
       "      <td>Chicken Breast Tenders Breaded</td>\n",
       "    </tr>\n",
       "    <tr>\n",
       "      <th>1</th>\n",
       "      <td>147172</td>\n",
       "      <td>11440</td>\n",
       "      <td>7</td>\n",
       "      <td>1</td>\n",
       "      <td>Chicken Breast Tenders Breaded</td>\n",
       "    </tr>\n",
       "    <tr>\n",
       "      <th>2</th>\n",
       "      <td>3341719</td>\n",
       "      <td>11440</td>\n",
       "      <td>4</td>\n",
       "      <td>1</td>\n",
       "      <td>Chicken Breast Tenders Breaded</td>\n",
       "    </tr>\n",
       "    <tr>\n",
       "      <th>3</th>\n",
       "      <td>1938779</td>\n",
       "      <td>11440</td>\n",
       "      <td>8</td>\n",
       "      <td>1</td>\n",
       "      <td>Chicken Breast Tenders Breaded</td>\n",
       "    </tr>\n",
       "    <tr>\n",
       "      <th>4</th>\n",
       "      <td>1728338</td>\n",
       "      <td>11440</td>\n",
       "      <td>23</td>\n",
       "      <td>0</td>\n",
       "      <td>Chicken Breast Tenders Breaded</td>\n",
       "    </tr>\n",
       "  </tbody>\n",
       "</table>\n",
       "</div>"
      ],
      "text/plain": [
       "   order_id  product_id  add_to_cart_order  reordered  \\\n",
       "0   2141543       11440                 17          0   \n",
       "1    147172       11440                  7          1   \n",
       "2   3341719       11440                  4          1   \n",
       "3   1938779       11440                  8          1   \n",
       "4   1728338       11440                 23          0   \n",
       "\n",
       "                     product_name  \n",
       "0  Chicken Breast Tenders Breaded  \n",
       "1  Chicken Breast Tenders Breaded  \n",
       "2  Chicken Breast Tenders Breaded  \n",
       "3  Chicken Breast Tenders Breaded  \n",
       "4  Chicken Breast Tenders Breaded  "
      ]
     },
     "execution_count": 79,
     "metadata": {},
     "output_type": "execute_result"
    }
   ],
   "source": [
    "order_product_product_merged_df.head()"
   ]
  },
  {
   "cell_type": "code",
   "execution_count": 80,
   "id": "8ae9f4b1",
   "metadata": {},
   "outputs": [
    {
     "data": {
      "text/plain": [
       "product_id\n",
       "1        0.564286\n",
       "2        0.000000\n",
       "3        0.738095\n",
       "4        0.510204\n",
       "7        0.500000\n",
       "           ...   \n",
       "49690    0.800000\n",
       "49691    0.430556\n",
       "49692    0.416667\n",
       "49693    0.440000\n",
       "49694    0.333333\n",
       "Name: reordered, Length: 45573, dtype: float64"
      ]
     },
     "execution_count": 80,
     "metadata": {},
     "output_type": "execute_result"
    }
   ],
   "source": [
    "proportion_reorders = order_product_product_merged_df.groupby('product_id')['reordered'].mean()\n",
    "proportion_reorders"
   ]
  },
  {
   "cell_type": "code",
   "execution_count": 81,
   "id": "103e7fe1",
   "metadata": {},
   "outputs": [
    {
     "data": {
      "text/html": [
       "<div>\n",
       "<style scoped>\n",
       "    .dataframe tbody tr th:only-of-type {\n",
       "        vertical-align: middle;\n",
       "    }\n",
       "\n",
       "    .dataframe tbody tr th {\n",
       "        vertical-align: top;\n",
       "    }\n",
       "\n",
       "    .dataframe thead th {\n",
       "        text-align: right;\n",
       "    }\n",
       "</style>\n",
       "<table border=\"1\" class=\"dataframe\">\n",
       "  <thead>\n",
       "    <tr style=\"text-align: right;\">\n",
       "      <th></th>\n",
       "      <th>product_id</th>\n",
       "      <th>product_name</th>\n",
       "      <th>aisle_id</th>\n",
       "      <th>department_id</th>\n",
       "      <th>reordered</th>\n",
       "    </tr>\n",
       "  </thead>\n",
       "  <tbody>\n",
       "    <tr>\n",
       "      <th>0</th>\n",
       "      <td>1</td>\n",
       "      <td>Chocolate Sandwich Cookies</td>\n",
       "      <td>61</td>\n",
       "      <td>19</td>\n",
       "      <td>0.564286</td>\n",
       "    </tr>\n",
       "    <tr>\n",
       "      <th>1</th>\n",
       "      <td>2</td>\n",
       "      <td>All-Seasons Salt</td>\n",
       "      <td>104</td>\n",
       "      <td>13</td>\n",
       "      <td>0.000000</td>\n",
       "    </tr>\n",
       "    <tr>\n",
       "      <th>2</th>\n",
       "      <td>3</td>\n",
       "      <td>Robust Golden Unsweetened Oolong Tea</td>\n",
       "      <td>94</td>\n",
       "      <td>7</td>\n",
       "      <td>0.738095</td>\n",
       "    </tr>\n",
       "    <tr>\n",
       "      <th>3</th>\n",
       "      <td>4</td>\n",
       "      <td>Smart Ones Classic Favorites Mini Rigatoni Wit...</td>\n",
       "      <td>38</td>\n",
       "      <td>1</td>\n",
       "      <td>0.510204</td>\n",
       "    </tr>\n",
       "    <tr>\n",
       "      <th>6</th>\n",
       "      <td>7</td>\n",
       "      <td>Pure Coconut Water With Orange</td>\n",
       "      <td>98</td>\n",
       "      <td>7</td>\n",
       "      <td>0.500000</td>\n",
       "    </tr>\n",
       "  </tbody>\n",
       "</table>\n",
       "</div>"
      ],
      "text/plain": [
       "   product_id                                       product_name  aisle_id  \\\n",
       "0           1                         Chocolate Sandwich Cookies        61   \n",
       "1           2                                   All-Seasons Salt       104   \n",
       "2           3               Robust Golden Unsweetened Oolong Tea        94   \n",
       "3           4  Smart Ones Classic Favorites Mini Rigatoni Wit...        38   \n",
       "6           7                     Pure Coconut Water With Orange        98   \n",
       "\n",
       "   department_id  reordered  \n",
       "0             19   0.564286  \n",
       "1             13   0.000000  \n",
       "2              7   0.738095  \n",
       "3              1   0.510204  \n",
       "6              7   0.500000  "
      ]
     },
     "execution_count": 81,
     "metadata": {},
     "output_type": "execute_result"
    }
   ],
   "source": [
    "proportion_reorders_df = pd.merge(product_df, proportion_reorders, left_on='product_id', right_index=True, how='inner')\n",
    "proportion_reorders_df.head()"
   ]
  },
  {
   "cell_type": "code",
   "execution_count": 82,
   "id": "social-individual",
   "metadata": {},
   "outputs": [
    {
     "data": {
      "text/html": [
       "<div>\n",
       "<style scoped>\n",
       "    .dataframe tbody tr th:only-of-type {\n",
       "        vertical-align: middle;\n",
       "    }\n",
       "\n",
       "    .dataframe tbody tr th {\n",
       "        vertical-align: top;\n",
       "    }\n",
       "\n",
       "    .dataframe thead th {\n",
       "        text-align: right;\n",
       "    }\n",
       "</style>\n",
       "<table border=\"1\" class=\"dataframe\">\n",
       "  <thead>\n",
       "    <tr style=\"text-align: right;\">\n",
       "      <th></th>\n",
       "      <th>product_id</th>\n",
       "      <th>product_name</th>\n",
       "      <th>aisle_id</th>\n",
       "      <th>department_id</th>\n",
       "      <th>proportion_of_reorders</th>\n",
       "    </tr>\n",
       "  </thead>\n",
       "  <tbody>\n",
       "    <tr>\n",
       "      <th>0</th>\n",
       "      <td>1</td>\n",
       "      <td>Chocolate Sandwich Cookies</td>\n",
       "      <td>61</td>\n",
       "      <td>19</td>\n",
       "      <td>0.564286</td>\n",
       "    </tr>\n",
       "    <tr>\n",
       "      <th>1</th>\n",
       "      <td>2</td>\n",
       "      <td>All-Seasons Salt</td>\n",
       "      <td>104</td>\n",
       "      <td>13</td>\n",
       "      <td>0.000000</td>\n",
       "    </tr>\n",
       "    <tr>\n",
       "      <th>2</th>\n",
       "      <td>3</td>\n",
       "      <td>Robust Golden Unsweetened Oolong Tea</td>\n",
       "      <td>94</td>\n",
       "      <td>7</td>\n",
       "      <td>0.738095</td>\n",
       "    </tr>\n",
       "    <tr>\n",
       "      <th>3</th>\n",
       "      <td>4</td>\n",
       "      <td>Smart Ones Classic Favorites Mini Rigatoni Wit...</td>\n",
       "      <td>38</td>\n",
       "      <td>1</td>\n",
       "      <td>0.510204</td>\n",
       "    </tr>\n",
       "    <tr>\n",
       "      <th>6</th>\n",
       "      <td>7</td>\n",
       "      <td>Pure Coconut Water With Orange</td>\n",
       "      <td>98</td>\n",
       "      <td>7</td>\n",
       "      <td>0.500000</td>\n",
       "    </tr>\n",
       "    <tr>\n",
       "      <th>...</th>\n",
       "      <td>...</td>\n",
       "      <td>...</td>\n",
       "      <td>...</td>\n",
       "      <td>...</td>\n",
       "      <td>...</td>\n",
       "    </tr>\n",
       "    <tr>\n",
       "      <th>49689</th>\n",
       "      <td>49690</td>\n",
       "      <td>HIGH PERFORMANCE ENERGY DRINK</td>\n",
       "      <td>64</td>\n",
       "      <td>7</td>\n",
       "      <td>0.800000</td>\n",
       "    </tr>\n",
       "    <tr>\n",
       "      <th>49690</th>\n",
       "      <td>49691</td>\n",
       "      <td>ORIGINAL PANCAKE &amp; WAFFLE MIX</td>\n",
       "      <td>130</td>\n",
       "      <td>14</td>\n",
       "      <td>0.430556</td>\n",
       "    </tr>\n",
       "    <tr>\n",
       "      <th>49691</th>\n",
       "      <td>49692</td>\n",
       "      <td>ORGANIC INSTANT OATMEAL LIGHT MAPLE BROWN SUGAR</td>\n",
       "      <td>130</td>\n",
       "      <td>14</td>\n",
       "      <td>0.416667</td>\n",
       "    </tr>\n",
       "    <tr>\n",
       "      <th>49692</th>\n",
       "      <td>49693</td>\n",
       "      <td>SPRING WATER BODY WASH</td>\n",
       "      <td>127</td>\n",
       "      <td>11</td>\n",
       "      <td>0.440000</td>\n",
       "    </tr>\n",
       "    <tr>\n",
       "      <th>49693</th>\n",
       "      <td>49694</td>\n",
       "      <td>BURRITO- STEAK &amp; CHEESE</td>\n",
       "      <td>38</td>\n",
       "      <td>1</td>\n",
       "      <td>0.333333</td>\n",
       "    </tr>\n",
       "  </tbody>\n",
       "</table>\n",
       "<p>45573 rows × 5 columns</p>\n",
       "</div>"
      ],
      "text/plain": [
       "       product_id                                       product_name  \\\n",
       "0               1                         Chocolate Sandwich Cookies   \n",
       "1               2                                   All-Seasons Salt   \n",
       "2               3               Robust Golden Unsweetened Oolong Tea   \n",
       "3               4  Smart Ones Classic Favorites Mini Rigatoni Wit...   \n",
       "6               7                     Pure Coconut Water With Orange   \n",
       "...           ...                                                ...   \n",
       "49689       49690                      HIGH PERFORMANCE ENERGY DRINK   \n",
       "49690       49691                      ORIGINAL PANCAKE & WAFFLE MIX   \n",
       "49691       49692    ORGANIC INSTANT OATMEAL LIGHT MAPLE BROWN SUGAR   \n",
       "49692       49693                             SPRING WATER BODY WASH   \n",
       "49693       49694                            BURRITO- STEAK & CHEESE   \n",
       "\n",
       "       aisle_id  department_id  proportion_of_reorders  \n",
       "0            61             19                0.564286  \n",
       "1           104             13                0.000000  \n",
       "2            94              7                0.738095  \n",
       "3            38              1                0.510204  \n",
       "6            98              7                0.500000  \n",
       "...         ...            ...                     ...  \n",
       "49689        64              7                0.800000  \n",
       "49690       130             14                0.430556  \n",
       "49691       130             14                0.416667  \n",
       "49692       127             11                0.440000  \n",
       "49693        38              1                0.333333  \n",
       "\n",
       "[45573 rows x 5 columns]"
      ]
     },
     "execution_count": 82,
     "metadata": {},
     "output_type": "execute_result"
    }
   ],
   "source": [
    "proportion_reorders_df.rename(columns={'reordered': 'proportion_of_reorders'}, inplace=True)\n",
    "proportion_reorders_df"
   ]
  },
  {
   "cell_type": "markdown",
   "id": "fcf0680d",
   "metadata": {},
   "source": [
    "<div class=\"alert alert-success\"; style=\"border-left: 7px solid green\">\n",
    "<b>✅ Reviewer's comment, v. 1</b> \n",
    "    \n",
    "Well done. Indeed, the optimal way to calculate the proportion as the average of `reordered` column.\n",
    "\n",
    "Please note that you may also display the reorder rate as a percentage (show you how to do that below)."
   ]
  },
  {
   "cell_type": "code",
   "execution_count": 83,
   "id": "7fde687e",
   "metadata": {},
   "outputs": [
    {
     "data": {
      "text/html": [
       "<style  type=\"text/css\" >\n",
       "</style><table id=\"T_6fe81_\" ><thead>    <tr>        <th class=\"blank\" ></th>        <th class=\"blank level0\" ></th>        <th class=\"col_heading level0 col0\" >reordered</th>    </tr>    <tr>        <th class=\"index_name level0\" >product_id</th>        <th class=\"index_name level1\" >product_name</th>        <th class=\"blank\" ></th>    </tr></thead><tbody>\n",
       "                <tr>\n",
       "                        <th id=\"T_6fe81_level0_row0\" class=\"row_heading level0 row0\" >1</th>\n",
       "                        <th id=\"T_6fe81_level1_row0\" class=\"row_heading level1 row0\" >Chocolate Sandwich Cookies</th>\n",
       "                        <td id=\"T_6fe81_row0_col0\" class=\"data row0 col0\" >56.4%</td>\n",
       "            </tr>\n",
       "            <tr>\n",
       "                        <th id=\"T_6fe81_level0_row1\" class=\"row_heading level0 row1\" >2</th>\n",
       "                        <th id=\"T_6fe81_level1_row1\" class=\"row_heading level1 row1\" >All-Seasons Salt</th>\n",
       "                        <td id=\"T_6fe81_row1_col0\" class=\"data row1 col0\" >0.0%</td>\n",
       "            </tr>\n",
       "            <tr>\n",
       "                        <th id=\"T_6fe81_level0_row2\" class=\"row_heading level0 row2\" >3</th>\n",
       "                        <th id=\"T_6fe81_level1_row2\" class=\"row_heading level1 row2\" >Robust Golden Unsweetened Oolong Tea</th>\n",
       "                        <td id=\"T_6fe81_row2_col0\" class=\"data row2 col0\" >73.8%</td>\n",
       "            </tr>\n",
       "            <tr>\n",
       "                        <th id=\"T_6fe81_level0_row3\" class=\"row_heading level0 row3\" >4</th>\n",
       "                        <th id=\"T_6fe81_level1_row3\" class=\"row_heading level1 row3\" >Smart Ones Classic Favorites Mini Rigatoni With Vodka Cream Sauce</th>\n",
       "                        <td id=\"T_6fe81_row3_col0\" class=\"data row3 col0\" >51.0%</td>\n",
       "            </tr>\n",
       "            <tr>\n",
       "                        <th id=\"T_6fe81_level0_row4\" class=\"row_heading level0 row4\" >7</th>\n",
       "                        <th id=\"T_6fe81_level1_row4\" class=\"row_heading level1 row4\" >Pure Coconut Water With Orange</th>\n",
       "                        <td id=\"T_6fe81_row4_col0\" class=\"data row4 col0\" >50.0%</td>\n",
       "            </tr>\n",
       "            <tr>\n",
       "                        <th id=\"T_6fe81_level0_row5\" class=\"row_heading level0 row5\" >8</th>\n",
       "                        <th id=\"T_6fe81_level1_row5\" class=\"row_heading level1 row5\" >Cut Russet Potatoes Steam N' Mash</th>\n",
       "                        <td id=\"T_6fe81_row5_col0\" class=\"data row5 col0\" >31.6%</td>\n",
       "            </tr>\n",
       "            <tr>\n",
       "                        <th id=\"T_6fe81_level0_row6\" class=\"row_heading level0 row6\" >9</th>\n",
       "                        <th id=\"T_6fe81_level1_row6\" class=\"row_heading level1 row6\" >Light Strawberry Blueberry Yogurt</th>\n",
       "                        <td id=\"T_6fe81_row6_col0\" class=\"data row6 col0\" >76.2%</td>\n",
       "            </tr>\n",
       "            <tr>\n",
       "                        <th id=\"T_6fe81_level0_row7\" class=\"row_heading level0 row7\" >10</th>\n",
       "                        <th id=\"T_6fe81_level1_row7\" class=\"row_heading level1 row7\" >Sparkling Orange Juice & Prickly Pear Beverage</th>\n",
       "                        <td id=\"T_6fe81_row7_col0\" class=\"data row7 col0\" >44.8%</td>\n",
       "            </tr>\n",
       "            <tr>\n",
       "                        <th id=\"T_6fe81_level0_row8\" class=\"row_heading level0 row8\" >11</th>\n",
       "                        <th id=\"T_6fe81_level1_row8\" class=\"row_heading level1 row8\" >Peach Mango Juice</th>\n",
       "                        <td id=\"T_6fe81_row8_col0\" class=\"data row8 col0\" >62.5%</td>\n",
       "            </tr>\n",
       "            <tr>\n",
       "                        <th id=\"T_6fe81_level0_row9\" class=\"row_heading level0 row9\" >12</th>\n",
       "                        <th id=\"T_6fe81_level1_row9\" class=\"row_heading level1 row9\" >Chocolate Fudge Layer Cake</th>\n",
       "                        <td id=\"T_6fe81_row9_col0\" class=\"data row9 col0\" >39.0%</td>\n",
       "            </tr>\n",
       "            <tr>\n",
       "                        <th id=\"T_6fe81_level0_row10\" class=\"row_heading level0 row10\" >13</th>\n",
       "                        <th id=\"T_6fe81_level1_row10\" class=\"row_heading level1 row10\" >Saline Nasal Mist</th>\n",
       "                        <td id=\"T_6fe81_row10_col0\" class=\"data row10 col0\" >50.0%</td>\n",
       "            </tr>\n",
       "            <tr>\n",
       "                        <th id=\"T_6fe81_level0_row11\" class=\"row_heading level0 row11\" >14</th>\n",
       "                        <th id=\"T_6fe81_level1_row11\" class=\"row_heading level1 row11\" >Fresh Scent Dishwasher Cleaner</th>\n",
       "                        <td id=\"T_6fe81_row11_col0\" class=\"data row11 col0\" >0.0%</td>\n",
       "            </tr>\n",
       "            <tr>\n",
       "                        <th id=\"T_6fe81_level0_row12\" class=\"row_heading level0 row12\" >17</th>\n",
       "                        <th id=\"T_6fe81_level1_row12\" class=\"row_heading level1 row12\" >Rendered Duck Fat</th>\n",
       "                        <td id=\"T_6fe81_row12_col0\" class=\"data row12 col0\" >0.0%</td>\n",
       "            </tr>\n",
       "            <tr>\n",
       "                        <th id=\"T_6fe81_level0_row13\" class=\"row_heading level0 row13\" >18</th>\n",
       "                        <th id=\"T_6fe81_level1_row13\" class=\"row_heading level1 row13\" >Pizza for One Suprema  Frozen Pizza</th>\n",
       "                        <td id=\"T_6fe81_row13_col0\" class=\"data row13 col0\" >53.3%</td>\n",
       "            </tr>\n",
       "            <tr>\n",
       "                        <th id=\"T_6fe81_level0_row14\" class=\"row_heading level0 row14\" >19</th>\n",
       "                        <th id=\"T_6fe81_level1_row14\" class=\"row_heading level1 row14\" >Gluten Free Quinoa Three Cheese & Mushroom Blend</th>\n",
       "                        <td id=\"T_6fe81_row14_col0\" class=\"data row14 col0\" >0.0%</td>\n",
       "            </tr>\n",
       "            <tr>\n",
       "                        <th id=\"T_6fe81_level0_row15\" class=\"row_heading level0 row15\" >21</th>\n",
       "                        <th id=\"T_6fe81_level1_row15\" class=\"row_heading level1 row15\" >Small & Medium Dental Dog Treats</th>\n",
       "                        <td id=\"T_6fe81_row15_col0\" class=\"data row15 col0\" >0.0%</td>\n",
       "            </tr>\n",
       "            <tr>\n",
       "                        <th id=\"T_6fe81_level0_row16\" class=\"row_heading level0 row16\" >22</th>\n",
       "                        <th id=\"T_6fe81_level1_row16\" class=\"row_heading level1 row16\" >Fresh Breath Oral Rinse Mild Mint</th>\n",
       "                        <td id=\"T_6fe81_row16_col0\" class=\"data row16 col0\" >50.0%</td>\n",
       "            </tr>\n",
       "            <tr>\n",
       "                        <th id=\"T_6fe81_level0_row17\" class=\"row_heading level0 row17\" >23</th>\n",
       "                        <th id=\"T_6fe81_level1_row17\" class=\"row_heading level1 row17\" >Organic Turkey Burgers</th>\n",
       "                        <td id=\"T_6fe81_row17_col0\" class=\"data row17 col0\" >38.1%</td>\n",
       "            </tr>\n",
       "            <tr>\n",
       "                        <th id=\"T_6fe81_level0_row18\" class=\"row_heading level0 row18\" >24</th>\n",
       "                        <th id=\"T_6fe81_level1_row18\" class=\"row_heading level1 row18\" >Tri-Vi-Sol® Vitamins A-C-and D Supplement Drops for Infants</th>\n",
       "                        <td id=\"T_6fe81_row18_col0\" class=\"data row18 col0\" >0.0%</td>\n",
       "            </tr>\n",
       "            <tr>\n",
       "                        <th id=\"T_6fe81_level0_row19\" class=\"row_heading level0 row19\" >25</th>\n",
       "                        <th id=\"T_6fe81_level1_row19\" class=\"row_heading level1 row19\" >Salted Caramel Lean Protein & Fiber Bar</th>\n",
       "                        <td id=\"T_6fe81_row19_col0\" class=\"data row19 col0\" >67.5%</td>\n",
       "            </tr>\n",
       "    </tbody></table>"
      ],
      "text/plain": [
       "<pandas.io.formats.style.Styler at 0x7fbc2c25c310>"
      ]
     },
     "execution_count": 83,
     "metadata": {},
     "output_type": "execute_result"
    }
   ],
   "source": [
    "#ADDED BY REVIEWER\n",
    "\n",
    "df_order_products = pd.read_csv('/datasets/order_products.csv', sep=';')\n",
    "df_products = pd.read_csv('/datasets/products.csv', sep=';')\n",
    "\n",
    "reorder_pct = df_order_products.merge(df_products)\n",
    "reorder_pct = reorder_pct.groupby(['product_id', 'product_name'])['reordered'].mean().to_frame()\n",
    "reorder_pct.head(20).style.format({'reordered': '{:.1%}'})"
   ]
  },
  {
   "cell_type": "markdown",
   "id": "subject-boxing",
   "metadata": {},
   "source": [
    "### [C4] For each customer, what proportion of their products ordered are reorders?"
   ]
  },
  {
   "cell_type": "code",
   "execution_count": 84,
   "id": "medical-couple",
   "metadata": {
    "scrolled": true
   },
   "outputs": [
    {
     "data": {
      "text/html": [
       "<div>\n",
       "<style scoped>\n",
       "    .dataframe tbody tr th:only-of-type {\n",
       "        vertical-align: middle;\n",
       "    }\n",
       "\n",
       "    .dataframe tbody tr th {\n",
       "        vertical-align: top;\n",
       "    }\n",
       "\n",
       "    .dataframe thead th {\n",
       "        text-align: right;\n",
       "    }\n",
       "</style>\n",
       "<table border=\"1\" class=\"dataframe\">\n",
       "  <thead>\n",
       "    <tr style=\"text-align: right;\">\n",
       "      <th></th>\n",
       "      <th>order_id</th>\n",
       "      <th>product_id</th>\n",
       "      <th>add_to_cart_order</th>\n",
       "      <th>reordered</th>\n",
       "      <th>user_id</th>\n",
       "    </tr>\n",
       "  </thead>\n",
       "  <tbody>\n",
       "    <tr>\n",
       "      <th>0</th>\n",
       "      <td>2141543</td>\n",
       "      <td>11440</td>\n",
       "      <td>17</td>\n",
       "      <td>0</td>\n",
       "      <td>58454</td>\n",
       "    </tr>\n",
       "    <tr>\n",
       "      <th>1</th>\n",
       "      <td>2141543</td>\n",
       "      <td>31869</td>\n",
       "      <td>15</td>\n",
       "      <td>1</td>\n",
       "      <td>58454</td>\n",
       "    </tr>\n",
       "    <tr>\n",
       "      <th>2</th>\n",
       "      <td>2141543</td>\n",
       "      <td>30233</td>\n",
       "      <td>9</td>\n",
       "      <td>1</td>\n",
       "      <td>58454</td>\n",
       "    </tr>\n",
       "    <tr>\n",
       "      <th>3</th>\n",
       "      <td>2141543</td>\n",
       "      <td>27966</td>\n",
       "      <td>20</td>\n",
       "      <td>1</td>\n",
       "      <td>58454</td>\n",
       "    </tr>\n",
       "    <tr>\n",
       "      <th>4</th>\n",
       "      <td>2141543</td>\n",
       "      <td>13176</td>\n",
       "      <td>2</td>\n",
       "      <td>1</td>\n",
       "      <td>58454</td>\n",
       "    </tr>\n",
       "  </tbody>\n",
       "</table>\n",
       "</div>"
      ],
      "text/plain": [
       "   order_id  product_id  add_to_cart_order  reordered  user_id\n",
       "0   2141543       11440                 17          0    58454\n",
       "1   2141543       31869                 15          1    58454\n",
       "2   2141543       30233                  9          1    58454\n",
       "3   2141543       27966                 20          1    58454\n",
       "4   2141543       13176                  2          1    58454"
      ]
     },
     "execution_count": 84,
     "metadata": {},
     "output_type": "execute_result"
    }
   ],
   "source": [
    "order_order_product_merge_df = pd.merge(order_product_df, order_df[['order_id', 'user_id']], on='order_id', how='inner')\n",
    "order_order_product_merge_df.head()"
   ]
  },
  {
   "cell_type": "code",
   "execution_count": 85,
   "id": "8892e4b4",
   "metadata": {},
   "outputs": [
    {
     "data": {
      "text/plain": [
       "user_id\n",
       "2    0.038462\n",
       "4    0.000000\n",
       "5    0.666667\n",
       "6    0.000000\n",
       "7    0.928571\n",
       "Name: reordered, dtype: float64"
      ]
     },
     "execution_count": 85,
     "metadata": {},
     "output_type": "execute_result"
    }
   ],
   "source": [
    "proportion_reorders_per_customer = order_order_product_merge_df.groupby('user_id')['reordered'].mean()\n",
    "proportion_reorders_per_customer.head()"
   ]
  },
  {
   "cell_type": "markdown",
   "id": "22156ba3",
   "metadata": {},
   "source": [
    "<div class=\"alert alert-success\"; style=\"border-left: 7px solid green\">\n",
    "<b>✅ Reviewer's comment, v. 1</b> \n",
    "    \n",
    "👍🏼"
   ]
  },
  {
   "cell_type": "markdown",
   "id": "92d35137",
   "metadata": {},
   "source": [
    "### [C5] What are the top 20 items that people put in their carts first? "
   ]
  },
  {
   "cell_type": "code",
   "execution_count": 86,
   "id": "0ae57274",
   "metadata": {
    "scrolled": true
   },
   "outputs": [
    {
     "data": {
      "text/html": [
       "<div>\n",
       "<style scoped>\n",
       "    .dataframe tbody tr th:only-of-type {\n",
       "        vertical-align: middle;\n",
       "    }\n",
       "\n",
       "    .dataframe tbody tr th {\n",
       "        vertical-align: top;\n",
       "    }\n",
       "\n",
       "    .dataframe thead th {\n",
       "        text-align: right;\n",
       "    }\n",
       "</style>\n",
       "<table border=\"1\" class=\"dataframe\">\n",
       "  <thead>\n",
       "    <tr style=\"text-align: right;\">\n",
       "      <th></th>\n",
       "      <th>order_id</th>\n",
       "      <th>product_id</th>\n",
       "      <th>add_to_cart_order</th>\n",
       "      <th>reordered</th>\n",
       "      <th>product_name</th>\n",
       "    </tr>\n",
       "  </thead>\n",
       "  <tbody>\n",
       "    <tr>\n",
       "      <th>0</th>\n",
       "      <td>2141543</td>\n",
       "      <td>11440</td>\n",
       "      <td>17</td>\n",
       "      <td>0</td>\n",
       "      <td>Chicken Breast Tenders Breaded</td>\n",
       "    </tr>\n",
       "    <tr>\n",
       "      <th>1</th>\n",
       "      <td>147172</td>\n",
       "      <td>11440</td>\n",
       "      <td>7</td>\n",
       "      <td>1</td>\n",
       "      <td>Chicken Breast Tenders Breaded</td>\n",
       "    </tr>\n",
       "    <tr>\n",
       "      <th>2</th>\n",
       "      <td>3341719</td>\n",
       "      <td>11440</td>\n",
       "      <td>4</td>\n",
       "      <td>1</td>\n",
       "      <td>Chicken Breast Tenders Breaded</td>\n",
       "    </tr>\n",
       "    <tr>\n",
       "      <th>3</th>\n",
       "      <td>1938779</td>\n",
       "      <td>11440</td>\n",
       "      <td>8</td>\n",
       "      <td>1</td>\n",
       "      <td>Chicken Breast Tenders Breaded</td>\n",
       "    </tr>\n",
       "    <tr>\n",
       "      <th>4</th>\n",
       "      <td>1728338</td>\n",
       "      <td>11440</td>\n",
       "      <td>23</td>\n",
       "      <td>0</td>\n",
       "      <td>Chicken Breast Tenders Breaded</td>\n",
       "    </tr>\n",
       "    <tr>\n",
       "      <th>...</th>\n",
       "      <td>...</td>\n",
       "      <td>...</td>\n",
       "      <td>...</td>\n",
       "      <td>...</td>\n",
       "      <td>...</td>\n",
       "    </tr>\n",
       "    <tr>\n",
       "      <th>4545002</th>\n",
       "      <td>267402</td>\n",
       "      <td>45226</td>\n",
       "      <td>14</td>\n",
       "      <td>0</td>\n",
       "      <td>Sweet Teriyaki Chicken Oven Sauce</td>\n",
       "    </tr>\n",
       "    <tr>\n",
       "      <th>4545003</th>\n",
       "      <td>2621676</td>\n",
       "      <td>25201</td>\n",
       "      <td>10</td>\n",
       "      <td>0</td>\n",
       "      <td>Crisp Waters Candle Scents</td>\n",
       "    </tr>\n",
       "    <tr>\n",
       "      <th>4545004</th>\n",
       "      <td>937623</td>\n",
       "      <td>49153</td>\n",
       "      <td>2</td>\n",
       "      <td>0</td>\n",
       "      <td>Shine Collection Brillance Shampoo</td>\n",
       "    </tr>\n",
       "    <tr>\n",
       "      <th>4545005</th>\n",
       "      <td>532895</td>\n",
       "      <td>8182</td>\n",
       "      <td>1</td>\n",
       "      <td>0</td>\n",
       "      <td>Total Mint Stripe Gel Toothpaste</td>\n",
       "    </tr>\n",
       "    <tr>\n",
       "      <th>4545006</th>\n",
       "      <td>3132243</td>\n",
       "      <td>40024</td>\n",
       "      <td>1</td>\n",
       "      <td>0</td>\n",
       "      <td>Egg Replacer Powder</td>\n",
       "    </tr>\n",
       "  </tbody>\n",
       "</table>\n",
       "<p>4545007 rows × 5 columns</p>\n",
       "</div>"
      ],
      "text/plain": [
       "         order_id  product_id  add_to_cart_order  reordered  \\\n",
       "0         2141543       11440                 17          0   \n",
       "1          147172       11440                  7          1   \n",
       "2         3341719       11440                  4          1   \n",
       "3         1938779       11440                  8          1   \n",
       "4         1728338       11440                 23          0   \n",
       "...           ...         ...                ...        ...   \n",
       "4545002    267402       45226                 14          0   \n",
       "4545003   2621676       25201                 10          0   \n",
       "4545004    937623       49153                  2          0   \n",
       "4545005    532895        8182                  1          0   \n",
       "4545006   3132243       40024                  1          0   \n",
       "\n",
       "                               product_name  \n",
       "0            Chicken Breast Tenders Breaded  \n",
       "1            Chicken Breast Tenders Breaded  \n",
       "2            Chicken Breast Tenders Breaded  \n",
       "3            Chicken Breast Tenders Breaded  \n",
       "4            Chicken Breast Tenders Breaded  \n",
       "...                                     ...  \n",
       "4545002   Sweet Teriyaki Chicken Oven Sauce  \n",
       "4545003          Crisp Waters Candle Scents  \n",
       "4545004  Shine Collection Brillance Shampoo  \n",
       "4545005    Total Mint Stripe Gel Toothpaste  \n",
       "4545006                 Egg Replacer Powder  \n",
       "\n",
       "[4545007 rows x 5 columns]"
      ]
     },
     "execution_count": 86,
     "metadata": {},
     "output_type": "execute_result"
    }
   ],
   "source": [
    "order_product_product_merged_df"
   ]
  },
  {
   "cell_type": "code",
   "execution_count": 87,
   "id": "forty-netherlands",
   "metadata": {
    "scrolled": true
   },
   "outputs": [
    {
     "data": {
      "text/html": [
       "<div>\n",
       "<style scoped>\n",
       "    .dataframe tbody tr th:only-of-type {\n",
       "        vertical-align: middle;\n",
       "    }\n",
       "\n",
       "    .dataframe tbody tr th {\n",
       "        vertical-align: top;\n",
       "    }\n",
       "\n",
       "    .dataframe thead th {\n",
       "        text-align: right;\n",
       "    }\n",
       "</style>\n",
       "<table border=\"1\" class=\"dataframe\">\n",
       "  <thead>\n",
       "    <tr style=\"text-align: right;\">\n",
       "      <th></th>\n",
       "      <th>order_id</th>\n",
       "      <th>product_id</th>\n",
       "      <th>add_to_cart_order</th>\n",
       "      <th>reordered</th>\n",
       "      <th>product_name</th>\n",
       "    </tr>\n",
       "  </thead>\n",
       "  <tbody>\n",
       "    <tr>\n",
       "      <th>6</th>\n",
       "      <td>1463503</td>\n",
       "      <td>11440</td>\n",
       "      <td>1</td>\n",
       "      <td>0</td>\n",
       "      <td>Chicken Breast Tenders Breaded</td>\n",
       "    </tr>\n",
       "    <tr>\n",
       "      <th>17</th>\n",
       "      <td>2201430</td>\n",
       "      <td>11440</td>\n",
       "      <td>1</td>\n",
       "      <td>1</td>\n",
       "      <td>Chicken Breast Tenders Breaded</td>\n",
       "    </tr>\n",
       "    <tr>\n",
       "      <th>21</th>\n",
       "      <td>1036054</td>\n",
       "      <td>11440</td>\n",
       "      <td>1</td>\n",
       "      <td>1</td>\n",
       "      <td>Chicken Breast Tenders Breaded</td>\n",
       "    </tr>\n",
       "    <tr>\n",
       "      <th>50</th>\n",
       "      <td>3008652</td>\n",
       "      <td>11440</td>\n",
       "      <td>1</td>\n",
       "      <td>1</td>\n",
       "      <td>Chicken Breast Tenders Breaded</td>\n",
       "    </tr>\n",
       "    <tr>\n",
       "      <th>62</th>\n",
       "      <td>2946144</td>\n",
       "      <td>11440</td>\n",
       "      <td>1</td>\n",
       "      <td>1</td>\n",
       "      <td>Chicken Breast Tenders Breaded</td>\n",
       "    </tr>\n",
       "    <tr>\n",
       "      <th>...</th>\n",
       "      <td>...</td>\n",
       "      <td>...</td>\n",
       "      <td>...</td>\n",
       "      <td>...</td>\n",
       "      <td>...</td>\n",
       "    </tr>\n",
       "    <tr>\n",
       "      <th>4544972</th>\n",
       "      <td>1518168</td>\n",
       "      <td>16952</td>\n",
       "      <td>1</td>\n",
       "      <td>0</td>\n",
       "      <td>Sensitive Night Cream</td>\n",
       "    </tr>\n",
       "    <tr>\n",
       "      <th>4544977</th>\n",
       "      <td>1776450</td>\n",
       "      <td>21507</td>\n",
       "      <td>1</td>\n",
       "      <td>0</td>\n",
       "      <td>Gluten Free All-Purpose Rice Flour Blend</td>\n",
       "    </tr>\n",
       "    <tr>\n",
       "      <th>4544995</th>\n",
       "      <td>2333206</td>\n",
       "      <td>25467</td>\n",
       "      <td>1</td>\n",
       "      <td>0</td>\n",
       "      <td>Madagascar Pure Vanilla</td>\n",
       "    </tr>\n",
       "    <tr>\n",
       "      <th>4545005</th>\n",
       "      <td>532895</td>\n",
       "      <td>8182</td>\n",
       "      <td>1</td>\n",
       "      <td>0</td>\n",
       "      <td>Total Mint Stripe Gel Toothpaste</td>\n",
       "    </tr>\n",
       "    <tr>\n",
       "      <th>4545006</th>\n",
       "      <td>3132243</td>\n",
       "      <td>40024</td>\n",
       "      <td>1</td>\n",
       "      <td>0</td>\n",
       "      <td>Egg Replacer Powder</td>\n",
       "    </tr>\n",
       "  </tbody>\n",
       "</table>\n",
       "<p>450046 rows × 5 columns</p>\n",
       "</div>"
      ],
      "text/plain": [
       "         order_id  product_id  add_to_cart_order  reordered  \\\n",
       "6         1463503       11440                  1          0   \n",
       "17        2201430       11440                  1          1   \n",
       "21        1036054       11440                  1          1   \n",
       "50        3008652       11440                  1          1   \n",
       "62        2946144       11440                  1          1   \n",
       "...           ...         ...                ...        ...   \n",
       "4544972   1518168       16952                  1          0   \n",
       "4544977   1776450       21507                  1          0   \n",
       "4544995   2333206       25467                  1          0   \n",
       "4545005    532895        8182                  1          0   \n",
       "4545006   3132243       40024                  1          0   \n",
       "\n",
       "                                     product_name  \n",
       "6                  Chicken Breast Tenders Breaded  \n",
       "17                 Chicken Breast Tenders Breaded  \n",
       "21                 Chicken Breast Tenders Breaded  \n",
       "50                 Chicken Breast Tenders Breaded  \n",
       "62                 Chicken Breast Tenders Breaded  \n",
       "...                                           ...  \n",
       "4544972                     Sensitive Night Cream  \n",
       "4544977  Gluten Free All-Purpose Rice Flour Blend  \n",
       "4544995                   Madagascar Pure Vanilla  \n",
       "4545005          Total Mint Stripe Gel Toothpaste  \n",
       "4545006                       Egg Replacer Powder  \n",
       "\n",
       "[450046 rows x 5 columns]"
      ]
     },
     "execution_count": 87,
     "metadata": {},
     "output_type": "execute_result"
    }
   ],
   "source": [
    "first_items = order_product_product_merged_df[order_product_product_merged_df['add_to_cart_order'] == 1]\n",
    "first_items"
   ]
  },
  {
   "cell_type": "code",
   "execution_count": 88,
   "id": "08e41ec2",
   "metadata": {},
   "outputs": [
    {
     "data": {
      "text/plain": [
       "Banana                         15562\n",
       "Bag of Organic Bananas         11026\n",
       "Organic Whole Milk              4363\n",
       "Organic Strawberries            3946\n",
       "Organic Hass Avocado            3390\n",
       "Organic Baby Spinach            3336\n",
       "Organic Avocado                 3044\n",
       "Spring Water                    2336\n",
       "Strawberries                    2308\n",
       "Organic Raspberries             2024\n",
       "Sparkling Water Grapefruit      1914\n",
       "Organic Half & Half             1797\n",
       "Large Lemon                     1737\n",
       "Soda                            1733\n",
       "Organic Reduced Fat Milk        1397\n",
       "Limes                           1370\n",
       "Hass Avocados                   1340\n",
       "Organic Reduced Fat 2% Milk     1310\n",
       "Half & Half                     1309\n",
       "Raspberries                     1246\n",
       "Name: product_name, dtype: int64"
      ]
     },
     "execution_count": 88,
     "metadata": {},
     "output_type": "execute_result"
    }
   ],
   "source": [
    "top_20_first_items = first_items['product_name'].value_counts().head(20)\n",
    "top_20_first_items"
   ]
  },
  {
   "cell_type": "code",
   "execution_count": 89,
   "id": "f24a0363",
   "metadata": {},
   "outputs": [
    {
     "data": {
      "text/html": [
       "<div>\n",
       "<style scoped>\n",
       "    .dataframe tbody tr th:only-of-type {\n",
       "        vertical-align: middle;\n",
       "    }\n",
       "\n",
       "    .dataframe tbody tr th {\n",
       "        vertical-align: top;\n",
       "    }\n",
       "\n",
       "    .dataframe thead th {\n",
       "        text-align: right;\n",
       "    }\n",
       "</style>\n",
       "<table border=\"1\" class=\"dataframe\">\n",
       "  <thead>\n",
       "    <tr style=\"text-align: right;\">\n",
       "      <th></th>\n",
       "      <th>product_id</th>\n",
       "      <th>product_name</th>\n",
       "    </tr>\n",
       "  </thead>\n",
       "  <tbody>\n",
       "    <tr>\n",
       "      <th>0</th>\n",
       "      <td>196</td>\n",
       "      <td>Soda</td>\n",
       "    </tr>\n",
       "    <tr>\n",
       "      <th>1</th>\n",
       "      <td>5785</td>\n",
       "      <td>Organic Reduced Fat 2% Milk</td>\n",
       "    </tr>\n",
       "    <tr>\n",
       "      <th>2</th>\n",
       "      <td>12341</td>\n",
       "      <td>Hass Avocados</td>\n",
       "    </tr>\n",
       "    <tr>\n",
       "      <th>3</th>\n",
       "      <td>13176</td>\n",
       "      <td>Bag of Organic Bananas</td>\n",
       "    </tr>\n",
       "    <tr>\n",
       "      <th>4</th>\n",
       "      <td>16797</td>\n",
       "      <td>Strawberries</td>\n",
       "    </tr>\n",
       "    <tr>\n",
       "      <th>5</th>\n",
       "      <td>19660</td>\n",
       "      <td>Spring Water</td>\n",
       "    </tr>\n",
       "    <tr>\n",
       "      <th>6</th>\n",
       "      <td>21137</td>\n",
       "      <td>Organic Strawberries</td>\n",
       "    </tr>\n",
       "    <tr>\n",
       "      <th>7</th>\n",
       "      <td>21903</td>\n",
       "      <td>Organic Baby Spinach</td>\n",
       "    </tr>\n",
       "    <tr>\n",
       "      <th>8</th>\n",
       "      <td>24852</td>\n",
       "      <td>Banana</td>\n",
       "    </tr>\n",
       "    <tr>\n",
       "      <th>9</th>\n",
       "      <td>26209</td>\n",
       "      <td>Limes</td>\n",
       "    </tr>\n",
       "    <tr>\n",
       "      <th>10</th>\n",
       "      <td>27086</td>\n",
       "      <td>Half &amp; Half</td>\n",
       "    </tr>\n",
       "    <tr>\n",
       "      <th>11</th>\n",
       "      <td>27845</td>\n",
       "      <td>Organic Whole Milk</td>\n",
       "    </tr>\n",
       "    <tr>\n",
       "      <th>12</th>\n",
       "      <td>27966</td>\n",
       "      <td>Organic Raspberries</td>\n",
       "    </tr>\n",
       "    <tr>\n",
       "      <th>13</th>\n",
       "      <td>38689</td>\n",
       "      <td>Organic Reduced Fat Milk</td>\n",
       "    </tr>\n",
       "    <tr>\n",
       "      <th>14</th>\n",
       "      <td>43352</td>\n",
       "      <td>Raspberries</td>\n",
       "    </tr>\n",
       "    <tr>\n",
       "      <th>15</th>\n",
       "      <td>44632</td>\n",
       "      <td>Sparkling Water Grapefruit</td>\n",
       "    </tr>\n",
       "    <tr>\n",
       "      <th>16</th>\n",
       "      <td>47209</td>\n",
       "      <td>Organic Hass Avocado</td>\n",
       "    </tr>\n",
       "    <tr>\n",
       "      <th>17</th>\n",
       "      <td>47626</td>\n",
       "      <td>Large Lemon</td>\n",
       "    </tr>\n",
       "    <tr>\n",
       "      <th>18</th>\n",
       "      <td>47766</td>\n",
       "      <td>Organic Avocado</td>\n",
       "    </tr>\n",
       "    <tr>\n",
       "      <th>19</th>\n",
       "      <td>49235</td>\n",
       "      <td>Organic Half &amp; Half</td>\n",
       "    </tr>\n",
       "  </tbody>\n",
       "</table>\n",
       "</div>"
      ],
      "text/plain": [
       "    product_id                 product_name\n",
       "0          196                         Soda\n",
       "1         5785  Organic Reduced Fat 2% Milk\n",
       "2        12341                Hass Avocados\n",
       "3        13176       Bag of Organic Bananas\n",
       "4        16797                 Strawberries\n",
       "5        19660                 Spring Water\n",
       "6        21137         Organic Strawberries\n",
       "7        21903         Organic Baby Spinach\n",
       "8        24852                       Banana\n",
       "9        26209                        Limes\n",
       "10       27086                  Half & Half\n",
       "11       27845           Organic Whole Milk\n",
       "12       27966          Organic Raspberries\n",
       "13       38689     Organic Reduced Fat Milk\n",
       "14       43352                  Raspberries\n",
       "15       44632   Sparkling Water Grapefruit\n",
       "16       47209         Organic Hass Avocado\n",
       "17       47626                  Large Lemon\n",
       "18       47766              Organic Avocado\n",
       "19       49235          Organic Half & Half"
      ]
     },
     "execution_count": 89,
     "metadata": {},
     "output_type": "execute_result"
    }
   ],
   "source": [
    "top_20_first_items_list = product_df.loc[product_df['product_name'].isin(top_20_first_items.index), ['product_id', 'product_name']]\n",
    "top_20_first_items_list.reset_index(drop=True)"
   ]
  },
  {
   "cell_type": "markdown",
   "id": "28ce9872",
   "metadata": {},
   "source": [
    "The top 20 items that people put in their carts first"
   ]
  },
  {
   "cell_type": "markdown",
   "id": "28193b70",
   "metadata": {},
   "source": [
    "<div class=\"alert alert-danger\"; style=\"border-left: 7px solid red\">\n",
    "<b>⛔️ Reviewer's comment, v. 1</b> \n",
    "\n",
    "Could you please also sort them in a way the products are display in the above cell - from the most likely to be put in the cart first, to the least likely (out of the 20)."
   ]
  },
  {
   "cell_type": "code",
   "execution_count": 90,
   "id": "dc89cd34",
   "metadata": {},
   "outputs": [
    {
     "data": {
      "text/html": [
       "<div>\n",
       "<style scoped>\n",
       "    .dataframe tbody tr th:only-of-type {\n",
       "        vertical-align: middle;\n",
       "    }\n",
       "\n",
       "    .dataframe tbody tr th {\n",
       "        vertical-align: top;\n",
       "    }\n",
       "\n",
       "    .dataframe thead th {\n",
       "        text-align: right;\n",
       "    }\n",
       "</style>\n",
       "<table border=\"1\" class=\"dataframe\">\n",
       "  <thead>\n",
       "    <tr style=\"text-align: right;\">\n",
       "      <th></th>\n",
       "      <th>product_id</th>\n",
       "      <th>product_name</th>\n",
       "    </tr>\n",
       "  </thead>\n",
       "  <tbody>\n",
       "    <tr>\n",
       "      <th>0</th>\n",
       "      <td>24852</td>\n",
       "      <td>Banana</td>\n",
       "    </tr>\n",
       "    <tr>\n",
       "      <th>1</th>\n",
       "      <td>13176</td>\n",
       "      <td>Bag of Organic Bananas</td>\n",
       "    </tr>\n",
       "    <tr>\n",
       "      <th>2</th>\n",
       "      <td>27845</td>\n",
       "      <td>Organic Whole Milk</td>\n",
       "    </tr>\n",
       "    <tr>\n",
       "      <th>3</th>\n",
       "      <td>21137</td>\n",
       "      <td>Organic Strawberries</td>\n",
       "    </tr>\n",
       "    <tr>\n",
       "      <th>4</th>\n",
       "      <td>47209</td>\n",
       "      <td>Organic Hass Avocado</td>\n",
       "    </tr>\n",
       "    <tr>\n",
       "      <th>5</th>\n",
       "      <td>21903</td>\n",
       "      <td>Organic Baby Spinach</td>\n",
       "    </tr>\n",
       "    <tr>\n",
       "      <th>6</th>\n",
       "      <td>47766</td>\n",
       "      <td>Organic Avocado</td>\n",
       "    </tr>\n",
       "    <tr>\n",
       "      <th>7</th>\n",
       "      <td>19660</td>\n",
       "      <td>Spring Water</td>\n",
       "    </tr>\n",
       "    <tr>\n",
       "      <th>8</th>\n",
       "      <td>16797</td>\n",
       "      <td>Strawberries</td>\n",
       "    </tr>\n",
       "    <tr>\n",
       "      <th>9</th>\n",
       "      <td>27966</td>\n",
       "      <td>Organic Raspberries</td>\n",
       "    </tr>\n",
       "    <tr>\n",
       "      <th>10</th>\n",
       "      <td>44632</td>\n",
       "      <td>Sparkling Water Grapefruit</td>\n",
       "    </tr>\n",
       "    <tr>\n",
       "      <th>11</th>\n",
       "      <td>49235</td>\n",
       "      <td>Organic Half &amp; Half</td>\n",
       "    </tr>\n",
       "    <tr>\n",
       "      <th>12</th>\n",
       "      <td>47626</td>\n",
       "      <td>Large Lemon</td>\n",
       "    </tr>\n",
       "    <tr>\n",
       "      <th>13</th>\n",
       "      <td>196</td>\n",
       "      <td>Soda</td>\n",
       "    </tr>\n",
       "    <tr>\n",
       "      <th>14</th>\n",
       "      <td>38689</td>\n",
       "      <td>Organic Reduced Fat Milk</td>\n",
       "    </tr>\n",
       "    <tr>\n",
       "      <th>15</th>\n",
       "      <td>26209</td>\n",
       "      <td>Limes</td>\n",
       "    </tr>\n",
       "    <tr>\n",
       "      <th>16</th>\n",
       "      <td>12341</td>\n",
       "      <td>Hass Avocados</td>\n",
       "    </tr>\n",
       "    <tr>\n",
       "      <th>17</th>\n",
       "      <td>5785</td>\n",
       "      <td>Organic Reduced Fat 2% Milk</td>\n",
       "    </tr>\n",
       "    <tr>\n",
       "      <th>18</th>\n",
       "      <td>27086</td>\n",
       "      <td>Half &amp; Half</td>\n",
       "    </tr>\n",
       "    <tr>\n",
       "      <th>19</th>\n",
       "      <td>43352</td>\n",
       "      <td>Raspberries</td>\n",
       "    </tr>\n",
       "  </tbody>\n",
       "</table>\n",
       "</div>"
      ],
      "text/plain": [
       "    product_id                 product_name\n",
       "0        24852                       Banana\n",
       "1        13176       Bag of Organic Bananas\n",
       "2        27845           Organic Whole Milk\n",
       "3        21137         Organic Strawberries\n",
       "4        47209         Organic Hass Avocado\n",
       "5        21903         Organic Baby Spinach\n",
       "6        47766              Organic Avocado\n",
       "7        19660                 Spring Water\n",
       "8        16797                 Strawberries\n",
       "9        27966          Organic Raspberries\n",
       "10       44632   Sparkling Water Grapefruit\n",
       "11       49235          Organic Half & Half\n",
       "12       47626                  Large Lemon\n",
       "13         196                         Soda\n",
       "14       38689     Organic Reduced Fat Milk\n",
       "15       26209                        Limes\n",
       "16       12341                Hass Avocados\n",
       "17        5785  Organic Reduced Fat 2% Milk\n",
       "18       27086                  Half & Half\n",
       "19       43352                  Raspberries"
      ]
     },
     "execution_count": 90,
     "metadata": {},
     "output_type": "execute_result"
    }
   ],
   "source": [
    "first_items = order_product_product_merged_df[order_product_product_merged_df['add_to_cart_order'] == 1]\n",
    "\n",
    "top_20_first_items = first_items['product_name'].value_counts().head(20).reset_index().rename(columns={'index': 'product_name', 'product_name': 'first_to_cart_count'})\n",
    "\n",
    "top_20_first_items_list = product_df.loc[product_df['product_name'].isin(top_20_first_items['product_name']), ['product_id', 'product_name']]\n",
    "\n",
    "top_20_first_items_list = pd.merge(top_20_first_items_list, top_20_first_items, on='product_name', how='inner')\n",
    "top_20_first_items_list\n",
    "top_20_first_items_list = top_20_first_items_list.sort_values(by='first_to_cart_count', ascending=False)\n",
    "\n",
    "top_20_first_items_list[['product_id', 'product_name']].reset_index(drop=True)"
   ]
  },
  {
   "cell_type": "markdown",
   "id": "67579ea2",
   "metadata": {},
   "source": [
    "<div class=\"alert alert-info\"; style=\"border-left: 7px solid blue\">\n",
    "<b>updated </b>"
   ]
  },
  {
   "cell_type": "markdown",
   "id": "75b24d98",
   "metadata": {},
   "source": [
    "<div class=\"alert alert-danger\"; style=\"border-left: 7px solid red\">\n",
    "<b>⛔️ Reviewer's comment, v. 1</b> \n",
    "\n",
    "Could you please add an overall conclusion summarising the main results of the analysis?"
   ]
  },
  {
   "cell_type": "markdown",
   "id": "40b62715",
   "metadata": {},
   "source": [
    "<div class=\"alert alert-info\"; style=\"border-left: 7px solid blue\">\n",
    "<b>Conclusion </b>\n",
    "\n",
    "    The majority of customers prefer shopping between 9 A.M. to 5 P.M., indicating a preference for daytime shopping.  Mondays and Tuesdays emerge as the most popular shopping days, with a peak in customer activity. Customers tend to wait approximately 1 week (7 days) or 1 month (30 days) between consecutive orders. \n",
    "\n",
    "    Most customers make between 1 to 3 orders, suggesting a mix of one-time shoppers and regular customers. Customers typically buy between 1 to 14 items in a single order, showcasing a range in basket sizes.\n",
    "\n",
    "    The top 20 products include a mix of fresh produce, dairy, and commonly used items, with bananas and organic       products leading the list. Reordering trends highlight a preference for fresh produce and dairy, with organic lemon and apple honeycrisp prominently featured. Initial cart choices showcase a mix of staple items and fresh produce, with bananas and organic milk among the top choices."
   ]
  }
 ],
 "metadata": {
  "kernelspec": {
   "display_name": "Python 3 (ipykernel)",
   "language": "python",
   "name": "python3"
  },
  "language_info": {
   "codemirror_mode": {
    "name": "ipython",
    "version": 3
   },
   "file_extension": ".py",
   "mimetype": "text/x-python",
   "name": "python",
   "nbconvert_exporter": "python",
   "pygments_lexer": "ipython3",
   "version": "3.9.19"
  },
  "toc": {
   "base_numbering": 1,
   "nav_menu": {},
   "number_sections": true,
   "sideBar": true,
   "skip_h1_title": true,
   "title_cell": "Table of Contents",
   "title_sidebar": "Contents",
   "toc_cell": false,
   "toc_position": {},
   "toc_section_display": true,
   "toc_window_display": false
  },
  "vscode": {
   "interpreter": {
    "hash": "01a7be9ec63e704a62cefc5fe7a4756944464ee731be31632bdf42a4cb4688cf"
   }
  }
 },
 "nbformat": 4,
 "nbformat_minor": 5
}
