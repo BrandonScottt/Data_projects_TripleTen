{
 "cells": [
  {
   "cell_type": "markdown",
   "metadata": {},
   "source": [
    "Hello Brandon!\n",
    "\n",
    "I’m happy to review your project today.\n",
    "I will mark your mistakes and give you some hints how it is possible to fix them. We are getting ready for real job, where your team leader/senior colleague will do exactly the same. Don't worry and study with pleasure! \n",
    "\n",
    "Below you will find my comments - **please do not move, modify or delete them**.\n",
    "\n",
    "You can find my comments in green, yellow or red boxes like this:\n",
    "\n",
    "<div class=\"alert alert-block alert-success\">\n",
    "<b>Reviewer's comment</b> <a class=\"tocSkip\"></a>\n",
    "\n",
    "Success. Everything is done succesfully.\n",
    "</div>\n",
    "\n",
    "<div class=\"alert alert-block alert-warning\">\n",
    "<b>Reviewer's comment</b> <a class=\"tocSkip\"></a>\n",
    "\n",
    "Remarks. Some recommendations.\n",
    "</div>\n",
    "\n",
    "<div class=\"alert alert-block alert-danger\">\n",
    "\n",
    "<b>Reviewer's comment</b> <a class=\"tocSkip\"></a>\n",
    "\n",
    "Needs fixing. The block requires some corrections. Work can't be accepted with the red comments.\n",
    "</div>\n",
    "\n",
    "You can answer me by using this:\n",
    "\n",
    "<div class=\"alert alert-block alert-info\">\n",
    "<b>Student answer.</b> <a class=\"tocSkip\"></a>\n",
    "\n",
    "Text here.\n",
    "</div>"
   ]
  },
  {
   "cell_type": "markdown",
   "metadata": {},
   "source": [
    "<div class=\"alert alert-block alert-success\">\n",
    "<b>Reviewer's comment</b> <a class=\"tocSkip\"></a>\n",
    "\n",
    "Your project is really nice one. You have only one mistake to fix. Except this mistake everything else is done perfectly\n",
    "</div>"
   ]
  },
  {
   "cell_type": "markdown",
   "metadata": {},
   "source": [
    "# Statement"
   ]
  },
  {
   "cell_type": "markdown",
   "metadata": {},
   "source": [
    "The Sure Tomorrow insurance company wants to solve several tasks with the help of Machine Learning and you are asked to evaluate that possibility.\n",
    "\n",
    "- Task 1: Find customers who are similar to a given customer. This will help the company's agents with marketing.\n",
    "- Task 2: Predict whether a new customer is likely to receive an insurance benefit. Can a prediction model do better than a dummy model?\n",
    "- Task 3: Predict the number of insurance benefits a new customer is likely to receive using a linear regression model.\n",
    "- Task 4: Protect clients' personal data without breaking the model from the previous task. It's necessary to develop a data transformation algorithm that would make it hard to recover personal information if the data fell into the wrong hands. This is called data masking, or data obfuscation. But the data should be protected in such a way that the quality of machine learning models doesn't suffer. You don't need to pick the best model, just prove that the algorithm works correctly."
   ]
  },
  {
   "cell_type": "markdown",
   "metadata": {},
   "source": [
    "# Data Preprocessing & Exploration\n",
    "\n",
    "## Initialization"
   ]
  },
  {
   "cell_type": "code",
   "execution_count": 1,
   "metadata": {},
   "outputs": [],
   "source": [
    "import numpy as np\n",
    "import pandas as pd\n",
    "\n",
    "import seaborn as sns\n",
    "import matplotlib.pyplot as plt\n",
    "import math\n",
    "\n",
    "import sklearn.linear_model\n",
    "import sklearn.metrics\n",
    "import sklearn.neighbors\n",
    "import sklearn.preprocessing\n",
    "\n",
    "from sklearn.model_selection import train_test_split\n",
    "from sklearn.neighbors import KNeighborsClassifier, NearestNeighbors\n",
    "\n",
    "from IPython.display import display\n",
    "import warnings\n",
    "warnings.filterwarnings('ignore')"
   ]
  },
  {
   "cell_type": "markdown",
   "metadata": {},
   "source": [
    "## Load Data"
   ]
  },
  {
   "cell_type": "markdown",
   "metadata": {},
   "source": [
    "Load data and conduct a basic check that it's free from obvious issues."
   ]
  },
  {
   "cell_type": "code",
   "execution_count": 2,
   "metadata": {},
   "outputs": [],
   "source": [
    "df = pd.read_csv('/datasets/insurance_us.csv')"
   ]
  },
  {
   "cell_type": "markdown",
   "metadata": {},
   "source": [
    "We rename the colums to make the code look more consistent with its style."
   ]
  },
  {
   "cell_type": "code",
   "execution_count": 3,
   "metadata": {},
   "outputs": [],
   "source": [
    "df = df.rename(columns={'Gender': 'gender', 'Age': 'age', 'Salary': 'income', 'Family members': 'family_members', 'Insurance benefits': 'insurance_benefits'})"
   ]
  },
  {
   "cell_type": "code",
   "execution_count": 4,
   "metadata": {},
   "outputs": [
    {
     "data": {
      "text/html": [
       "<div>\n",
       "<style scoped>\n",
       "    .dataframe tbody tr th:only-of-type {\n",
       "        vertical-align: middle;\n",
       "    }\n",
       "\n",
       "    .dataframe tbody tr th {\n",
       "        vertical-align: top;\n",
       "    }\n",
       "\n",
       "    .dataframe thead th {\n",
       "        text-align: right;\n",
       "    }\n",
       "</style>\n",
       "<table border=\"1\" class=\"dataframe\">\n",
       "  <thead>\n",
       "    <tr style=\"text-align: right;\">\n",
       "      <th></th>\n",
       "      <th>gender</th>\n",
       "      <th>age</th>\n",
       "      <th>income</th>\n",
       "      <th>family_members</th>\n",
       "      <th>insurance_benefits</th>\n",
       "    </tr>\n",
       "  </thead>\n",
       "  <tbody>\n",
       "    <tr>\n",
       "      <th>3111</th>\n",
       "      <td>0</td>\n",
       "      <td>25.0</td>\n",
       "      <td>55100.0</td>\n",
       "      <td>2</td>\n",
       "      <td>0</td>\n",
       "    </tr>\n",
       "    <tr>\n",
       "      <th>861</th>\n",
       "      <td>0</td>\n",
       "      <td>39.0</td>\n",
       "      <td>29600.0</td>\n",
       "      <td>1</td>\n",
       "      <td>0</td>\n",
       "    </tr>\n",
       "    <tr>\n",
       "      <th>1624</th>\n",
       "      <td>0</td>\n",
       "      <td>24.0</td>\n",
       "      <td>34300.0</td>\n",
       "      <td>2</td>\n",
       "      <td>0</td>\n",
       "    </tr>\n",
       "    <tr>\n",
       "      <th>161</th>\n",
       "      <td>0</td>\n",
       "      <td>41.0</td>\n",
       "      <td>31200.0</td>\n",
       "      <td>2</td>\n",
       "      <td>0</td>\n",
       "    </tr>\n",
       "    <tr>\n",
       "      <th>1195</th>\n",
       "      <td>0</td>\n",
       "      <td>30.0</td>\n",
       "      <td>29400.0</td>\n",
       "      <td>1</td>\n",
       "      <td>0</td>\n",
       "    </tr>\n",
       "    <tr>\n",
       "      <th>692</th>\n",
       "      <td>0</td>\n",
       "      <td>25.0</td>\n",
       "      <td>51600.0</td>\n",
       "      <td>0</td>\n",
       "      <td>0</td>\n",
       "    </tr>\n",
       "    <tr>\n",
       "      <th>3305</th>\n",
       "      <td>1</td>\n",
       "      <td>31.0</td>\n",
       "      <td>46600.0</td>\n",
       "      <td>0</td>\n",
       "      <td>0</td>\n",
       "    </tr>\n",
       "    <tr>\n",
       "      <th>1643</th>\n",
       "      <td>0</td>\n",
       "      <td>21.0</td>\n",
       "      <td>52600.0</td>\n",
       "      <td>1</td>\n",
       "      <td>0</td>\n",
       "    </tr>\n",
       "    <tr>\n",
       "      <th>4883</th>\n",
       "      <td>0</td>\n",
       "      <td>47.0</td>\n",
       "      <td>55600.0</td>\n",
       "      <td>3</td>\n",
       "      <td>1</td>\n",
       "    </tr>\n",
       "    <tr>\n",
       "      <th>4194</th>\n",
       "      <td>1</td>\n",
       "      <td>26.0</td>\n",
       "      <td>39100.0</td>\n",
       "      <td>2</td>\n",
       "      <td>0</td>\n",
       "    </tr>\n",
       "  </tbody>\n",
       "</table>\n",
       "</div>"
      ],
      "text/plain": [
       "      gender   age   income  family_members  insurance_benefits\n",
       "3111       0  25.0  55100.0               2                   0\n",
       "861        0  39.0  29600.0               1                   0\n",
       "1624       0  24.0  34300.0               2                   0\n",
       "161        0  41.0  31200.0               2                   0\n",
       "1195       0  30.0  29400.0               1                   0\n",
       "692        0  25.0  51600.0               0                   0\n",
       "3305       1  31.0  46600.0               0                   0\n",
       "1643       0  21.0  52600.0               1                   0\n",
       "4883       0  47.0  55600.0               3                   1\n",
       "4194       1  26.0  39100.0               2                   0"
      ]
     },
     "execution_count": 4,
     "metadata": {},
     "output_type": "execute_result"
    }
   ],
   "source": [
    "df.sample(10)"
   ]
  },
  {
   "cell_type": "code",
   "execution_count": 5,
   "metadata": {},
   "outputs": [
    {
     "name": "stdout",
     "output_type": "stream",
     "text": [
      "<class 'pandas.core.frame.DataFrame'>\n",
      "RangeIndex: 5000 entries, 0 to 4999\n",
      "Data columns (total 5 columns):\n",
      " #   Column              Non-Null Count  Dtype  \n",
      "---  ------              --------------  -----  \n",
      " 0   gender              5000 non-null   int64  \n",
      " 1   age                 5000 non-null   float64\n",
      " 2   income              5000 non-null   float64\n",
      " 3   family_members      5000 non-null   int64  \n",
      " 4   insurance_benefits  5000 non-null   int64  \n",
      "dtypes: float64(2), int64(3)\n",
      "memory usage: 195.4 KB\n"
     ]
    }
   ],
   "source": [
    "df.info()"
   ]
  },
  {
   "cell_type": "code",
   "execution_count": 6,
   "metadata": {},
   "outputs": [],
   "source": [
    "# we may want to fix the age type (from float to int) though this is not critical\n",
    "\n",
    "# write your conversion here if you choose:\n",
    "df['age'] = df['age'].astype(int)"
   ]
  },
  {
   "cell_type": "code",
   "execution_count": 7,
   "metadata": {},
   "outputs": [],
   "source": [
    "# check to see that the conversion was successful"
   ]
  },
  {
   "cell_type": "code",
   "execution_count": 8,
   "metadata": {},
   "outputs": [
    {
     "data": {
      "text/html": [
       "<div>\n",
       "<style scoped>\n",
       "    .dataframe tbody tr th:only-of-type {\n",
       "        vertical-align: middle;\n",
       "    }\n",
       "\n",
       "    .dataframe tbody tr th {\n",
       "        vertical-align: top;\n",
       "    }\n",
       "\n",
       "    .dataframe thead th {\n",
       "        text-align: right;\n",
       "    }\n",
       "</style>\n",
       "<table border=\"1\" class=\"dataframe\">\n",
       "  <thead>\n",
       "    <tr style=\"text-align: right;\">\n",
       "      <th></th>\n",
       "      <th>gender</th>\n",
       "      <th>age</th>\n",
       "      <th>income</th>\n",
       "      <th>family_members</th>\n",
       "      <th>insurance_benefits</th>\n",
       "    </tr>\n",
       "  </thead>\n",
       "  <tbody>\n",
       "    <tr>\n",
       "      <th>count</th>\n",
       "      <td>5000.000000</td>\n",
       "      <td>5000.000000</td>\n",
       "      <td>5000.000000</td>\n",
       "      <td>5000.000000</td>\n",
       "      <td>5000.000000</td>\n",
       "    </tr>\n",
       "    <tr>\n",
       "      <th>mean</th>\n",
       "      <td>0.499000</td>\n",
       "      <td>30.952800</td>\n",
       "      <td>39916.360000</td>\n",
       "      <td>1.194200</td>\n",
       "      <td>0.148000</td>\n",
       "    </tr>\n",
       "    <tr>\n",
       "      <th>std</th>\n",
       "      <td>0.500049</td>\n",
       "      <td>8.440807</td>\n",
       "      <td>9900.083569</td>\n",
       "      <td>1.091387</td>\n",
       "      <td>0.463183</td>\n",
       "    </tr>\n",
       "    <tr>\n",
       "      <th>min</th>\n",
       "      <td>0.000000</td>\n",
       "      <td>18.000000</td>\n",
       "      <td>5300.000000</td>\n",
       "      <td>0.000000</td>\n",
       "      <td>0.000000</td>\n",
       "    </tr>\n",
       "    <tr>\n",
       "      <th>25%</th>\n",
       "      <td>0.000000</td>\n",
       "      <td>24.000000</td>\n",
       "      <td>33300.000000</td>\n",
       "      <td>0.000000</td>\n",
       "      <td>0.000000</td>\n",
       "    </tr>\n",
       "    <tr>\n",
       "      <th>50%</th>\n",
       "      <td>0.000000</td>\n",
       "      <td>30.000000</td>\n",
       "      <td>40200.000000</td>\n",
       "      <td>1.000000</td>\n",
       "      <td>0.000000</td>\n",
       "    </tr>\n",
       "    <tr>\n",
       "      <th>75%</th>\n",
       "      <td>1.000000</td>\n",
       "      <td>37.000000</td>\n",
       "      <td>46600.000000</td>\n",
       "      <td>2.000000</td>\n",
       "      <td>0.000000</td>\n",
       "    </tr>\n",
       "    <tr>\n",
       "      <th>max</th>\n",
       "      <td>1.000000</td>\n",
       "      <td>65.000000</td>\n",
       "      <td>79000.000000</td>\n",
       "      <td>6.000000</td>\n",
       "      <td>5.000000</td>\n",
       "    </tr>\n",
       "  </tbody>\n",
       "</table>\n",
       "</div>"
      ],
      "text/plain": [
       "            gender          age        income  family_members  \\\n",
       "count  5000.000000  5000.000000   5000.000000     5000.000000   \n",
       "mean      0.499000    30.952800  39916.360000        1.194200   \n",
       "std       0.500049     8.440807   9900.083569        1.091387   \n",
       "min       0.000000    18.000000   5300.000000        0.000000   \n",
       "25%       0.000000    24.000000  33300.000000        0.000000   \n",
       "50%       0.000000    30.000000  40200.000000        1.000000   \n",
       "75%       1.000000    37.000000  46600.000000        2.000000   \n",
       "max       1.000000    65.000000  79000.000000        6.000000   \n",
       "\n",
       "       insurance_benefits  \n",
       "count         5000.000000  \n",
       "mean             0.148000  \n",
       "std              0.463183  \n",
       "min              0.000000  \n",
       "25%              0.000000  \n",
       "50%              0.000000  \n",
       "75%              0.000000  \n",
       "max              5.000000  "
      ]
     },
     "execution_count": 8,
     "metadata": {},
     "output_type": "execute_result"
    }
   ],
   "source": [
    "# now have a look at the data's descriptive statistics. \n",
    "# Does everything look okay?\n",
    "df.describe()"
   ]
  },
  {
   "cell_type": "code",
   "execution_count": 9,
   "metadata": {},
   "outputs": [
    {
     "data": {
      "text/plain": [
       "153"
      ]
     },
     "execution_count": 9,
     "metadata": {},
     "output_type": "execute_result"
    }
   ],
   "source": [
    "df.duplicated().sum()"
   ]
  },
  {
   "cell_type": "markdown",
   "metadata": {},
   "source": [
    "There are 153 duplicates"
   ]
  },
  {
   "cell_type": "code",
   "execution_count": 10,
   "metadata": {},
   "outputs": [
    {
     "data": {
      "text/html": [
       "<div>\n",
       "<style scoped>\n",
       "    .dataframe tbody tr th:only-of-type {\n",
       "        vertical-align: middle;\n",
       "    }\n",
       "\n",
       "    .dataframe tbody tr th {\n",
       "        vertical-align: top;\n",
       "    }\n",
       "\n",
       "    .dataframe thead th {\n",
       "        text-align: right;\n",
       "    }\n",
       "</style>\n",
       "<table border=\"1\" class=\"dataframe\">\n",
       "  <thead>\n",
       "    <tr style=\"text-align: right;\">\n",
       "      <th></th>\n",
       "      <th>gender</th>\n",
       "      <th>age</th>\n",
       "      <th>income</th>\n",
       "      <th>family_members</th>\n",
       "      <th>insurance_benefits</th>\n",
       "    </tr>\n",
       "  </thead>\n",
       "  <tbody>\n",
       "    <tr>\n",
       "      <th>281</th>\n",
       "      <td>1</td>\n",
       "      <td>39</td>\n",
       "      <td>48100.0</td>\n",
       "      <td>1</td>\n",
       "      <td>0</td>\n",
       "    </tr>\n",
       "    <tr>\n",
       "      <th>488</th>\n",
       "      <td>1</td>\n",
       "      <td>24</td>\n",
       "      <td>32900.0</td>\n",
       "      <td>1</td>\n",
       "      <td>0</td>\n",
       "    </tr>\n",
       "    <tr>\n",
       "      <th>513</th>\n",
       "      <td>0</td>\n",
       "      <td>31</td>\n",
       "      <td>37400.0</td>\n",
       "      <td>2</td>\n",
       "      <td>0</td>\n",
       "    </tr>\n",
       "    <tr>\n",
       "      <th>718</th>\n",
       "      <td>1</td>\n",
       "      <td>22</td>\n",
       "      <td>32600.0</td>\n",
       "      <td>1</td>\n",
       "      <td>0</td>\n",
       "    </tr>\n",
       "    <tr>\n",
       "      <th>785</th>\n",
       "      <td>0</td>\n",
       "      <td>20</td>\n",
       "      <td>35800.0</td>\n",
       "      <td>0</td>\n",
       "      <td>0</td>\n",
       "    </tr>\n",
       "  </tbody>\n",
       "</table>\n",
       "</div>"
      ],
      "text/plain": [
       "     gender  age   income  family_members  insurance_benefits\n",
       "281       1   39  48100.0               1                   0\n",
       "488       1   24  32900.0               1                   0\n",
       "513       0   31  37400.0               2                   0\n",
       "718       1   22  32600.0               1                   0\n",
       "785       0   20  35800.0               0                   0"
      ]
     },
     "execution_count": 10,
     "metadata": {},
     "output_type": "execute_result"
    }
   ],
   "source": [
    "df[df.duplicated()].head()"
   ]
  },
  {
   "cell_type": "code",
   "execution_count": 11,
   "metadata": {},
   "outputs": [
    {
     "data": {
      "text/plain": [
       "(5000, 5)"
      ]
     },
     "execution_count": 11,
     "metadata": {},
     "output_type": "execute_result"
    }
   ],
   "source": [
    "df.shape"
   ]
  },
  {
   "cell_type": "code",
   "execution_count": 12,
   "metadata": {},
   "outputs": [],
   "source": [
    "df = df.drop_duplicates()"
   ]
  },
  {
   "cell_type": "markdown",
   "metadata": {},
   "source": [
    "dropping duplicates"
   ]
  },
  {
   "cell_type": "code",
   "execution_count": 13,
   "metadata": {},
   "outputs": [
    {
     "data": {
      "text/plain": [
       "(4847, 5)"
      ]
     },
     "execution_count": 13,
     "metadata": {},
     "output_type": "execute_result"
    }
   ],
   "source": [
    "df.shape"
   ]
  },
  {
   "cell_type": "markdown",
   "metadata": {},
   "source": [
    "<div class=\"alert alert-block alert-success\">\n",
    "<b>Reviewer's comment</b> <a class=\"tocSkip\"></a>\n",
    "\n",
    "Good initial review and preprocessing.\n",
    "</div>"
   ]
  },
  {
   "cell_type": "markdown",
   "metadata": {},
   "source": [
    "## EDA"
   ]
  },
  {
   "cell_type": "markdown",
   "metadata": {},
   "source": [
    "Let's quickly check whether there are certain groups of customers by looking at the pair plot."
   ]
  },
  {
   "cell_type": "code",
   "execution_count": 14,
   "metadata": {},
   "outputs": [
    {
     "data": {
      "image/png": "[encoded data removed]",
      "text/plain": [
       "<Figure size 1200x1200 with 30 Axes>"
      ]
     },
     "metadata": {},
     "output_type": "display_data"
    }
   ],
   "source": [
    "g = sns.pairplot(df, kind='hist')\n",
    "g.fig.set_size_inches(12, 12)"
   ]
  },
  {
   "cell_type": "markdown",
   "metadata": {},
   "source": [
    "Ok, it is a bit difficult to spot obvious groups (clusters) as it is difficult to combine several variables simultaneously (to analyze multivariate distributions). That's where LA and ML can be quite handy."
   ]
  },
  {
   "cell_type": "code",
   "execution_count": 15,
   "metadata": {},
   "outputs": [
    {
     "data": {
      "image/png": "[encoded data removed]",
      "text/plain": [
       "<Figure size 640x480 with 2 Axes>"
      ]
     },
     "metadata": {},
     "output_type": "display_data"
    }
   ],
   "source": [
    "sns.heatmap(df.corr(), annot=True, linewidths=0.5)\n",
    "plt.title('Correlation Matrix Heatmap')\n",
    "plt.show()"
   ]
  },
  {
   "cell_type": "markdown",
   "metadata": {},
   "source": [
    "age has a positive correlation with insurance_benefits."
   ]
  },
  {
   "cell_type": "markdown",
   "metadata": {},
   "source": [
    "<div class=\"alert alert-block alert-success\">\n",
    "<b>Reviewer's comment</b> <a class=\"tocSkip\"></a>\n",
    "\n",
    "Nice graph!\n",
    "</div>"
   ]
  },
  {
   "cell_type": "markdown",
   "metadata": {},
   "source": [
    "# Task 1. Similar Customers"
   ]
  },
  {
   "cell_type": "markdown",
   "metadata": {},
   "source": [
    "In the language of ML, it is necessary to develop a procedure that returns k nearest neighbors (objects) for a given object based on the distance between the objects.\n",
    "\n",
    "You may want to review the following lessons (chapter -> lesson)\n",
    "- Distance Between Vectors -> Euclidean Distance\n",
    "- Distance Between Vectors -> Manhattan Distance\n",
    "\n",
    "To solve the task, we can try different distance metrics."
   ]
  },
  {
   "cell_type": "markdown",
   "metadata": {},
   "source": [
    "Write a function that returns k nearest neighbors for an $n^{th}$ object based on a specified distance metric. The number of received insurance benefits should not be taken into account for this task. \n",
    "\n",
    "You can use a ready implementation of the kNN algorithm from scikit-learn (check [the link](https://scikit-learn.org/stable/modules/generated/sklearn.neighbors.NearestNeighbors.html#sklearn.neighbors.NearestNeighbors)) or use your own.\n",
    "\n",
    "Test it for four combination of two cases\n",
    "- Scaling\n",
    "  - the data is not scaled\n",
    "  - the data is scaled with the [MaxAbsScaler](https://scikit-learn.org/stable/modules/generated/sklearn.preprocessing.MaxAbsScaler.html) scaler\n",
    "- Distance Metrics\n",
    "  - Euclidean\n",
    "  - Manhattan\n",
    "\n",
    "Answer these questions:\n",
    "- Does the data being not scaled affect the kNN algorithm? If so, how does that appear?\n",
    "- How similar are the results using the Manhattan distance metric (regardless of the scaling)?"
   ]
  },
  {
   "cell_type": "code",
   "execution_count": 16,
   "metadata": {},
   "outputs": [],
   "source": [
    "feature_names = ['gender', 'age', 'income', 'family_members']"
   ]
  },
  {
   "cell_type": "code",
   "execution_count": 17,
   "metadata": {},
   "outputs": [],
   "source": [
    "def get_knn(df, n, k, metric):\n",
    "    \n",
    "    \"\"\"\n",
    "    Returns k nearest neighbors\n",
    "\n",
    "    :param df: pandas DataFrame used to find similar objects within\n",
    "    :param n: object no for which the nearest neighbours are looked for\n",
    "    :param k: the number of the nearest neighbours to return\n",
    "    :param metric: name of distance metric\n",
    "    \"\"\"\n",
    "    np.random.seed(42)\n",
    "    nbrs = NearestNeighbors(n_neighbors=k, metric=metric).fit(df)\n",
    "    nbrs_distances, nbrs_indices = nbrs.kneighbors([df.iloc[n][feature_names]], k, return_distance=True)\n",
    "    \n",
    "    df_res = pd.concat([\n",
    "        df.iloc[nbrs_indices[0]], \n",
    "        pd.DataFrame(nbrs_distances.T, index=nbrs_indices[0], columns=['distance'])\n",
    "        ], axis=1)\n",
    "    \n",
    "    return df_res"
   ]
  },
  {
   "cell_type": "markdown",
   "metadata": {},
   "source": [
    "Scaling the data."
   ]
  },
  {
   "cell_type": "code",
   "execution_count": 18,
   "metadata": {},
   "outputs": [],
   "source": [
    "feature_names = ['gender', 'age', 'income', 'family_members']\n",
    "\n",
    "transformer_mas = sklearn.preprocessing.MaxAbsScaler().fit(df[feature_names].to_numpy())\n",
    "\n",
    "df_scaled = df.copy()\n",
    "df_scaled.loc[:, feature_names] = transformer_mas.transform(df[feature_names].to_numpy())"
   ]
  },
  {
   "cell_type": "code",
   "execution_count": 19,
   "metadata": {},
   "outputs": [
    {
     "data": {
      "text/html": [
       "<div>\n",
       "<style scoped>\n",
       "    .dataframe tbody tr th:only-of-type {\n",
       "        vertical-align: middle;\n",
       "    }\n",
       "\n",
       "    .dataframe tbody tr th {\n",
       "        vertical-align: top;\n",
       "    }\n",
       "\n",
       "    .dataframe thead th {\n",
       "        text-align: right;\n",
       "    }\n",
       "</style>\n",
       "<table border=\"1\" class=\"dataframe\">\n",
       "  <thead>\n",
       "    <tr style=\"text-align: right;\">\n",
       "      <th></th>\n",
       "      <th>gender</th>\n",
       "      <th>age</th>\n",
       "      <th>income</th>\n",
       "      <th>family_members</th>\n",
       "      <th>insurance_benefits</th>\n",
       "    </tr>\n",
       "  </thead>\n",
       "  <tbody>\n",
       "    <tr>\n",
       "      <th>1774</th>\n",
       "      <td>1.0</td>\n",
       "      <td>0.400000</td>\n",
       "      <td>0.331646</td>\n",
       "      <td>0.000000</td>\n",
       "      <td>0</td>\n",
       "    </tr>\n",
       "    <tr>\n",
       "      <th>1195</th>\n",
       "      <td>0.0</td>\n",
       "      <td>0.461538</td>\n",
       "      <td>0.372152</td>\n",
       "      <td>0.166667</td>\n",
       "      <td>0</td>\n",
       "    </tr>\n",
       "    <tr>\n",
       "      <th>461</th>\n",
       "      <td>0.0</td>\n",
       "      <td>0.646154</td>\n",
       "      <td>0.739241</td>\n",
       "      <td>0.166667</td>\n",
       "      <td>1</td>\n",
       "    </tr>\n",
       "    <tr>\n",
       "      <th>4787</th>\n",
       "      <td>0.0</td>\n",
       "      <td>0.292308</td>\n",
       "      <td>0.417722</td>\n",
       "      <td>0.000000</td>\n",
       "      <td>0</td>\n",
       "    </tr>\n",
       "    <tr>\n",
       "      <th>2238</th>\n",
       "      <td>0.0</td>\n",
       "      <td>0.476923</td>\n",
       "      <td>0.470886</td>\n",
       "      <td>0.166667</td>\n",
       "      <td>0</td>\n",
       "    </tr>\n",
       "  </tbody>\n",
       "</table>\n",
       "</div>"
      ],
      "text/plain": [
       "      gender       age    income  family_members  insurance_benefits\n",
       "1774     1.0  0.400000  0.331646        0.000000                   0\n",
       "1195     0.0  0.461538  0.372152        0.166667                   0\n",
       "461      0.0  0.646154  0.739241        0.166667                   1\n",
       "4787     0.0  0.292308  0.417722        0.000000                   0\n",
       "2238     0.0  0.476923  0.470886        0.166667                   0"
      ]
     },
     "execution_count": 19,
     "metadata": {},
     "output_type": "execute_result"
    }
   ],
   "source": [
    "df_scaled.sample(5)"
   ]
  },
  {
   "cell_type": "markdown",
   "metadata": {},
   "source": [
    "Now, let's get similar records for a given one for every combination"
   ]
  },
  {
   "cell_type": "code",
   "execution_count": 20,
   "metadata": {},
   "outputs": [],
   "source": [
    "def check_knn_results(df, k, n, scaling='Scaled', metrics=[]):\n",
    "    \n",
    "    for metric in metrics:\n",
    "        \n",
    "        print('{} results for {}'.format(scaling, metric))\n",
    "        print('-'*50)\n",
    "        print(get_knn(df, n, k, metric))\n",
    "        print()"
   ]
  },
  {
   "cell_type": "code",
   "execution_count": 21,
   "metadata": {},
   "outputs": [],
   "source": [
    "df = df.reset_index(drop=True)"
   ]
  },
  {
   "cell_type": "code",
   "execution_count": 22,
   "metadata": {},
   "outputs": [
    {
     "name": "stdout",
     "output_type": "stream",
     "text": [
      "Unscaled results for euclidean\n",
      "--------------------------------------------------\n",
      "      gender  age   income  family_members  distance\n",
      "100        0   19  37300.0               1  0.000000\n",
      "1803       0   20  37300.0               2  1.414214\n",
      "4147       1   19  37300.0               2  1.414214\n",
      "2569       1   19  37300.0               0  1.414214\n",
      "1078       0   22  37300.0               3  3.605551\n",
      "\n",
      "Unscaled results for manhattan\n",
      "--------------------------------------------------\n",
      "      gender  age   income  family_members  distance\n",
      "100        0   19  37300.0               1       0.0\n",
      "2569       1   19  37300.0               0       2.0\n",
      "1803       0   20  37300.0               2       2.0\n",
      "4147       1   19  37300.0               2       2.0\n",
      "1078       0   22  37300.0               3       5.0\n",
      "\n"
     ]
    }
   ],
   "source": [
    "# for insured member 100. Without  scaling\n",
    "metrics = ['euclidean', 'manhattan']\n",
    "check_knn_results(df[feature_names], k=5, n=100, scaling='Unscaled', metrics=metrics)"
   ]
  },
  {
   "cell_type": "code",
   "execution_count": 23,
   "metadata": {},
   "outputs": [],
   "source": [
    "df_scaled = df_scaled.reset_index(drop=True)"
   ]
  },
  {
   "cell_type": "code",
   "execution_count": 24,
   "metadata": {},
   "outputs": [
    {
     "name": "stdout",
     "output_type": "stream",
     "text": [
      "Scaled results for euclidean\n",
      "--------------------------------------------------\n",
      "      gender       age    income  family_members  distance\n",
      "100      0.0  0.292308  0.472152        0.166667  0.000000\n",
      "4765     0.0  0.292308  0.477215        0.166667  0.005063\n",
      "243      0.0  0.292308  0.467089        0.166667  0.005063\n",
      "1309     0.0  0.292308  0.456962        0.166667  0.015190\n",
      "806      0.0  0.307692  0.470886        0.166667  0.015437\n",
      "\n",
      "Scaled results for manhattan\n",
      "--------------------------------------------------\n",
      "      gender       age    income  family_members  distance\n",
      "100      0.0  0.292308  0.472152        0.166667  0.000000\n",
      "4765     0.0  0.292308  0.477215        0.166667  0.005063\n",
      "243      0.0  0.292308  0.467089        0.166667  0.005063\n",
      "1309     0.0  0.292308  0.456962        0.166667  0.015190\n",
      "806      0.0  0.307692  0.470886        0.166667  0.016650\n",
      "\n"
     ]
    }
   ],
   "source": [
    "# for insured member 100. With scaling\n",
    "metrics = ['euclidean', 'manhattan']\n",
    "check_knn_results(df_scaled[feature_names], k=5, n=100, metrics=metrics)"
   ]
  },
  {
   "cell_type": "markdown",
   "metadata": {},
   "source": [
    "Answers to the questions"
   ]
  },
  {
   "cell_type": "markdown",
   "metadata": {},
   "source": [
    "**Does the data being not scaled affect the kNN algorithm? If so, how does that appear?** \n",
    "\n",
    "Yes, without scaling, the distance metrics both, euclidean and manhattan are affected by income, which is on a different scale compared with the other features."
   ]
  },
  {
   "cell_type": "markdown",
   "metadata": {},
   "source": [
    "**How similar are the results using the Manhattan distance metric (regardless of the scaling)?** \n",
    "\n",
    "There are noticeable differences between the 2 metrics regardless of scaling. Euclidean distance penalizes large values more than Manhattan does. This is evident in the 5th neighbor in both results."
   ]
  },
  {
   "cell_type": "markdown",
   "metadata": {},
   "source": [
    "<div class=\"alert alert-block alert-success\">\n",
    "<b>Reviewer's comment</b> <a class=\"tocSkip\"></a>\n",
    "\n",
    "Well done!\n",
    "</div>"
   ]
  },
  {
   "cell_type": "markdown",
   "metadata": {},
   "source": [
    "# Task 2. Is Customer Likely to Receive Insurance Benefit?"
   ]
  },
  {
   "cell_type": "markdown",
   "metadata": {},
   "source": [
    "In terms of machine learning we can look at this like a binary classification task."
   ]
  },
  {
   "cell_type": "markdown",
   "metadata": {},
   "source": [
    "With `insurance_benefits` being more than zero as the target, evaluate whether the kNN classification approach can do better than a dummy model.\n",
    "\n",
    "Instructions:\n",
    "- Build a KNN-based classifier and measure its quality with the F1 metric for k=1..10 for both the original data and the scaled one. That'd be interesting to see how k may influece the evaluation metric, and whether scaling the data makes any difference. You can use a ready implemention of the kNN classification algorithm from scikit-learn (check [the link](https://scikit-learn.org/stable/modules/generated/sklearn.neighbors.KNeighborsClassifier.html)) or use your own.\n",
    "- Build the dummy model which is just random for this case. It should return \"1\" with some probability. Let's test the model with four probability values: 0, the probability of paying any insurance benefit, 0.5, 1.\n",
    "\n",
    "The probability of paying any insurance benefit can be defined as\n",
    "\n",
    "$$\n",
    "P\\{\\text{insurance benefit received}\\}=\\frac{\\text{number of clients received any insurance benefit}}{\\text{total number of clients}}.\n",
    "$$\n",
    "\n",
    "Split the whole data in the 70:30 proportion for the training/testing parts."
   ]
  },
  {
   "cell_type": "code",
   "execution_count": 25,
   "metadata": {},
   "outputs": [],
   "source": [
    "# calculate the target\n",
    "\n",
    "df['insurance_benefits_received'] = (df['insurance_benefits'] > 0.5).astype(int)"
   ]
  },
  {
   "cell_type": "code",
   "execution_count": 26,
   "metadata": {},
   "outputs": [
    {
     "data": {
      "text/plain": [
       "0    4284\n",
       "1     563\n",
       "Name: insurance_benefits_received, dtype: int64"
      ]
     },
     "execution_count": 26,
     "metadata": {},
     "output_type": "execute_result"
    }
   ],
   "source": [
    "# check for the class imbalance with value_counts()\n",
    "\n",
    "df['insurance_benefits_received'].value_counts()"
   ]
  },
  {
   "cell_type": "code",
   "execution_count": 27,
   "metadata": {},
   "outputs": [],
   "source": [
    "def eval_classifier(y_true, y_pred):\n",
    "    \n",
    "    f1_score = sklearn.metrics.f1_score(y_true, y_pred)\n",
    "    print(f'F1: {f1_score:.2f}')\n",
    "    \n",
    "# if you have an issue with the following line, restart the kernel and run the notebook again\n",
    "    cm = sklearn.metrics.confusion_matrix(y_true, y_pred, normalize='all')\n",
    "    print('Confusion Matrix')\n",
    "    print(cm)"
   ]
  },
  {
   "cell_type": "code",
   "execution_count": 28,
   "metadata": {},
   "outputs": [],
   "source": [
    "# generating output of a random model\n",
    "\n",
    "def rnd_model_predict(P, size, seed=42):\n",
    "\n",
    "    rng = np.random.default_rng(seed=seed)\n",
    "    return rng.binomial(n=1, p=P, size=size)"
   ]
  },
  {
   "cell_type": "code",
   "execution_count": 29,
   "metadata": {},
   "outputs": [
    {
     "name": "stdout",
     "output_type": "stream",
     "text": [
      "The probability: 0.00\n",
      "F1: 0.00\n",
      "Confusion Matrix\n",
      "[[0.88384568 0.        ]\n",
      " [0.11615432 0.        ]]\n",
      "\n",
      "The probability: 0.12\n",
      "F1: 0.13\n",
      "Confusion Matrix\n",
      "[[0.78502166 0.09882401]\n",
      " [0.1017124  0.01444192]]\n",
      "\n",
      "The probability: 0.50\n",
      "F1: 0.19\n",
      "Confusion Matrix\n",
      "[[0.44873117 0.4351145 ]\n",
      " [0.05921188 0.05694244]]\n",
      "\n",
      "The probability: 1.00\n",
      "F1: 0.21\n",
      "Confusion Matrix\n",
      "[[0.         0.88384568]\n",
      " [0.         0.11615432]]\n",
      "\n"
     ]
    }
   ],
   "source": [
    "for P in [0, df['insurance_benefits_received'].sum() / len(df), 0.5, 1]:\n",
    "\n",
    "    print(f'The probability: {P:.2f}')\n",
    "    y_pred_rnd = rnd_model_predict(P, size=len(df), seed=42)\n",
    "        \n",
    "    eval_classifier(df['insurance_benefits_received'], y_pred_rnd)\n",
    "    \n",
    "    print()"
   ]
  },
  {
   "cell_type": "code",
   "execution_count": 30,
   "metadata": {},
   "outputs": [],
   "source": [
    "train, valid = train_test_split(df, stratify=df['insurance_benefits_received'], test_size=0.3, random_state=42)\n",
    "features_train, target_train = train[feature_names], train['insurance_benefits_received']\n",
    "features_valid, target_valid = valid[feature_names], valid['insurance_benefits_received']"
   ]
  },
  {
   "cell_type": "code",
   "execution_count": 31,
   "metadata": {},
   "outputs": [
    {
     "data": {
      "text/plain": [
       "((3392, 4), (3392,), (1455, 4), (1455,))"
      ]
     },
     "execution_count": 31,
     "metadata": {},
     "output_type": "execute_result"
    }
   ],
   "source": [
    "features_train.shape, target_train.shape, features_valid.shape, target_valid.shape"
   ]
  },
  {
   "cell_type": "code",
   "execution_count": 32,
   "metadata": {},
   "outputs": [],
   "source": [
    "def build_model(train, target, test, n_neighbors):\n",
    "    \n",
    "    np.random.seed(42)\n",
    "    model = KNeighborsClassifier(n_neighbors=n_neighbors)\n",
    "    model.fit(features_train, target)\n",
    "    y_pred = model.predict(test)\n",
    "    return y_pred"
   ]
  },
  {
   "cell_type": "code",
   "execution_count": 33,
   "metadata": {},
   "outputs": [
    {
     "name": "stdout",
     "output_type": "stream",
     "text": [
      "For neighbor k=1\n",
      "F1: 0.68\n",
      "Confusion Matrix\n",
      "[[0.86804124 0.01580756]\n",
      " [0.04879725 0.06735395]]\n",
      "\n",
      "For neighbor k=2\n",
      "F1: 0.40\n",
      "Confusion Matrix\n",
      "[[0.87835052 0.00549828]\n",
      " [0.08591065 0.03024055]]\n",
      "\n",
      "For neighbor k=3\n",
      "F1: 0.41\n",
      "Confusion Matrix\n",
      "[[0.87353952 0.01030928]\n",
      " [0.0838488  0.03230241]]\n",
      "\n",
      "For neighbor k=4\n",
      "F1: 0.21\n",
      "Confusion Matrix\n",
      "[[0.88041237 0.00343643]\n",
      " [0.1024055  0.0137457 ]]\n",
      "\n",
      "For neighbor k=5\n",
      "F1: 0.22\n",
      "Confusion Matrix\n",
      "[[0.8790378  0.004811  ]\n",
      " [0.10103093 0.01512027]]\n",
      "\n",
      "For neighbor k=6\n",
      "F1: 0.02\n",
      "Confusion Matrix\n",
      "[[0.8838488  0.        ]\n",
      " [0.11477663 0.00137457]]\n",
      "\n",
      "For neighbor k=7\n",
      "F1: 0.05\n",
      "Confusion Matrix\n",
      "[[0.88109966 0.00274914]\n",
      " [0.11340206 0.00274914]]\n",
      "\n",
      "For neighbor k=8\n",
      "F1: 0.03\n",
      "Confusion Matrix\n",
      "[[8.83161512e-01 6.87285223e-04]\n",
      " [1.14089347e-01 2.06185567e-03]]\n",
      "\n",
      "For neighbor k=9\n",
      "F1: 0.03\n",
      "Confusion Matrix\n",
      "[[0.88247423 0.00137457]\n",
      " [0.11408935 0.00206186]]\n",
      "\n",
      "For neighbor k=10\n",
      "F1: 0.02\n",
      "Confusion Matrix\n",
      "[[0.8838488  0.        ]\n",
      " [0.11477663 0.00137457]]\n",
      "\n"
     ]
    }
   ],
   "source": [
    "# using unscaled data\n",
    "\n",
    "n_neighbors = 10\n",
    "for k in range(1, n_neighbors+1):\n",
    "    \n",
    "    y_pred = build_model(features_train, target_train, features_valid, k)\n",
    "    print('For neighbor k={}'.format(k))\n",
    "    eval_classifier(target_valid, y_pred)\n",
    "    print()"
   ]
  },
  {
   "cell_type": "code",
   "execution_count": 34,
   "metadata": {},
   "outputs": [],
   "source": [
    "# reduce the target to either received benefit, 1 or not, 0\n",
    "df_scaled['insurance_benefits_received'] = (df_scaled['insurance_benefits'] > 0).astype(int)"
   ]
  },
  {
   "cell_type": "code",
   "execution_count": 35,
   "metadata": {},
   "outputs": [],
   "source": [
    "train, valid = train_test_split(df_scaled, stratify=df_scaled['insurance_benefits_received'], test_size=0.3, random_state=42)\n",
    "features_train, target_train = train[feature_names], train['insurance_benefits_received']\n",
    "features_valid, target_valid = valid[feature_names], valid['insurance_benefits_received']"
   ]
  },
  {
   "cell_type": "code",
   "execution_count": 36,
   "metadata": {},
   "outputs": [
    {
     "data": {
      "text/plain": [
       "((3392, 4), (3392,), (1455, 4), (1455,))"
      ]
     },
     "execution_count": 36,
     "metadata": {},
     "output_type": "execute_result"
    }
   ],
   "source": [
    "features_train.shape, target_train.shape, features_valid.shape, target_valid.shape"
   ]
  },
  {
   "cell_type": "code",
   "execution_count": 37,
   "metadata": {},
   "outputs": [
    {
     "name": "stdout",
     "output_type": "stream",
     "text": [
      "For neighbor k=1\n",
      "F1: 0.94\n",
      "Confusion Matrix\n",
      "[[0.8790378  0.004811  ]\n",
      " [0.00824742 0.10790378]]\n",
      "\n",
      "For neighbor k=2\n",
      "F1: 0.91\n",
      "Confusion Matrix\n",
      "[[0.88109966 0.00274914]\n",
      " [0.01786942 0.09828179]]\n",
      "\n",
      "For neighbor k=3\n",
      "F1: 0.92\n",
      "Confusion Matrix\n",
      "[[0.87697595 0.00687285]\n",
      " [0.01168385 0.10446735]]\n",
      "\n",
      "For neighbor k=4\n",
      "F1: 0.89\n",
      "Confusion Matrix\n",
      "[[8.83161512e-01 6.87285223e-04]\n",
      " [2.33676976e-02 9.27835052e-02]]\n",
      "\n",
      "For neighbor k=5\n",
      "F1: 0.91\n",
      "Confusion Matrix\n",
      "[[0.87972509 0.00412371]\n",
      " [0.01580756 0.10034364]]\n",
      "\n",
      "For neighbor k=6\n",
      "F1: 0.88\n",
      "Confusion Matrix\n",
      "[[8.83161512e-01 6.87285223e-04]\n",
      " [2.40549828e-02 9.20962199e-02]]\n",
      "\n",
      "For neighbor k=7\n",
      "F1: 0.91\n",
      "Confusion Matrix\n",
      "[[0.88247423 0.00137457]\n",
      " [0.01718213 0.09896907]]\n",
      "\n",
      "For neighbor k=8\n",
      "F1: 0.89\n",
      "Confusion Matrix\n",
      "[[0.8838488  0.        ]\n",
      " [0.02268041 0.09347079]]\n",
      "\n",
      "For neighbor k=9\n",
      "F1: 0.91\n",
      "Confusion Matrix\n",
      "[[8.83161512e-01 6.87285223e-04]\n",
      " [1.92439863e-02 9.69072165e-02]]\n",
      "\n",
      "For neighbor k=10\n",
      "F1: 0.88\n",
      "Confusion Matrix\n",
      "[[0.8838488  0.        ]\n",
      " [0.02542955 0.09072165]]\n",
      "\n"
     ]
    }
   ],
   "source": [
    "for k in range(1, n_neighbors+1):\n",
    "    \n",
    "    y_pred = build_model(features_train, target_train, features_valid, k)\n",
    "    print('For neighbor k={}'.format(k))\n",
    "    eval_classifier(target_valid, y_pred)\n",
    "    print()"
   ]
  },
  {
   "cell_type": "markdown",
   "metadata": {},
   "source": [
    "Comparing KNearestNeighbhors between unscaled and scaled data shows a huge difference in the F1 score; the lowest F1 score produced by any model using scaled features is 88%, whereas for unscaled features it is 0.02. Clearly, showing how the use of distance metric during fitting impacts predictions by large valued features - in this case income.\n",
    "\n",
    "The scaled model surpasses the dummy model."
   ]
  },
  {
   "cell_type": "markdown",
   "metadata": {},
   "source": [
    "<div class=\"alert alert-block alert-success\">\n",
    "<b>Reviewer's comment</b> <a class=\"tocSkip\"></a>\n",
    "\n",
    "Good job!\n",
    "</div>"
   ]
  },
  {
   "cell_type": "markdown",
   "metadata": {},
   "source": [
    "# Task 3. Regression (with Linear Regression)"
   ]
  },
  {
   "cell_type": "markdown",
   "metadata": {},
   "source": [
    "With `insurance_benefits` as the target, evaluate what RMSE would be for a Linear Regression model."
   ]
  },
  {
   "cell_type": "markdown",
   "metadata": {},
   "source": [
    "Build your own implementation of LR. For that, recall how the linear regression task's solution is formulated in terms of LA. Check RMSE for both the original data and the scaled one. Can you see any difference in RMSE between these two cases?\n",
    "\n",
    "Let's denote\n",
    "- $X$ — feature matrix, each row is a case, each column is a feature, the first column consists of unities\n",
    "- $y$ — target (a vector)\n",
    "- $\\hat{y}$ — estimated tagret (a vector)\n",
    "- $w$ — weight vector\n",
    "\n",
    "The task of linear regression in the language of matrices can be formulated as\n",
    "\n",
    "$$\n",
    "y = Xw\n",
    "$$\n",
    "\n",
    "The training objective then is to find such $w$ that it would minimize the L2-distance (MSE) between $Xw$ and $y$:\n",
    "\n",
    "$$\n",
    "\\min_w d_2(Xw, y) \\quad \\text{or} \\quad \\min_w \\text{MSE}(Xw, y)\n",
    "$$\n",
    "\n",
    "It appears that there is analytical solution for the above:\n",
    "\n",
    "$$\n",
    "w = (X^T X)^{-1} X^T y\n",
    "$$\n",
    "\n",
    "The formula above can be used to find the weights $w$ and the latter can be used to calculate predicted values\n",
    "\n",
    "$$\n",
    "\\hat{y} = X_{val}w\n",
    "$$"
   ]
  },
  {
   "cell_type": "markdown",
   "metadata": {},
   "source": [
    "Split the whole data in the 70:30 proportion for the training/validation parts. Use the RMSE metric for the model evaluation."
   ]
  },
  {
   "cell_type": "code",
   "execution_count": 38,
   "metadata": {},
   "outputs": [],
   "source": [
    "class MyLinearRegression:\n",
    "    \n",
    "    def __init__(self):\n",
    "        \n",
    "        self.weights = None\n",
    "    \n",
    "    def fit(self, X, y):\n",
    "        \n",
    "        # adding the unities\n",
    "        X2 = np.append(np.ones([len(X), 1]), X, axis=1)\n",
    "        self.weights = np.linalg.inv(X2.T.dot(X2)).dot(X2.T).dot(y)\n",
    "        \n",
    "    def predict(self, X):\n",
    "        \n",
    "        # adding the unities\n",
    "        X2 = np.append(np.ones([X.shape[0], 1]), X, axis=1)\n",
    "        y_pred = np.dot(X2, self.weights)\n",
    "        \n",
    "        return y_pred"
   ]
  },
  {
   "cell_type": "code",
   "execution_count": 39,
   "metadata": {},
   "outputs": [],
   "source": [
    "def eval_regressor(y_true, y_pred):\n",
    "    \n",
    "    rmse = math.sqrt(sklearn.metrics.mean_squared_error(y_true, y_pred))\n",
    "    print(f'RMSE: {rmse:.2f}')\n",
    "    \n",
    "    r2_score = math.sqrt(sklearn.metrics.r2_score(y_true, y_pred))\n",
    "    print(f'R2: {r2_score:.2f}')    "
   ]
  },
  {
   "cell_type": "code",
   "execution_count": 40,
   "metadata": {},
   "outputs": [
    {
     "name": "stdout",
     "output_type": "stream",
     "text": [
      "[-9.77366729e-01  3.58042291e-02  1.95594888e-02  5.85336165e-07\n",
      " -1.21618420e-02]\n",
      "RMSE: 0.36\n",
      "R2: 0.66\n"
     ]
    }
   ],
   "source": [
    "X = df[['age', 'gender', 'income', 'family_members']].to_numpy()\n",
    "y = df['insurance_benefits'].to_numpy()\n",
    "\n",
    "X_train, X_test, y_train, y_test = train_test_split(X, y, test_size=0.3, random_state=12345)\n",
    "\n",
    "lr = MyLinearRegression()\n",
    "\n",
    "lr.fit(X_train, y_train)\n",
    "print(lr.weights)\n",
    "\n",
    "y_pred = lr.predict(X_test)\n",
    "eval_regressor(y_test, y_pred)"
   ]
  },
  {
   "cell_type": "code",
   "execution_count": 41,
   "metadata": {},
   "outputs": [
    {
     "name": "stdout",
     "output_type": "stream",
     "text": [
      "[-0.97736673  2.32727489  0.01955949  0.04624156 -0.07297105]\n",
      "RMSE: 0.36\n",
      "R2: 0.66\n"
     ]
    }
   ],
   "source": [
    "X = df_scaled[['age', 'gender', 'income', 'family_members']].to_numpy()\n",
    "y = df_scaled['insurance_benefits'].to_numpy()\n",
    "\n",
    "X_train, X_test, y_train, y_test = train_test_split(X, y, test_size=0.3, random_state=12345)\n",
    "\n",
    "lr = MyLinearRegression()\n",
    "\n",
    "lr.fit(X_train, y_train)\n",
    "print(lr.weights)\n",
    "\n",
    "y_pred = lr.predict(X_test)\n",
    "eval_regressor(y_test, y_pred)"
   ]
  },
  {
   "cell_type": "markdown",
   "metadata": {},
   "source": [
    "Only 66% of the variance is explained by the features when the data is unscaled.\n",
    "\n",
    "There is no difference in either the RMSE or R2 score post scaling; this is expected as Linear Regression makes predictions using the units of the output, making necessary adjustments to the units of the features."
   ]
  },
  {
   "cell_type": "markdown",
   "metadata": {},
   "source": [
    "<div class=\"alert alert-block alert-success\">\n",
    "<b>Reviewer's comment</b> <a class=\"tocSkip\"></a>\n",
    "\n",
    "You're right:)\n",
    "</div>"
   ]
  },
  {
   "cell_type": "markdown",
   "metadata": {},
   "source": [
    "# Task 4. Obfuscating Data"
   ]
  },
  {
   "cell_type": "markdown",
   "metadata": {},
   "source": [
    "It best to obfuscate data by multiplying the numerical features (remember, they can be seen as the matrix $X$) by an invertible matrix $P$. \n",
    "\n",
    "$$\n",
    "X' = X \\times P\n",
    "$$\n",
    "\n",
    "Try to do that and check how the features' values will look like after the transformation. By the way, the intertible property is important here so make sure that $P$ is indeed invertible.\n",
    "\n",
    "You may want to review the 'Matrices and Matrix Operations -> Matrix Multiplication' lesson to recall the rule of matrix multiplication and its implementation with NumPy."
   ]
  },
  {
   "cell_type": "code",
   "execution_count": 42,
   "metadata": {},
   "outputs": [],
   "source": [
    "personal_info_column_list = ['gender', 'age', 'income', 'family_members']\n",
    "df_pn = df[personal_info_column_list]"
   ]
  },
  {
   "cell_type": "code",
   "execution_count": 43,
   "metadata": {},
   "outputs": [],
   "source": [
    "X = df_pn.to_numpy()"
   ]
  },
  {
   "cell_type": "markdown",
   "metadata": {},
   "source": [
    "Generating a random matrix $P$."
   ]
  },
  {
   "cell_type": "code",
   "execution_count": 44,
   "metadata": {},
   "outputs": [],
   "source": [
    "rng = np.random.default_rng(seed=42)\n",
    "P = rng.random(size=(X.shape[1], X.shape[1]))"
   ]
  },
  {
   "cell_type": "markdown",
   "metadata": {},
   "source": [
    "Checking the matrix $P$ is invertible"
   ]
  },
  {
   "cell_type": "code",
   "execution_count": 45,
   "metadata": {},
   "outputs": [
    {
     "data": {
      "text/plain": [
       "array([[ 1.00000000e+00, -1.69848573e-16, -7.58122972e-17,\n",
       "        -1.13112497e-16],\n",
       "       [-6.94895396e-17,  1.00000000e+00, -7.10568689e-17,\n",
       "         3.59096970e-17],\n",
       "       [-1.21269339e-16, -8.01461326e-17,  1.00000000e+00,\n",
       "         4.30764008e-19],\n",
       "       [-3.60694539e-16, -5.55430227e-16,  3.08072404e-16,\n",
       "         1.00000000e+00]])"
      ]
     },
     "execution_count": 45,
     "metadata": {},
     "output_type": "execute_result"
    }
   ],
   "source": [
    "np.dot(P, np.linalg.inv(P))"
   ]
  },
  {
   "cell_type": "code",
   "execution_count": 46,
   "metadata": {},
   "outputs": [
    {
     "data": {
      "text/plain": [
       "True"
      ]
     },
     "execution_count": 46,
     "metadata": {},
     "output_type": "execute_result"
    }
   ],
   "source": [
    "np.allclose(np.dot(P, np.linalg.inv(P)), np.dot(np.linalg.inv(P), P))"
   ]
  },
  {
   "cell_type": "code",
   "execution_count": 47,
   "metadata": {},
   "outputs": [
    {
     "data": {
      "text/plain": [
       "array([[ 6359.71527314, 22380.40467609, 18424.09074184, 46000.69669016],\n",
       "       [ 4873.29406479, 17160.36702982, 14125.78076133, 35253.45577301],\n",
       "       [ 2693.11742928,  9486.397744  ,  7808.83156024, 19484.86063067],\n",
       "       ...,\n",
       "       [ 4346.2234249 , 15289.24126492, 12586.16264392, 31433.50888552],\n",
       "       [ 4194.09324155, 14751.9910242 , 12144.02930637, 30323.88763426],\n",
       "       [ 5205.46827354, 18314.24814446, 15077.01370762, 37649.59295455]])"
      ]
     },
     "execution_count": 47,
     "metadata": {},
     "output_type": "execute_result"
    }
   ],
   "source": [
    "np.dot(X, P)"
   ]
  },
  {
   "cell_type": "markdown",
   "metadata": {},
   "source": [
    "Can you guess the customers' ages or income after the transformation?"
   ]
  },
  {
   "cell_type": "markdown",
   "metadata": {},
   "source": [
    "It is clear, that the data is indecipherable."
   ]
  },
  {
   "cell_type": "markdown",
   "metadata": {},
   "source": [
    "Can you recover the original data from $X'$ if you know $P$? Try to check that with calculations by moving $P$ from the right side of the formula above to the left one. The rules of matrix multiplcation are really helpful here."
   ]
  },
  {
   "cell_type": "code",
   "execution_count": 48,
   "metadata": {},
   "outputs": [
    {
     "data": {
      "text/html": [
       "<div>\n",
       "<style scoped>\n",
       "    .dataframe tbody tr th:only-of-type {\n",
       "        vertical-align: middle;\n",
       "    }\n",
       "\n",
       "    .dataframe tbody tr th {\n",
       "        vertical-align: top;\n",
       "    }\n",
       "\n",
       "    .dataframe thead th {\n",
       "        text-align: right;\n",
       "    }\n",
       "</style>\n",
       "<table border=\"1\" class=\"dataframe\">\n",
       "  <thead>\n",
       "    <tr style=\"text-align: right;\">\n",
       "      <th></th>\n",
       "      <th>gender</th>\n",
       "      <th>age</th>\n",
       "      <th>income</th>\n",
       "      <th>family_members</th>\n",
       "    </tr>\n",
       "  </thead>\n",
       "  <tbody>\n",
       "    <tr>\n",
       "      <th>0</th>\n",
       "      <td>1.000000e+00</td>\n",
       "      <td>41.0</td>\n",
       "      <td>49600.0</td>\n",
       "      <td>1.000000e+00</td>\n",
       "    </tr>\n",
       "    <tr>\n",
       "      <th>1</th>\n",
       "      <td>-4.611792e-12</td>\n",
       "      <td>46.0</td>\n",
       "      <td>38000.0</td>\n",
       "      <td>1.000000e+00</td>\n",
       "    </tr>\n",
       "    <tr>\n",
       "      <th>2</th>\n",
       "      <td>-2.548671e-12</td>\n",
       "      <td>29.0</td>\n",
       "      <td>21000.0</td>\n",
       "      <td>1.008743e-14</td>\n",
       "    </tr>\n",
       "    <tr>\n",
       "      <th>3</th>\n",
       "      <td>-5.059112e-12</td>\n",
       "      <td>21.0</td>\n",
       "      <td>41700.0</td>\n",
       "      <td>2.000000e+00</td>\n",
       "    </tr>\n",
       "    <tr>\n",
       "      <th>4</th>\n",
       "      <td>1.000000e+00</td>\n",
       "      <td>28.0</td>\n",
       "      <td>26100.0</td>\n",
       "      <td>1.213530e-14</td>\n",
       "    </tr>\n",
       "  </tbody>\n",
       "</table>\n",
       "</div>"
      ],
      "text/plain": [
       "         gender   age   income  family_members\n",
       "0  1.000000e+00  41.0  49600.0    1.000000e+00\n",
       "1 -4.611792e-12  46.0  38000.0    1.000000e+00\n",
       "2 -2.548671e-12  29.0  21000.0    1.008743e-14\n",
       "3 -5.059112e-12  21.0  41700.0    2.000000e+00\n",
       "4  1.000000e+00  28.0  26100.0    1.213530e-14"
      ]
     },
     "execution_count": 48,
     "metadata": {},
     "output_type": "execute_result"
    }
   ],
   "source": [
    "pd.DataFrame(np.dot(X, np.dot(P, np.linalg.inv(P))), columns=feature_names).head()"
   ]
  },
  {
   "cell_type": "markdown",
   "metadata": {},
   "source": [
    "Yes, we are able to recover the original matrix X after matrix multiplication of the results of X*P with the inverse of P"
   ]
  },
  {
   "cell_type": "markdown",
   "metadata": {},
   "source": [
    "Print all three cases for a few customers\n",
    "- The original data\n",
    "- The transformed one\n",
    "- The reversed (recovered) one"
   ]
  },
  {
   "cell_type": "code",
   "execution_count": 49,
   "metadata": {},
   "outputs": [
    {
     "data": {
      "text/html": [
       "<div>\n",
       "<style scoped>\n",
       "    .dataframe tbody tr th:only-of-type {\n",
       "        vertical-align: middle;\n",
       "    }\n",
       "\n",
       "    .dataframe tbody tr th {\n",
       "        vertical-align: top;\n",
       "    }\n",
       "\n",
       "    .dataframe thead th {\n",
       "        text-align: right;\n",
       "    }\n",
       "</style>\n",
       "<table border=\"1\" class=\"dataframe\">\n",
       "  <thead>\n",
       "    <tr style=\"text-align: right;\">\n",
       "      <th></th>\n",
       "      <th>gender</th>\n",
       "      <th>age</th>\n",
       "      <th>income</th>\n",
       "      <th>family_members</th>\n",
       "    </tr>\n",
       "  </thead>\n",
       "  <tbody>\n",
       "    <tr>\n",
       "      <th>0</th>\n",
       "      <td>1.0</td>\n",
       "      <td>41.0</td>\n",
       "      <td>49600.0</td>\n",
       "      <td>1.0</td>\n",
       "    </tr>\n",
       "    <tr>\n",
       "      <th>1</th>\n",
       "      <td>0.0</td>\n",
       "      <td>46.0</td>\n",
       "      <td>38000.0</td>\n",
       "      <td>1.0</td>\n",
       "    </tr>\n",
       "    <tr>\n",
       "      <th>2</th>\n",
       "      <td>0.0</td>\n",
       "      <td>29.0</td>\n",
       "      <td>21000.0</td>\n",
       "      <td>0.0</td>\n",
       "    </tr>\n",
       "    <tr>\n",
       "      <th>3</th>\n",
       "      <td>0.0</td>\n",
       "      <td>21.0</td>\n",
       "      <td>41700.0</td>\n",
       "      <td>2.0</td>\n",
       "    </tr>\n",
       "    <tr>\n",
       "      <th>4</th>\n",
       "      <td>1.0</td>\n",
       "      <td>28.0</td>\n",
       "      <td>26100.0</td>\n",
       "      <td>0.0</td>\n",
       "    </tr>\n",
       "  </tbody>\n",
       "</table>\n",
       "</div>"
      ],
      "text/plain": [
       "   gender   age   income  family_members\n",
       "0     1.0  41.0  49600.0             1.0\n",
       "1     0.0  46.0  38000.0             1.0\n",
       "2     0.0  29.0  21000.0             0.0\n",
       "3     0.0  21.0  41700.0             2.0\n",
       "4     1.0  28.0  26100.0             0.0"
      ]
     },
     "execution_count": 49,
     "metadata": {},
     "output_type": "execute_result"
    }
   ],
   "source": [
    "# original data\n",
    "pd.DataFrame(X, columns=feature_names).head()"
   ]
  },
  {
   "cell_type": "code",
   "execution_count": 50,
   "metadata": {},
   "outputs": [
    {
     "data": {
      "text/html": [
       "<div>\n",
       "<style scoped>\n",
       "    .dataframe tbody tr th:only-of-type {\n",
       "        vertical-align: middle;\n",
       "    }\n",
       "\n",
       "    .dataframe tbody tr th {\n",
       "        vertical-align: top;\n",
       "    }\n",
       "\n",
       "    .dataframe thead th {\n",
       "        text-align: right;\n",
       "    }\n",
       "</style>\n",
       "<table border=\"1\" class=\"dataframe\">\n",
       "  <thead>\n",
       "    <tr style=\"text-align: right;\">\n",
       "      <th></th>\n",
       "      <th>gender</th>\n",
       "      <th>age</th>\n",
       "      <th>income</th>\n",
       "      <th>family_members</th>\n",
       "    </tr>\n",
       "  </thead>\n",
       "  <tbody>\n",
       "    <tr>\n",
       "      <th>0</th>\n",
       "      <td>6359.715273</td>\n",
       "      <td>22380.404676</td>\n",
       "      <td>18424.090742</td>\n",
       "      <td>46000.696690</td>\n",
       "    </tr>\n",
       "    <tr>\n",
       "      <th>1</th>\n",
       "      <td>4873.294065</td>\n",
       "      <td>17160.367030</td>\n",
       "      <td>14125.780761</td>\n",
       "      <td>35253.455773</td>\n",
       "    </tr>\n",
       "    <tr>\n",
       "      <th>2</th>\n",
       "      <td>2693.117429</td>\n",
       "      <td>9486.397744</td>\n",
       "      <td>7808.831560</td>\n",
       "      <td>19484.860631</td>\n",
       "    </tr>\n",
       "    <tr>\n",
       "      <th>3</th>\n",
       "      <td>5345.603937</td>\n",
       "      <td>18803.227203</td>\n",
       "      <td>15479.148373</td>\n",
       "      <td>38663.061863</td>\n",
       "    </tr>\n",
       "    <tr>\n",
       "      <th>4</th>\n",
       "      <td>3347.176735</td>\n",
       "      <td>11782.829283</td>\n",
       "      <td>9699.998942</td>\n",
       "      <td>24211.273378</td>\n",
       "    </tr>\n",
       "  </tbody>\n",
       "</table>\n",
       "</div>"
      ],
      "text/plain": [
       "        gender           age        income  family_members\n",
       "0  6359.715273  22380.404676  18424.090742    46000.696690\n",
       "1  4873.294065  17160.367030  14125.780761    35253.455773\n",
       "2  2693.117429   9486.397744   7808.831560    19484.860631\n",
       "3  5345.603937  18803.227203  15479.148373    38663.061863\n",
       "4  3347.176735  11782.829283   9699.998942    24211.273378"
      ]
     },
     "execution_count": 50,
     "metadata": {},
     "output_type": "execute_result"
    }
   ],
   "source": [
    "# transformed one\n",
    "pd.DataFrame(np.dot(X, P), columns=feature_names).head()"
   ]
  },
  {
   "cell_type": "code",
   "execution_count": 51,
   "metadata": {},
   "outputs": [
    {
     "data": {
      "text/html": [
       "<div>\n",
       "<style scoped>\n",
       "    .dataframe tbody tr th:only-of-type {\n",
       "        vertical-align: middle;\n",
       "    }\n",
       "\n",
       "    .dataframe tbody tr th {\n",
       "        vertical-align: top;\n",
       "    }\n",
       "\n",
       "    .dataframe thead th {\n",
       "        text-align: right;\n",
       "    }\n",
       "</style>\n",
       "<table border=\"1\" class=\"dataframe\">\n",
       "  <thead>\n",
       "    <tr style=\"text-align: right;\">\n",
       "      <th></th>\n",
       "      <th>gender</th>\n",
       "      <th>age</th>\n",
       "      <th>income</th>\n",
       "      <th>family_members</th>\n",
       "    </tr>\n",
       "  </thead>\n",
       "  <tbody>\n",
       "    <tr>\n",
       "      <th>0</th>\n",
       "      <td>1.000000e+00</td>\n",
       "      <td>41.0</td>\n",
       "      <td>49600.0</td>\n",
       "      <td>1.000000e+00</td>\n",
       "    </tr>\n",
       "    <tr>\n",
       "      <th>1</th>\n",
       "      <td>-4.611792e-12</td>\n",
       "      <td>46.0</td>\n",
       "      <td>38000.0</td>\n",
       "      <td>1.000000e+00</td>\n",
       "    </tr>\n",
       "    <tr>\n",
       "      <th>2</th>\n",
       "      <td>-2.548671e-12</td>\n",
       "      <td>29.0</td>\n",
       "      <td>21000.0</td>\n",
       "      <td>1.008743e-14</td>\n",
       "    </tr>\n",
       "    <tr>\n",
       "      <th>3</th>\n",
       "      <td>-5.059112e-12</td>\n",
       "      <td>21.0</td>\n",
       "      <td>41700.0</td>\n",
       "      <td>2.000000e+00</td>\n",
       "    </tr>\n",
       "    <tr>\n",
       "      <th>4</th>\n",
       "      <td>1.000000e+00</td>\n",
       "      <td>28.0</td>\n",
       "      <td>26100.0</td>\n",
       "      <td>1.213530e-14</td>\n",
       "    </tr>\n",
       "  </tbody>\n",
       "</table>\n",
       "</div>"
      ],
      "text/plain": [
       "         gender   age   income  family_members\n",
       "0  1.000000e+00  41.0  49600.0    1.000000e+00\n",
       "1 -4.611792e-12  46.0  38000.0    1.000000e+00\n",
       "2 -2.548671e-12  29.0  21000.0    1.008743e-14\n",
       "3 -5.059112e-12  21.0  41700.0    2.000000e+00\n",
       "4  1.000000e+00  28.0  26100.0    1.213530e-14"
      ]
     },
     "execution_count": 51,
     "metadata": {},
     "output_type": "execute_result"
    }
   ],
   "source": [
    "# The reversed (recovered) one\n",
    "pd.DataFrame(np.dot(X, np.dot(P, np.linalg.inv(P))), columns=feature_names).head()"
   ]
  },
  {
   "cell_type": "markdown",
   "metadata": {},
   "source": [
    "You can probably see that some values are not exactly the same as they are in the original data. What might be the reason for that?"
   ]
  },
  {
   "cell_type": "markdown",
   "metadata": {},
   "source": [
    "The reason for the recovered matrix not exactly matching the original matrix is due to floating point errors- there is only a finite number of bits allocated to storing real numbers."
   ]
  },
  {
   "cell_type": "code",
   "execution_count": null,
   "metadata": {},
   "outputs": [],
   "source": [
    "<div class=\"alert alert-block alert-success\">\n",
    "<b>Reviewer's comment</b> <a class=\"tocSkip\"></a>\n",
    "\n",
    "You're absolutely right\n",
    "</div>"
   ]
  },
  {
   "cell_type": "markdown",
   "metadata": {},
   "source": [
    "## Proof That Data Obfuscation Can Work with LR"
   ]
  },
  {
   "cell_type": "markdown",
   "metadata": {},
   "source": [
    "The regression task has been solved with linear regression in this project. Your next task is to prove _analytically_ that the given obfuscation method won't affect linear regression in terms of predicted values i.e. their values will remain the same. Can you believe that? Well, you don't have to, you should prove it!"
   ]
  },
  {
   "cell_type": "markdown",
   "metadata": {},
   "source": [
    "So, the data is obfuscated and there is $X \\times P$ instead of just $X$ now. Consequently, there are other weights $w_P$ as\n",
    "$$\n",
    "w = (X^T X)^{-1} X^T y \\quad \\Rightarrow \\quad w_P = [(XP)^T XP]^{-1} (XP)^T y\n",
    "$$\n",
    "\n",
    "How would $w$ and $w_P$ be linked if you simplify the formula for $w_P$ above? \n",
    "\n",
    "What would be predicted values with $w_P$? \n",
    "\n",
    "What does that mean for the quality of linear regression if you measure it with RMSE?\n",
    "\n",
    "Check Appendix B Properties of Matrices in the end of the notebook. There are useful formulas in there!\n",
    "\n",
    "No code is necessary in this section, only analytical explanation!"
   ]
  },
  {
   "cell_type": "markdown",
   "metadata": {},
   "source": [
    "**Answer**"
   ]
  },
  {
   "cell_type": "markdown",
   "metadata": {},
   "source": [
    "**Analytical proof**"
   ]
  },
  {
   "cell_type": "markdown",
   "metadata": {},
   "source": [
    "Given weights denote as $w_P$:\n",
    "\n",
    "$$w_P = [(XP)^T XP]^{-1} (XP)^T y$$\n",
    "\n",
    "we can simplify the terms by.\n",
    "\n",
    "Rearranging the terms inside the square brackets:\n",
    "\n",
    "$$w_P = [P^T X^T XP]^{-1} (XP)^T y$$\n",
    "\n",
    "expanding $(XP)^T$:\n",
    "\n",
    "$$w_P = [P^T X^T XP]^{-1} P^T X^T y$$\n",
    "\n",
    "Expanding the term inside the square brackets:\n",
    "\n",
    "$$w_P = P^{-1} (X^T X)^{-1} (P^T)^{-1} P^T X^T y$$\n",
    "\n",
    "Multiplicative identity:\n",
    "\n",
    "$$(P^T)^{-1} P^T = I$$\n",
    "\n",
    "Therefore:\n",
    "\n",
    "$$w_P =  P^{-1} (X^T X)^{-1} I X^T y$$\n",
    "\n",
    "Given weights:\n",
    "\n",
    "$$w = (X^T X)^{-1} X^T y$$\n",
    "\n",
    "Substitute w in the equation:\n",
    "\n",
    "$$w_P =  P^{-1} w$$\n",
    "\n",
    "Given Predicted Values:\n",
    "\n",
    "$$\\hat{y} = X w$$\n",
    "\n",
    "predicted values $\\hat{y}_P$:\n",
    "\n",
    "$$\\hat{y}_P = X_P w_P$$\n",
    "\n",
    "substitute $w_P$:\n",
    "\n",
    "$$\\hat{y}_P = X_P(P^{-1} w)$$\n",
    "\n",
    "obsfuscating the input X:\n",
    "\n",
    "$$X_P = XP$$\n",
    "\n",
    "substitute $X_P$:\n",
    "\n",
    "$$\\hat{y}_P = XPP^{-1} w$$\n",
    "\n",
    "multiplicative identity:\n",
    "\n",
    "$$\\hat{y}_P = XPP^{-1}w = XIw$$\n",
    "\n",
    "Therefore:\n",
    "\n",
    "$$\\hat{y} = \\hat{y}_P = Xw$$\n",
    "\n",
    "Herefore, $\\hat{y} = \\hat{y}_P$, meaning the predicted values remain the same."
   ]
  },
  {
   "cell_type": "markdown",
   "metadata": {},
   "source": [
    "<div class=\"alert alert-block alert-danger\">\n",
    "<b>Reviewer's comment</b> <a class=\"tocSkip\"></a>\n",
    "\n",
    "Some of steps here is incorrect and so the result is also not correct\n",
    "\n",
    "1. The 4-th equation is not correct. Check the 6-th rule in the appendix. (AB)^(-1) = B^(-1)A^(-1) but not (AB)^(-1) = A^(-1)B^(-1). After this fix you should adjust the next equations as well. There is another mistake but I think you will see it after this fix.\n",
    "2. y_p = XP^(-1)w is definitely not the same as y = Xw. So you can't make such conclusion that \"the predicted values remain the same\". When you tried to calculate y_p you forgot that instead of X you should use XP. So the the formula should be y_p = XP(P^(-1)w). When you make this fix, I think you will get the result that y=y_p.\n",
    "\n",
    "</div>"
   ]
  },
  {
   "cell_type": "markdown",
   "metadata": {},
   "source": [
    "<div class=\"alert alert-block alert-info\">\n",
    "<b>Student answer.</b> <a class=\"tocSkip\"></a>\n",
    "\n",
    "Updated\n",
    "</div>"
   ]
  },
  {
   "cell_type": "markdown",
   "metadata": {},
   "source": [
    "<div class=\"alert alert-block alert-success\">\n",
    "<b>Reviewer's comment</b> <a class=\"tocSkip\"></a>\n",
    "\n",
    "Good job! Now everything is fine. Good luck with the next projects!\n",
    "</div>"
   ]
  },
  {
   "cell_type": "markdown",
   "metadata": {},
   "source": [
    "## Test Linear Regression With Data Obfuscation"
   ]
  },
  {
   "cell_type": "markdown",
   "metadata": {},
   "source": [
    "Now, let's prove Linear Regression can work computationally with the chosen obfuscation transformation.\n",
    "\n",
    "Build a procedure or a class that runs Linear Regression optionally with the obfuscation. You can use either a ready implementation of Linear Regression from sciki-learn or your own.\n",
    "\n",
    "Run Linear Regression for the original data and the obfuscated one, compare the predicted values and the RMSE, $R^2$ metric values. Is there any difference?"
   ]
  },
  {
   "cell_type": "markdown",
   "metadata": {},
   "source": [
    "**Procedure**\n",
    "\n",
    "- Create a square matrix $P$ of random numbers.\n",
    "- Check that it is invertible. If not, repeat the first point until we get an invertible matrix.\n",
    "- Draw $P$ from a uniform distribution.\n",
    "- Use $XP$ as the new feature matrix"
   ]
  },
  {
   "cell_type": "code",
   "execution_count": 52,
   "metadata": {},
   "outputs": [],
   "source": [
    "def generate_square_matrix(num_features, seed=42):\n",
    "    rng = np.random.default_rng(seed=seed)\n",
    "    return rng.random(size=(num_features, num_features))"
   ]
  },
  {
   "cell_type": "code",
   "execution_count": 53,
   "metadata": {},
   "outputs": [],
   "source": [
    "P = generate_square_matrix(4, seed=1234)"
   ]
  },
  {
   "cell_type": "code",
   "execution_count": 54,
   "metadata": {},
   "outputs": [],
   "source": [
    "def is_invertible(P):\n",
    "    return np.allclose(np.dot(P, np.linalg.inv(P)), np.dot(np.linalg.inv(P), P))"
   ]
  },
  {
   "cell_type": "code",
   "execution_count": 55,
   "metadata": {},
   "outputs": [
    {
     "data": {
      "text/plain": [
       "True"
      ]
     },
     "execution_count": 55,
     "metadata": {},
     "output_type": "execute_result"
    }
   ],
   "source": [
    "is_invertible(P)"
   ]
  },
  {
   "cell_type": "code",
   "execution_count": 56,
   "metadata": {},
   "outputs": [
    {
     "name": "stdout",
     "output_type": "stream",
     "text": [
      "[-0.97736747 -0.08612857 -0.09935604  0.15099254  0.06991959]\n",
      "RMSE: 0.36\n",
      "R2: 0.66\n"
     ]
    }
   ],
   "source": [
    "X = df[['age', 'gender', 'income', 'family_members']].to_numpy()\n",
    "y = df['insurance_benefits'].to_numpy()\n",
    "\n",
    "X_train, X_test, y_train, y_test = train_test_split(np.dot(X, P), y, test_size=0.3, random_state=12345)\n",
    "\n",
    "lr = MyLinearRegression()\n",
    "\n",
    "lr.fit(X_train, y_train)\n",
    "print(lr.weights)\n",
    "\n",
    "y_pred = lr.predict(X_test)\n",
    "eval_regressor(y_test, y_pred)"
   ]
  },
  {
   "cell_type": "code",
   "execution_count": 57,
   "metadata": {},
   "outputs": [
    {
     "name": "stdout",
     "output_type": "stream",
     "text": [
      "[-0.97736673  0.36150371 -1.23349037  3.3150945  -2.35958849]\n",
      "RMSE: 0.36\n",
      "R2: 0.66\n"
     ]
    }
   ],
   "source": [
    "X = df_scaled[['age', 'gender', 'income', 'family_members']].to_numpy()\n",
    "y = df_scaled['insurance_benefits'].to_numpy()\n",
    "\n",
    "X_train, X_test, y_train, y_test = train_test_split(np.dot(X, P), y, test_size=0.3, random_state=12345)\n",
    "\n",
    "lr = MyLinearRegression()\n",
    "\n",
    "lr.fit(X_train, y_train)\n",
    "print(lr.weights)\n",
    "\n",
    "y_pred = lr.predict(X_test)\n",
    "eval_regressor(y_test, y_pred)"
   ]
  },
  {
   "cell_type": "markdown",
   "metadata": {},
   "source": [
    "The results show that even after obfuscating the data, the RMSE and R2 score from the Linear Regression model are identical."
   ]
  },
  {
   "cell_type": "markdown",
   "metadata": {},
   "source": [
    "<div class=\"alert alert-block alert-success\">\n",
    "<b>Reviewer's comment</b> <a class=\"tocSkip\"></a>\n",
    "\n",
    "Excellent!\n",
    "</div>"
   ]
  },
  {
   "cell_type": "markdown",
   "metadata": {},
   "source": [
    "# Conclusions"
   ]
  },
  {
   "cell_type": "markdown",
   "metadata": {},
   "source": [
    "We used KNearestNeighbhors to find the a customer close to a given customer and shows that the solution was improved with scaling the data, and using the Euclidean metric to improve the predictions.\n",
    "\n",
    "We have also built models to help the marketing team predict whether a customer will likely recieve insurance benefits or not. And, the resulting model with scaled data, performed very well compared to a dummy model. \n",
    "\n",
    "The resulting model produced had an F1 score of 92% on the validation set.\n",
    "\n",
    "We have also built a LinearRegression model on both scaled and unscaled data, to predict the number of insurance benefits a new customer would receive. \n",
    "\n",
    "The model produced a moderately high R2 score 66%. What we have observed is that scaling didn't impact the results.\n",
    "\n",
    "We obfuscated the data, and showed analytically that there is no difference between the obfuscated data and the original data.\n",
    "\n",
    "We also proved this computationally, by building a LinearRegression model using the obfuscated data, and the resulting RMSE and R2 scores were identical to that obtained with modeling the original data."
   ]
  },
  {
   "cell_type": "markdown",
   "metadata": {},
   "source": [
    "<div class=\"alert alert-block alert-success\">\n",
    "<b>Reviewer's comment</b> <a class=\"tocSkip\"></a>\n",
    "\n",
    "Well done!\n",
    "</div>"
   ]
  },
  {
   "cell_type": "markdown",
   "metadata": {},
   "source": [
    "# Checklist"
   ]
  },
  {
   "cell_type": "markdown",
   "metadata": {},
   "source": [
    "Type 'x' to check. Then press Shift+Enter."
   ]
  },
  {
   "cell_type": "markdown",
   "metadata": {},
   "source": [
    "- [x]  Jupyter Notebook is open\n",
    "- [x]  Code is error free\n",
    "- [x]  The cells are arranged in order of logic and execution\n",
    "- [x]  Task 1 has been performed\n",
    "    - [x]  There is the procedure that can return k similar customers for a given one\n",
    "    - [x]  The procedure is tested for all four proposed combinations\n",
    "    - [x]  The questions re the scaling/distances are answered\n",
    "- [x]  Task 2 has been performed\n",
    "    - [x]  The random classification model is built and tested for all for probability levels\n",
    "    - [x]  The kNN classification model is built and tested for both the original data and the scaled one, the F1 metric is calculated.\n",
    "- [x]  Task 3 has been performed\n",
    "    - [x]  The linear tegression solution is implemented with matrix operations.\n",
    "    - [x]  RMSE is calculated for the implemented solution.\n",
    "- [x]  Task 4 has been performed\n",
    "    - [x]  The data is obfuscated with a random and invertible matrix P\n",
    "    - [x]  The obfuscated data is recoved, few examples are printed out\n",
    "    - [x]  The analytical proof that the transformation does not affect RMSE is provided \n",
    "    - [x]  The computational proof that the transformation does not affect RMSE is provided\n",
    "- [x]  Conclusions have been made"
   ]
  },
  {
   "cell_type": "markdown",
   "metadata": {},
   "source": [
    "# Appendices \n",
    "\n",
    "## Appendix A: Writing Formulas in Jupyter Notebooks"
   ]
  },
  {
   "cell_type": "markdown",
   "metadata": {},
   "source": [
    "You can write formulas in your Jupyter Notebook in a markup language provided by a high-quality publishing system called $\\LaTeX$ (pronounced \"Lah-tech\"), and they will look like formulas in textbooks.\n",
    "\n",
    "To put a formula in a text, put the dollar sign (\\\\$) before and after the formula's text e.g. $\\frac{1}{2} \\times \\frac{3}{2} = \\frac{3}{4}$ or $y = x^2, x \\ge 1$.\n",
    "\n",
    "If a formula should be in its own paragraph, put the double dollar sign (\\\\$\\\\$) before and after the formula text e.g.\n",
    "\n",
    "$$\n",
    "\\bar{x} = \\frac{1}{n}\\sum_{i=1}^{n} x_i.\n",
    "$$\n",
    "\n",
    "The markup language of [LaTeX](https://en.wikipedia.org/wiki/LaTeX) is very popular among people who use formulas in their articles, books and texts. It can be complex but its basics are easy. Check this two page [cheatsheet](http://tug.ctan.org/info/undergradmath/undergradmath.pdf) for learning how to compose the most common formulas."
   ]
  },
  {
   "cell_type": "markdown",
   "metadata": {},
   "source": [
    "## Appendix B: Properties of Matrices"
   ]
  },
  {
   "cell_type": "markdown",
   "metadata": {},
   "source": [
    "Matrices have many properties in Linear Algebra. A few of them are listed here which can help with the analytical proof in this project."
   ]
  },
  {
   "cell_type": "markdown",
   "metadata": {},
   "source": [
    "<table>\n",
    "<tr>\n",
    "<td>Distributivity</td><td>$A(B+C)=AB+AC$</td>\n",
    "</tr>\n",
    "<tr>\n",
    "<td>Non-commutativity</td><td>$AB \\neq BA$</td>\n",
    "</tr>\n",
    "<tr>\n",
    "<td>Associative property of multiplication</td><td>$(AB)C = A(BC)$</td>\n",
    "</tr>\n",
    "<tr>\n",
    "<td>Multiplicative identity property</td><td>$IA = AI = A$</td>\n",
    "</tr>\n",
    "<tr>\n",
    "<td></td><td>$A^{-1}A = AA^{-1} = I$\n",
    "</td>\n",
    "</tr>    \n",
    "<tr>\n",
    "<td></td><td>$(AB)^{-1} = B^{-1}A^{-1}$</td>\n",
    "</tr>    \n",
    "<tr>\n",
    "<td>Reversivity of the transpose of a product of matrices,</td><td>$(AB)^T = B^TA^T$</td>\n",
    "</tr>    \n",
    "</table>"
   ]
  }
 ],
 "metadata": {
  "ExecuteTimeLog": [
   {
    "duration": 5537,
    "start_time": "2024-07-03T18:47:45.224Z"
   },
   {
    "duration": 19,
    "start_time": "2024-07-03T18:47:50.765Z"
   },
   {
    "duration": 6,
    "start_time": "2024-07-03T18:47:50.787Z"
   },
   {
    "duration": 41,
    "start_time": "2024-07-03T18:47:50.797Z"
   },
   {
    "duration": 17,
    "start_time": "2024-07-03T18:47:52.128Z"
   },
   {
    "duration": 6,
    "start_time": "2024-07-03T18:47:55.117Z"
   },
   {
    "duration": 5363,
    "start_time": "2024-07-09T21:29:37.383Z"
   },
   {
    "duration": 20,
    "start_time": "2024-07-09T21:29:42.751Z"
   },
   {
    "duration": 5,
    "start_time": "2024-07-09T21:29:42.775Z"
   },
   {
    "duration": 22,
    "start_time": "2024-07-09T21:29:43.607Z"
   },
   {
    "duration": 15,
    "start_time": "2024-07-09T21:29:45.020Z"
   },
   {
    "duration": 5,
    "start_time": "2024-07-09T21:29:46.063Z"
   },
   {
    "duration": 3,
    "start_time": "2024-07-09T21:29:47.528Z"
   },
   {
    "duration": 30,
    "start_time": "2024-07-09T21:30:01.417Z"
   },
   {
    "duration": 10,
    "start_time": "2024-07-09T21:30:13.287Z"
   },
   {
    "duration": 9,
    "start_time": "2024-07-09T21:30:19.445Z"
   },
   {
    "duration": 16,
    "start_time": "2024-07-09T21:30:34.607Z"
   },
   {
    "duration": 5,
    "start_time": "2024-07-09T21:30:54.521Z"
   },
   {
    "duration": 6,
    "start_time": "2024-07-09T21:30:55.456Z"
   },
   {
    "duration": 6,
    "start_time": "2024-07-09T21:30:56.808Z"
   },
   {
    "duration": 5237,
    "start_time": "2024-07-09T21:31:07.698Z"
   },
   {
    "duration": 14,
    "start_time": "2024-07-09T21:31:28.287Z"
   },
   {
    "duration": 549,
    "start_time": "2024-07-09T22:12:37.366Z"
   },
   {
    "duration": 7,
    "start_time": "2024-07-09T22:13:02.108Z"
   },
   {
    "duration": 536,
    "start_time": "2024-07-09T22:13:07.262Z"
   },
   {
    "duration": 519,
    "start_time": "2024-07-09T22:13:13.237Z"
   },
   {
    "duration": 501,
    "start_time": "2024-07-09T22:13:21.653Z"
   },
   {
    "duration": 4,
    "start_time": "2024-07-09T22:32:31.413Z"
   },
   {
    "duration": 10,
    "start_time": "2024-07-09T22:32:32.440Z"
   },
   {
    "duration": 14,
    "start_time": "2024-07-09T22:32:34.364Z"
   },
   {
    "duration": 6,
    "start_time": "2024-07-09T22:32:59.998Z"
   },
   {
    "duration": 14,
    "start_time": "2024-07-09T22:33:01.499Z"
   },
   {
    "duration": 15,
    "start_time": "2024-07-09T22:33:02.597Z"
   },
   {
    "duration": 5,
    "start_time": "2024-07-09T22:33:04.588Z"
   },
   {
    "duration": 4,
    "start_time": "2024-07-09T22:33:05.315Z"
   },
   {
    "duration": 59,
    "start_time": "2024-07-09T22:33:06.001Z"
   },
   {
    "duration": 5,
    "start_time": "2024-07-09T22:33:31.020Z"
   },
   {
    "duration": 31,
    "start_time": "2024-07-09T22:33:37.150Z"
   },
   {
    "duration": 4,
    "start_time": "2024-07-09T22:33:38.532Z"
   },
   {
    "duration": 58,
    "start_time": "2024-07-09T22:33:39.552Z"
   },
   {
    "duration": 6,
    "start_time": "2024-07-09T22:34:39.494Z"
   },
   {
    "duration": 6,
    "start_time": "2024-07-09T22:35:00.737Z"
   },
   {
    "duration": 11,
    "start_time": "2024-07-09T22:35:02.597Z"
   },
   {
    "duration": 4,
    "start_time": "2024-07-09T22:35:19.412Z"
   },
   {
    "duration": 5,
    "start_time": "2024-07-09T22:35:21.962Z"
   },
   {
    "duration": 38,
    "start_time": "2024-07-09T22:35:34.912Z"
   },
   {
    "duration": 12,
    "start_time": "2024-07-09T22:36:27.006Z"
   },
   {
    "duration": 8,
    "start_time": "2024-07-09T22:36:31.839Z"
   },
   {
    "duration": 12,
    "start_time": "2024-07-09T22:36:38.017Z"
   },
   {
    "duration": 6,
    "start_time": "2024-07-09T22:36:44.566Z"
   },
   {
    "duration": 5,
    "start_time": "2024-07-09T22:36:55.727Z"
   },
   {
    "duration": 7,
    "start_time": "2024-07-09T22:36:59.457Z"
   },
   {
    "duration": 824,
    "start_time": "2024-07-09T22:37:21.670Z"
   },
   {
    "duration": 946,
    "start_time": "2024-07-09T22:37:41.126Z"
   },
   {
    "duration": 5,
    "start_time": "2024-07-09T22:37:56.601Z"
   },
   {
    "duration": 11,
    "start_time": "2024-07-09T22:37:57.754Z"
   },
   {
    "duration": 7,
    "start_time": "2024-07-09T22:37:59.096Z"
   },
   {
    "duration": 913,
    "start_time": "2024-07-09T22:38:07.149Z"
   },
   {
    "duration": 7,
    "start_time": "2024-07-09T22:46:39.132Z"
   },
   {
    "duration": 5,
    "start_time": "2024-07-09T22:46:40.143Z"
   },
   {
    "duration": 58,
    "start_time": "2024-07-09T22:46:41.265Z"
   },
   {
    "duration": 5,
    "start_time": "2024-07-09T22:46:52.092Z"
   },
   {
    "duration": 15,
    "start_time": "2024-07-09T22:46:59.219Z"
   },
   {
    "duration": 12,
    "start_time": "2024-07-09T22:47:00.889Z"
   },
   {
    "duration": 4,
    "start_time": "2024-07-09T22:47:38.048Z"
   },
   {
    "duration": 5,
    "start_time": "2024-07-09T22:47:38.843Z"
   },
   {
    "duration": 5,
    "start_time": "2024-07-09T22:47:40.343Z"
   },
   {
    "duration": 7,
    "start_time": "2024-07-09T22:47:41.848Z"
   },
   {
    "duration": 6,
    "start_time": "2024-07-09T22:48:01.100Z"
   },
   {
    "duration": 7,
    "start_time": "2024-07-09T22:48:08.616Z"
   },
   {
    "duration": 16,
    "start_time": "2024-07-09T22:48:36.612Z"
   },
   {
    "duration": 17,
    "start_time": "2024-07-09T22:49:23.447Z"
   },
   {
    "duration": 14,
    "start_time": "2024-07-09T22:49:24.447Z"
   },
   {
    "duration": 18,
    "start_time": "2024-07-09T22:49:25.266Z"
   },
   {
    "duration": 4,
    "start_time": "2024-07-10T06:25:58.935Z"
   },
   {
    "duration": 4,
    "start_time": "2024-07-10T06:25:59.910Z"
   },
   {
    "duration": 4,
    "start_time": "2024-07-10T06:26:01.248Z"
   },
   {
    "duration": 11,
    "start_time": "2024-07-10T06:26:02.551Z"
   },
   {
    "duration": 12,
    "start_time": "2024-07-10T06:26:03.730Z"
   },
   {
    "duration": 11,
    "start_time": "2024-07-10T06:26:05.352Z"
   },
   {
    "duration": 1627,
    "start_time": "2024-07-10T06:30:28.133Z"
   },
   {
    "duration": 11,
    "start_time": "2024-07-10T06:30:29.763Z"
   },
   {
    "duration": 14,
    "start_time": "2024-07-10T06:30:29.777Z"
   },
   {
    "duration": 18,
    "start_time": "2024-07-10T06:30:29.795Z"
   },
   {
    "duration": 15,
    "start_time": "2024-07-10T06:30:29.816Z"
   },
   {
    "duration": 5,
    "start_time": "2024-07-10T06:30:29.834Z"
   },
   {
    "duration": 49,
    "start_time": "2024-07-10T06:30:29.843Z"
   },
   {
    "duration": 32,
    "start_time": "2024-07-10T06:30:29.896Z"
   },
   {
    "duration": 9,
    "start_time": "2024-07-10T06:30:29.932Z"
   },
   {
    "duration": 49,
    "start_time": "2024-07-10T06:30:29.947Z"
   },
   {
    "duration": 7,
    "start_time": "2024-07-10T06:30:30.000Z"
   },
   {
    "duration": 8,
    "start_time": "2024-07-10T06:30:30.011Z"
   },
   {
    "duration": 6,
    "start_time": "2024-07-10T06:30:30.022Z"
   },
   {
    "duration": 5160,
    "start_time": "2024-07-10T06:30:30.031Z"
   },
   {
    "duration": 485,
    "start_time": "2024-07-10T06:30:35.195Z"
   },
   {
    "duration": 9,
    "start_time": "2024-07-10T06:30:35.683Z"
   },
   {
    "duration": 7,
    "start_time": "2024-07-10T06:30:35.695Z"
   },
   {
    "duration": 15,
    "start_time": "2024-07-10T06:30:35.705Z"
   },
   {
    "duration": 15,
    "start_time": "2024-07-10T06:30:35.723Z"
   },
   {
    "duration": 49,
    "start_time": "2024-07-10T06:30:35.741Z"
   },
   {
    "duration": 5,
    "start_time": "2024-07-10T06:30:35.794Z"
   },
   {
    "duration": 33,
    "start_time": "2024-07-10T06:30:35.803Z"
   },
   {
    "duration": 5,
    "start_time": "2024-07-10T06:30:35.839Z"
   },
   {
    "duration": 96,
    "start_time": "2024-07-10T06:30:35.848Z"
   },
   {
    "duration": 6,
    "start_time": "2024-07-10T06:30:35.947Z"
   },
   {
    "duration": 35,
    "start_time": "2024-07-10T06:30:35.957Z"
   },
   {
    "duration": 5,
    "start_time": "2024-07-10T06:30:35.995Z"
   },
   {
    "duration": 5,
    "start_time": "2024-07-10T06:30:36.011Z"
   },
   {
    "duration": 38,
    "start_time": "2024-07-10T06:30:36.019Z"
   },
   {
    "duration": 12,
    "start_time": "2024-07-10T06:30:36.091Z"
   },
   {
    "duration": 8,
    "start_time": "2024-07-10T06:30:36.106Z"
   },
   {
    "duration": 6,
    "start_time": "2024-07-10T06:30:36.118Z"
   },
   {
    "duration": 977,
    "start_time": "2024-07-10T06:30:36.127Z"
   },
   {
    "duration": 5,
    "start_time": "2024-07-10T06:30:37.107Z"
   },
   {
    "duration": 13,
    "start_time": "2024-07-10T06:30:37.116Z"
   },
   {
    "duration": 7,
    "start_time": "2024-07-10T06:30:37.133Z"
   },
   {
    "duration": 1112,
    "start_time": "2024-07-10T06:30:37.143Z"
   },
   {
    "duration": 8,
    "start_time": "2024-07-10T06:30:38.258Z"
   },
   {
    "duration": 24,
    "start_time": "2024-07-10T06:30:38.269Z"
   },
   {
    "duration": 17,
    "start_time": "2024-07-10T06:30:38.296Z"
   },
   {
    "duration": 80,
    "start_time": "2024-07-10T06:30:38.316Z"
   },
   {
    "duration": 5,
    "start_time": "2024-07-10T06:30:38.399Z"
   },
   {
    "duration": 5,
    "start_time": "2024-07-10T06:30:38.408Z"
   },
   {
    "duration": 86,
    "start_time": "2024-07-10T06:30:38.415Z"
   },
   {
    "duration": 8,
    "start_time": "2024-07-10T06:30:38.504Z"
   },
   {
    "duration": 82,
    "start_time": "2024-07-10T06:30:38.515Z"
   },
   {
    "duration": 90,
    "start_time": "2024-07-10T06:30:38.602Z"
   },
   {
    "duration": 102,
    "start_time": "2024-07-10T06:30:38.694Z"
   },
   {
    "duration": 94,
    "start_time": "2024-07-10T06:30:38.798Z"
   },
   {
    "duration": 13,
    "start_time": "2024-07-10T06:30:38.895Z"
   },
   {
    "duration": 19,
    "start_time": "2024-07-10T06:30:38.912Z"
   },
   {
    "duration": 9,
    "start_time": "2024-07-10T06:30:38.992Z"
   },
   {
    "duration": 4,
    "start_time": "2024-07-10T06:30:39.005Z"
   },
   {
    "duration": 6,
    "start_time": "2024-07-10T06:30:39.012Z"
   },
   {
    "duration": 18,
    "start_time": "2024-07-10T06:30:39.093Z"
   },
   {
    "duration": 12,
    "start_time": "2024-07-10T06:30:39.113Z"
   },
   {
    "duration": 13,
    "start_time": "2024-07-10T06:30:39.193Z"
   },
   {
    "duration": 4,
    "start_time": "2024-07-10T06:34:27.785Z"
   },
   {
    "duration": 1636,
    "start_time": "2024-07-10T06:35:21.656Z"
   },
   {
    "duration": 11,
    "start_time": "2024-07-10T06:35:23.296Z"
   },
   {
    "duration": 4,
    "start_time": "2024-07-10T06:35:23.310Z"
   },
   {
    "duration": 18,
    "start_time": "2024-07-10T06:35:23.318Z"
   },
   {
    "duration": 14,
    "start_time": "2024-07-10T06:35:23.339Z"
   },
   {
    "duration": 7,
    "start_time": "2024-07-10T06:35:23.394Z"
   },
   {
    "duration": 4,
    "start_time": "2024-07-10T06:35:23.404Z"
   },
   {
    "duration": 28,
    "start_time": "2024-07-10T06:35:23.411Z"
   },
   {
    "duration": 47,
    "start_time": "2024-07-10T06:35:23.443Z"
   },
   {
    "duration": 17,
    "start_time": "2024-07-10T06:35:23.496Z"
   },
   {
    "duration": 6,
    "start_time": "2024-07-10T06:35:23.516Z"
   },
   {
    "duration": 8,
    "start_time": "2024-07-10T06:35:23.525Z"
   },
   {
    "duration": 6,
    "start_time": "2024-07-10T06:35:23.536Z"
   },
   {
    "duration": 5054,
    "start_time": "2024-07-10T06:35:23.545Z"
   },
   {
    "duration": 461,
    "start_time": "2024-07-10T06:35:28.602Z"
   },
   {
    "duration": 5,
    "start_time": "2024-07-10T06:35:29.066Z"
   },
   {
    "duration": 7,
    "start_time": "2024-07-10T06:35:29.092Z"
   },
   {
    "duration": 15,
    "start_time": "2024-07-10T06:35:29.102Z"
   },
   {
    "duration": 15,
    "start_time": "2024-07-10T06:35:29.121Z"
   },
   {
    "duration": 5,
    "start_time": "2024-07-10T06:35:29.139Z"
   },
   {
    "duration": 45,
    "start_time": "2024-07-10T06:35:29.147Z"
   },
   {
    "duration": 29,
    "start_time": "2024-07-10T06:35:29.195Z"
   },
   {
    "duration": 4,
    "start_time": "2024-07-10T06:35:29.228Z"
   },
   {
    "duration": 93,
    "start_time": "2024-07-10T06:35:29.235Z"
   },
   {
    "duration": 6,
    "start_time": "2024-07-10T06:35:29.331Z"
   },
   {
    "duration": 7,
    "start_time": "2024-07-10T06:35:29.341Z"
   },
   {
    "duration": 5,
    "start_time": "2024-07-10T06:35:29.351Z"
   },
   {
    "duration": 4,
    "start_time": "2024-07-10T06:35:29.398Z"
   },
   {
    "duration": 39,
    "start_time": "2024-07-10T06:35:29.406Z"
   },
   {
    "duration": 45,
    "start_time": "2024-07-10T06:35:29.448Z"
   },
   {
    "duration": 7,
    "start_time": "2024-07-10T06:35:29.496Z"
   },
   {
    "duration": 6,
    "start_time": "2024-07-10T06:35:29.507Z"
   },
   {
    "duration": 803,
    "start_time": "2024-07-10T06:35:29.515Z"
   },
   {
    "duration": 7,
    "start_time": "2024-07-10T06:35:30.321Z"
   },
   {
    "duration": 13,
    "start_time": "2024-07-10T06:35:30.331Z"
   },
   {
    "duration": 48,
    "start_time": "2024-07-10T06:35:30.346Z"
   },
   {
    "duration": 1121,
    "start_time": "2024-07-10T06:35:30.397Z"
   },
   {
    "duration": 9,
    "start_time": "2024-07-10T06:35:31.522Z"
   },
   {
    "duration": 11,
    "start_time": "2024-07-10T06:35:31.537Z"
   },
   {
    "duration": 43,
    "start_time": "2024-07-10T06:35:31.551Z"
   },
   {
    "duration": 91,
    "start_time": "2024-07-10T06:35:31.602Z"
   },
   {
    "duration": 8,
    "start_time": "2024-07-10T06:35:31.699Z"
   },
   {
    "duration": 80,
    "start_time": "2024-07-10T06:35:31.711Z"
   },
   {
    "duration": 8,
    "start_time": "2024-07-10T06:35:31.794Z"
   },
   {
    "duration": 9,
    "start_time": "2024-07-10T06:35:31.806Z"
   },
   {
    "duration": 76,
    "start_time": "2024-07-10T06:35:31.818Z"
   },
   {
    "duration": 7,
    "start_time": "2024-07-10T06:35:31.897Z"
   },
   {
    "duration": 95,
    "start_time": "2024-07-10T06:35:31.907Z"
   },
   {
    "duration": 86,
    "start_time": "2024-07-10T06:35:32.006Z"
   },
   {
    "duration": 15,
    "start_time": "2024-07-10T06:35:32.096Z"
   },
   {
    "duration": 82,
    "start_time": "2024-07-10T06:35:32.114Z"
   },
   {
    "duration": 4,
    "start_time": "2024-07-10T06:35:32.199Z"
   },
   {
    "duration": 4,
    "start_time": "2024-07-10T06:35:32.206Z"
   },
   {
    "duration": 79,
    "start_time": "2024-07-10T06:35:32.213Z"
   },
   {
    "duration": 7,
    "start_time": "2024-07-10T06:35:32.296Z"
   },
   {
    "duration": 12,
    "start_time": "2024-07-10T06:35:32.307Z"
   },
   {
    "duration": 76,
    "start_time": "2024-07-10T06:35:32.322Z"
   },
   {
    "duration": 1657,
    "start_time": "2024-07-10T06:37:29.651Z"
   },
   {
    "duration": 11,
    "start_time": "2024-07-10T06:37:31.311Z"
   },
   {
    "duration": 5,
    "start_time": "2024-07-10T06:37:31.325Z"
   },
   {
    "duration": 20,
    "start_time": "2024-07-10T06:37:31.335Z"
   },
   {
    "duration": 15,
    "start_time": "2024-07-10T06:37:31.390Z"
   },
   {
    "duration": 5,
    "start_time": "2024-07-10T06:37:31.408Z"
   },
   {
    "duration": 4,
    "start_time": "2024-07-10T06:37:31.417Z"
   },
   {
    "duration": 67,
    "start_time": "2024-07-10T06:37:31.425Z"
   },
   {
    "duration": 10,
    "start_time": "2024-07-10T06:37:31.495Z"
   },
   {
    "duration": 14,
    "start_time": "2024-07-10T06:37:31.511Z"
   },
   {
    "duration": 6,
    "start_time": "2024-07-10T06:37:31.528Z"
   },
   {
    "duration": 56,
    "start_time": "2024-07-10T06:37:31.537Z"
   },
   {
    "duration": 8,
    "start_time": "2024-07-10T06:37:31.596Z"
   },
   {
    "duration": 5132,
    "start_time": "2024-07-10T06:37:31.607Z"
   },
   {
    "duration": 540,
    "start_time": "2024-07-10T06:37:36.743Z"
   },
   {
    "duration": 4,
    "start_time": "2024-07-10T06:37:37.291Z"
   },
   {
    "duration": 7,
    "start_time": "2024-07-10T06:37:37.299Z"
   },
   {
    "duration": 15,
    "start_time": "2024-07-10T06:37:37.310Z"
   },
   {
    "duration": 16,
    "start_time": "2024-07-10T06:37:37.328Z"
   },
   {
    "duration": 46,
    "start_time": "2024-07-10T06:37:37.348Z"
   },
   {
    "duration": 4,
    "start_time": "2024-07-10T06:37:37.398Z"
   },
   {
    "duration": 32,
    "start_time": "2024-07-10T06:37:37.405Z"
   },
   {
    "duration": 5,
    "start_time": "2024-07-10T06:37:37.441Z"
   },
   {
    "duration": 60,
    "start_time": "2024-07-10T06:37:37.492Z"
   },
   {
    "duration": 5,
    "start_time": "2024-07-10T06:37:37.556Z"
   },
   {
    "duration": 8,
    "start_time": "2024-07-10T06:37:37.591Z"
   },
   {
    "duration": 6,
    "start_time": "2024-07-10T06:37:37.602Z"
   },
   {
    "duration": 5,
    "start_time": "2024-07-10T06:37:37.617Z"
   },
   {
    "duration": 80,
    "start_time": "2024-07-10T06:37:37.627Z"
   },
   {
    "duration": 13,
    "start_time": "2024-07-10T06:37:37.713Z"
   },
   {
    "duration": 7,
    "start_time": "2024-07-10T06:37:37.728Z"
   },
   {
    "duration": 5,
    "start_time": "2024-07-10T06:37:37.739Z"
   },
   {
    "duration": 890,
    "start_time": "2024-07-10T06:37:37.749Z"
   },
   {
    "duration": 5,
    "start_time": "2024-07-10T06:37:38.643Z"
   },
   {
    "duration": 47,
    "start_time": "2024-07-10T06:37:38.653Z"
   },
   {
    "duration": 8,
    "start_time": "2024-07-10T06:37:38.702Z"
   },
   {
    "duration": 955,
    "start_time": "2024-07-10T06:37:38.714Z"
   },
   {
    "duration": 18,
    "start_time": "2024-07-10T06:37:39.672Z"
   },
   {
    "duration": 6,
    "start_time": "2024-07-10T06:37:39.694Z"
   },
   {
    "duration": 13,
    "start_time": "2024-07-10T06:37:39.703Z"
   },
   {
    "duration": 75,
    "start_time": "2024-07-10T06:37:39.719Z"
   },
   {
    "duration": 8,
    "start_time": "2024-07-10T06:37:39.798Z"
   },
   {
    "duration": 5,
    "start_time": "2024-07-10T06:37:39.810Z"
   },
   {
    "duration": 5,
    "start_time": "2024-07-10T06:37:39.893Z"
   },
   {
    "duration": 10,
    "start_time": "2024-07-10T06:37:39.903Z"
   },
   {
    "duration": 9,
    "start_time": "2024-07-10T06:37:39.991Z"
   },
   {
    "duration": 8,
    "start_time": "2024-07-10T06:37:40.004Z"
   },
   {
    "duration": 91,
    "start_time": "2024-07-10T06:37:40.016Z"
   },
   {
    "duration": 84,
    "start_time": "2024-07-10T06:37:40.111Z"
   },
   {
    "duration": 16,
    "start_time": "2024-07-10T06:37:40.198Z"
   },
   {
    "duration": 89,
    "start_time": "2024-07-10T06:37:40.218Z"
   },
   {
    "duration": 79,
    "start_time": "2024-07-10T06:37:40.310Z"
   },
   {
    "duration": 4,
    "start_time": "2024-07-10T06:37:40.393Z"
   },
   {
    "duration": 11,
    "start_time": "2024-07-10T06:37:40.402Z"
   },
   {
    "duration": 10,
    "start_time": "2024-07-10T06:37:40.417Z"
   },
   {
    "duration": 13,
    "start_time": "2024-07-10T06:37:40.492Z"
   },
   {
    "duration": 86,
    "start_time": "2024-07-10T06:37:40.508Z"
   },
   {
    "duration": 13,
    "start_time": "2024-07-10T08:50:42.009Z"
   },
   {
    "duration": 11,
    "start_time": "2024-07-10T08:54:45.954Z"
   },
   {
    "duration": 12,
    "start_time": "2024-07-10T08:55:01.348Z"
   },
   {
    "duration": 7,
    "start_time": "2024-07-10T09:03:06.197Z"
   },
   {
    "duration": 5,
    "start_time": "2024-07-10T09:03:18.313Z"
   },
   {
    "duration": 13,
    "start_time": "2024-07-10T18:52:56.403Z"
   },
   {
    "duration": 21,
    "start_time": "2024-07-10T20:36:39.659Z"
   }
  ],
  "kernelspec": {
   "display_name": "Python 3 (ipykernel)",
   "language": "python",
   "name": "python3"
  },
  "language_info": {
   "codemirror_mode": {
    "name": "ipython",
    "version": 3
   },
   "file_extension": ".py",
   "mimetype": "text/x-python",
   "name": "python",
   "nbconvert_exporter": "python",
   "pygments_lexer": "ipython3",
   "version": "3.9.19"
  },
  "toc": {
   "base_numbering": 1,
   "nav_menu": {},
   "number_sections": true,
   "sideBar": true,
   "skip_h1_title": true,
   "title_cell": "Table of Contents",
   "title_sidebar": "Contents",
   "toc_cell": false,
   "toc_position": {},
   "toc_section_display": true,
   "toc_window_display": false
  }
 },
 "nbformat": 4,
 "nbformat_minor": 4
}
