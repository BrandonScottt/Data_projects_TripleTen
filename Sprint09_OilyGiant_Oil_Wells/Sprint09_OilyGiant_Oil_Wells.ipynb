{
 "cells": [
  {
   "cell_type": "markdown",
   "metadata": {},
   "source": [
    "**Review**\n",
    "\n",
    "Hello Brandon!\n",
    "\n",
    "I'm happy to review your project today.\n",
    "  \n",
    "You can find my comments in colored markdown cells:\n",
    "  \n",
    "<div class=\"alert alert-success\">\n",
    "  If everything is done successfully.\n",
    "</div>\n",
    "  \n",
    "<div class=\"alert alert-warning\">\n",
    "  If I have some (optional) suggestions, or questions to think about, or general comments.\n",
    "</div>\n",
    "  \n",
    "<div class=\"alert alert-danger\">\n",
    "  If a section requires some corrections. Work can't be accepted with red comments.\n",
    "</div>\n",
    "  \n",
    "Please don't remove my comments, as it will make further review iterations much harder for me.\n",
    "  \n",
    "Feel free to reply to my comments or ask questions using the following template:\n",
    "  \n",
    "<div class=\"alert alert-info\">\n",
    "  For your comments and questions.\n",
    "</div>\n",
    "  \n",
    "First of all, thank you for turning in the project! You did an excellent job! The project is accepted. Keep up the good work on the next sprint!"
   ]
  },
  {
   "cell_type": "markdown",
   "metadata": {},
   "source": [
    "# Project description"
   ]
  },
  {
   "cell_type": "markdown",
   "metadata": {},
   "source": [
    "You work for the OilyGiant mining company. Your task is to find the best place for a new well.\n",
    "\n",
    "Steps to choose the location: \n",
    "\n",
    "- Collect the oil well parameters in the selected region: oil quality and volume of reserves;\n",
    "\n",
    "- Build a model for predicting the volume of reserves in the new wells; \n",
    "\n",
    "- Pick the oil wells with the highest estimated values; \n",
    "\n",
    "- Pick the region with the highest total profit for the selected oil wells. \n",
    "\n",
    "You have data on oil samples from three regions. Parameters of each oil well in the region are already known. Build a model that will help to pick the region with the highest profit margin. Analyze potential profit and risks using the Bootstrapping technique."
   ]
  },
  {
   "cell_type": "markdown",
   "metadata": {},
   "source": [
    "# Developing a model to find the best place for a new well"
   ]
  },
  {
   "cell_type": "markdown",
   "metadata": {},
   "source": [
    "**Goal**\n",
    "\n",
    "Find the region with highest profit margin."
   ]
  },
  {
   "cell_type": "code",
   "execution_count": 1,
   "metadata": {},
   "outputs": [],
   "source": [
    "import pandas as pd\n",
    "import numpy as np\n",
    "import matplotlib.pyplot as plt\n",
    "import seaborn as sns\n",
    "\n",
    "import os\n",
    "\n",
    "from sklearn.model_selection import train_test_split\n",
    "from sklearn.linear_model import LinearRegression\n",
    "from sklearn.metrics import mean_squared_error, r2_score"
   ]
  },
  {
   "cell_type": "markdown",
   "metadata": {},
   "source": [
    "## Download and prepare the data. Explain the procedure."
   ]
  },
  {
   "cell_type": "code",
   "execution_count": 2,
   "metadata": {},
   "outputs": [],
   "source": [
    "path = r'/datasets'\n",
    "datasets = ['geo_data_0.csv', 'geo_data_1.csv', 'geo_data_2.csv']"
   ]
  },
  {
   "cell_type": "code",
   "execution_count": 3,
   "metadata": {},
   "outputs": [],
   "source": [
    "df1 = pd.read_csv(\"/datasets/geo_data_0.csv\")\n",
    "df2 = pd.read_csv(\"/datasets/geo_data_1.csv\")\n",
    "df3 = pd.read_csv(\"/datasets/geo_data_2.csv\")"
   ]
  },
  {
   "cell_type": "code",
   "execution_count": 4,
   "metadata": {},
   "outputs": [],
   "source": [
    "df = pd.DataFrame()\n",
    "for i, dataset in enumerate(datasets):\n",
    "    temp = pd.read_csv(os.path.join(path, dataset))\n",
    "    temp['region'] = f'region{i+1}'\n",
    "    df = pd.concat([df, temp], axis=0)"
   ]
  },
  {
   "cell_type": "code",
   "execution_count": 5,
   "metadata": {},
   "outputs": [
    {
     "data": {
      "text/html": [
       "<div>\n",
       "<style scoped>\n",
       "    .dataframe tbody tr th:only-of-type {\n",
       "        vertical-align: middle;\n",
       "    }\n",
       "\n",
       "    .dataframe tbody tr th {\n",
       "        vertical-align: top;\n",
       "    }\n",
       "\n",
       "    .dataframe thead th {\n",
       "        text-align: right;\n",
       "    }\n",
       "</style>\n",
       "<table border=\"1\" class=\"dataframe\">\n",
       "  <thead>\n",
       "    <tr style=\"text-align: right;\">\n",
       "      <th></th>\n",
       "      <th>id</th>\n",
       "      <th>f0</th>\n",
       "      <th>f1</th>\n",
       "      <th>f2</th>\n",
       "      <th>product</th>\n",
       "      <th>region</th>\n",
       "    </tr>\n",
       "  </thead>\n",
       "  <tbody>\n",
       "    <tr>\n",
       "      <th>0</th>\n",
       "      <td>txEyH</td>\n",
       "      <td>0.705745</td>\n",
       "      <td>-0.497823</td>\n",
       "      <td>1.221170</td>\n",
       "      <td>105.280062</td>\n",
       "      <td>region1</td>\n",
       "    </tr>\n",
       "    <tr>\n",
       "      <th>1</th>\n",
       "      <td>2acmU</td>\n",
       "      <td>1.334711</td>\n",
       "      <td>-0.340164</td>\n",
       "      <td>4.365080</td>\n",
       "      <td>73.037750</td>\n",
       "      <td>region1</td>\n",
       "    </tr>\n",
       "    <tr>\n",
       "      <th>2</th>\n",
       "      <td>409Wp</td>\n",
       "      <td>1.022732</td>\n",
       "      <td>0.151990</td>\n",
       "      <td>1.419926</td>\n",
       "      <td>85.265647</td>\n",
       "      <td>region1</td>\n",
       "    </tr>\n",
       "    <tr>\n",
       "      <th>3</th>\n",
       "      <td>iJLyR</td>\n",
       "      <td>-0.032172</td>\n",
       "      <td>0.139033</td>\n",
       "      <td>2.978566</td>\n",
       "      <td>168.620776</td>\n",
       "      <td>region1</td>\n",
       "    </tr>\n",
       "    <tr>\n",
       "      <th>4</th>\n",
       "      <td>Xdl7t</td>\n",
       "      <td>1.988431</td>\n",
       "      <td>0.155413</td>\n",
       "      <td>4.751769</td>\n",
       "      <td>154.036647</td>\n",
       "      <td>region1</td>\n",
       "    </tr>\n",
       "  </tbody>\n",
       "</table>\n",
       "</div>"
      ],
      "text/plain": [
       "      id        f0        f1        f2     product   region\n",
       "0  txEyH  0.705745 -0.497823  1.221170  105.280062  region1\n",
       "1  2acmU  1.334711 -0.340164  4.365080   73.037750  region1\n",
       "2  409Wp  1.022732  0.151990  1.419926   85.265647  region1\n",
       "3  iJLyR -0.032172  0.139033  2.978566  168.620776  region1\n",
       "4  Xdl7t  1.988431  0.155413  4.751769  154.036647  region1"
      ]
     },
     "execution_count": 5,
     "metadata": {},
     "output_type": "execute_result"
    }
   ],
   "source": [
    "df.head()"
   ]
  },
  {
   "cell_type": "code",
   "execution_count": 6,
   "metadata": {},
   "outputs": [
    {
     "name": "stdout",
     "output_type": "stream",
     "text": [
      "<class 'pandas.core.frame.DataFrame'>\n",
      "Int64Index: 300000 entries, 0 to 99999\n",
      "Data columns (total 6 columns):\n",
      " #   Column   Non-Null Count   Dtype  \n",
      "---  ------   --------------   -----  \n",
      " 0   id       300000 non-null  object \n",
      " 1   f0       300000 non-null  float64\n",
      " 2   f1       300000 non-null  float64\n",
      " 3   f2       300000 non-null  float64\n",
      " 4   product  300000 non-null  float64\n",
      " 5   region   300000 non-null  object \n",
      "dtypes: float64(4), object(2)\n",
      "memory usage: 16.0+ MB\n"
     ]
    }
   ],
   "source": [
    "df.info()"
   ]
  },
  {
   "cell_type": "code",
   "execution_count": 7,
   "metadata": {},
   "outputs": [
    {
     "data": {
      "text/plain": [
       "0"
      ]
     },
     "execution_count": 7,
     "metadata": {},
     "output_type": "execute_result"
    }
   ],
   "source": [
    "df.duplicated().sum()"
   ]
  },
  {
   "cell_type": "code",
   "execution_count": 8,
   "metadata": {},
   "outputs": [
    {
     "data": {
      "text/plain": [
       "49"
      ]
     },
     "execution_count": 8,
     "metadata": {},
     "output_type": "execute_result"
    }
   ],
   "source": [
    "df['id'].duplicated().sum()"
   ]
  },
  {
   "cell_type": "code",
   "execution_count": 9,
   "metadata": {},
   "outputs": [
    {
     "data": {
      "text/plain": [
       "region\n",
       "region1    10\n",
       "region2    14\n",
       "region3    25\n",
       "dtype: int64"
      ]
     },
     "execution_count": 9,
     "metadata": {},
     "output_type": "execute_result"
    }
   ],
   "source": [
    "# Total number of duplicatde in each region \n",
    "df[df['id'].duplicated()].groupby('region').size()"
   ]
  },
  {
   "cell_type": "code",
   "execution_count": 10,
   "metadata": {},
   "outputs": [],
   "source": [
    "# Dropping duplicated\n",
    "df = df.drop_duplicates(subset='id')"
   ]
  },
  {
   "cell_type": "code",
   "execution_count": 11,
   "metadata": {},
   "outputs": [
    {
     "name": "stdout",
     "output_type": "stream",
     "text": [
      "<class 'pandas.core.frame.DataFrame'>\n",
      "Int64Index: 299951 entries, 0 to 99999\n",
      "Data columns (total 6 columns):\n",
      " #   Column   Non-Null Count   Dtype  \n",
      "---  ------   --------------   -----  \n",
      " 0   id       299951 non-null  object \n",
      " 1   f0       299951 non-null  float64\n",
      " 2   f1       299951 non-null  float64\n",
      " 3   f2       299951 non-null  float64\n",
      " 4   product  299951 non-null  float64\n",
      " 5   region   299951 non-null  object \n",
      "dtypes: float64(4), object(2)\n",
      "memory usage: 16.0+ MB\n"
     ]
    }
   ],
   "source": [
    "df.info()"
   ]
  },
  {
   "cell_type": "code",
   "execution_count": 12,
   "metadata": {},
   "outputs": [
    {
     "data": {
      "text/html": [
       "<div>\n",
       "<style scoped>\n",
       "    .dataframe tbody tr th:only-of-type {\n",
       "        vertical-align: middle;\n",
       "    }\n",
       "\n",
       "    .dataframe tbody tr th {\n",
       "        vertical-align: top;\n",
       "    }\n",
       "\n",
       "    .dataframe thead th {\n",
       "        text-align: right;\n",
       "    }\n",
       "</style>\n",
       "<table border=\"1\" class=\"dataframe\">\n",
       "  <thead>\n",
       "    <tr style=\"text-align: right;\">\n",
       "      <th></th>\n",
       "      <th>f0</th>\n",
       "      <th>f1</th>\n",
       "      <th>f2</th>\n",
       "      <th>product</th>\n",
       "    </tr>\n",
       "  </thead>\n",
       "  <tbody>\n",
       "    <tr>\n",
       "      <th>count</th>\n",
       "      <td>299951.000000</td>\n",
       "      <td>299951.000000</td>\n",
       "      <td>299951.000000</td>\n",
       "      <td>299951.000000</td>\n",
       "    </tr>\n",
       "    <tr>\n",
       "      <th>mean</th>\n",
       "      <td>0.547844</td>\n",
       "      <td>-1.516308</td>\n",
       "      <td>2.497415</td>\n",
       "      <td>85.439359</td>\n",
       "    </tr>\n",
       "    <tr>\n",
       "      <th>std</th>\n",
       "      <td>5.316665</td>\n",
       "      <td>3.900250</td>\n",
       "      <td>2.916480</td>\n",
       "      <td>46.519744</td>\n",
       "    </tr>\n",
       "    <tr>\n",
       "      <th>min</th>\n",
       "      <td>-31.609576</td>\n",
       "      <td>-26.358598</td>\n",
       "      <td>-12.088328</td>\n",
       "      <td>0.000000</td>\n",
       "    </tr>\n",
       "    <tr>\n",
       "      <th>25%</th>\n",
       "      <td>-1.003028</td>\n",
       "      <td>-2.479142</td>\n",
       "      <td>0.648209</td>\n",
       "      <td>52.664541</td>\n",
       "    </tr>\n",
       "    <tr>\n",
       "      <th>50%</th>\n",
       "      <td>0.347960</td>\n",
       "      <td>-0.229675</td>\n",
       "      <td>2.491200</td>\n",
       "      <td>84.038886</td>\n",
       "    </tr>\n",
       "    <tr>\n",
       "      <th>75%</th>\n",
       "      <td>1.755369</td>\n",
       "      <td>0.678479</td>\n",
       "      <td>4.344939</td>\n",
       "      <td>124.170819</td>\n",
       "    </tr>\n",
       "    <tr>\n",
       "      <th>max</th>\n",
       "      <td>29.421755</td>\n",
       "      <td>18.734063</td>\n",
       "      <td>16.739402</td>\n",
       "      <td>190.029838</td>\n",
       "    </tr>\n",
       "  </tbody>\n",
       "</table>\n",
       "</div>"
      ],
      "text/plain": [
       "                  f0             f1             f2        product\n",
       "count  299951.000000  299951.000000  299951.000000  299951.000000\n",
       "mean        0.547844      -1.516308       2.497415      85.439359\n",
       "std         5.316665       3.900250       2.916480      46.519744\n",
       "min       -31.609576     -26.358598     -12.088328       0.000000\n",
       "25%        -1.003028      -2.479142       0.648209      52.664541\n",
       "50%         0.347960      -0.229675       2.491200      84.038886\n",
       "75%         1.755369       0.678479       4.344939     124.170819\n",
       "max        29.421755      18.734063      16.739402     190.029838"
      ]
     },
     "execution_count": 12,
     "metadata": {},
     "output_type": "execute_result"
    }
   ],
   "source": [
    "df.describe()"
   ]
  },
  {
   "cell_type": "code",
   "execution_count": 13,
   "metadata": {},
   "outputs": [],
   "source": [
    "output = df.groupby('region').describe()"
   ]
  },
  {
   "cell_type": "code",
   "execution_count": 14,
   "metadata": {},
   "outputs": [
    {
     "name": "stdout",
     "output_type": "stream",
     "text": [
      "           count      mean       std        min       25%       50%       75%  \\\n",
      "region                                                                          \n",
      "region1  99990.0  0.500454  0.871844  -1.408605 -0.072572  0.502405  1.073626   \n",
      "region2  99986.0  1.140911  8.965934 -31.609576 -6.298867  1.150960  8.620926   \n",
      "region3  99975.0  0.002109  1.731997  -8.760004 -1.162253  0.009430  1.158571   \n",
      "\n",
      "               max  \n",
      "region              \n",
      "region1   2.362331  \n",
      "region2  29.421755  \n",
      "region3   7.238262  \n"
     ]
    }
   ],
   "source": [
    "print(output['f0'])"
   ]
  },
  {
   "cell_type": "code",
   "execution_count": 15,
   "metadata": {},
   "outputs": [
    {
     "name": "stdout",
     "output_type": "stream",
     "text": [
      "           count      mean       std        min       25%       50%       75%  \\\n",
      "region                                                                          \n",
      "region1  99990.0  0.250141  0.504430  -0.848218 -0.200877  0.250252  0.700640   \n",
      "region2  99986.0 -4.796738  5.119797 -26.358598 -8.268102 -4.813327 -1.332883   \n",
      "region3  99975.0 -0.002231  1.730494  -7.084020 -1.174899 -0.009825  1.163539   \n",
      "\n",
      "               max  \n",
      "region              \n",
      "region1   1.343769  \n",
      "region2  18.734063  \n",
      "region3   7.844801  \n"
     ]
    }
   ],
   "source": [
    "print(output['f1'])"
   ]
  },
  {
   "cell_type": "code",
   "execution_count": 16,
   "metadata": {},
   "outputs": [
    {
     "name": "stdout",
     "output_type": "stream",
     "text": [
      "           count      mean       std        min       25%       50%       75%  \\\n",
      "region                                                                          \n",
      "region1  99990.0  2.502629  3.248149 -12.088328  0.287784  2.515969  4.715035   \n",
      "region2  99986.0  2.494430  1.703557  -0.018144  1.000019  2.011468  3.999902   \n",
      "region3  99975.0  2.495186  3.473532 -11.970335  0.130339  2.484348  4.858822   \n",
      "\n",
      "               max  \n",
      "region              \n",
      "region1  16.003790  \n",
      "region2   5.019721  \n",
      "region3  16.739402  \n"
     ]
    }
   ],
   "source": [
    "print(output['f2'])"
   ]
  },
  {
   "cell_type": "code",
   "execution_count": 17,
   "metadata": {},
   "outputs": [
    {
     "data": {
      "text/html": [
       "<div>\n",
       "<style scoped>\n",
       "    .dataframe tbody tr th:only-of-type {\n",
       "        vertical-align: middle;\n",
       "    }\n",
       "\n",
       "    .dataframe tbody tr th {\n",
       "        vertical-align: top;\n",
       "    }\n",
       "\n",
       "    .dataframe thead th {\n",
       "        text-align: right;\n",
       "    }\n",
       "</style>\n",
       "<table border=\"1\" class=\"dataframe\">\n",
       "  <thead>\n",
       "    <tr style=\"text-align: right;\">\n",
       "      <th></th>\n",
       "      <th>count</th>\n",
       "      <th>mean</th>\n",
       "      <th>std</th>\n",
       "      <th>min</th>\n",
       "      <th>25%</th>\n",
       "      <th>50%</th>\n",
       "      <th>75%</th>\n",
       "      <th>max</th>\n",
       "    </tr>\n",
       "    <tr>\n",
       "      <th>region</th>\n",
       "      <th></th>\n",
       "      <th></th>\n",
       "      <th></th>\n",
       "      <th></th>\n",
       "      <th></th>\n",
       "      <th></th>\n",
       "      <th></th>\n",
       "      <th></th>\n",
       "    </tr>\n",
       "  </thead>\n",
       "  <tbody>\n",
       "    <tr>\n",
       "      <th>region1</th>\n",
       "      <td>99990.0</td>\n",
       "      <td>92.499684</td>\n",
       "      <td>44.288304</td>\n",
       "      <td>0.0</td>\n",
       "      <td>56.497069</td>\n",
       "      <td>91.847928</td>\n",
       "      <td>128.563699</td>\n",
       "      <td>185.364347</td>\n",
       "    </tr>\n",
       "    <tr>\n",
       "      <th>region2</th>\n",
       "      <td>99986.0</td>\n",
       "      <td>68.822078</td>\n",
       "      <td>45.944140</td>\n",
       "      <td>0.0</td>\n",
       "      <td>26.953261</td>\n",
       "      <td>57.085625</td>\n",
       "      <td>107.813044</td>\n",
       "      <td>137.945408</td>\n",
       "    </tr>\n",
       "    <tr>\n",
       "      <th>region3</th>\n",
       "      <td>99975.0</td>\n",
       "      <td>94.997085</td>\n",
       "      <td>44.750945</td>\n",
       "      <td>0.0</td>\n",
       "      <td>59.444354</td>\n",
       "      <td>94.910839</td>\n",
       "      <td>130.587698</td>\n",
       "      <td>190.029838</td>\n",
       "    </tr>\n",
       "  </tbody>\n",
       "</table>\n",
       "</div>"
      ],
      "text/plain": [
       "           count       mean        std  min        25%        50%         75%  \\\n",
       "region                                                                          \n",
       "region1  99990.0  92.499684  44.288304  0.0  56.497069  91.847928  128.563699   \n",
       "region2  99986.0  68.822078  45.944140  0.0  26.953261  57.085625  107.813044   \n",
       "region3  99975.0  94.997085  44.750945  0.0  59.444354  94.910839  130.587698   \n",
       "\n",
       "                max  \n",
       "region               \n",
       "region1  185.364347  \n",
       "region2  137.945408  \n",
       "region3  190.029838  "
      ]
     },
     "execution_count": 17,
     "metadata": {},
     "output_type": "execute_result"
    }
   ],
   "source": [
    "output['product']"
   ]
  },
  {
   "cell_type": "markdown",
   "metadata": {},
   "source": [
    "There are about 300K observations in total, which is equally split across the 3 data sources. Since this is synthetic data, it makes no sense to interpret what each row represents. We can only say that it represent the observation for one oil well.\n",
    "\n",
    "There are 49 duplicates in total.\n",
    "\n",
    "The mean and sd for f0 field in region1 and region3 are very tight compared with the same metrics and field in region2. A similar pattern is observed for f1 field. However, in f2, the deviation around the mean is lower for region2 than it is for region1 and region3. It seems to suggest that wells in region1 and region3 are similar; this can also be seen in the product capacity for region1 and region3, where the means appear to be relatively closer to one another than it is for the mean value in region2."
   ]
  },
  {
   "cell_type": "code",
   "execution_count": 18,
   "metadata": {},
   "outputs": [],
   "source": [
    "def plot_grouped_histogram(df, key, grp='region', bins=20, title=None, figsize=(9, 7), alpha=0.8):\n",
    "    \n",
    "    df.groupby(grp)[key].plot(kind='hist', bins=bins, title=title, figsize=figsize, alpha=alpha, histtype='stepfilled')\n",
    "    plt.legend()\n",
    "    plt.show()"
   ]
  },
  {
   "cell_type": "code",
   "execution_count": 19,
   "metadata": {},
   "outputs": [
    {
     "data": {
      "image/png": "[encoded data removed]",
      "text/plain": [
       "<Figure size 900x700 with 1 Axes>"
      ]
     },
     "metadata": {},
     "output_type": "display_data"
    }
   ],
   "source": [
    "plot_grouped_histogram(df, 'product', grp='region', bins=20, title='Distribution of product capacity by region', figsize=(9, 7), alpha=0.8)"
   ]
  },
  {
   "cell_type": "markdown",
   "metadata": {},
   "source": [
    "The histogram plot confirms what we've observed above. Region2 has a unique pattern, there are gaps with intervals of around 13K each separating every succeeding observation. In addition, region2 has 2 peaks, first one is at 0 and the other at 138K.\n",
    "\n",
    "On the other hand, region1 and region3 are quite similar in their distribution."
   ]
  },
  {
   "cell_type": "code",
   "execution_count": 20,
   "metadata": {},
   "outputs": [
    {
     "data": {
      "image/png": "[encoded data removed]",
      "text/plain": [
       "<Figure size 900x700 with 1 Axes>"
      ]
     },
     "metadata": {},
     "output_type": "display_data"
    }
   ],
   "source": [
    "plot_grouped_histogram(df, 'f0', grp='region', bins=20, title='Distribution of f0 by region', figsize=(9, 7), alpha=0.5)"
   ]
  },
  {
   "cell_type": "markdown",
   "metadata": {},
   "source": [
    "region2 has a 2 peak. region3 and region1 has a very narrow distribution with most of the values close to 0.\n",
    "\n",
    "region 1, has a smaller peak, and it also has a narrow distribution, peaking close to 0."
   ]
  },
  {
   "cell_type": "code",
   "execution_count": 21,
   "metadata": {},
   "outputs": [
    {
     "data": {
      "image/png": "[encoded data removed]",
      "text/plain": [
       "<Figure size 900x700 with 1 Axes>"
      ]
     },
     "metadata": {},
     "output_type": "display_data"
    }
   ],
   "source": [
    "plot_grouped_histogram(df, 'f1', grp='region', bins=20, title='Distribution of f1 by region', figsize=(9, 7), alpha=0.5)"
   ]
  },
  {
   "cell_type": "markdown",
   "metadata": {},
   "source": [
    "region2 appears to be a normal distribution peaking below 0. region1 and region3 share a similar shaped distribution except for their heights, region3 has taller peak than region1, and is relatively wider than region1."
   ]
  },
  {
   "cell_type": "code",
   "execution_count": 22,
   "metadata": {},
   "outputs": [
    {
     "data": {
      "image/png": "[encoded data removed]",
      "text/plain": [
       "<Figure size 900x700 with 1 Axes>"
      ]
     },
     "metadata": {},
     "output_type": "display_data"
    }
   ],
   "source": [
    "plot_grouped_histogram(df, 'f2', grp='region', bins=20, title='Distribution of f2 by region', figsize=(9, 7), alpha=0.5)"
   ]
  },
  {
   "cell_type": "markdown",
   "metadata": {},
   "source": [
    "region1 and region3 are almost identical, and appear to be normally distributed. However, region2 appears to have gaps between observations; this is similar to what we have seen for product."
   ]
  },
  {
   "cell_type": "markdown",
   "metadata": {},
   "source": [
    "Overall, The plots for f0, f1 and f2 reveal that region1 and region3 share similar characteristics unlike region2 which appears to have different characteristics.\n",
    "\n",
    "The numbers appear to be normalized, so there is no need to scale them."
   ]
  },
  {
   "cell_type": "code",
   "execution_count": 23,
   "metadata": {},
   "outputs": [
    {
     "data": {
      "text/plain": [
       "<AxesSubplot:>"
      ]
     },
     "execution_count": 23,
     "metadata": {},
     "output_type": "execute_result"
    },
    {
     "data": {
      "image/png": "[encoded data removed]",
      "text/plain": [
       "<Figure size 640x480 with 2 Axes>"
      ]
     },
     "metadata": {},
     "output_type": "display_data"
    }
   ],
   "source": [
    "sns.heatmap(df.corr(), annot=True)"
   ]
  },
  {
   "cell_type": "code",
   "execution_count": 24,
   "metadata": {},
   "outputs": [
    {
     "data": {
      "text/plain": [
       "<AxesSubplot:ylabel='region-None'>"
      ]
     },
     "execution_count": 24,
     "metadata": {},
     "output_type": "execute_result"
    },
    {
     "data": {
      "image/png": "[encoded data removed]",
      "text/plain": [
       "<Figure size 640x480 with 2 Axes>"
      ]
     },
     "metadata": {},
     "output_type": "display_data"
    }
   ],
   "source": [
    "sns.heatmap(df.groupby('region').corr(), annot=True)"
   ]
  },
  {
   "cell_type": "markdown",
   "metadata": {},
   "source": [
    "Only f2 has a moderately strong correlation with product. However, when split by region, region2's f2 field is strongly positively correlated with product. For region1 and region2, their respective f2 has a similar positive correlation with product.\n",
    "\n",
    "In region1, f1 has a moderately strong negative correlation with f0. In region2, the correlation strength is slightly positively correlated. However, in region3, there seems to be no relation between f0, f1, and f2."
   ]
  },
  {
   "cell_type": "markdown",
   "metadata": {},
   "source": [
    "<div class=\"alert alert-success\">\n",
    "<b>Reviewer's comment</b>\n",
    "\n",
    "Great, you loaded the data, explored it a bit and made some interesting observations!\n",
    "\n",
    "</div>"
   ]
  },
  {
   "cell_type": "markdown",
   "metadata": {},
   "source": [
    "## Train and test the model for each region"
   ]
  },
  {
   "cell_type": "code",
   "execution_count": 25,
   "metadata": {},
   "outputs": [],
   "source": [
    "#Train the model and make predictions for the validation set.\n",
    "def train_and_evaluate(model, X_train, X_val, y_train, y_val):\n",
    "    \n",
    "    model.fit(X_train, y_train)\n",
    "    \n",
    "    y_pred = model.predict(X_val)\n",
    "    rmse = mean_squared_error(y_val, y_pred, squared=False)\n",
    "    score = r2_score(y_val, y_pred)\n",
    "\n",
    "    return y_pred, y_val, rmse, score, y_pred.mean(), y_val.mean()"
   ]
  },
  {
   "cell_type": "code",
   "execution_count": 26,
   "metadata": {},
   "outputs": [],
   "source": [
    "model = LinearRegression()"
   ]
  },
  {
   "cell_type": "code",
   "execution_count": 27,
   "metadata": {},
   "outputs": [],
   "source": [
    "results = {}\n",
    "preds, targets = [], []"
   ]
  },
  {
   "cell_type": "code",
   "execution_count": 28,
   "metadata": {},
   "outputs": [],
   "source": [
    "#Split the data into a training set and validation set at a ratio of 75:25.\n",
    "for region in df['region'].unique():\n",
    "    features = df[df['region'] == region].drop(['id', 'product', 'region'], axis=1)\n",
    "    target = df[df['region'] == region]['product']\n",
    "    X_train, X_val, y_train, y_val = train_test_split(features, target, test_size=0.25, random_state=42)\n",
    "    y_pred, y_val, rmse, score, mean_pred, mean_target = train_and_evaluate(model, X_train, X_val, y_train, y_val)\n",
    "    results[region] = {\n",
    "        'rmse': rmse,\n",
    "        'score': score,\n",
    "        'mean_pred': mean_pred,\n",
    "        'mean_target': mean_target\n",
    "    }\n",
    "    preds.append(y_pred)\n",
    "    targets.append(y_val.values)"
   ]
  },
  {
   "cell_type": "code",
   "execution_count": 29,
   "metadata": {},
   "outputs": [
    {
     "data": {
      "text/html": [
       "<div>\n",
       "<style scoped>\n",
       "    .dataframe tbody tr th:only-of-type {\n",
       "        vertical-align: middle;\n",
       "    }\n",
       "\n",
       "    .dataframe tbody tr th {\n",
       "        vertical-align: top;\n",
       "    }\n",
       "\n",
       "    .dataframe thead th {\n",
       "        text-align: right;\n",
       "    }\n",
       "</style>\n",
       "<table border=\"1\" class=\"dataframe\">\n",
       "  <thead>\n",
       "    <tr style=\"text-align: right;\">\n",
       "      <th></th>\n",
       "      <th>region1</th>\n",
       "      <th>region2</th>\n",
       "      <th>region3</th>\n",
       "    </tr>\n",
       "  </thead>\n",
       "  <tbody>\n",
       "    <tr>\n",
       "      <th>rmse</th>\n",
       "      <td>37.685089</td>\n",
       "      <td>0.886764</td>\n",
       "      <td>39.909545</td>\n",
       "    </tr>\n",
       "    <tr>\n",
       "      <th>score</th>\n",
       "      <td>0.274539</td>\n",
       "      <td>0.999628</td>\n",
       "      <td>0.205066</td>\n",
       "    </tr>\n",
       "    <tr>\n",
       "      <th>mean_pred</th>\n",
       "      <td>92.609840</td>\n",
       "      <td>68.861597</td>\n",
       "      <td>94.744142</td>\n",
       "    </tr>\n",
       "    <tr>\n",
       "      <th>mean_target</th>\n",
       "      <td>92.388766</td>\n",
       "      <td>68.865447</td>\n",
       "      <td>94.977154</td>\n",
       "    </tr>\n",
       "  </tbody>\n",
       "</table>\n",
       "</div>"
      ],
      "text/plain": [
       "               region1    region2    region3\n",
       "rmse         37.685089   0.886764  39.909545\n",
       "score         0.274539   0.999628   0.205066\n",
       "mean_pred    92.609840  68.861597  94.744142\n",
       "mean_target  92.388766  68.865447  94.977154"
      ]
     },
     "execution_count": 29,
     "metadata": {},
     "output_type": "execute_result"
    }
   ],
   "source": [
    "pd.DataFrame(results)"
   ]
  },
  {
   "cell_type": "markdown",
   "metadata": {},
   "source": [
    "Comparing to the RMSE values for regions 1 and 3, the RMSE for region 2 indicates that the model fits the synthetic data exceptionally well. This is further supported by the R2 score for region 2, which is 99.9%. This high R2 score means that 99% of the variance in the target variable is explained by the input features in region 2."
   ]
  },
  {
   "cell_type": "markdown",
   "metadata": {},
   "source": [
    "<div class=\"alert alert-success\">\n",
    "<b>Reviewer's comment</b>\n",
    "\n",
    "The data for each region was split into train and validation sets, the models were trained and evaluated correctly\n",
    "\n",
    "</div>"
   ]
  },
  {
   "cell_type": "markdown",
   "metadata": {},
   "source": [
    "## Prepare for profit calculation"
   ]
  },
  {
   "cell_type": "code",
   "execution_count": 30,
   "metadata": {},
   "outputs": [],
   "source": [
    "revenue_per_barrel = 4.5\n",
    "revenue_per_1000_barrel = 4500\n",
    "budget = 100e6\n",
    "num_oil_wells = 200\n",
    "cost_per_well = budget / num_oil_wells"
   ]
  },
  {
   "cell_type": "code",
   "execution_count": 31,
   "metadata": {},
   "outputs": [
    {
     "data": {
      "text/plain": [
       "500000.0"
      ]
     },
     "execution_count": 31,
     "metadata": {},
     "output_type": "execute_result"
    }
   ],
   "source": [
    "cost_per_well"
   ]
  },
  {
   "cell_type": "code",
   "execution_count": 32,
   "metadata": {},
   "outputs": [
    {
     "data": {
      "text/plain": [
       "111.11111111111111"
      ]
     },
     "execution_count": 32,
     "metadata": {},
     "output_type": "execute_result"
    }
   ],
   "source": [
    "cost_per_well / revenue_per_1000_barrel"
   ]
  },
  {
   "cell_type": "markdown",
   "metadata": {},
   "source": [
    "At least 111K barrels of oil should be produced in order to be profitable in the new oil wells."
   ]
  },
  {
   "cell_type": "markdown",
   "metadata": {},
   "source": [
    "<div class=\"alert alert-warning\">\n",
    "<b>Reviewer's comment</b>\n",
    "\n",
    "That's right! We can note here that none of the regions have an average amount of product greater than the break-even point, which means if we select the wells to develop randomly, we're going to lose money on average. Let's see if using our models can help with selecting better wells and making a profit!\n",
    "\n",
    "</div>"
   ]
  },
  {
   "cell_type": "markdown",
   "metadata": {},
   "source": [
    "## Calculate profit from a set of selected oil wells and model predictions"
   ]
  },
  {
   "cell_type": "code",
   "execution_count": 33,
   "metadata": {},
   "outputs": [],
   "source": [
    "def profit_calculation(target, pred, num_wells=200, budget=100e6, revenue_per_barrel=4.5):\n",
    "    top_wells_idx = pred.argsort()[::-1]\n",
    "    total_produced = target[top_wells_idx][:num_wells].sum()\n",
    "    total_revenue = revenue_per_barrel * total_produced * 1000\n",
    "    return total_revenue - budget"
   ]
  },
  {
   "cell_type": "markdown",
   "metadata": {},
   "source": [
    "<div class=\"alert alert-success\">\n",
    "<b>Reviewer's comment</b>\n",
    "\n",
    "Profit is calculated correctly!\n",
    "\n",
    "</div>"
   ]
  },
  {
   "cell_type": "code",
   "execution_count": 34,
   "metadata": {},
   "outputs": [
    {
     "name": "stdout",
     "output_type": "stream",
     "text": [
      "Profit for region1 is $34,685,298\n",
      "Profit for region2 is $24,150,867\n",
      "Profit for region3 is $25,529,537\n"
     ]
    }
   ],
   "source": [
    "for i, (target, pred) in enumerate(zip(targets, preds)):\n",
    "    print('Profit for region{} is ${:,.0f}'.format(i+1,  profit_calculation(target, pred, num_wells=200, budget=100e6, revenue_per_barrel=4.5)))"
   ]
  },
  {
   "cell_type": "markdown",
   "metadata": {},
   "source": [
    "Based on this analysis, we would conclude that it would be wise for the investors to build 200 oil wells in region1. However, from the RMSE values, we saw a lot of variability in production, which is around +/-38K barrels from the mean of 92K barrels.\n",
    "\n",
    "Minimum number of barrels to produce per 200 oil wells is 111K."
   ]
  },
  {
   "cell_type": "markdown",
   "metadata": {},
   "source": [
    "<div class=\"alert alert-warning\">\n",
    "<b>Reviewer's comment</b>\n",
    "\n",
    "Remember that we only have the budget to make initial measurements (which would allow to use our models) at randomly selected 500 locations. These are the overall top 200 wells which are highly unlikely to all be contained in such a small sample, so it's not very relevant to our study.\n",
    "\n",
    "</div>"
   ]
  },
  {
   "cell_type": "markdown",
   "metadata": {},
   "source": [
    "## Calculate risks and profit for each region"
   ]
  },
  {
   "cell_type": "code",
   "execution_count": 35,
   "metadata": {},
   "outputs": [],
   "source": [
    "def bootstrap_revenue_model(target, pred, sample_size=500, num_wells=200, budget=100e6, revenue_per_barrel=4.5):\n",
    "    \n",
    "    profits = []\n",
    "    \n",
    "    random_state = np.random.RandomState(42)\n",
    "    for _ in range(1000):\n",
    "        target_subsample = pd.Series(target).sample(n=sample_size, random_state=random_state, replace=True)\n",
    "        profits.append(profit_calculation(target_subsample.values, pred[target_subsample.index], num_wells=num_wells, budget=budget, revenue_per_barrel=revenue_per_barrel))\n",
    "        \n",
    "    mean_profit = pd.Series(profits).mean()\n",
    "    profit_risk_lb = pd.Series(profits).quantile(0.025)\n",
    "    profit_risk_ub = pd.Series(profits).quantile(0.975)\n",
    "    losses = sum(pd.Series(profits) < 0) / len(profits)\n",
    "    return mean_profit, profit_risk_lb, profit_risk_ub, losses"
   ]
  },
  {
   "cell_type": "markdown",
   "metadata": {},
   "source": [
    "<div class=\"alert alert-success\">\n",
    "<b>Reviewer's comment</b>\n",
    "\n",
    "Bootstrapping is done correctly, all needed statistics are calculated!\n",
    "\n",
    "</div>"
   ]
  },
  {
   "cell_type": "code",
   "execution_count": 36,
   "metadata": {},
   "outputs": [
    {
     "name": "stdout",
     "output_type": "stream",
     "text": [
      "Mean profit for region1 is $4,035,721 and profit ranges from $-1,376,900 to $9,028,483. Risk of loss is 6%\n",
      "Mean profit for region2 is $4,584,835 and profit ranges from $781,037 to $8,387,299. Risk of loss is 1%\n",
      "Mean profit for region3 is $3,762,702 and profit ranges from $-1,232,087 to $8,624,029. Risk of loss is 8%\n"
     ]
    }
   ],
   "source": [
    "ci = []\n",
    "for i, (target, pred) in enumerate(zip(targets, preds)):\n",
    "    \n",
    "    profit, lb, ub, losses = bootstrap_revenue_model(target, pred, sample_size=500, num_wells=200, budget=100e6, revenue_per_barrel=4.5)\n",
    "    \n",
    "    print('Mean profit for region{} is ${:,.0f} and profit ranges from ${:,.0f} to ${:,.0f}. Risk of loss is {:.0%}'.format(i+1, profit, lb, ub, losses))\n",
    "    ci.append((lb/1e6, ub/1e6))"
   ]
  },
  {
   "cell_type": "markdown",
   "metadata": {},
   "source": [
    "Using bootstraping with 1000 samples, a different picture emerges: region2 on average is more profitable. "
   ]
  },
  {
   "cell_type": "code",
   "execution_count": 37,
   "metadata": {},
   "outputs": [],
   "source": [
    "ci_array = []"
   ]
  },
  {
   "cell_type": "code",
   "execution_count": 38,
   "metadata": {},
   "outputs": [
    {
     "data": {
      "image/png": "[encoded data removed]",
      "text/plain": [
       "<Figure size 640x480 with 1 Axes>"
      ]
     },
     "metadata": {},
     "output_type": "display_data"
    }
   ],
   "source": [
    "fig, ax = plt.subplots()\n",
    "for i, (lb, ub) in enumerate(ci):\n",
    "    ci_array.append([i+1, lb])\n",
    "    ci_array.append([i+1, ub])\n",
    "    plt.vlines(x=i+1, ymin=lb, ymax=ub, color= 'r' if lb < 0 else 'g')\n",
    "plt.xticks(np.arange(1, len(ci)+1))\n",
    "plt.axhline(0)\n",
    "plt.title('95% Confidence Interval for all regions')\n",
    "plt.xlabel('Region')\n",
    "plt.ylabel('CI range')\n",
    "plt.ylim([-max(np.array(ci_array)[:, 1]), max(np.array(ci_array)[:, 1])])\n",
    "plt.tight_layout()\n",
    "plt.show()"
   ]
  },
  {
   "cell_type": "markdown",
   "metadata": {},
   "source": [
    "The Confidence Interval doesn't cross the x-axis which implies that the results are statistically significant at the 95% confidence level. The corresponding risk of not making a profit is only 1%."
   ]
  },
  {
   "cell_type": "markdown",
   "metadata": {},
   "source": [
    "<div class=\"alert alert-success\">\n",
    "<b>Reviewer's comment</b>\n",
    "\n",
    "Yep!\n",
    "\n",
    "</div>"
   ]
  },
  {
   "cell_type": "markdown",
   "metadata": {},
   "source": [
    "# Conclusion"
   ]
  },
  {
   "cell_type": "markdown",
   "metadata": {},
   "source": [
    "The oil executives can invest oil well in region2 with a 95 percent Confindence level rely on investing $100 million on building 200 oil wells.\n",
    "\n",
    "The risk of loss is 1 percent with a mean profit of about $4.5 million"
   ]
  },
  {
   "cell_type": "markdown",
   "metadata": {},
   "source": [
    "<div class=\"alert alert-success\">\n",
    "<b>Reviewer's comment</b>\n",
    "\n",
    "Region choice is correct and justified, well done!\n",
    "\n",
    "</div>"
   ]
  }
 ],
 "metadata": {
  "ExecuteTimeLog": [
   {
    "duration": 466,
    "start_time": "2024-05-20T22:02:59.554Z"
   },
   {
    "duration": 4,
    "start_time": "2024-05-20T22:03:00.023Z"
   },
   {
    "duration": 533,
    "start_time": "2024-05-20T22:03:00.031Z"
   },
   {
    "duration": 474,
    "start_time": "2024-05-20T22:03:00.568Z"
   },
   {
    "duration": 23,
    "start_time": "2024-05-20T22:03:01.045Z"
   },
   {
    "duration": 64,
    "start_time": "2024-05-20T22:03:01.071Z"
   },
   {
    "duration": 337,
    "start_time": "2024-05-20T22:03:21.812Z"
   },
   {
    "duration": 311,
    "start_time": "2024-05-20T22:03:27.655Z"
   },
   {
    "duration": 78,
    "start_time": "2024-05-20T22:03:31.054Z"
   },
   {
    "duration": 82,
    "start_time": "2024-05-20T22:04:08.802Z"
   },
   {
    "duration": 91,
    "start_time": "2024-05-20T22:04:14.366Z"
   },
   {
    "duration": 70,
    "start_time": "2024-05-20T22:04:51.036Z"
   },
   {
    "duration": 100,
    "start_time": "2024-05-20T22:04:58.243Z"
   },
   {
    "duration": 80,
    "start_time": "2024-05-20T22:05:20.519Z"
   },
   {
    "duration": 187,
    "start_time": "2024-05-20T22:05:39.899Z"
   },
   {
    "duration": 46,
    "start_time": "2024-05-20T22:23:31.005Z"
   },
   {
    "duration": 6,
    "start_time": "2024-05-21T01:37:30.241Z"
   },
   {
    "duration": 4007,
    "start_time": "2024-05-21T01:37:43.091Z"
   },
   {
    "duration": 468,
    "start_time": "2024-05-21T01:38:25.668Z"
   },
   {
    "duration": 40,
    "start_time": "2024-05-21T01:38:54.797Z"
   },
   {
    "duration": 388,
    "start_time": "2024-05-21T01:38:57.747Z"
   },
   {
    "duration": 26,
    "start_time": "2024-05-21T01:40:44.395Z"
   },
   {
    "duration": 415,
    "start_time": "2024-05-21T01:40:47.433Z"
   },
   {
    "duration": 368,
    "start_time": "2024-05-21T01:41:03.417Z"
   },
   {
    "duration": 38,
    "start_time": "2024-05-21T01:41:10.823Z"
   },
   {
    "duration": 663,
    "start_time": "2024-05-21T01:41:35.040Z"
   },
   {
    "duration": 376,
    "start_time": "2024-05-21T01:41:48.212Z"
   },
   {
    "duration": 412,
    "start_time": "2024-05-21T01:42:09.532Z"
   },
   {
    "duration": 985,
    "start_time": "2024-05-21T01:42:40.274Z"
   },
   {
    "duration": 5290,
    "start_time": "2024-05-22T04:13:22.862Z"
   },
   {
    "duration": 5,
    "start_time": "2024-05-22T04:13:28.157Z"
   },
   {
    "duration": 582,
    "start_time": "2024-05-22T04:13:28.165Z"
   },
   {
    "duration": 518,
    "start_time": "2024-05-22T04:13:28.752Z"
   },
   {
    "duration": 33,
    "start_time": "2024-05-22T04:13:29.275Z"
   },
   {
    "duration": 56,
    "start_time": "2024-05-22T04:13:29.312Z"
   },
   {
    "duration": 286,
    "start_time": "2024-05-22T04:13:29.372Z"
   },
   {
    "duration": 75,
    "start_time": "2024-05-22T04:13:29.662Z"
   },
   {
    "duration": 93,
    "start_time": "2024-05-22T04:13:29.740Z"
   },
   {
    "duration": 114,
    "start_time": "2024-05-22T04:13:29.841Z"
   },
   {
    "duration": 87,
    "start_time": "2024-05-22T04:13:29.958Z"
   },
   {
    "duration": 187,
    "start_time": "2024-05-22T04:13:30.047Z"
   },
   {
    "duration": 38,
    "start_time": "2024-05-22T04:13:30.237Z"
   },
   {
    "duration": 5,
    "start_time": "2024-05-22T04:13:30.280Z"
   },
   {
    "duration": 477,
    "start_time": "2024-05-22T04:13:30.307Z"
   },
   {
    "duration": 483,
    "start_time": "2024-05-22T04:13:30.787Z"
   },
   {
    "duration": 452,
    "start_time": "2024-05-22T04:13:31.275Z"
   },
   {
    "duration": 465,
    "start_time": "2024-05-22T04:13:31.734Z"
   },
   {
    "duration": 522,
    "start_time": "2024-05-22T04:13:32.203Z"
   },
   {
    "duration": 959,
    "start_time": "2024-05-22T04:13:32.728Z"
   },
   {
    "duration": 5,
    "start_time": "2024-05-22T04:13:33.690Z"
   },
   {
    "duration": 466,
    "start_time": "2024-05-22T04:13:33.699Z"
   },
   {
    "duration": 0,
    "start_time": "2024-05-22T04:13:34.168Z"
   },
   {
    "duration": 236,
    "start_time": "2024-05-22T04:14:05.343Z"
   },
   {
    "duration": 3,
    "start_time": "2024-05-22T04:14:11.078Z"
   },
   {
    "duration": 4,
    "start_time": "2024-05-22T04:14:12.210Z"
   },
   {
    "duration": 128,
    "start_time": "2024-05-22T04:14:13.093Z"
   },
   {
    "duration": 518,
    "start_time": "2024-05-22T04:15:17.441Z"
   },
   {
    "duration": 12,
    "start_time": "2024-05-22T04:15:24.461Z"
   },
   {
    "duration": 4,
    "start_time": "2024-05-22T04:15:38.647Z"
   },
   {
    "duration": 25,
    "start_time": "2024-05-22T04:15:47.781Z"
   },
   {
    "duration": 5,
    "start_time": "2024-05-22T04:16:08.967Z"
   },
   {
    "duration": 4,
    "start_time": "2024-05-22T04:16:09.923Z"
   },
   {
    "duration": 4,
    "start_time": "2024-05-22T04:16:10.844Z"
   },
   {
    "duration": 4,
    "start_time": "2024-05-22T04:16:11.695Z"
   },
   {
    "duration": 215,
    "start_time": "2024-05-22T04:16:12.497Z"
   },
   {
    "duration": 11,
    "start_time": "2024-05-22T04:16:13.657Z"
   },
   {
    "duration": 4,
    "start_time": "2024-05-22T04:16:22.677Z"
   },
   {
    "duration": 545,
    "start_time": "2024-05-22T04:16:27.923Z"
   },
   {
    "duration": 13,
    "start_time": "2024-05-22T04:16:29.685Z"
   },
   {
    "duration": 4,
    "start_time": "2024-05-22T04:31:30.107Z"
   },
   {
    "duration": 5,
    "start_time": "2024-05-22T04:31:31.096Z"
   },
   {
    "duration": 6,
    "start_time": "2024-05-22T04:31:32.209Z"
   },
   {
    "duration": 4,
    "start_time": "2024-05-22T04:31:34.536Z"
   },
   {
    "duration": 13,
    "start_time": "2024-05-22T04:31:35.737Z"
   },
   {
    "duration": 7,
    "start_time": "2024-05-22T04:32:16.318Z"
   },
   {
    "duration": 1035,
    "start_time": "2024-05-22T04:32:18.167Z"
   },
   {
    "duration": 189,
    "start_time": "2024-05-22T04:32:23.356Z"
   },
   {
    "duration": 1102,
    "start_time": "2024-05-22T04:32:48.525Z"
   },
   {
    "duration": 434,
    "start_time": "2024-05-22T04:32:52.363Z"
   },
   {
    "duration": 4,
    "start_time": "2024-05-22T04:33:06.307Z"
   },
   {
    "duration": 1022,
    "start_time": "2024-05-22T04:33:09.909Z"
   },
   {
    "duration": 4,
    "start_time": "2024-05-22T04:33:11.940Z"
   },
   {
    "duration": 376,
    "start_time": "2024-05-22T04:33:12.882Z"
   },
   {
    "duration": 5,
    "start_time": "2024-05-22T05:05:13.847Z"
   },
   {
    "duration": 3,
    "start_time": "2024-05-22T05:05:16.557Z"
   },
   {
    "duration": 4,
    "start_time": "2024-05-22T05:05:17.480Z"
   },
   {
    "duration": 470,
    "start_time": "2024-05-22T05:05:18.491Z"
   },
   {
    "duration": 11,
    "start_time": "2024-05-22T05:05:20.596Z"
   },
   {
    "duration": 9,
    "start_time": "2024-05-22T05:05:34.138Z"
   },
   {
    "duration": 9,
    "start_time": "2024-05-22T05:05:35.414Z"
   },
   {
    "duration": 104,
    "start_time": "2024-05-22T05:05:40.836Z"
   },
   {
    "duration": 7,
    "start_time": "2024-05-22T05:05:44.202Z"
   },
   {
    "duration": 23,
    "start_time": "2024-05-22T05:05:50.424Z"
   },
   {
    "duration": 23,
    "start_time": "2024-05-22T05:05:56.600Z"
   },
   {
    "duration": 11,
    "start_time": "2024-05-22T05:06:01.038Z"
   },
   {
    "duration": 197,
    "start_time": "2024-05-22T05:07:21.217Z"
   },
   {
    "duration": 3,
    "start_time": "2024-05-22T05:07:38.392Z"
   },
   {
    "duration": 492,
    "start_time": "2024-05-22T05:07:41.456Z"
   },
   {
    "duration": 11,
    "start_time": "2024-05-22T05:07:45.340Z"
   },
   {
    "duration": 4,
    "start_time": "2024-05-22T05:07:55.724Z"
   },
   {
    "duration": 506,
    "start_time": "2024-05-22T05:08:05.580Z"
   },
   {
    "duration": 4,
    "start_time": "2024-05-22T05:08:33.745Z"
   },
   {
    "duration": 40,
    "start_time": "2024-05-22T05:08:35.213Z"
   },
   {
    "duration": 4,
    "start_time": "2024-05-22T05:09:11.452Z"
   },
   {
    "duration": 43,
    "start_time": "2024-05-22T05:09:12.434Z"
   },
   {
    "duration": 6,
    "start_time": "2024-05-22T05:09:26.944Z"
   },
   {
    "duration": 5,
    "start_time": "2024-05-22T05:10:36.719Z"
   },
   {
    "duration": 43,
    "start_time": "2024-05-22T05:10:38.197Z"
   },
   {
    "duration": 4,
    "start_time": "2024-05-22T05:10:52.004Z"
   },
   {
    "duration": 509,
    "start_time": "2024-05-22T05:10:52.939Z"
   },
   {
    "duration": 12,
    "start_time": "2024-05-22T05:10:53.990Z"
   },
   {
    "duration": 9,
    "start_time": "2024-05-22T05:10:59.049Z"
   },
   {
    "duration": 7,
    "start_time": "2024-05-22T05:11:01.655Z"
   },
   {
    "duration": 9,
    "start_time": "2024-05-22T05:11:13.594Z"
   },
   {
    "duration": 5,
    "start_time": "2024-05-22T05:11:15.033Z"
   },
   {
    "duration": 144,
    "start_time": "2024-05-22T05:11:16.222Z"
   },
   {
    "duration": 6,
    "start_time": "2024-05-22T05:11:44.644Z"
   },
   {
    "duration": 145,
    "start_time": "2024-05-22T05:11:45.558Z"
   },
   {
    "duration": 5,
    "start_time": "2024-05-22T05:12:24.552Z"
   },
   {
    "duration": 119,
    "start_time": "2024-05-22T05:12:25.615Z"
   },
   {
    "duration": 512,
    "start_time": "2024-05-22T05:13:27.842Z"
   },
   {
    "duration": 12,
    "start_time": "2024-05-22T05:13:29.066Z"
   },
   {
    "duration": 8,
    "start_time": "2024-05-22T05:13:33.658Z"
   },
   {
    "duration": 5,
    "start_time": "2024-05-22T05:13:35.926Z"
   },
   {
    "duration": 124,
    "start_time": "2024-05-22T05:13:37.010Z"
   },
   {
    "duration": 8,
    "start_time": "2024-05-22T05:13:50.581Z"
   },
   {
    "duration": 6,
    "start_time": "2024-05-22T05:13:53.046Z"
   },
   {
    "duration": 8,
    "start_time": "2024-05-22T05:14:04.142Z"
   },
   {
    "duration": 25,
    "start_time": "2024-05-22T05:14:15.025Z"
   },
   {
    "duration": 8,
    "start_time": "2024-05-22T05:14:18.946Z"
   },
   {
    "duration": 9,
    "start_time": "2024-05-22T05:14:26.093Z"
   },
   {
    "duration": 6,
    "start_time": "2024-05-22T05:15:03.510Z"
   },
   {
    "duration": 4,
    "start_time": "2024-05-22T05:15:05.902Z"
   },
   {
    "duration": 3,
    "start_time": "2024-05-22T05:15:08.284Z"
   },
   {
    "duration": 3,
    "start_time": "2024-05-22T05:15:09.696Z"
   },
   {
    "duration": 445,
    "start_time": "2024-05-22T05:15:10.814Z"
   },
   {
    "duration": 12,
    "start_time": "2024-05-22T05:15:12.831Z"
   },
   {
    "duration": 6,
    "start_time": "2024-05-22T05:15:22.969Z"
   },
   {
    "duration": 6,
    "start_time": "2024-05-22T05:15:32.476Z"
   },
   {
    "duration": 8,
    "start_time": "2024-05-22T05:16:09.070Z"
   },
   {
    "duration": 5,
    "start_time": "2024-05-22T05:17:17.417Z"
   },
   {
    "duration": 6,
    "start_time": "2024-05-22T05:17:18.718Z"
   },
   {
    "duration": 4,
    "start_time": "2024-05-22T05:17:19.954Z"
   },
   {
    "duration": 4,
    "start_time": "2024-05-22T05:17:20.287Z"
   },
   {
    "duration": 445,
    "start_time": "2024-05-22T05:17:20.705Z"
   },
   {
    "duration": 13,
    "start_time": "2024-05-22T05:17:22.662Z"
   },
   {
    "duration": 5,
    "start_time": "2024-05-22T05:17:27.389Z"
   },
   {
    "duration": 13,
    "start_time": "2024-05-22T05:17:29.252Z"
   },
   {
    "duration": 6,
    "start_time": "2024-05-22T05:18:37.212Z"
   },
   {
    "duration": 4,
    "start_time": "2024-05-22T05:18:39.015Z"
   },
   {
    "duration": 6,
    "start_time": "2024-05-22T05:18:39.384Z"
   },
   {
    "duration": 480,
    "start_time": "2024-05-22T05:18:39.965Z"
   },
   {
    "duration": 4,
    "start_time": "2024-05-22T05:19:55.944Z"
   },
   {
    "duration": 13,
    "start_time": "2024-05-22T05:19:56.847Z"
   },
   {
    "duration": 1002,
    "start_time": "2024-05-22T05:21:21.936Z"
   },
   {
    "duration": 7,
    "start_time": "2024-05-22T05:21:25.050Z"
   },
   {
    "duration": 1000,
    "start_time": "2024-05-22T05:21:26.998Z"
   },
   {
    "duration": 314,
    "start_time": "2024-05-22T05:42:35.747Z"
   },
   {
    "duration": 339,
    "start_time": "2024-05-22T05:42:43.436Z"
   },
   {
    "duration": 390,
    "start_time": "2024-05-22T05:44:02.383Z"
   },
   {
    "duration": 370,
    "start_time": "2024-05-22T05:44:10.510Z"
   },
   {
    "duration": 479,
    "start_time": "2024-05-22T05:44:15.193Z"
   },
   {
    "duration": 391,
    "start_time": "2024-05-22T05:44:22.075Z"
   },
   {
    "duration": 377,
    "start_time": "2024-05-22T05:44:26.706Z"
   },
   {
    "duration": 3,
    "start_time": "2024-05-22T06:28:32.655Z"
   },
   {
    "duration": 3,
    "start_time": "2024-05-22T06:28:33.921Z"
   },
   {
    "duration": 3,
    "start_time": "2024-05-22T06:31:24.155Z"
   },
   {
    "duration": 5326,
    "start_time": "2024-05-24T11:29:58.297Z"
   },
   {
    "duration": 4,
    "start_time": "2024-05-24T11:30:03.628Z"
   },
   {
    "duration": 534,
    "start_time": "2024-05-24T11:30:03.636Z"
   },
   {
    "duration": 525,
    "start_time": "2024-05-24T11:30:04.174Z"
   },
   {
    "duration": 19,
    "start_time": "2024-05-24T11:30:04.727Z"
   },
   {
    "duration": 285,
    "start_time": "2024-05-24T11:30:07.019Z"
   },
   {
    "duration": 81,
    "start_time": "2024-05-24T11:30:08.443Z"
   },
   {
    "duration": 81,
    "start_time": "2024-05-24T11:30:11.089Z"
   },
   {
    "duration": 114,
    "start_time": "2024-05-24T11:30:13.704Z"
   },
   {
    "duration": 86,
    "start_time": "2024-05-24T11:30:14.687Z"
   },
   {
    "duration": 191,
    "start_time": "2024-05-24T11:30:19.433Z"
   },
   {
    "duration": 161,
    "start_time": "2024-05-24T11:30:28.561Z"
   },
   {
    "duration": 169,
    "start_time": "2024-05-24T11:30:34.490Z"
   },
   {
    "duration": 169,
    "start_time": "2024-05-24T11:32:47.694Z"
   },
   {
    "duration": 156,
    "start_time": "2024-05-24T11:33:02.336Z"
   },
   {
    "duration": 148,
    "start_time": "2024-05-24T11:33:10.004Z"
   },
   {
    "duration": 11,
    "start_time": "2024-05-24T11:33:19.331Z"
   },
   {
    "duration": 10,
    "start_time": "2024-05-24T11:33:20.327Z"
   },
   {
    "duration": 11,
    "start_time": "2024-05-24T11:33:21.471Z"
   },
   {
    "duration": 8,
    "start_time": "2024-05-24T11:36:11.400Z"
   },
   {
    "duration": 16,
    "start_time": "2024-05-24T11:36:42.117Z"
   },
   {
    "duration": 1746,
    "start_time": "2024-05-24T19:37:46.188Z"
   },
   {
    "duration": 4,
    "start_time": "2024-05-24T19:37:47.939Z"
   },
   {
    "duration": 450,
    "start_time": "2024-05-24T19:37:47.947Z"
   },
   {
    "duration": 530,
    "start_time": "2024-05-24T19:37:48.402Z"
   },
   {
    "duration": 19,
    "start_time": "2024-05-24T19:37:48.936Z"
   },
   {
    "duration": 43,
    "start_time": "2024-05-24T19:37:48.958Z"
   },
   {
    "duration": 301,
    "start_time": "2024-05-24T19:37:49.028Z"
   },
   {
    "duration": 94,
    "start_time": "2024-05-24T19:37:49.332Z"
   },
   {
    "duration": 102,
    "start_time": "2024-05-24T19:37:49.430Z"
   },
   {
    "duration": 135,
    "start_time": "2024-05-24T19:37:49.539Z"
   },
   {
    "duration": 57,
    "start_time": "2024-05-24T19:37:49.677Z"
   },
   {
    "duration": 99,
    "start_time": "2024-05-24T19:37:49.737Z"
   },
   {
    "duration": 185,
    "start_time": "2024-05-24T19:37:49.840Z"
   },
   {
    "duration": 12,
    "start_time": "2024-05-24T19:37:50.028Z"
   },
   {
    "duration": 12,
    "start_time": "2024-05-24T19:37:50.043Z"
   },
   {
    "duration": 12,
    "start_time": "2024-05-24T19:37:50.058Z"
   },
   {
    "duration": 62,
    "start_time": "2024-05-24T19:37:50.074Z"
   },
   {
    "duration": 6,
    "start_time": "2024-05-24T19:37:50.140Z"
   },
   {
    "duration": 452,
    "start_time": "2024-05-24T19:37:50.150Z"
   },
   {
    "duration": 404,
    "start_time": "2024-05-24T19:37:50.606Z"
   },
   {
    "duration": 386,
    "start_time": "2024-05-24T19:37:51.015Z"
   },
   {
    "duration": 398,
    "start_time": "2024-05-24T19:37:51.404Z"
   },
   {
    "duration": 446,
    "start_time": "2024-05-24T19:37:51.805Z"
   },
   {
    "duration": 921,
    "start_time": "2024-05-24T19:37:52.254Z"
   },
   {
    "duration": 6,
    "start_time": "2024-05-24T19:37:53.178Z"
   },
   {
    "duration": 4,
    "start_time": "2024-05-24T19:37:53.188Z"
   },
   {
    "duration": 4,
    "start_time": "2024-05-24T19:37:53.197Z"
   },
   {
    "duration": 540,
    "start_time": "2024-05-24T19:37:53.231Z"
   },
   {
    "duration": 64,
    "start_time": "2024-05-24T19:37:53.774Z"
   },
   {
    "duration": 5,
    "start_time": "2024-05-24T19:37:53.841Z"
   },
   {
    "duration": 79,
    "start_time": "2024-05-24T19:37:53.850Z"
   },
   {
    "duration": 7,
    "start_time": "2024-05-24T19:37:53.934Z"
   },
   {
    "duration": 5,
    "start_time": "2024-05-24T19:37:53.945Z"
   },
   {
    "duration": 14,
    "start_time": "2024-05-24T19:37:53.954Z"
   },
   {
    "duration": 56,
    "start_time": "2024-05-24T19:37:53.972Z"
   },
   {
    "duration": 1082,
    "start_time": "2024-05-24T19:37:54.032Z"
   },
   {
    "duration": 9,
    "start_time": "2024-05-24T19:37:55.118Z"
   },
   {
    "duration": 443,
    "start_time": "2024-05-24T19:37:55.131Z"
   }
  ],
  "kernelspec": {
   "display_name": "Python 3 (ipykernel)",
   "language": "python",
   "name": "python3"
  },
  "language_info": {
   "codemirror_mode": {
    "name": "ipython",
    "version": 3
   },
   "file_extension": ".py",
   "mimetype": "text/x-python",
   "name": "python",
   "nbconvert_exporter": "python",
   "pygments_lexer": "ipython3",
   "version": "3.9.19"
  },
  "toc": {
   "base_numbering": 1,
   "nav_menu": {},
   "number_sections": true,
   "sideBar": true,
   "skip_h1_title": true,
   "title_cell": "Table of Contents",
   "title_sidebar": "Contents",
   "toc_cell": false,
   "toc_position": {},
   "toc_section_display": true,
   "toc_window_display": false
  }
 },
 "nbformat": 4,
 "nbformat_minor": 2
}
