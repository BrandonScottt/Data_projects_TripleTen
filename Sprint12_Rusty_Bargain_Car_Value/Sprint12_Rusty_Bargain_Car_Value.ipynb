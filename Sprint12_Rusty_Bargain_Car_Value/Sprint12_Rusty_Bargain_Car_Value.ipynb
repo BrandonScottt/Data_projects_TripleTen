{
 "cells": [
  {
   "cell_type": "markdown",
   "metadata": {},
   "source": [
    "Hello Brandon!\n",
    "\n",
    "I’m happy to review your project today.\n",
    "I will mark your mistakes and give you some hints how it is possible to fix them. We are getting ready for real job, where your team leader/senior colleague will do exactly the same. Don't worry and study with pleasure! \n",
    "\n",
    "Below you will find my comments - **please do not move, modify or delete them**.\n",
    "\n",
    "You can find my comments in green, yellow or red boxes like this:\n",
    "\n",
    "<div class=\"alert alert-block alert-success\">\n",
    "<b>Reviewer's comment</b> <a class=\"tocSkip\"></a>\n",
    "\n",
    "Success. Everything is done succesfully.\n",
    "</div>\n",
    "\n",
    "<div class=\"alert alert-block alert-warning\">\n",
    "<b>Reviewer's comment</b> <a class=\"tocSkip\"></a>\n",
    "\n",
    "Remarks. Some recommendations.\n",
    "</div>\n",
    "\n",
    "<div class=\"alert alert-block alert-danger\">\n",
    "\n",
    "<b>Reviewer's comment</b> <a class=\"tocSkip\"></a>\n",
    "\n",
    "Needs fixing. The block requires some corrections. Work can't be accepted with the red comments.\n",
    "</div>\n",
    "\n",
    "You can answer me by using this:\n",
    "\n",
    "<div class=\"alert alert-block alert-info\">\n",
    "<b>Student answer.</b> <a class=\"tocSkip\"></a>\n",
    "\n",
    "Text here.\n",
    "</div>"
   ]
  },
  {
   "cell_type": "markdown",
   "metadata": {},
   "source": [
    "Rusty Bargain used car sales service is developing an app to attract new customers. In that app, you can quickly find out the market value of your car. You have access to historical data: technical specifications, trim versions, and prices. You need to build the model to determine the value. \n",
    "\n",
    "Rusty Bargain is interested in:\n",
    "\n",
    "- the quality of the prediction;\n",
    "- the speed of the prediction;\n",
    "- the time required for training"
   ]
  },
  {
   "cell_type": "markdown",
   "metadata": {},
   "source": [
    "**Goal**\n",
    "\n",
    "Build regression models, and compare their quality of prediction, speed of prediction, and time required to train. The best model will be used to predict the price of a car."
   ]
  },
  {
   "cell_type": "code",
   "execution_count": 1,
   "metadata": {},
   "outputs": [],
   "source": [
    "import pandas as pd\n",
    "import numpy as np\n",
    "import os\n",
    "import matplotlib.pyplot as plt\n",
    "import seaborn as sns\n",
    "import time\n",
    "\n",
    "from sklearn.model_selection import train_test_split, GridSearchCV\n",
    "from sklearn.ensemble import RandomForestRegressor\n",
    "from sklearn.linear_model import LinearRegression\n",
    "from sklearn.preprocessing import LabelEncoder, OrdinalEncoder\n",
    "from sklearn.metrics import mean_squared_error, mean_absolute_error, r2_score\n",
    "from sklearn.model_selection import GridSearchCV\n",
    "from sklearn.metrics import make_scorer\n",
    "\n",
    "from catboost import CatBoostRegressor, CatBoostClassifier\n",
    "from lightgbm import LGBMRegressor\n",
    "\n",
    "import warnings\n",
    "warnings.filterwarnings('ignore')"
   ]
  },
  {
   "cell_type": "markdown",
   "metadata": {},
   "source": [
    "## Data preparation"
   ]
  },
  {
   "cell_type": "code",
   "execution_count": 2,
   "metadata": {},
   "outputs": [],
   "source": [
    "df = pd.read_csv('/datasets/car_data.csv')"
   ]
  },
  {
   "cell_type": "code",
   "execution_count": 3,
   "metadata": {},
   "outputs": [
    {
     "data": {
      "text/html": [
       "<div>\n",
       "<style scoped>\n",
       "    .dataframe tbody tr th:only-of-type {\n",
       "        vertical-align: middle;\n",
       "    }\n",
       "\n",
       "    .dataframe tbody tr th {\n",
       "        vertical-align: top;\n",
       "    }\n",
       "\n",
       "    .dataframe thead th {\n",
       "        text-align: right;\n",
       "    }\n",
       "</style>\n",
       "<table border=\"1\" class=\"dataframe\">\n",
       "  <thead>\n",
       "    <tr style=\"text-align: right;\">\n",
       "      <th></th>\n",
       "      <th>DateCrawled</th>\n",
       "      <th>Price</th>\n",
       "      <th>VehicleType</th>\n",
       "      <th>RegistrationYear</th>\n",
       "      <th>Gearbox</th>\n",
       "      <th>Power</th>\n",
       "      <th>Model</th>\n",
       "      <th>Mileage</th>\n",
       "      <th>RegistrationMonth</th>\n",
       "      <th>FuelType</th>\n",
       "      <th>Brand</th>\n",
       "      <th>NotRepaired</th>\n",
       "      <th>DateCreated</th>\n",
       "      <th>NumberOfPictures</th>\n",
       "      <th>PostalCode</th>\n",
       "      <th>LastSeen</th>\n",
       "    </tr>\n",
       "  </thead>\n",
       "  <tbody>\n",
       "    <tr>\n",
       "      <th>0</th>\n",
       "      <td>24/03/2016 11:52</td>\n",
       "      <td>480</td>\n",
       "      <td>NaN</td>\n",
       "      <td>1993</td>\n",
       "      <td>manual</td>\n",
       "      <td>0</td>\n",
       "      <td>golf</td>\n",
       "      <td>150000</td>\n",
       "      <td>0</td>\n",
       "      <td>petrol</td>\n",
       "      <td>volkswagen</td>\n",
       "      <td>NaN</td>\n",
       "      <td>24/03/2016 00:00</td>\n",
       "      <td>0</td>\n",
       "      <td>70435</td>\n",
       "      <td>07/04/2016 03:16</td>\n",
       "    </tr>\n",
       "    <tr>\n",
       "      <th>1</th>\n",
       "      <td>24/03/2016 10:58</td>\n",
       "      <td>18300</td>\n",
       "      <td>coupe</td>\n",
       "      <td>2011</td>\n",
       "      <td>manual</td>\n",
       "      <td>190</td>\n",
       "      <td>NaN</td>\n",
       "      <td>125000</td>\n",
       "      <td>5</td>\n",
       "      <td>gasoline</td>\n",
       "      <td>audi</td>\n",
       "      <td>yes</td>\n",
       "      <td>24/03/2016 00:00</td>\n",
       "      <td>0</td>\n",
       "      <td>66954</td>\n",
       "      <td>07/04/2016 01:46</td>\n",
       "    </tr>\n",
       "    <tr>\n",
       "      <th>2</th>\n",
       "      <td>14/03/2016 12:52</td>\n",
       "      <td>9800</td>\n",
       "      <td>suv</td>\n",
       "      <td>2004</td>\n",
       "      <td>auto</td>\n",
       "      <td>163</td>\n",
       "      <td>grand</td>\n",
       "      <td>125000</td>\n",
       "      <td>8</td>\n",
       "      <td>gasoline</td>\n",
       "      <td>jeep</td>\n",
       "      <td>NaN</td>\n",
       "      <td>14/03/2016 00:00</td>\n",
       "      <td>0</td>\n",
       "      <td>90480</td>\n",
       "      <td>05/04/2016 12:47</td>\n",
       "    </tr>\n",
       "    <tr>\n",
       "      <th>3</th>\n",
       "      <td>17/03/2016 16:54</td>\n",
       "      <td>1500</td>\n",
       "      <td>small</td>\n",
       "      <td>2001</td>\n",
       "      <td>manual</td>\n",
       "      <td>75</td>\n",
       "      <td>golf</td>\n",
       "      <td>150000</td>\n",
       "      <td>6</td>\n",
       "      <td>petrol</td>\n",
       "      <td>volkswagen</td>\n",
       "      <td>no</td>\n",
       "      <td>17/03/2016 00:00</td>\n",
       "      <td>0</td>\n",
       "      <td>91074</td>\n",
       "      <td>17/03/2016 17:40</td>\n",
       "    </tr>\n",
       "    <tr>\n",
       "      <th>4</th>\n",
       "      <td>31/03/2016 17:25</td>\n",
       "      <td>3600</td>\n",
       "      <td>small</td>\n",
       "      <td>2008</td>\n",
       "      <td>manual</td>\n",
       "      <td>69</td>\n",
       "      <td>fabia</td>\n",
       "      <td>90000</td>\n",
       "      <td>7</td>\n",
       "      <td>gasoline</td>\n",
       "      <td>skoda</td>\n",
       "      <td>no</td>\n",
       "      <td>31/03/2016 00:00</td>\n",
       "      <td>0</td>\n",
       "      <td>60437</td>\n",
       "      <td>06/04/2016 10:17</td>\n",
       "    </tr>\n",
       "  </tbody>\n",
       "</table>\n",
       "</div>"
      ],
      "text/plain": [
       "        DateCrawled  Price VehicleType  RegistrationYear Gearbox  Power  \\\n",
       "0  24/03/2016 11:52    480         NaN              1993  manual      0   \n",
       "1  24/03/2016 10:58  18300       coupe              2011  manual    190   \n",
       "2  14/03/2016 12:52   9800         suv              2004    auto    163   \n",
       "3  17/03/2016 16:54   1500       small              2001  manual     75   \n",
       "4  31/03/2016 17:25   3600       small              2008  manual     69   \n",
       "\n",
       "   Model  Mileage  RegistrationMonth  FuelType       Brand NotRepaired  \\\n",
       "0   golf   150000                  0    petrol  volkswagen         NaN   \n",
       "1    NaN   125000                  5  gasoline        audi         yes   \n",
       "2  grand   125000                  8  gasoline        jeep         NaN   \n",
       "3   golf   150000                  6    petrol  volkswagen          no   \n",
       "4  fabia    90000                  7  gasoline       skoda          no   \n",
       "\n",
       "        DateCreated  NumberOfPictures  PostalCode          LastSeen  \n",
       "0  24/03/2016 00:00                 0       70435  07/04/2016 03:16  \n",
       "1  24/03/2016 00:00                 0       66954  07/04/2016 01:46  \n",
       "2  14/03/2016 00:00                 0       90480  05/04/2016 12:47  \n",
       "3  17/03/2016 00:00                 0       91074  17/03/2016 17:40  \n",
       "4  31/03/2016 00:00                 0       60437  06/04/2016 10:17  "
      ]
     },
     "execution_count": 3,
     "metadata": {},
     "output_type": "execute_result"
    }
   ],
   "source": [
    "df.head()"
   ]
  },
  {
   "cell_type": "code",
   "execution_count": 4,
   "metadata": {},
   "outputs": [
    {
     "data": {
      "text/plain": [
       "(354369, 16)"
      ]
     },
     "execution_count": 4,
     "metadata": {},
     "output_type": "execute_result"
    }
   ],
   "source": [
    "df.shape"
   ]
  },
  {
   "cell_type": "code",
   "execution_count": 5,
   "metadata": {},
   "outputs": [
    {
     "name": "stdout",
     "output_type": "stream",
     "text": [
      "<class 'pandas.core.frame.DataFrame'>\n",
      "RangeIndex: 354369 entries, 0 to 354368\n",
      "Data columns (total 16 columns):\n",
      " #   Column             Non-Null Count   Dtype \n",
      "---  ------             --------------   ----- \n",
      " 0   DateCrawled        354369 non-null  object\n",
      " 1   Price              354369 non-null  int64 \n",
      " 2   VehicleType        316879 non-null  object\n",
      " 3   RegistrationYear   354369 non-null  int64 \n",
      " 4   Gearbox            334536 non-null  object\n",
      " 5   Power              354369 non-null  int64 \n",
      " 6   Model              334664 non-null  object\n",
      " 7   Mileage            354369 non-null  int64 \n",
      " 8   RegistrationMonth  354369 non-null  int64 \n",
      " 9   FuelType           321474 non-null  object\n",
      " 10  Brand              354369 non-null  object\n",
      " 11  NotRepaired        283215 non-null  object\n",
      " 12  DateCreated        354369 non-null  object\n",
      " 13  NumberOfPictures   354369 non-null  int64 \n",
      " 14  PostalCode         354369 non-null  int64 \n",
      " 15  LastSeen           354369 non-null  object\n",
      "dtypes: int64(7), object(9)\n",
      "memory usage: 43.3+ MB\n"
     ]
    }
   ],
   "source": [
    "df.info()"
   ]
  },
  {
   "cell_type": "code",
   "execution_count": 6,
   "metadata": {},
   "outputs": [
    {
     "data": {
      "text/plain": [
       "DateCrawled              0\n",
       "Price                    0\n",
       "VehicleType          37490\n",
       "RegistrationYear         0\n",
       "Gearbox              19833\n",
       "Power                    0\n",
       "Model                19705\n",
       "Mileage                  0\n",
       "RegistrationMonth        0\n",
       "FuelType             32895\n",
       "Brand                    0\n",
       "NotRepaired          71154\n",
       "DateCreated              0\n",
       "NumberOfPictures         0\n",
       "PostalCode               0\n",
       "LastSeen                 0\n",
       "dtype: int64"
      ]
     },
     "execution_count": 6,
     "metadata": {},
     "output_type": "execute_result"
    }
   ],
   "source": [
    "df.isnull().sum()"
   ]
  },
  {
   "cell_type": "markdown",
   "metadata": {},
   "source": [
    "NotRepaired, VehicleType, FuelType are the top 3 features with most missing value."
   ]
  },
  {
   "cell_type": "code",
   "execution_count": 7,
   "metadata": {},
   "outputs": [
    {
     "data": {
      "text/plain": [
       "262"
      ]
     },
     "execution_count": 7,
     "metadata": {},
     "output_type": "execute_result"
    }
   ],
   "source": [
    "df.duplicated().sum()"
   ]
  },
  {
   "cell_type": "code",
   "execution_count": 8,
   "metadata": {},
   "outputs": [
    {
     "data": {
      "text/html": [
       "<div>\n",
       "<style scoped>\n",
       "    .dataframe tbody tr th:only-of-type {\n",
       "        vertical-align: middle;\n",
       "    }\n",
       "\n",
       "    .dataframe tbody tr th {\n",
       "        vertical-align: top;\n",
       "    }\n",
       "\n",
       "    .dataframe thead th {\n",
       "        text-align: right;\n",
       "    }\n",
       "</style>\n",
       "<table border=\"1\" class=\"dataframe\">\n",
       "  <thead>\n",
       "    <tr style=\"text-align: right;\">\n",
       "      <th></th>\n",
       "      <th>DateCrawled</th>\n",
       "      <th>Price</th>\n",
       "      <th>VehicleType</th>\n",
       "      <th>RegistrationYear</th>\n",
       "      <th>Gearbox</th>\n",
       "      <th>Power</th>\n",
       "      <th>Model</th>\n",
       "      <th>Mileage</th>\n",
       "      <th>RegistrationMonth</th>\n",
       "      <th>FuelType</th>\n",
       "      <th>Brand</th>\n",
       "      <th>NotRepaired</th>\n",
       "      <th>DateCreated</th>\n",
       "      <th>NumberOfPictures</th>\n",
       "      <th>PostalCode</th>\n",
       "      <th>LastSeen</th>\n",
       "    </tr>\n",
       "  </thead>\n",
       "  <tbody>\n",
       "    <tr>\n",
       "      <th>14266</th>\n",
       "      <td>21/03/2016 19:06</td>\n",
       "      <td>5999</td>\n",
       "      <td>small</td>\n",
       "      <td>2009</td>\n",
       "      <td>manual</td>\n",
       "      <td>80</td>\n",
       "      <td>polo</td>\n",
       "      <td>125000</td>\n",
       "      <td>5</td>\n",
       "      <td>petrol</td>\n",
       "      <td>volkswagen</td>\n",
       "      <td>no</td>\n",
       "      <td>21/03/2016 00:00</td>\n",
       "      <td>0</td>\n",
       "      <td>65529</td>\n",
       "      <td>05/04/2016 20:47</td>\n",
       "    </tr>\n",
       "    <tr>\n",
       "      <th>27568</th>\n",
       "      <td>23/03/2016 10:38</td>\n",
       "      <td>12200</td>\n",
       "      <td>bus</td>\n",
       "      <td>2011</td>\n",
       "      <td>manual</td>\n",
       "      <td>125</td>\n",
       "      <td>zafira</td>\n",
       "      <td>40000</td>\n",
       "      <td>10</td>\n",
       "      <td>gasoline</td>\n",
       "      <td>opel</td>\n",
       "      <td>no</td>\n",
       "      <td>23/03/2016 00:00</td>\n",
       "      <td>0</td>\n",
       "      <td>26629</td>\n",
       "      <td>05/04/2016 07:44</td>\n",
       "    </tr>\n",
       "    <tr>\n",
       "      <th>31599</th>\n",
       "      <td>03/04/2016 20:41</td>\n",
       "      <td>4950</td>\n",
       "      <td>wagon</td>\n",
       "      <td>2003</td>\n",
       "      <td>auto</td>\n",
       "      <td>170</td>\n",
       "      <td>e_klasse</td>\n",
       "      <td>150000</td>\n",
       "      <td>4</td>\n",
       "      <td>gasoline</td>\n",
       "      <td>mercedes_benz</td>\n",
       "      <td>no</td>\n",
       "      <td>03/04/2016 00:00</td>\n",
       "      <td>0</td>\n",
       "      <td>48432</td>\n",
       "      <td>05/04/2016 21:17</td>\n",
       "    </tr>\n",
       "    <tr>\n",
       "      <th>33138</th>\n",
       "      <td>07/03/2016 20:45</td>\n",
       "      <td>10900</td>\n",
       "      <td>convertible</td>\n",
       "      <td>2005</td>\n",
       "      <td>auto</td>\n",
       "      <td>163</td>\n",
       "      <td>clk</td>\n",
       "      <td>125000</td>\n",
       "      <td>5</td>\n",
       "      <td>petrol</td>\n",
       "      <td>mercedes_benz</td>\n",
       "      <td>no</td>\n",
       "      <td>07/03/2016 00:00</td>\n",
       "      <td>0</td>\n",
       "      <td>61200</td>\n",
       "      <td>21/03/2016 03:45</td>\n",
       "    </tr>\n",
       "    <tr>\n",
       "      <th>43656</th>\n",
       "      <td>13/03/2016 20:48</td>\n",
       "      <td>4200</td>\n",
       "      <td>sedan</td>\n",
       "      <td>2003</td>\n",
       "      <td>manual</td>\n",
       "      <td>105</td>\n",
       "      <td>golf</td>\n",
       "      <td>150000</td>\n",
       "      <td>10</td>\n",
       "      <td>gasoline</td>\n",
       "      <td>volkswagen</td>\n",
       "      <td>no</td>\n",
       "      <td>13/03/2016 00:00</td>\n",
       "      <td>0</td>\n",
       "      <td>14482</td>\n",
       "      <td>13/03/2016 20:48</td>\n",
       "    </tr>\n",
       "  </tbody>\n",
       "</table>\n",
       "</div>"
      ],
      "text/plain": [
       "            DateCrawled  Price  VehicleType  RegistrationYear Gearbox  Power  \\\n",
       "14266  21/03/2016 19:06   5999        small              2009  manual     80   \n",
       "27568  23/03/2016 10:38  12200          bus              2011  manual    125   \n",
       "31599  03/04/2016 20:41   4950        wagon              2003    auto    170   \n",
       "33138  07/03/2016 20:45  10900  convertible              2005    auto    163   \n",
       "43656  13/03/2016 20:48   4200        sedan              2003  manual    105   \n",
       "\n",
       "          Model  Mileage  RegistrationMonth  FuelType          Brand  \\\n",
       "14266      polo   125000                  5    petrol     volkswagen   \n",
       "27568    zafira    40000                 10  gasoline           opel   \n",
       "31599  e_klasse   150000                  4  gasoline  mercedes_benz   \n",
       "33138       clk   125000                  5    petrol  mercedes_benz   \n",
       "43656      golf   150000                 10  gasoline     volkswagen   \n",
       "\n",
       "      NotRepaired       DateCreated  NumberOfPictures  PostalCode  \\\n",
       "14266          no  21/03/2016 00:00                 0       65529   \n",
       "27568          no  23/03/2016 00:00                 0       26629   \n",
       "31599          no  03/04/2016 00:00                 0       48432   \n",
       "33138          no  07/03/2016 00:00                 0       61200   \n",
       "43656          no  13/03/2016 00:00                 0       14482   \n",
       "\n",
       "               LastSeen  \n",
       "14266  05/04/2016 20:47  \n",
       "27568  05/04/2016 07:44  \n",
       "31599  05/04/2016 21:17  \n",
       "33138  21/03/2016 03:45  \n",
       "43656  13/03/2016 20:48  "
      ]
     },
     "execution_count": 8,
     "metadata": {},
     "output_type": "execute_result"
    }
   ],
   "source": [
    "df[df.duplicated()].head()"
   ]
  },
  {
   "cell_type": "code",
   "execution_count": 9,
   "metadata": {},
   "outputs": [
    {
     "data": {
      "text/html": [
       "<div>\n",
       "<style scoped>\n",
       "    .dataframe tbody tr th:only-of-type {\n",
       "        vertical-align: middle;\n",
       "    }\n",
       "\n",
       "    .dataframe tbody tr th {\n",
       "        vertical-align: top;\n",
       "    }\n",
       "\n",
       "    .dataframe thead th {\n",
       "        text-align: right;\n",
       "    }\n",
       "</style>\n",
       "<table border=\"1\" class=\"dataframe\">\n",
       "  <thead>\n",
       "    <tr style=\"text-align: right;\">\n",
       "      <th></th>\n",
       "      <th>Price</th>\n",
       "      <th>RegistrationYear</th>\n",
       "      <th>Power</th>\n",
       "      <th>Mileage</th>\n",
       "      <th>RegistrationMonth</th>\n",
       "      <th>NumberOfPictures</th>\n",
       "      <th>PostalCode</th>\n",
       "    </tr>\n",
       "  </thead>\n",
       "  <tbody>\n",
       "    <tr>\n",
       "      <th>count</th>\n",
       "      <td>354369.000000</td>\n",
       "      <td>354369.000000</td>\n",
       "      <td>354369.000000</td>\n",
       "      <td>354369.000000</td>\n",
       "      <td>354369.000000</td>\n",
       "      <td>354369.0</td>\n",
       "      <td>354369.000000</td>\n",
       "    </tr>\n",
       "    <tr>\n",
       "      <th>mean</th>\n",
       "      <td>4416.656776</td>\n",
       "      <td>2004.234448</td>\n",
       "      <td>110.094337</td>\n",
       "      <td>128211.172535</td>\n",
       "      <td>5.714645</td>\n",
       "      <td>0.0</td>\n",
       "      <td>50508.689087</td>\n",
       "    </tr>\n",
       "    <tr>\n",
       "      <th>std</th>\n",
       "      <td>4514.158514</td>\n",
       "      <td>90.227958</td>\n",
       "      <td>189.850405</td>\n",
       "      <td>37905.341530</td>\n",
       "      <td>3.726421</td>\n",
       "      <td>0.0</td>\n",
       "      <td>25783.096248</td>\n",
       "    </tr>\n",
       "    <tr>\n",
       "      <th>min</th>\n",
       "      <td>0.000000</td>\n",
       "      <td>1000.000000</td>\n",
       "      <td>0.000000</td>\n",
       "      <td>5000.000000</td>\n",
       "      <td>0.000000</td>\n",
       "      <td>0.0</td>\n",
       "      <td>1067.000000</td>\n",
       "    </tr>\n",
       "    <tr>\n",
       "      <th>25%</th>\n",
       "      <td>1050.000000</td>\n",
       "      <td>1999.000000</td>\n",
       "      <td>69.000000</td>\n",
       "      <td>125000.000000</td>\n",
       "      <td>3.000000</td>\n",
       "      <td>0.0</td>\n",
       "      <td>30165.000000</td>\n",
       "    </tr>\n",
       "    <tr>\n",
       "      <th>50%</th>\n",
       "      <td>2700.000000</td>\n",
       "      <td>2003.000000</td>\n",
       "      <td>105.000000</td>\n",
       "      <td>150000.000000</td>\n",
       "      <td>6.000000</td>\n",
       "      <td>0.0</td>\n",
       "      <td>49413.000000</td>\n",
       "    </tr>\n",
       "    <tr>\n",
       "      <th>75%</th>\n",
       "      <td>6400.000000</td>\n",
       "      <td>2008.000000</td>\n",
       "      <td>143.000000</td>\n",
       "      <td>150000.000000</td>\n",
       "      <td>9.000000</td>\n",
       "      <td>0.0</td>\n",
       "      <td>71083.000000</td>\n",
       "    </tr>\n",
       "    <tr>\n",
       "      <th>max</th>\n",
       "      <td>20000.000000</td>\n",
       "      <td>9999.000000</td>\n",
       "      <td>20000.000000</td>\n",
       "      <td>150000.000000</td>\n",
       "      <td>12.000000</td>\n",
       "      <td>0.0</td>\n",
       "      <td>99998.000000</td>\n",
       "    </tr>\n",
       "  </tbody>\n",
       "</table>\n",
       "</div>"
      ],
      "text/plain": [
       "               Price  RegistrationYear          Power        Mileage  \\\n",
       "count  354369.000000     354369.000000  354369.000000  354369.000000   \n",
       "mean     4416.656776       2004.234448     110.094337  128211.172535   \n",
       "std      4514.158514         90.227958     189.850405   37905.341530   \n",
       "min         0.000000       1000.000000       0.000000    5000.000000   \n",
       "25%      1050.000000       1999.000000      69.000000  125000.000000   \n",
       "50%      2700.000000       2003.000000     105.000000  150000.000000   \n",
       "75%      6400.000000       2008.000000     143.000000  150000.000000   \n",
       "max     20000.000000       9999.000000   20000.000000  150000.000000   \n",
       "\n",
       "       RegistrationMonth  NumberOfPictures     PostalCode  \n",
       "count      354369.000000          354369.0  354369.000000  \n",
       "mean            5.714645               0.0   50508.689087  \n",
       "std             3.726421               0.0   25783.096248  \n",
       "min             0.000000               0.0    1067.000000  \n",
       "25%             3.000000               0.0   30165.000000  \n",
       "50%             6.000000               0.0   49413.000000  \n",
       "75%             9.000000               0.0   71083.000000  \n",
       "max            12.000000               0.0   99998.000000  "
      ]
     },
     "execution_count": 9,
     "metadata": {},
     "output_type": "execute_result"
    }
   ],
   "source": [
    "df.describe()"
   ]
  },
  {
   "cell_type": "code",
   "execution_count": 10,
   "metadata": {},
   "outputs": [],
   "source": [
    "#fic date format\n",
    "df['DateCrawled'] = pd.to_datetime(df['DateCrawled'], format='%d/%m/%Y %H:%M')\n",
    "df['DateCreated'] = pd.to_datetime(df['DateCreated'], format='%d/%m/%Y %H:%M')\n",
    "df['LastSeen'] = pd.to_datetime(df['LastSeen'], format='%d/%m/%Y %H:%M')"
   ]
  },
  {
   "cell_type": "code",
   "execution_count": 11,
   "metadata": {},
   "outputs": [
    {
     "data": {
      "text/plain": [
       "(Timestamp('2016-03-05 14:06:00'), Timestamp('2016-04-07 14:36:00'))"
      ]
     },
     "execution_count": 11,
     "metadata": {},
     "output_type": "execute_result"
    }
   ],
   "source": [
    "df['DateCrawled'].min(), df['DateCrawled'].max()"
   ]
  },
  {
   "cell_type": "code",
   "execution_count": 12,
   "metadata": {},
   "outputs": [
    {
     "data": {
      "text/plain": [
       "(Timestamp('2014-03-10 00:00:00'), Timestamp('2016-04-07 00:00:00'))"
      ]
     },
     "execution_count": 12,
     "metadata": {},
     "output_type": "execute_result"
    }
   ],
   "source": [
    "df['DateCreated'].min(), df['DateCreated'].max() "
   ]
  },
  {
   "cell_type": "code",
   "execution_count": 13,
   "metadata": {},
   "outputs": [
    {
     "data": {
      "text/plain": [
       "(Timestamp('2016-03-05 14:15:00'), Timestamp('2016-04-07 14:58:00'))"
      ]
     },
     "execution_count": 13,
     "metadata": {},
     "output_type": "execute_result"
    }
   ],
   "source": [
    "df['LastSeen'].min(), df['LastSeen'].max() "
   ]
  },
  {
   "cell_type": "code",
   "execution_count": 14,
   "metadata": {},
   "outputs": [],
   "source": [
    "df.drop_duplicates(inplace=True)"
   ]
  },
  {
   "cell_type": "code",
   "execution_count": 15,
   "metadata": {},
   "outputs": [
    {
     "data": {
      "text/plain": [
       "(354107, 16)"
      ]
     },
     "execution_count": 15,
     "metadata": {},
     "output_type": "execute_result"
    }
   ],
   "source": [
    "df.shape"
   ]
  },
  {
   "cell_type": "code",
   "execution_count": 16,
   "metadata": {},
   "outputs": [],
   "source": [
    "#Create a new feature\n",
    "df['DaysOnSite'] = (df['LastSeen'] - df['DateCreated']).dt.days"
   ]
  },
  {
   "cell_type": "code",
   "execution_count": 17,
   "metadata": {},
   "outputs": [
    {
     "data": {
      "text/plain": [
       "False"
      ]
     },
     "execution_count": 17,
     "metadata": {},
     "output_type": "execute_result"
    }
   ],
   "source": [
    "np.any(df['DaysOnSite'] < 0)"
   ]
  },
  {
   "cell_type": "code",
   "execution_count": 18,
   "metadata": {},
   "outputs": [],
   "source": [
    "df['CreateYear'] = df['DateCreated'].dt.year\n",
    "df['CreateMonth'] = df['DateCreated'].dt.month\n",
    "df['CreateDay'] = df['DateCreated'].dt.day"
   ]
  },
  {
   "cell_type": "code",
   "execution_count": 19,
   "metadata": {},
   "outputs": [],
   "source": [
    "def category_distribution(df, field):\n",
    "   \n",
    "    print(f'Distribution for {field}')\n",
    "    print(df[field].value_counts(normalize=True, dropna=False))\n",
    "    print()"
   ]
  },
  {
   "cell_type": "code",
   "execution_count": 20,
   "metadata": {},
   "outputs": [
    {
     "name": "stdout",
     "output_type": "stream",
     "text": [
      "Distribution for NotRepaired\n",
      "no     0.697323\n",
      "NaN    0.200914\n",
      "yes    0.101763\n",
      "Name: NotRepaired, dtype: float64\n",
      "\n",
      "Distribution for VehicleType\n",
      "sedan          0.258111\n",
      "small          0.225223\n",
      "wagon          0.183885\n",
      "NaN            0.105855\n",
      "bus            0.081196\n",
      "convertible    0.056988\n",
      "coupe          0.045599\n",
      "suv            0.033863\n",
      "other          0.009280\n",
      "Name: VehicleType, dtype: float64\n",
      "\n",
      "Distribution for FuelType\n",
      "petrol      0.610440\n",
      "gasoline    0.278611\n",
      "NaN         0.092879\n",
      "lpg         0.014987\n",
      "cng         0.001596\n",
      "hybrid      0.000658\n",
      "other       0.000576\n",
      "electric    0.000254\n",
      "Name: FuelType, dtype: float64\n",
      "\n",
      "Distribution for Gearbox\n",
      "manual    0.756929\n",
      "auto      0.187071\n",
      "NaN       0.056000\n",
      "Name: Gearbox, dtype: float64\n",
      "\n",
      "Distribution for Model\n",
      "golf                  0.082503\n",
      "other                 0.068911\n",
      "3er                   0.055757\n",
      "NaN                   0.055636\n",
      "polo                  0.036873\n",
      "                        ...   \n",
      "serie_2               0.000023\n",
      "rangerover            0.000011\n",
      "serie_3               0.000011\n",
      "serie_1               0.000006\n",
      "range_rover_evoque    0.000006\n",
      "Name: Model, Length: 251, dtype: float64\n",
      "\n"
     ]
    }
   ],
   "source": [
    "cat_cols = ['NotRepaired', 'VehicleType', 'FuelType', 'Gearbox', 'Model']\n",
    "for col in cat_cols:\n",
    "    category_distribution(df, col)"
   ]
  },
  {
   "cell_type": "code",
   "execution_count": 21,
   "metadata": {},
   "outputs": [],
   "source": [
    "#Populate features with missing values\n",
    "def populate_missing_categories(df, field):\n",
    "    \n",
    "    np.random.seed(42)\n",
    "    a = df[field].value_counts().index\n",
    "    p = df[field].value_counts(normalize=True).values\n",
    "    size = df[field].isnull().sum()\n",
    "    values = np.random.choice(a, p=p, size=size)\n",
    "    return values"
   ]
  },
  {
   "cell_type": "code",
   "execution_count": 22,
   "metadata": {},
   "outputs": [
    {
     "name": "stdout",
     "output_type": "stream",
     "text": [
      "Populate missing values for NotRepaired\n",
      "Populate missing values for Gearbox\n"
     ]
    }
   ],
   "source": [
    "bin_cols = ['NotRepaired', 'Gearbox']\n",
    "for col in bin_cols:\n",
    "    print(f'Populate missing values for {col}')\n",
    "    df.loc[df[col].isnull(), col] = populate_missing_categories(df, col)"
   ]
  },
  {
   "cell_type": "code",
   "execution_count": 23,
   "metadata": {},
   "outputs": [],
   "source": [
    "def build_model_to_populate_missing_feats(model, df, target, \n",
    "                hyperparameters={}, \n",
    "                scoring=None,\n",
    "                cv=2, frac=0.4, drop_feats=[], cat_features=[], verbose=False):\n",
    "   \n",
    "    np.random.seed(42)\n",
    "    start_time = time.time()\n",
    "    data = df.copy(deep=True)\n",
    "    data.drop(drop_feats, axis=1, inplace=True)\n",
    "    data[cat_features] = data[cat_features].replace(np.nan, 'nan')\n",
    "    oe = OrdinalEncoder()\n",
    "    data[cat_features] = oe.fit_transform(data[cat_features]).astype(np.uint16)\n",
    "    x_train, y_train = (\n",
    "                        data[data[target].notnull()].drop([target], axis=1).sample(frac=frac, random_state=42),\n",
    "                        data[data[target].notnull()][target].sample(frac=frac, random_state=42)\n",
    "    )\n",
    "    x_test = data[data[target].isnull()].drop([target], axis=1)\n",
    "    print(f'Shape of train set is {x_train.shape} and test set is {x_test.shape}')\n",
    "    del data\n",
    "    gs = GridSearchCV(model, param_grid=hyperparameters, cv=cv, scoring=scoring)\n",
    "    gs.fit(x_train, y_train)\n",
    "    \n",
    "    gs.best_estimator_.fit(x_train, y_train, cat_features=cat_features, verbose=verbose)\n",
    "    preds = gs.best_estimator_.predict(x_test)\n",
    "    df.loc[df[target].isnull(), target] = preds\n",
    "    end_time = time.time() - start_time\n",
    "    del x_train, x_test, y_train\n",
    "    print(f'Time taken to complete predictions for {target} is {end_time} seconds')"
   ]
  },
  {
   "cell_type": "code",
   "execution_count": 24,
   "metadata": {},
   "outputs": [
    {
     "name": "stdout",
     "output_type": "stream",
     "text": [
      "Shape of train set is (126649, 16) and test set is (37484, 16)\n",
      "0:\tlearn: 0.5013392\ttotal: 483ms\tremaining: 4.35s\n",
      "1:\tlearn: 0.5118647\ttotal: 926ms\tremaining: 3.7s\n",
      "2:\tlearn: 0.5475524\ttotal: 1.38s\tremaining: 3.22s\n",
      "3:\tlearn: 0.5622483\ttotal: 1.83s\tremaining: 2.75s\n",
      "4:\tlearn: 0.5851799\ttotal: 2.26s\tremaining: 2.26s\n",
      "5:\tlearn: 0.5930351\ttotal: 2.7s\tremaining: 1.8s\n",
      "6:\tlearn: 0.6072650\ttotal: 3.13s\tremaining: 1.34s\n",
      "7:\tlearn: 0.6143922\ttotal: 3.57s\tremaining: 894ms\n",
      "8:\tlearn: 0.6193716\ttotal: 4.02s\tremaining: 446ms\n",
      "9:\tlearn: 0.6347588\ttotal: 4.45s\tremaining: 0us\n",
      "0:\tlearn: 0.4847991\ttotal: 443ms\tremaining: 3.99s\n",
      "1:\tlearn: 0.4828675\ttotal: 892ms\tremaining: 3.57s\n",
      "2:\tlearn: 0.5021788\ttotal: 1.33s\tremaining: 3.1s\n",
      "3:\tlearn: 0.5298910\ttotal: 1.77s\tremaining: 2.66s\n",
      "4:\tlearn: 0.5537250\ttotal: 2.22s\tremaining: 2.22s\n",
      "5:\tlearn: 0.5690349\ttotal: 2.65s\tremaining: 1.77s\n",
      "6:\tlearn: 0.5794924\ttotal: 3.1s\tremaining: 1.33s\n",
      "7:\tlearn: 0.5960566\ttotal: 3.55s\tremaining: 888ms\n",
      "8:\tlearn: 0.6054058\ttotal: 4s\tremaining: 444ms\n",
      "9:\tlearn: 0.6147059\ttotal: 4.45s\tremaining: 0us\n",
      "0:\tlearn: 0.4842065\ttotal: 821ms\tremaining: 7.39s\n",
      "1:\tlearn: 0.5190182\ttotal: 1.61s\tremaining: 6.43s\n",
      "2:\tlearn: 0.5557711\ttotal: 2.41s\tremaining: 5.62s\n",
      "3:\tlearn: 0.5772581\ttotal: 3.18s\tremaining: 4.78s\n",
      "4:\tlearn: 0.5921489\ttotal: 4s\tremaining: 4s\n",
      "5:\tlearn: 0.6038773\ttotal: 4.81s\tremaining: 3.21s\n",
      "6:\tlearn: 0.6144536\ttotal: 5.62s\tremaining: 2.41s\n",
      "7:\tlearn: 0.6251846\ttotal: 6.42s\tremaining: 1.6s\n",
      "8:\tlearn: 0.6321081\ttotal: 7.19s\tremaining: 799ms\n",
      "9:\tlearn: 0.6384883\ttotal: 7.97s\tremaining: 0us\n",
      "Time taken to complete predictions for VehicleType is 91.69354104995728 seconds\n"
     ]
    }
   ],
   "source": [
    "drop_feats = ['DateCrawled', 'DateCreated', 'LastSeen']\n",
    "cat_spl_features = ['Gearbox', 'Brand',\n",
    "               'Model', 'FuelType', 'NotRepaired', 'CreateYear', 'CreateMonth', \n",
    "               'CreateDay', 'PostalCode']\n",
    "cat_classifier = CatBoostClassifier(\n",
    "                        learning_rate=0.9, \n",
    "                        loss_function='MultiClass',\n",
    "                        early_stopping_rounds=5,\n",
    "                        depth=9,\n",
    "                        eval_metric='TotalF1',\n",
    "                        random_seed=42)\n",
    "target = 'VehicleType'\n",
    "build_model_to_populate_missing_feats(cat_classifier, \n",
    "                                      df, target, \n",
    "                                      hyperparameters={'iterations': [10]}, \n",
    "                                      scoring='f1_weighted', \n",
    "                                      cv=2,\n",
    "                                      drop_feats=drop_feats,\n",
    "                                      cat_features=cat_spl_features\n",
    "                                     )"
   ]
  },
  {
   "cell_type": "code",
   "execution_count": 25,
   "metadata": {},
   "outputs": [
    {
     "data": {
      "text/plain": [
       "0"
      ]
     },
     "execution_count": 25,
     "metadata": {},
     "output_type": "execute_result"
    }
   ],
   "source": [
    "# check if feature is populated\n",
    "df['VehicleType'].isnull().sum()"
   ]
  },
  {
   "cell_type": "code",
   "execution_count": 26,
   "metadata": {},
   "outputs": [
    {
     "name": "stdout",
     "output_type": "stream",
     "text": [
      "Shape of train set is (64244, 16) and test set is (32889, 16)\n",
      "0:\tlearn: 0.7769840\ttotal: 233ms\tremaining: 2.1s\n",
      "1:\tlearn: 0.6445170\ttotal: 457ms\tremaining: 1.83s\n",
      "2:\tlearn: 0.7785125\ttotal: 668ms\tremaining: 1.56s\n",
      "3:\tlearn: 0.7943183\ttotal: 891ms\tremaining: 1.34s\n",
      "4:\tlearn: 0.7993908\ttotal: 1.12s\tremaining: 1.12s\n",
      "5:\tlearn: 0.8074207\ttotal: 1.36s\tremaining: 904ms\n",
      "6:\tlearn: 0.8106732\ttotal: 1.58s\tremaining: 678ms\n",
      "7:\tlearn: 0.8143898\ttotal: 1.81s\tremaining: 454ms\n",
      "8:\tlearn: 0.8144923\ttotal: 2.05s\tremaining: 228ms\n",
      "9:\tlearn: 0.8199119\ttotal: 2.27s\tremaining: 0us\n",
      "0:\tlearn: 0.7547213\ttotal: 204ms\tremaining: 1.83s\n",
      "1:\tlearn: 0.6717463\ttotal: 424ms\tremaining: 1.7s\n",
      "2:\tlearn: 0.7704387\ttotal: 647ms\tremaining: 1.51s\n",
      "3:\tlearn: 0.7851970\ttotal: 865ms\tremaining: 1.3s\n",
      "4:\tlearn: 0.7923822\ttotal: 1.09s\tremaining: 1.09s\n",
      "5:\tlearn: 0.7916910\ttotal: 1.33s\tremaining: 886ms\n",
      "6:\tlearn: 0.8022412\ttotal: 1.55s\tremaining: 664ms\n",
      "7:\tlearn: 0.8050131\ttotal: 1.78s\tremaining: 445ms\n",
      "8:\tlearn: 0.8113005\ttotal: 2s\tremaining: 222ms\n",
      "9:\tlearn: 0.8146814\ttotal: 2.23s\tremaining: 0us\n",
      "0:\tlearn: 0.7726864\ttotal: 384ms\tremaining: 3.46s\n",
      "1:\tlearn: 0.6288280\ttotal: 773ms\tremaining: 3.09s\n",
      "2:\tlearn: 0.7761120\ttotal: 1.17s\tremaining: 2.73s\n",
      "3:\tlearn: 0.7757820\ttotal: 1.55s\tremaining: 2.33s\n",
      "4:\tlearn: 0.7396503\ttotal: 1.95s\tremaining: 1.95s\n",
      "5:\tlearn: 0.7621315\ttotal: 2.35s\tremaining: 1.57s\n",
      "6:\tlearn: 0.7640687\ttotal: 2.73s\tremaining: 1.17s\n",
      "7:\tlearn: 0.7779460\ttotal: 3.11s\tremaining: 777ms\n",
      "8:\tlearn: 0.7875737\ttotal: 3.49s\tremaining: 388ms\n",
      "9:\tlearn: 0.7854790\ttotal: 3.88s\tremaining: 0us\n",
      "Time taken to complete predictions for FuelType is 39.51521134376526 seconds\n"
     ]
    }
   ],
   "source": [
    "drop_feats = ['DateCrawled', 'DateCreated', 'LastSeen']\n",
    "cat_spl_features = ['VehicleType', 'Gearbox', 'Brand',\n",
    "               'Model', 'NotRepaired', 'CreateYear', 'CreateMonth', \n",
    "               'CreateDay', 'PostalCode']\n",
    "cat_classifier = CatBoostClassifier(\n",
    "                        learning_rate=0.9, \n",
    "                        loss_function='MultiClass',\n",
    "                        early_stopping_rounds=5,\n",
    "                        depth=9,\n",
    "                        eval_metric='TotalF1',\n",
    "                        random_seed=42)\n",
    "target = 'FuelType'\n",
    "build_model_to_populate_missing_feats(cat_classifier, \n",
    "                                      df, target, \n",
    "                                      hyperparameters={'iterations': [10]}, \n",
    "                                      scoring='f1_weighted', \n",
    "                                      cv=2,\n",
    "                                      frac=0.2,\n",
    "                                      drop_feats=drop_feats,\n",
    "                                      cat_features=cat_spl_features\n",
    "                                     )"
   ]
  },
  {
   "cell_type": "code",
   "execution_count": 27,
   "metadata": {},
   "outputs": [
    {
     "data": {
      "text/plain": [
       "0"
      ]
     },
     "execution_count": 27,
     "metadata": {},
     "output_type": "execute_result"
    }
   ],
   "source": [
    "# check if feature is populated\n",
    "df['FuelType'].isnull().sum()"
   ]
  },
  {
   "cell_type": "code",
   "execution_count": 28,
   "metadata": {},
   "outputs": [
    {
     "name": "stdout",
     "output_type": "stream",
     "text": [
      "Distribution for NotRepaired\n",
      "no     0.872892\n",
      "yes    0.127108\n",
      "Name: NotRepaired, dtype: float64\n",
      "\n",
      "Distribution for VehicleType\n",
      "sedan          0.295462\n",
      "small          0.261746\n",
      "wagon          0.198539\n",
      "bus            0.091518\n",
      "convertible    0.059200\n",
      "coupe          0.047810\n",
      "suv            0.035498\n",
      "other          0.010229\n",
      "Name: VehicleType, dtype: float64\n",
      "\n",
      "Distribution for FuelType\n",
      "petrol      0.684090\n",
      "gasoline    0.297755\n",
      "lpg         0.015024\n",
      "cng         0.001615\n",
      "hybrid      0.000683\n",
      "other       0.000576\n",
      "electric    0.000257\n",
      "Name: FuelType, dtype: float64\n",
      "\n",
      "Distribution for Gearbox\n",
      "manual    0.801831\n",
      "auto      0.198169\n",
      "Name: Gearbox, dtype: float64\n",
      "\n",
      "Distribution for Model\n",
      "golf                  0.082503\n",
      "other                 0.068911\n",
      "3er                   0.055757\n",
      "NaN                   0.055636\n",
      "polo                  0.036873\n",
      "                        ...   \n",
      "serie_2               0.000023\n",
      "rangerover            0.000011\n",
      "serie_3               0.000011\n",
      "serie_1               0.000006\n",
      "range_rover_evoque    0.000006\n",
      "Name: Model, Length: 251, dtype: float64\n",
      "\n"
     ]
    }
   ],
   "source": [
    "# check distribution of categorical features\n",
    "for col in cat_cols:\n",
    "    category_distribution(df, col)"
   ]
  },
  {
   "cell_type": "markdown",
   "metadata": {},
   "source": [
    "<div class=\"alert alert-block alert-success\">\n",
    "<b>Reviewer's comment</b> <a class=\"tocSkip\"></a>\n",
    "\n",
    "You used very interesting ways of filling in the NaNs. Good job! But have you tried filling in NaNs in categorical features using a placeholder, for example, using the string \"unknown\"? My experience shows that in the vast majority of cases, this simple method of filling in the NaNs works better than the most advanced methods.\n",
    "\n",
    "</div>"
   ]
  },
  {
   "cell_type": "code",
   "execution_count": 29,
   "metadata": {},
   "outputs": [
    {
     "data": {
      "text/plain": [
       "32"
      ]
     },
     "execution_count": 29,
     "metadata": {},
     "output_type": "execute_result"
    }
   ],
   "source": [
    "df.duplicated().sum()"
   ]
  },
  {
   "cell_type": "code",
   "execution_count": 30,
   "metadata": {},
   "outputs": [],
   "source": [
    "df.drop_duplicates(inplace=True)"
   ]
  },
  {
   "cell_type": "code",
   "execution_count": 31,
   "metadata": {},
   "outputs": [
    {
     "data": {
      "image/png": "[encoded data removed]",
      "text/plain": [
       "<Figure size 1200x900 with 9 Axes>"
      ]
     },
     "metadata": {},
     "output_type": "display_data"
    }
   ],
   "source": [
    "hist_cols = ['Price', 'RegistrationYear', 'RegistrationMonth', 'Power', 'Mileage',\n",
    "            'DaysOnSite', 'PostalCode']\n",
    "xlabels = [['Days since creation', 'Km/liter', 'PostalCode'], \n",
    "          ['BHP', 'EUR', 'Month'],\n",
    "          ['Year']]\n",
    "fig, ax = plt.subplots(figsize=(12, 9))\n",
    "axes = df[hist_cols].hist(bins=30, ax=ax)\n",
    "for i in range(len(axes)):\n",
    "    for j in range(len(axes)):\n",
    "        if i == 2 and j > 0: continue\n",
    "        axes[i][j].set_xlabel(xlabels[i][j])\n",
    "plt.suptitle('Histogram of numerical features before treating outliers')\n",
    "plt.tight_layout(rect=[0, 0.03, 1, 0.95])\n",
    "plt.show()"
   ]
  },
  {
   "cell_type": "markdown",
   "metadata": {},
   "source": [
    "The Price is right-skewed; there are observations with very low priced cars, which is abnormal.\n",
    "\n",
    "Majority of the RegistrationYear is year 2000. However, we know that there are outliers here; the same applies to Power."
   ]
  },
  {
   "cell_type": "code",
   "execution_count": 32,
   "metadata": {},
   "outputs": [],
   "source": [
    "# check for outliers\n",
    "def identify_outliers(df, field):\n",
    "    \n",
    "    Q1 = df[field].quantile(.25)\n",
    "    Q3 = df[field].quantile(.75)\n",
    "    IQR = Q3 - Q1\n",
    "    lb = Q1 - 1.5 * IQR\n",
    "    ub = Q3 + 1.5 * IQR\n",
    "    return lb, ub"
   ]
  },
  {
   "cell_type": "code",
   "execution_count": 33,
   "metadata": {},
   "outputs": [
    {
     "data": {
      "text/plain": [
       "(12420, 20)"
      ]
     },
     "execution_count": 33,
     "metadata": {},
     "output_type": "execute_result"
    }
   ],
   "source": [
    "df[df['Price'] < 50].shape"
   ]
  },
  {
   "cell_type": "code",
   "execution_count": 34,
   "metadata": {},
   "outputs": [
    {
     "data": {
      "text/plain": [
       "0.03507731412836264"
      ]
     },
     "execution_count": 34,
     "metadata": {},
     "output_type": "execute_result"
    }
   ],
   "source": [
    "df[df['Price'] < 50].shape[0] / df.shape[0]"
   ]
  },
  {
   "cell_type": "code",
   "execution_count": 35,
   "metadata": {},
   "outputs": [
    {
     "data": {
      "text/html": [
       "<div>\n",
       "<style scoped>\n",
       "    .dataframe tbody tr th:only-of-type {\n",
       "        vertical-align: middle;\n",
       "    }\n",
       "\n",
       "    .dataframe tbody tr th {\n",
       "        vertical-align: top;\n",
       "    }\n",
       "\n",
       "    .dataframe thead th {\n",
       "        text-align: right;\n",
       "    }\n",
       "</style>\n",
       "<table border=\"1\" class=\"dataframe\">\n",
       "  <thead>\n",
       "    <tr style=\"text-align: right;\">\n",
       "      <th></th>\n",
       "      <th>Price</th>\n",
       "      <th>RegistrationYear</th>\n",
       "      <th>Power</th>\n",
       "      <th>Mileage</th>\n",
       "      <th>RegistrationMonth</th>\n",
       "      <th>NumberOfPictures</th>\n",
       "      <th>PostalCode</th>\n",
       "      <th>DaysOnSite</th>\n",
       "      <th>CreateYear</th>\n",
       "      <th>CreateMonth</th>\n",
       "      <th>CreateDay</th>\n",
       "    </tr>\n",
       "  </thead>\n",
       "  <tbody>\n",
       "    <tr>\n",
       "      <th>count</th>\n",
       "      <td>12420.000000</td>\n",
       "      <td>12420.000000</td>\n",
       "      <td>12420.000000</td>\n",
       "      <td>12420.000000</td>\n",
       "      <td>12420.000000</td>\n",
       "      <td>12420.0</td>\n",
       "      <td>12420.000000</td>\n",
       "      <td>12420.000000</td>\n",
       "      <td>12420.0</td>\n",
       "      <td>12420.000000</td>\n",
       "      <td>12420.000000</td>\n",
       "    </tr>\n",
       "    <tr>\n",
       "      <th>mean</th>\n",
       "      <td>0.893156</td>\n",
       "      <td>2008.495572</td>\n",
       "      <td>79.470773</td>\n",
       "      <td>121469.404187</td>\n",
       "      <td>3.600483</td>\n",
       "      <td>0.0</td>\n",
       "      <td>45399.282448</td>\n",
       "      <td>7.517955</td>\n",
       "      <td>2016.0</td>\n",
       "      <td>3.156441</td>\n",
       "      <td>16.045813</td>\n",
       "    </tr>\n",
       "    <tr>\n",
       "      <th>std</th>\n",
       "      <td>4.753588</td>\n",
       "      <td>262.170104</td>\n",
       "      <td>227.383905</td>\n",
       "      <td>50988.365939</td>\n",
       "      <td>4.022439</td>\n",
       "      <td>0.0</td>\n",
       "      <td>26368.614495</td>\n",
       "      <td>8.117499</td>\n",
       "      <td>0.0</td>\n",
       "      <td>0.365057</td>\n",
       "      <td>9.117634</td>\n",
       "    </tr>\n",
       "    <tr>\n",
       "      <th>min</th>\n",
       "      <td>0.000000</td>\n",
       "      <td>1000.000000</td>\n",
       "      <td>0.000000</td>\n",
       "      <td>5000.000000</td>\n",
       "      <td>0.000000</td>\n",
       "      <td>0.0</td>\n",
       "      <td>1069.000000</td>\n",
       "      <td>0.000000</td>\n",
       "      <td>2016.0</td>\n",
       "      <td>1.000000</td>\n",
       "      <td>1.000000</td>\n",
       "    </tr>\n",
       "    <tr>\n",
       "      <th>25%</th>\n",
       "      <td>0.000000</td>\n",
       "      <td>1996.000000</td>\n",
       "      <td>0.000000</td>\n",
       "      <td>125000.000000</td>\n",
       "      <td>0.000000</td>\n",
       "      <td>0.0</td>\n",
       "      <td>25746.000000</td>\n",
       "      <td>1.000000</td>\n",
       "      <td>2016.0</td>\n",
       "      <td>3.000000</td>\n",
       "      <td>8.000000</td>\n",
       "    </tr>\n",
       "    <tr>\n",
       "      <th>50%</th>\n",
       "      <td>0.000000</td>\n",
       "      <td>2000.000000</td>\n",
       "      <td>73.000000</td>\n",
       "      <td>150000.000000</td>\n",
       "      <td>2.000000</td>\n",
       "      <td>0.0</td>\n",
       "      <td>44269.000000</td>\n",
       "      <td>4.000000</td>\n",
       "      <td>2016.0</td>\n",
       "      <td>3.000000</td>\n",
       "      <td>16.000000</td>\n",
       "    </tr>\n",
       "    <tr>\n",
       "      <th>75%</th>\n",
       "      <td>0.000000</td>\n",
       "      <td>2005.000000</td>\n",
       "      <td>118.000000</td>\n",
       "      <td>150000.000000</td>\n",
       "      <td>7.000000</td>\n",
       "      <td>0.0</td>\n",
       "      <td>64319.000000</td>\n",
       "      <td>11.000000</td>\n",
       "      <td>2016.0</td>\n",
       "      <td>3.000000</td>\n",
       "      <td>24.000000</td>\n",
       "    </tr>\n",
       "    <tr>\n",
       "      <th>max</th>\n",
       "      <td>49.000000</td>\n",
       "      <td>9999.000000</td>\n",
       "      <td>15016.000000</td>\n",
       "      <td>150000.000000</td>\n",
       "      <td>12.000000</td>\n",
       "      <td>0.0</td>\n",
       "      <td>99996.000000</td>\n",
       "      <td>59.000000</td>\n",
       "      <td>2016.0</td>\n",
       "      <td>4.000000</td>\n",
       "      <td>31.000000</td>\n",
       "    </tr>\n",
       "  </tbody>\n",
       "</table>\n",
       "</div>"
      ],
      "text/plain": [
       "              Price  RegistrationYear         Power        Mileage  \\\n",
       "count  12420.000000      12420.000000  12420.000000   12420.000000   \n",
       "mean       0.893156       2008.495572     79.470773  121469.404187   \n",
       "std        4.753588        262.170104    227.383905   50988.365939   \n",
       "min        0.000000       1000.000000      0.000000    5000.000000   \n",
       "25%        0.000000       1996.000000      0.000000  125000.000000   \n",
       "50%        0.000000       2000.000000     73.000000  150000.000000   \n",
       "75%        0.000000       2005.000000    118.000000  150000.000000   \n",
       "max       49.000000       9999.000000  15016.000000  150000.000000   \n",
       "\n",
       "       RegistrationMonth  NumberOfPictures    PostalCode    DaysOnSite  \\\n",
       "count       12420.000000           12420.0  12420.000000  12420.000000   \n",
       "mean            3.600483               0.0  45399.282448      7.517955   \n",
       "std             4.022439               0.0  26368.614495      8.117499   \n",
       "min             0.000000               0.0   1069.000000      0.000000   \n",
       "25%             0.000000               0.0  25746.000000      1.000000   \n",
       "50%             2.000000               0.0  44269.000000      4.000000   \n",
       "75%             7.000000               0.0  64319.000000     11.000000   \n",
       "max            12.000000               0.0  99996.000000     59.000000   \n",
       "\n",
       "       CreateYear   CreateMonth     CreateDay  \n",
       "count     12420.0  12420.000000  12420.000000  \n",
       "mean       2016.0      3.156441     16.045813  \n",
       "std           0.0      0.365057      9.117634  \n",
       "min        2016.0      1.000000      1.000000  \n",
       "25%        2016.0      3.000000      8.000000  \n",
       "50%        2016.0      3.000000     16.000000  \n",
       "75%        2016.0      3.000000     24.000000  \n",
       "max        2016.0      4.000000     31.000000  "
      ]
     },
     "execution_count": 35,
     "metadata": {},
     "output_type": "execute_result"
    }
   ],
   "source": [
    "df[df['Price'] < 50].describe()"
   ]
  },
  {
   "cell_type": "code",
   "execution_count": 36,
   "metadata": {},
   "outputs": [
    {
     "data": {
      "text/plain": [
       "(154280, 20)"
      ]
     },
     "execution_count": 36,
     "metadata": {},
     "output_type": "execute_result"
    }
   ],
   "source": [
    "df[(df['Power'] < 100) | (df['Power'] > 2000)].shape"
   ]
  },
  {
   "cell_type": "code",
   "execution_count": 37,
   "metadata": {},
   "outputs": [
    {
     "data": {
      "text/plain": [
       "0.4357268940196286"
      ]
     },
     "execution_count": 37,
     "metadata": {},
     "output_type": "execute_result"
    }
   ],
   "source": [
    "df[(df['Power'] < 100) | (df['Power'] > 2000)].shape[0] / df.shape[0]"
   ]
  },
  {
   "cell_type": "code",
   "execution_count": 38,
   "metadata": {},
   "outputs": [
    {
     "data": {
      "text/html": [
       "<div>\n",
       "<style scoped>\n",
       "    .dataframe tbody tr th:only-of-type {\n",
       "        vertical-align: middle;\n",
       "    }\n",
       "\n",
       "    .dataframe tbody tr th {\n",
       "        vertical-align: top;\n",
       "    }\n",
       "\n",
       "    .dataframe thead th {\n",
       "        text-align: right;\n",
       "    }\n",
       "</style>\n",
       "<table border=\"1\" class=\"dataframe\">\n",
       "  <thead>\n",
       "    <tr style=\"text-align: right;\">\n",
       "      <th></th>\n",
       "      <th>Price</th>\n",
       "      <th>RegistrationYear</th>\n",
       "      <th>Power</th>\n",
       "      <th>Mileage</th>\n",
       "      <th>RegistrationMonth</th>\n",
       "      <th>NumberOfPictures</th>\n",
       "      <th>PostalCode</th>\n",
       "      <th>DaysOnSite</th>\n",
       "      <th>CreateYear</th>\n",
       "      <th>CreateMonth</th>\n",
       "      <th>CreateDay</th>\n",
       "    </tr>\n",
       "  </thead>\n",
       "  <tbody>\n",
       "    <tr>\n",
       "      <th>count</th>\n",
       "      <td>154280.000000</td>\n",
       "      <td>154280.000000</td>\n",
       "      <td>154280.000000</td>\n",
       "      <td>154280.000000</td>\n",
       "      <td>154280.000000</td>\n",
       "      <td>154280.0</td>\n",
       "      <td>154280.000000</td>\n",
       "      <td>154280.000000</td>\n",
       "      <td>154280.000000</td>\n",
       "      <td>154280.000000</td>\n",
       "      <td>154280.000000</td>\n",
       "    </tr>\n",
       "    <tr>\n",
       "      <th>mean</th>\n",
       "      <td>2422.968415</td>\n",
       "      <td>2004.529103</td>\n",
       "      <td>58.571279</td>\n",
       "      <td>123508.231786</td>\n",
       "      <td>5.288631</td>\n",
       "      <td>0.0</td>\n",
       "      <td>48588.350726</td>\n",
       "      <td>8.151160</td>\n",
       "      <td>2015.999916</td>\n",
       "      <td>3.157953</td>\n",
       "      <td>15.907182</td>\n",
       "    </tr>\n",
       "    <tr>\n",
       "      <th>std</th>\n",
       "      <td>2786.386940</td>\n",
       "      <td>132.792299</td>\n",
       "      <td>269.795781</td>\n",
       "      <td>41604.935298</td>\n",
       "      <td>3.857717</td>\n",
       "      <td>0.0</td>\n",
       "      <td>25378.206605</td>\n",
       "      <td>8.585675</td>\n",
       "      <td>0.009860</td>\n",
       "      <td>0.372680</td>\n",
       "      <td>9.100873</td>\n",
       "    </tr>\n",
       "    <tr>\n",
       "      <th>min</th>\n",
       "      <td>0.000000</td>\n",
       "      <td>1000.000000</td>\n",
       "      <td>0.000000</td>\n",
       "      <td>5000.000000</td>\n",
       "      <td>0.000000</td>\n",
       "      <td>0.0</td>\n",
       "      <td>1067.000000</td>\n",
       "      <td>0.000000</td>\n",
       "      <td>2014.000000</td>\n",
       "      <td>1.000000</td>\n",
       "      <td>1.000000</td>\n",
       "    </tr>\n",
       "    <tr>\n",
       "      <th>25%</th>\n",
       "      <td>650.000000</td>\n",
       "      <td>1998.000000</td>\n",
       "      <td>0.000000</td>\n",
       "      <td>100000.000000</td>\n",
       "      <td>2.000000</td>\n",
       "      <td>0.0</td>\n",
       "      <td>27749.000000</td>\n",
       "      <td>2.000000</td>\n",
       "      <td>2016.000000</td>\n",
       "      <td>3.000000</td>\n",
       "      <td>8.000000</td>\n",
       "    </tr>\n",
       "    <tr>\n",
       "      <th>50%</th>\n",
       "      <td>1400.000000</td>\n",
       "      <td>2001.000000</td>\n",
       "      <td>60.000000</td>\n",
       "      <td>150000.000000</td>\n",
       "      <td>5.000000</td>\n",
       "      <td>0.0</td>\n",
       "      <td>47259.000000</td>\n",
       "      <td>5.000000</td>\n",
       "      <td>2016.000000</td>\n",
       "      <td>3.000000</td>\n",
       "      <td>16.000000</td>\n",
       "    </tr>\n",
       "    <tr>\n",
       "      <th>75%</th>\n",
       "      <td>3150.000000</td>\n",
       "      <td>2007.000000</td>\n",
       "      <td>75.000000</td>\n",
       "      <td>150000.000000</td>\n",
       "      <td>9.000000</td>\n",
       "      <td>0.0</td>\n",
       "      <td>66687.000000</td>\n",
       "      <td>12.000000</td>\n",
       "      <td>2016.000000</td>\n",
       "      <td>3.000000</td>\n",
       "      <td>24.000000</td>\n",
       "    </tr>\n",
       "    <tr>\n",
       "      <th>max</th>\n",
       "      <td>20000.000000</td>\n",
       "      <td>9999.000000</td>\n",
       "      <td>20000.000000</td>\n",
       "      <td>150000.000000</td>\n",
       "      <td>12.000000</td>\n",
       "      <td>0.0</td>\n",
       "      <td>99998.000000</td>\n",
       "      <td>759.000000</td>\n",
       "      <td>2016.000000</td>\n",
       "      <td>12.000000</td>\n",
       "      <td>31.000000</td>\n",
       "    </tr>\n",
       "  </tbody>\n",
       "</table>\n",
       "</div>"
      ],
      "text/plain": [
       "               Price  RegistrationYear          Power        Mileage  \\\n",
       "count  154280.000000     154280.000000  154280.000000  154280.000000   \n",
       "mean     2422.968415       2004.529103      58.571279  123508.231786   \n",
       "std      2786.386940        132.792299     269.795781   41604.935298   \n",
       "min         0.000000       1000.000000       0.000000    5000.000000   \n",
       "25%       650.000000       1998.000000       0.000000  100000.000000   \n",
       "50%      1400.000000       2001.000000      60.000000  150000.000000   \n",
       "75%      3150.000000       2007.000000      75.000000  150000.000000   \n",
       "max     20000.000000       9999.000000   20000.000000  150000.000000   \n",
       "\n",
       "       RegistrationMonth  NumberOfPictures     PostalCode     DaysOnSite  \\\n",
       "count      154280.000000          154280.0  154280.000000  154280.000000   \n",
       "mean            5.288631               0.0   48588.350726       8.151160   \n",
       "std             3.857717               0.0   25378.206605       8.585675   \n",
       "min             0.000000               0.0    1067.000000       0.000000   \n",
       "25%             2.000000               0.0   27749.000000       2.000000   \n",
       "50%             5.000000               0.0   47259.000000       5.000000   \n",
       "75%             9.000000               0.0   66687.000000      12.000000   \n",
       "max            12.000000               0.0   99998.000000     759.000000   \n",
       "\n",
       "          CreateYear    CreateMonth      CreateDay  \n",
       "count  154280.000000  154280.000000  154280.000000  \n",
       "mean     2015.999916       3.157953      15.907182  \n",
       "std         0.009860       0.372680       9.100873  \n",
       "min      2014.000000       1.000000       1.000000  \n",
       "25%      2016.000000       3.000000       8.000000  \n",
       "50%      2016.000000       3.000000      16.000000  \n",
       "75%      2016.000000       3.000000      24.000000  \n",
       "max      2016.000000      12.000000      31.000000  "
      ]
     },
     "execution_count": 38,
     "metadata": {},
     "output_type": "execute_result"
    }
   ],
   "source": [
    "df[(df['Power'] < 100) | (df['Power'] > 2000)].describe()"
   ]
  },
  {
   "cell_type": "code",
   "execution_count": 39,
   "metadata": {},
   "outputs": [
    {
     "data": {
      "text/plain": [
       "(171, 20)"
      ]
     },
     "execution_count": 39,
     "metadata": {},
     "output_type": "execute_result"
    }
   ],
   "source": [
    "df[(df['RegistrationYear'] < 1900) | (df['RegistrationYear'] > 2021)].shape"
   ]
  },
  {
   "cell_type": "code",
   "execution_count": 40,
   "metadata": {},
   "outputs": [
    {
     "data": {
      "text/plain": [
       "0.0004829485278542682"
      ]
     },
     "execution_count": 40,
     "metadata": {},
     "output_type": "execute_result"
    }
   ],
   "source": [
    "df[(df['RegistrationYear'] < 1900) | (df['RegistrationYear'] > 2021)].shape[0] / df.shape[0]"
   ]
  },
  {
   "cell_type": "code",
   "execution_count": 41,
   "metadata": {},
   "outputs": [
    {
     "data": {
      "text/plain": [
       "(37346, 20)"
      ]
     },
     "execution_count": 41,
     "metadata": {},
     "output_type": "execute_result"
    }
   ],
   "source": [
    "df[(df['RegistrationMonth'] == 0) ].shape"
   ]
  },
  {
   "cell_type": "code",
   "execution_count": 42,
   "metadata": {},
   "outputs": [
    {
     "data": {
      "text/plain": [
       "0.10547482877921345"
      ]
     },
     "execution_count": 42,
     "metadata": {},
     "output_type": "execute_result"
    }
   ],
   "source": [
    "df[(df['RegistrationMonth'] == 0) ].shape[0] / df.shape[0]"
   ]
  },
  {
   "cell_type": "markdown",
   "metadata": {},
   "source": [
    "Power has almost 44% of the observations where the value is either below 100 HP or above 2000 HP. So, we cannot just remove these records. So, the next best alternative is to replace these extremes with the median."
   ]
  },
  {
   "cell_type": "code",
   "execution_count": 43,
   "metadata": {},
   "outputs": [
    {
     "data": {
      "text/plain": [
       "(105.0, 110.0883230953894)"
      ]
     },
     "execution_count": 43,
     "metadata": {},
     "output_type": "execute_result"
    }
   ],
   "source": [
    "df['Power'].median(), df['Power'].mean()"
   ]
  },
  {
   "cell_type": "code",
   "execution_count": 44,
   "metadata": {},
   "outputs": [],
   "source": [
    "#replace the extreme values with median\n",
    "mask = (df['Power'] < 100) | (df['Power'] > 2000)\n",
    "df.loc[mask, 'Power'] = df['Power'].median()"
   ]
  },
  {
   "cell_type": "code",
   "execution_count": 45,
   "metadata": {},
   "outputs": [
    {
     "data": {
      "text/plain": [
       "(2003.0, 2004.2355687354375)"
      ]
     },
     "execution_count": 45,
     "metadata": {},
     "output_type": "execute_result"
    }
   ],
   "source": [
    "df['RegistrationYear'].median(), df['RegistrationYear'].mean()"
   ]
  },
  {
   "cell_type": "code",
   "execution_count": 46,
   "metadata": {},
   "outputs": [],
   "source": [
    "#replace the extreme values with median\n",
    "mask = (df['RegistrationYear'] < 1900) | (df['RegistrationYear'] > 2021)\n",
    "df.loc[mask, 'RegistrationYear'] = df['RegistrationYear'].median()"
   ]
  },
  {
   "cell_type": "code",
   "execution_count": 47,
   "metadata": {},
   "outputs": [
    {
     "data": {
      "text/plain": [
       "(6.0, 5.7140888229894795)"
      ]
     },
     "execution_count": 47,
     "metadata": {},
     "output_type": "execute_result"
    }
   ],
   "source": [
    "df['RegistrationMonth'].median(), df['RegistrationMonth'].mean()"
   ]
  },
  {
   "cell_type": "code",
   "execution_count": 48,
   "metadata": {},
   "outputs": [],
   "source": [
    "# Simplify features so that model dont have too many features to predict\n",
    "df['Model'] = (df.groupby(['Brand', 'RegistrationYear'])['Model'].transform(lambda x: x.fillna((x.mode() if np.all(x.mode()) == True else 'other'))))"
   ]
  },
  {
   "cell_type": "code",
   "execution_count": 49,
   "metadata": {},
   "outputs": [
    {
     "data": {
      "text/plain": [
       "3410"
      ]
     },
     "execution_count": 49,
     "metadata": {},
     "output_type": "execute_result"
    }
   ],
   "source": [
    "# check if Model has missing values\n",
    "df['Model'].isnull().sum()"
   ]
  },
  {
   "cell_type": "code",
   "execution_count": 50,
   "metadata": {},
   "outputs": [],
   "source": [
    "df['Model'].fillna('other', inplace=True)"
   ]
  },
  {
   "cell_type": "code",
   "execution_count": 51,
   "metadata": {},
   "outputs": [
    {
     "data": {
      "text/plain": [
       "0"
      ]
     },
     "execution_count": 51,
     "metadata": {},
     "output_type": "execute_result"
    }
   ],
   "source": [
    "df['Model'].isnull().sum()"
   ]
  },
  {
   "cell_type": "code",
   "execution_count": 52,
   "metadata": {},
   "outputs": [],
   "source": [
    "#replace the extreme values with median\n",
    "mask = (df['RegistrationMonth'] == 0)\n",
    "df.loc[mask, 'RegistrationMonth'] = df['RegistrationMonth'].median()"
   ]
  },
  {
   "cell_type": "code",
   "execution_count": 53,
   "metadata": {},
   "outputs": [
    {
     "data": {
      "text/plain": [
       "14"
      ]
     },
     "execution_count": 53,
     "metadata": {},
     "output_type": "execute_result"
    }
   ],
   "source": [
    "# check for duplicates post fixing outliers\n",
    "df.duplicated().sum()"
   ]
  },
  {
   "cell_type": "code",
   "execution_count": 54,
   "metadata": {},
   "outputs": [],
   "source": [
    "# remove duplicates from outlier fixing\n",
    "df.drop_duplicates(inplace=True)"
   ]
  },
  {
   "cell_type": "code",
   "execution_count": 55,
   "metadata": {},
   "outputs": [],
   "source": [
    "# remove Price below EUR 50\n",
    "new_df = df[df['Price'] >= 50].copy()"
   ]
  },
  {
   "cell_type": "code",
   "execution_count": 56,
   "metadata": {},
   "outputs": [
    {
     "data": {
      "text/plain": [
       "(341641, 20)"
      ]
     },
     "execution_count": 56,
     "metadata": {},
     "output_type": "execute_result"
    }
   ],
   "source": [
    "new_df.shape"
   ]
  },
  {
   "cell_type": "code",
   "execution_count": 57,
   "metadata": {},
   "outputs": [
    {
     "data": {
      "text/plain": [
       "0"
      ]
     },
     "execution_count": 57,
     "metadata": {},
     "output_type": "execute_result"
    }
   ],
   "source": [
    "new_df.duplicated().sum()"
   ]
  },
  {
   "cell_type": "code",
   "execution_count": 58,
   "metadata": {},
   "outputs": [
    {
     "data": {
      "image/png": "[encoded data removed]",
      "text/plain": [
       "<Figure size 1200x900 with 9 Axes>"
      ]
     },
     "metadata": {},
     "output_type": "display_data"
    }
   ],
   "source": [
    "# plot the numerical features post fixing outliers\n",
    "fig, ax = plt.subplots(figsize=(12, 9))\n",
    "axes = new_df[hist_cols].hist(bins=30, ax=ax)\n",
    "for i in range(len(axes)):\n",
    "    for j in range(len(axes)):\n",
    "        if i == 2 and j > 0: continue\n",
    "        axes[i][j].set_xlabel(xlabels[i][j])\n",
    "plt.suptitle('Histogram of numerical features after treating outliers')\n",
    "plt.tight_layout(rect=[0, 0.03, 1, 0.95])\n",
    "plt.show()"
   ]
  },
  {
   "cell_type": "markdown",
   "metadata": {},
   "source": [
    "Post cleanup of the outliers, the distributions for Power, RegistrationYear, RegistrationMonth have improved."
   ]
  },
  {
   "cell_type": "code",
   "execution_count": 59,
   "metadata": {},
   "outputs": [],
   "source": [
    "encode_cols = ['PostalCode']\n",
    "encode_cols += new_df.select_dtypes(include=['object']).columns.tolist()\n",
    "oe = OrdinalEncoder()\n",
    "new_df[encode_cols] = oe.fit_transform(new_df[encode_cols])"
   ]
  },
  {
   "cell_type": "code",
   "execution_count": 60,
   "metadata": {},
   "outputs": [
    {
     "data": {
      "text/plain": [
       "0"
      ]
     },
     "execution_count": 60,
     "metadata": {},
     "output_type": "execute_result"
    }
   ],
   "source": [
    "new_df.duplicated().sum()"
   ]
  },
  {
   "cell_type": "code",
   "execution_count": 61,
   "metadata": {},
   "outputs": [],
   "source": [
    "drop_cols = ['DateCrawled', 'DateCreated', 'NumberOfPictures', 'LastSeen']\n",
    "new_df.drop(drop_cols, axis=1, inplace=True)"
   ]
  },
  {
   "cell_type": "code",
   "execution_count": 62,
   "metadata": {},
   "outputs": [
    {
     "data": {
      "text/plain": [
       "(341641, 16)"
      ]
     },
     "execution_count": 62,
     "metadata": {},
     "output_type": "execute_result"
    }
   ],
   "source": [
    "new_df.shape"
   ]
  },
  {
   "cell_type": "code",
   "execution_count": 63,
   "metadata": {},
   "outputs": [
    {
     "data": {
      "text/html": [
       "<div>\n",
       "<style scoped>\n",
       "    .dataframe tbody tr th:only-of-type {\n",
       "        vertical-align: middle;\n",
       "    }\n",
       "\n",
       "    .dataframe tbody tr th {\n",
       "        vertical-align: top;\n",
       "    }\n",
       "\n",
       "    .dataframe thead th {\n",
       "        text-align: right;\n",
       "    }\n",
       "</style>\n",
       "<table border=\"1\" class=\"dataframe\">\n",
       "  <thead>\n",
       "    <tr style=\"text-align: right;\">\n",
       "      <th></th>\n",
       "      <th>Price</th>\n",
       "      <th>VehicleType</th>\n",
       "      <th>RegistrationYear</th>\n",
       "      <th>Gearbox</th>\n",
       "      <th>Power</th>\n",
       "      <th>Model</th>\n",
       "      <th>Mileage</th>\n",
       "      <th>RegistrationMonth</th>\n",
       "      <th>FuelType</th>\n",
       "      <th>Brand</th>\n",
       "      <th>NotRepaired</th>\n",
       "      <th>PostalCode</th>\n",
       "      <th>DaysOnSite</th>\n",
       "      <th>CreateYear</th>\n",
       "      <th>CreateMonth</th>\n",
       "      <th>CreateDay</th>\n",
       "    </tr>\n",
       "  </thead>\n",
       "  <tbody>\n",
       "    <tr>\n",
       "      <th>0</th>\n",
       "      <td>480</td>\n",
       "      <td>5.0</td>\n",
       "      <td>1993.0</td>\n",
       "      <td>1.0</td>\n",
       "      <td>105.0</td>\n",
       "      <td>116.0</td>\n",
       "      <td>150000</td>\n",
       "      <td>6.0</td>\n",
       "      <td>6.0</td>\n",
       "      <td>38.0</td>\n",
       "      <td>0.0</td>\n",
       "      <td>4896.0</td>\n",
       "      <td>14</td>\n",
       "      <td>2016</td>\n",
       "      <td>3</td>\n",
       "      <td>24</td>\n",
       "    </tr>\n",
       "    <tr>\n",
       "      <th>1</th>\n",
       "      <td>18300</td>\n",
       "      <td>2.0</td>\n",
       "      <td>2011.0</td>\n",
       "      <td>1.0</td>\n",
       "      <td>190.0</td>\n",
       "      <td>166.0</td>\n",
       "      <td>125000</td>\n",
       "      <td>5.0</td>\n",
       "      <td>2.0</td>\n",
       "      <td>1.0</td>\n",
       "      <td>1.0</td>\n",
       "      <td>4613.0</td>\n",
       "      <td>14</td>\n",
       "      <td>2016</td>\n",
       "      <td>3</td>\n",
       "      <td>24</td>\n",
       "    </tr>\n",
       "    <tr>\n",
       "      <th>2</th>\n",
       "      <td>9800</td>\n",
       "      <td>6.0</td>\n",
       "      <td>2004.0</td>\n",
       "      <td>0.0</td>\n",
       "      <td>163.0</td>\n",
       "      <td>117.0</td>\n",
       "      <td>125000</td>\n",
       "      <td>8.0</td>\n",
       "      <td>2.0</td>\n",
       "      <td>14.0</td>\n",
       "      <td>1.0</td>\n",
       "      <td>6989.0</td>\n",
       "      <td>22</td>\n",
       "      <td>2016</td>\n",
       "      <td>3</td>\n",
       "      <td>14</td>\n",
       "    </tr>\n",
       "    <tr>\n",
       "      <th>3</th>\n",
       "      <td>1500</td>\n",
       "      <td>5.0</td>\n",
       "      <td>2001.0</td>\n",
       "      <td>1.0</td>\n",
       "      <td>105.0</td>\n",
       "      <td>116.0</td>\n",
       "      <td>150000</td>\n",
       "      <td>6.0</td>\n",
       "      <td>6.0</td>\n",
       "      <td>38.0</td>\n",
       "      <td>0.0</td>\n",
       "      <td>7029.0</td>\n",
       "      <td>0</td>\n",
       "      <td>2016</td>\n",
       "      <td>3</td>\n",
       "      <td>17</td>\n",
       "    </tr>\n",
       "    <tr>\n",
       "      <th>4</th>\n",
       "      <td>3600</td>\n",
       "      <td>5.0</td>\n",
       "      <td>2008.0</td>\n",
       "      <td>1.0</td>\n",
       "      <td>105.0</td>\n",
       "      <td>101.0</td>\n",
       "      <td>90000</td>\n",
       "      <td>7.0</td>\n",
       "      <td>2.0</td>\n",
       "      <td>31.0</td>\n",
       "      <td>0.0</td>\n",
       "      <td>4210.0</td>\n",
       "      <td>6</td>\n",
       "      <td>2016</td>\n",
       "      <td>3</td>\n",
       "      <td>31</td>\n",
       "    </tr>\n",
       "  </tbody>\n",
       "</table>\n",
       "</div>"
      ],
      "text/plain": [
       "   Price  VehicleType  RegistrationYear  Gearbox  Power  Model  Mileage  \\\n",
       "0    480          5.0            1993.0      1.0  105.0  116.0   150000   \n",
       "1  18300          2.0            2011.0      1.0  190.0  166.0   125000   \n",
       "2   9800          6.0            2004.0      0.0  163.0  117.0   125000   \n",
       "3   1500          5.0            2001.0      1.0  105.0  116.0   150000   \n",
       "4   3600          5.0            2008.0      1.0  105.0  101.0    90000   \n",
       "\n",
       "   RegistrationMonth  FuelType  Brand  NotRepaired  PostalCode  DaysOnSite  \\\n",
       "0                6.0       6.0   38.0          0.0      4896.0          14   \n",
       "1                5.0       2.0    1.0          1.0      4613.0          14   \n",
       "2                8.0       2.0   14.0          1.0      6989.0          22   \n",
       "3                6.0       6.0   38.0          0.0      7029.0           0   \n",
       "4                7.0       2.0   31.0          0.0      4210.0           6   \n",
       "\n",
       "   CreateYear  CreateMonth  CreateDay  \n",
       "0        2016            3         24  \n",
       "1        2016            3         24  \n",
       "2        2016            3         14  \n",
       "3        2016            3         17  \n",
       "4        2016            3         31  "
      ]
     },
     "execution_count": 63,
     "metadata": {},
     "output_type": "execute_result"
    }
   ],
   "source": [
    "new_df.head()"
   ]
  },
  {
   "cell_type": "code",
   "execution_count": 64,
   "metadata": {},
   "outputs": [
    {
     "data": {
      "text/html": [
       "<div>\n",
       "<style scoped>\n",
       "    .dataframe tbody tr th:only-of-type {\n",
       "        vertical-align: middle;\n",
       "    }\n",
       "\n",
       "    .dataframe tbody tr th {\n",
       "        vertical-align: top;\n",
       "    }\n",
       "\n",
       "    .dataframe thead th {\n",
       "        text-align: right;\n",
       "    }\n",
       "</style>\n",
       "<table border=\"1\" class=\"dataframe\">\n",
       "  <thead>\n",
       "    <tr style=\"text-align: right;\">\n",
       "      <th></th>\n",
       "      <th>Price</th>\n",
       "      <th>VehicleType</th>\n",
       "      <th>RegistrationYear</th>\n",
       "      <th>Gearbox</th>\n",
       "      <th>Power</th>\n",
       "      <th>Model</th>\n",
       "      <th>Mileage</th>\n",
       "      <th>RegistrationMonth</th>\n",
       "      <th>FuelType</th>\n",
       "      <th>Brand</th>\n",
       "      <th>NotRepaired</th>\n",
       "      <th>PostalCode</th>\n",
       "      <th>DaysOnSite</th>\n",
       "      <th>CreateYear</th>\n",
       "      <th>CreateMonth</th>\n",
       "      <th>CreateDay</th>\n",
       "    </tr>\n",
       "  </thead>\n",
       "  <tbody>\n",
       "    <tr>\n",
       "      <th>0</th>\n",
       "      <td>False</td>\n",
       "      <td>False</td>\n",
       "      <td>False</td>\n",
       "      <td>False</td>\n",
       "      <td>False</td>\n",
       "      <td>False</td>\n",
       "      <td>False</td>\n",
       "      <td>False</td>\n",
       "      <td>False</td>\n",
       "      <td>False</td>\n",
       "      <td>False</td>\n",
       "      <td>False</td>\n",
       "      <td>False</td>\n",
       "      <td>False</td>\n",
       "      <td>False</td>\n",
       "      <td>False</td>\n",
       "    </tr>\n",
       "    <tr>\n",
       "      <th>1</th>\n",
       "      <td>False</td>\n",
       "      <td>False</td>\n",
       "      <td>False</td>\n",
       "      <td>False</td>\n",
       "      <td>False</td>\n",
       "      <td>False</td>\n",
       "      <td>False</td>\n",
       "      <td>False</td>\n",
       "      <td>False</td>\n",
       "      <td>False</td>\n",
       "      <td>False</td>\n",
       "      <td>False</td>\n",
       "      <td>False</td>\n",
       "      <td>False</td>\n",
       "      <td>False</td>\n",
       "      <td>False</td>\n",
       "    </tr>\n",
       "    <tr>\n",
       "      <th>2</th>\n",
       "      <td>False</td>\n",
       "      <td>False</td>\n",
       "      <td>False</td>\n",
       "      <td>False</td>\n",
       "      <td>False</td>\n",
       "      <td>False</td>\n",
       "      <td>False</td>\n",
       "      <td>False</td>\n",
       "      <td>False</td>\n",
       "      <td>False</td>\n",
       "      <td>False</td>\n",
       "      <td>False</td>\n",
       "      <td>False</td>\n",
       "      <td>False</td>\n",
       "      <td>False</td>\n",
       "      <td>False</td>\n",
       "    </tr>\n",
       "    <tr>\n",
       "      <th>3</th>\n",
       "      <td>False</td>\n",
       "      <td>False</td>\n",
       "      <td>False</td>\n",
       "      <td>False</td>\n",
       "      <td>False</td>\n",
       "      <td>False</td>\n",
       "      <td>False</td>\n",
       "      <td>False</td>\n",
       "      <td>False</td>\n",
       "      <td>False</td>\n",
       "      <td>False</td>\n",
       "      <td>False</td>\n",
       "      <td>False</td>\n",
       "      <td>False</td>\n",
       "      <td>False</td>\n",
       "      <td>False</td>\n",
       "    </tr>\n",
       "    <tr>\n",
       "      <th>4</th>\n",
       "      <td>False</td>\n",
       "      <td>False</td>\n",
       "      <td>False</td>\n",
       "      <td>False</td>\n",
       "      <td>False</td>\n",
       "      <td>False</td>\n",
       "      <td>False</td>\n",
       "      <td>False</td>\n",
       "      <td>False</td>\n",
       "      <td>False</td>\n",
       "      <td>False</td>\n",
       "      <td>False</td>\n",
       "      <td>False</td>\n",
       "      <td>False</td>\n",
       "      <td>False</td>\n",
       "      <td>False</td>\n",
       "    </tr>\n",
       "    <tr>\n",
       "      <th>...</th>\n",
       "      <td>...</td>\n",
       "      <td>...</td>\n",
       "      <td>...</td>\n",
       "      <td>...</td>\n",
       "      <td>...</td>\n",
       "      <td>...</td>\n",
       "      <td>...</td>\n",
       "      <td>...</td>\n",
       "      <td>...</td>\n",
       "      <td>...</td>\n",
       "      <td>...</td>\n",
       "      <td>...</td>\n",
       "      <td>...</td>\n",
       "      <td>...</td>\n",
       "      <td>...</td>\n",
       "      <td>...</td>\n",
       "    </tr>\n",
       "    <tr>\n",
       "      <th>354363</th>\n",
       "      <td>False</td>\n",
       "      <td>False</td>\n",
       "      <td>False</td>\n",
       "      <td>False</td>\n",
       "      <td>False</td>\n",
       "      <td>False</td>\n",
       "      <td>False</td>\n",
       "      <td>False</td>\n",
       "      <td>False</td>\n",
       "      <td>False</td>\n",
       "      <td>False</td>\n",
       "      <td>False</td>\n",
       "      <td>False</td>\n",
       "      <td>False</td>\n",
       "      <td>False</td>\n",
       "      <td>False</td>\n",
       "    </tr>\n",
       "    <tr>\n",
       "      <th>354365</th>\n",
       "      <td>False</td>\n",
       "      <td>False</td>\n",
       "      <td>False</td>\n",
       "      <td>False</td>\n",
       "      <td>False</td>\n",
       "      <td>False</td>\n",
       "      <td>False</td>\n",
       "      <td>False</td>\n",
       "      <td>False</td>\n",
       "      <td>False</td>\n",
       "      <td>False</td>\n",
       "      <td>False</td>\n",
       "      <td>False</td>\n",
       "      <td>False</td>\n",
       "      <td>False</td>\n",
       "      <td>False</td>\n",
       "    </tr>\n",
       "    <tr>\n",
       "      <th>354366</th>\n",
       "      <td>False</td>\n",
       "      <td>False</td>\n",
       "      <td>False</td>\n",
       "      <td>False</td>\n",
       "      <td>False</td>\n",
       "      <td>False</td>\n",
       "      <td>False</td>\n",
       "      <td>False</td>\n",
       "      <td>False</td>\n",
       "      <td>False</td>\n",
       "      <td>False</td>\n",
       "      <td>False</td>\n",
       "      <td>False</td>\n",
       "      <td>False</td>\n",
       "      <td>False</td>\n",
       "      <td>False</td>\n",
       "    </tr>\n",
       "    <tr>\n",
       "      <th>354367</th>\n",
       "      <td>False</td>\n",
       "      <td>False</td>\n",
       "      <td>False</td>\n",
       "      <td>False</td>\n",
       "      <td>False</td>\n",
       "      <td>False</td>\n",
       "      <td>False</td>\n",
       "      <td>False</td>\n",
       "      <td>False</td>\n",
       "      <td>False</td>\n",
       "      <td>False</td>\n",
       "      <td>False</td>\n",
       "      <td>False</td>\n",
       "      <td>False</td>\n",
       "      <td>False</td>\n",
       "      <td>False</td>\n",
       "    </tr>\n",
       "    <tr>\n",
       "      <th>354368</th>\n",
       "      <td>False</td>\n",
       "      <td>False</td>\n",
       "      <td>False</td>\n",
       "      <td>False</td>\n",
       "      <td>False</td>\n",
       "      <td>False</td>\n",
       "      <td>False</td>\n",
       "      <td>False</td>\n",
       "      <td>False</td>\n",
       "      <td>False</td>\n",
       "      <td>False</td>\n",
       "      <td>False</td>\n",
       "      <td>False</td>\n",
       "      <td>False</td>\n",
       "      <td>False</td>\n",
       "      <td>False</td>\n",
       "    </tr>\n",
       "  </tbody>\n",
       "</table>\n",
       "<p>341641 rows × 16 columns</p>\n",
       "</div>"
      ],
      "text/plain": [
       "        Price  VehicleType  RegistrationYear  Gearbox  Power  Model  Mileage  \\\n",
       "0       False        False             False    False  False  False    False   \n",
       "1       False        False             False    False  False  False    False   \n",
       "2       False        False             False    False  False  False    False   \n",
       "3       False        False             False    False  False  False    False   \n",
       "4       False        False             False    False  False  False    False   \n",
       "...       ...          ...               ...      ...    ...    ...      ...   \n",
       "354363  False        False             False    False  False  False    False   \n",
       "354365  False        False             False    False  False  False    False   \n",
       "354366  False        False             False    False  False  False    False   \n",
       "354367  False        False             False    False  False  False    False   \n",
       "354368  False        False             False    False  False  False    False   \n",
       "\n",
       "        RegistrationMonth  FuelType  Brand  NotRepaired  PostalCode  \\\n",
       "0                   False     False  False        False       False   \n",
       "1                   False     False  False        False       False   \n",
       "2                   False     False  False        False       False   \n",
       "3                   False     False  False        False       False   \n",
       "4                   False     False  False        False       False   \n",
       "...                   ...       ...    ...          ...         ...   \n",
       "354363              False     False  False        False       False   \n",
       "354365              False     False  False        False       False   \n",
       "354366              False     False  False        False       False   \n",
       "354367              False     False  False        False       False   \n",
       "354368              False     False  False        False       False   \n",
       "\n",
       "        DaysOnSite  CreateYear  CreateMonth  CreateDay  \n",
       "0            False       False        False      False  \n",
       "1            False       False        False      False  \n",
       "2            False       False        False      False  \n",
       "3            False       False        False      False  \n",
       "4            False       False        False      False  \n",
       "...            ...         ...          ...        ...  \n",
       "354363       False       False        False      False  \n",
       "354365       False       False        False      False  \n",
       "354366       False       False        False      False  \n",
       "354367       False       False        False      False  \n",
       "354368       False       False        False      False  \n",
       "\n",
       "[341641 rows x 16 columns]"
      ]
     },
     "execution_count": 64,
     "metadata": {},
     "output_type": "execute_result"
    }
   ],
   "source": [
    "# check for missing\n",
    "new_df.isnull()"
   ]
  },
  {
   "cell_type": "code",
   "execution_count": 65,
   "metadata": {},
   "outputs": [
    {
     "data": {
      "text/plain": [
       "7973"
      ]
     },
     "execution_count": 65,
     "metadata": {},
     "output_type": "execute_result"
    }
   ],
   "source": [
    "# check for duplicates\n",
    "new_df.duplicated().sum()"
   ]
  },
  {
   "cell_type": "code",
   "execution_count": 66,
   "metadata": {},
   "outputs": [],
   "source": [
    "new_df.drop_duplicates(inplace=True)"
   ]
  },
  {
   "cell_type": "code",
   "execution_count": 67,
   "metadata": {},
   "outputs": [
    {
     "name": "stdout",
     "output_type": "stream",
     "text": [
      "<class 'pandas.core.frame.DataFrame'>\n",
      "Int64Index: 333668 entries, 0 to 354368\n",
      "Data columns (total 16 columns):\n",
      " #   Column             Non-Null Count   Dtype  \n",
      "---  ------             --------------   -----  \n",
      " 0   Price              333668 non-null  int64  \n",
      " 1   VehicleType        333668 non-null  float64\n",
      " 2   RegistrationYear   333668 non-null  float64\n",
      " 3   Gearbox            333668 non-null  float64\n",
      " 4   Power              333668 non-null  float64\n",
      " 5   Model              333668 non-null  float64\n",
      " 6   Mileage            333668 non-null  int64  \n",
      " 7   RegistrationMonth  333668 non-null  float64\n",
      " 8   FuelType           333668 non-null  float64\n",
      " 9   Brand              333668 non-null  float64\n",
      " 10  NotRepaired        333668 non-null  float64\n",
      " 11  PostalCode         333668 non-null  float64\n",
      " 12  DaysOnSite         333668 non-null  int64  \n",
      " 13  CreateYear         333668 non-null  int64  \n",
      " 14  CreateMonth        333668 non-null  int64  \n",
      " 15  CreateDay          333668 non-null  int64  \n",
      "dtypes: float64(10), int64(6)\n",
      "memory usage: 43.3 MB\n"
     ]
    }
   ],
   "source": [
    "new_df.info()"
   ]
  },
  {
   "cell_type": "code",
   "execution_count": 68,
   "metadata": {},
   "outputs": [],
   "source": [
    "def convert_dtype(df, field, dtype=np.uint8):\n",
    "    try:\n",
    "        df[field] = df[field].astype(dtype)\n",
    "    except:\n",
    "        print(f'Failed to change dtype for {field}')"
   ]
  },
  {
   "cell_type": "code",
   "execution_count": 69,
   "metadata": {},
   "outputs": [],
   "source": [
    "dtype_cols = {\n",
    "    'VehicleType': int,\n",
    "    'RegistrationYear': int,\n",
    "    'Gearbox': int,\n",
    "    'Power': int,\n",
    "    'Model': int,\n",
    "    'RegistrationMonth': int,\n",
    "    'FuelType': int,\n",
    "    'Brand': int,\n",
    "    'NotRepaired': int,\n",
    "    'PostalCode': int,\n",
    "    'DaysOnSite': int,\n",
    "    'CreateYear': int,\n",
    "    'CreateMonth': int,\n",
    "    'CreateDay': int\n",
    "}"
   ]
  },
  {
   "cell_type": "code",
   "execution_count": 70,
   "metadata": {},
   "outputs": [
    {
     "name": "stdout",
     "output_type": "stream",
     "text": [
      "Conversion for VehicleType\n",
      "Conversion for RegistrationYear\n",
      "Conversion for Gearbox\n",
      "Conversion for Power\n",
      "Conversion for Model\n",
      "Conversion for RegistrationMonth\n",
      "Conversion for FuelType\n",
      "Conversion for Brand\n",
      "Conversion for NotRepaired\n",
      "Conversion for PostalCode\n",
      "Conversion for DaysOnSite\n",
      "Conversion for CreateYear\n",
      "Conversion for CreateMonth\n",
      "Conversion for CreateDay\n"
     ]
    }
   ],
   "source": [
    "for col in dtype_cols:\n",
    "    print(f'Conversion for {col}')\n",
    "    convert_dtype(new_df, col, dtype_cols[col])"
   ]
  },
  {
   "cell_type": "code",
   "execution_count": 71,
   "metadata": {},
   "outputs": [
    {
     "name": "stdout",
     "output_type": "stream",
     "text": [
      "<class 'pandas.core.frame.DataFrame'>\n",
      "Int64Index: 333668 entries, 0 to 354368\n",
      "Data columns (total 16 columns):\n",
      " #   Column             Non-Null Count   Dtype\n",
      "---  ------             --------------   -----\n",
      " 0   Price              333668 non-null  int64\n",
      " 1   VehicleType        333668 non-null  int64\n",
      " 2   RegistrationYear   333668 non-null  int64\n",
      " 3   Gearbox            333668 non-null  int64\n",
      " 4   Power              333668 non-null  int64\n",
      " 5   Model              333668 non-null  int64\n",
      " 6   Mileage            333668 non-null  int64\n",
      " 7   RegistrationMonth  333668 non-null  int64\n",
      " 8   FuelType           333668 non-null  int64\n",
      " 9   Brand              333668 non-null  int64\n",
      " 10  NotRepaired        333668 non-null  int64\n",
      " 11  PostalCode         333668 non-null  int64\n",
      " 12  DaysOnSite         333668 non-null  int64\n",
      " 13  CreateYear         333668 non-null  int64\n",
      " 14  CreateMonth        333668 non-null  int64\n",
      " 15  CreateDay          333668 non-null  int64\n",
      "dtypes: int64(16)\n",
      "memory usage: 43.3 MB\n"
     ]
    }
   ],
   "source": [
    "# check dtypes\n",
    "new_df.info()"
   ]
  },
  {
   "cell_type": "code",
   "execution_count": 72,
   "metadata": {},
   "outputs": [
    {
     "data": {
      "image/png": "[encoded data removed]",
      "text/plain": [
       "<Figure size 800x800 with 2 Axes>"
      ]
     },
     "metadata": {},
     "output_type": "display_data"
    }
   ],
   "source": [
    "# Correlation heatmap\n",
    "plt.figure(figsize=(10, 10), dpi=80)\n",
    "sns.heatmap(new_df.corr(), annot=True, cmap=\"RdYlGn\", fmt=\".2f\")\n",
    "plt.show()"
   ]
  },
  {
   "cell_type": "markdown",
   "metadata": {},
   "source": [
    "Ignoring the categorical features, we can see that RegistrationYear has a moderately strong positive correlation with Price.\n",
    "\n",
    "Similarly, Power a moderately strong positive correlation with Price.\n",
    "\n",
    "As expected, Mileage is negatively correlated with Price.\n",
    "\n",
    "Among the categorical features, Brand and Model have a positive correlation."
   ]
  },
  {
   "cell_type": "markdown",
   "metadata": {},
   "source": [
    "<div class=\"alert alert-block alert-success\">\n",
    "<b>Reviewer's comment</b> <a class=\"tocSkip\"></a>\n",
    "\n",
    "Great job! Your EDA and data preprocessing parts are really impressive. It's hard to think of what else could be done in these parts:)\n",
    "\n",
    "</div>"
   ]
  },
  {
   "cell_type": "markdown",
   "metadata": {},
   "source": [
    "## Model training"
   ]
  },
  {
   "cell_type": "code",
   "execution_count": 73,
   "metadata": {},
   "outputs": [],
   "source": [
    "x_train, x_test, y_train, y_test = train_test_split(new_df.drop(['Price'], axis=1), new_df['Price'], test_size=0.2, random_state=42)\n"
   ]
  },
  {
   "cell_type": "code",
   "execution_count": 74,
   "metadata": {},
   "outputs": [],
   "source": [
    "x_valid, x_test, y_valid, y_test = train_test_split(x_test, y_test, test_size=0.1, random_state=42)"
   ]
  },
  {
   "cell_type": "code",
   "execution_count": 75,
   "metadata": {},
   "outputs": [
    {
     "data": {
      "text/plain": [
       "((266934, 15), (60060, 15), (6674, 15), (266934,), (60060,), (6674,))"
      ]
     },
     "execution_count": 75,
     "metadata": {},
     "output_type": "execute_result"
    }
   ],
   "source": [
    "x_train.shape, x_valid.shape, x_test.shape, y_train.shape, y_valid.shape, y_test.shape"
   ]
  },
  {
   "cell_type": "code",
   "execution_count": 76,
   "metadata": {},
   "outputs": [],
   "source": [
    "def rmse(y_true, y_pred):\n",
    "    \n",
    "    return np.sqrt(mean_squared_error(y_true, y_pred))"
   ]
  },
  {
   "cell_type": "code",
   "execution_count": 77,
   "metadata": {},
   "outputs": [],
   "source": [
    "def build_model(model, x_train, y_train, x_valid, y_valid, hyperparameters={}, scoring=None, cv=5, model_str=None, cat_features=[], verbose=False):\n",
    "    np.random.seed(42)\n",
    "    best_rmse = 0\n",
    "    \n",
    "    gs = GridSearchCV(model, param_grid=hyperparameters, cv=cv, scoring=scoring)\n",
    "    gs.fit(x_train, y_train)\n",
    "    \n",
    "    start_time = time.time()\n",
    "    if model_str == 'catboost':\n",
    "        gs.best_estimator_.fit(x_train, y_train, cat_features=cat_features, verbose=verbose)\n",
    "    else:\n",
    "        gs.best_estimator_.fit(x_train, y_train)\n",
    "    end_time = time.time() - start_time\n",
    "    \n",
    "    preds = gs.best_estimator_.predict(x_valid)\n",
    "    best_rmse = rmse(y_valid, preds)\n",
    "    \n",
    "    return gs.best_estimator_, best_rmse, np.round(end_time, 2)"
   ]
  },
  {
   "cell_type": "code",
   "execution_count": 78,
   "metadata": {},
   "outputs": [],
   "source": [
    "lr = LinearRegression()\n",
    "best_lr_model, best_lr_rmse, best_lr_time = build_model(\n",
    "                                                        lr, \n",
    "                                                        x_train, \n",
    "                                                        y_train, \n",
    "                                                        x_valid, \n",
    "                                                        y_valid,\n",
    "                                                        hyperparameters={}, \n",
    "                                                        scoring=make_scorer(rmse), \n",
    "                                                        cv=5, \n",
    "                                                        model_str='lr'\n",
    "                                                       )"
   ]
  },
  {
   "cell_type": "code",
   "execution_count": 79,
   "metadata": {},
   "outputs": [],
   "source": [
    "rf = RandomForestRegressor(random_state=42)\n",
    "best_rf_model, best_rf_rmse, best_rf_time = build_model(\n",
    "                                                        rf, \n",
    "                                                        x_train, \n",
    "                                                        y_train, \n",
    "                                                        x_valid, \n",
    "                                                        y_valid,\n",
    "                                                        hyperparameters={'n_estimators': [20, 30, 40, 50]}, \n",
    "                                                        scoring=make_scorer(rmse), \n",
    "                                                        cv=5\n",
    "                                                       )"
   ]
  },
  {
   "cell_type": "code",
   "execution_count": 80,
   "metadata": {},
   "outputs": [
    {
     "name": "stdout",
     "output_type": "stream",
     "text": [
      "0:\tlearn: 2712.6775897\ttotal: 51.4ms\tremaining: 976ms\n",
      "1:\tlearn: 2424.4799816\ttotal: 97.7ms\tremaining: 879ms\n",
      "2:\tlearn: 2293.0619626\ttotal: 149ms\tremaining: 845ms\n",
      "3:\tlearn: 2198.3407052\ttotal: 209ms\tremaining: 836ms\n",
      "4:\tlearn: 2151.3555511\ttotal: 251ms\tremaining: 754ms\n",
      "5:\tlearn: 2111.8252403\ttotal: 298ms\tremaining: 695ms\n",
      "6:\tlearn: 2065.2593260\ttotal: 344ms\tremaining: 639ms\n",
      "7:\tlearn: 2043.4961256\ttotal: 390ms\tremaining: 586ms\n",
      "8:\tlearn: 2027.8983911\ttotal: 434ms\tremaining: 531ms\n",
      "9:\tlearn: 1989.3859648\ttotal: 488ms\tremaining: 488ms\n",
      "10:\tlearn: 1963.7320117\ttotal: 551ms\tremaining: 451ms\n",
      "11:\tlearn: 1949.3842847\ttotal: 607ms\tremaining: 404ms\n",
      "12:\tlearn: 1934.8888243\ttotal: 653ms\tremaining: 351ms\n",
      "13:\tlearn: 1923.8483236\ttotal: 703ms\tremaining: 301ms\n",
      "14:\tlearn: 1912.4658828\ttotal: 749ms\tremaining: 250ms\n",
      "15:\tlearn: 1900.8957819\ttotal: 805ms\tremaining: 201ms\n",
      "16:\tlearn: 1894.7775624\ttotal: 851ms\tremaining: 150ms\n",
      "17:\tlearn: 1885.2835213\ttotal: 904ms\tremaining: 100ms\n",
      "18:\tlearn: 1875.4324552\ttotal: 950ms\tremaining: 50ms\n",
      "19:\tlearn: 1869.3737390\ttotal: 1s\tremaining: 0us\n",
      "0:\tlearn: 2738.6191061\ttotal: 52.8ms\tremaining: 1s\n",
      "1:\tlearn: 2464.5048980\ttotal: 107ms\tremaining: 962ms\n",
      "2:\tlearn: 2355.5825123\ttotal: 159ms\tremaining: 899ms\n",
      "3:\tlearn: 2257.8638830\ttotal: 226ms\tremaining: 902ms\n",
      "4:\tlearn: 2202.6892921\ttotal: 285ms\tremaining: 856ms\n",
      "5:\tlearn: 2135.6931831\ttotal: 344ms\tremaining: 802ms\n",
      "6:\tlearn: 2101.4167128\ttotal: 396ms\tremaining: 736ms\n",
      "7:\tlearn: 2072.8961923\ttotal: 440ms\tremaining: 660ms\n",
      "8:\tlearn: 2019.0434033\ttotal: 501ms\tremaining: 613ms\n",
      "9:\tlearn: 1999.7252099\ttotal: 555ms\tremaining: 555ms\n",
      "10:\tlearn: 1986.0446792\ttotal: 615ms\tremaining: 504ms\n",
      "11:\tlearn: 1965.0781800\ttotal: 679ms\tremaining: 453ms\n",
      "12:\tlearn: 1952.8713712\ttotal: 733ms\tremaining: 395ms\n",
      "13:\tlearn: 1930.2256518\ttotal: 792ms\tremaining: 339ms\n",
      "14:\tlearn: 1919.5689083\ttotal: 858ms\tremaining: 286ms\n",
      "15:\tlearn: 1906.6061507\ttotal: 916ms\tremaining: 229ms\n",
      "16:\tlearn: 1893.7047120\ttotal: 973ms\tremaining: 172ms\n",
      "17:\tlearn: 1883.9305424\ttotal: 1.02s\tremaining: 114ms\n",
      "18:\tlearn: 1876.8892769\ttotal: 1.08s\tremaining: 56.7ms\n",
      "19:\tlearn: 1870.8739270\ttotal: 1.13s\tremaining: 0us\n",
      "0:\tlearn: 2711.6974623\ttotal: 55.2ms\tremaining: 1.05s\n",
      "1:\tlearn: 2437.4379721\ttotal: 109ms\tremaining: 983ms\n",
      "2:\tlearn: 2323.3973966\ttotal: 167ms\tremaining: 945ms\n",
      "3:\tlearn: 2237.0494833\ttotal: 231ms\tremaining: 922ms\n",
      "4:\tlearn: 2161.8735303\ttotal: 282ms\tremaining: 845ms\n",
      "5:\tlearn: 2124.3003015\ttotal: 336ms\tremaining: 784ms\n",
      "6:\tlearn: 2096.1889155\ttotal: 390ms\tremaining: 725ms\n",
      "7:\tlearn: 2052.2990765\ttotal: 447ms\tremaining: 670ms\n",
      "8:\tlearn: 2015.1175579\ttotal: 504ms\tremaining: 616ms\n",
      "9:\tlearn: 1996.3204829\ttotal: 560ms\tremaining: 560ms\n",
      "10:\tlearn: 1975.1511123\ttotal: 612ms\tremaining: 501ms\n",
      "11:\tlearn: 1963.1578358\ttotal: 667ms\tremaining: 445ms\n",
      "12:\tlearn: 1949.7078515\ttotal: 726ms\tremaining: 391ms\n",
      "13:\tlearn: 1937.3873746\ttotal: 785ms\tremaining: 336ms\n",
      "14:\tlearn: 1923.5148879\ttotal: 838ms\tremaining: 279ms\n",
      "15:\tlearn: 1911.8024725\ttotal: 889ms\tremaining: 222ms\n",
      "16:\tlearn: 1905.4305311\ttotal: 934ms\tremaining: 165ms\n",
      "17:\tlearn: 1897.3258619\ttotal: 987ms\tremaining: 110ms\n",
      "18:\tlearn: 1887.9142425\ttotal: 1.04s\tremaining: 54.7ms\n",
      "19:\tlearn: 1880.2484565\ttotal: 1.08s\tremaining: 0us\n",
      "0:\tlearn: 2710.4044599\ttotal: 67.3ms\tremaining: 1.28s\n",
      "1:\tlearn: 2427.0634312\ttotal: 124ms\tremaining: 1.12s\n",
      "2:\tlearn: 2304.9522874\ttotal: 185ms\tremaining: 1.05s\n",
      "3:\tlearn: 2242.0935896\ttotal: 237ms\tremaining: 950ms\n",
      "4:\tlearn: 2184.5765190\ttotal: 287ms\tremaining: 861ms\n",
      "5:\tlearn: 2122.1604466\ttotal: 348ms\tremaining: 811ms\n",
      "6:\tlearn: 2078.4974134\ttotal: 396ms\tremaining: 736ms\n",
      "7:\tlearn: 2043.2066977\ttotal: 456ms\tremaining: 684ms\n",
      "8:\tlearn: 2006.4511764\ttotal: 506ms\tremaining: 619ms\n",
      "9:\tlearn: 1986.7509710\ttotal: 559ms\tremaining: 559ms\n",
      "10:\tlearn: 1965.7882866\ttotal: 625ms\tremaining: 512ms\n",
      "11:\tlearn: 1954.7010741\ttotal: 679ms\tremaining: 453ms\n",
      "12:\tlearn: 1941.7281113\ttotal: 729ms\tremaining: 393ms\n",
      "13:\tlearn: 1929.3932695\ttotal: 789ms\tremaining: 338ms\n",
      "14:\tlearn: 1920.7983305\ttotal: 850ms\tremaining: 283ms\n",
      "15:\tlearn: 1913.0297589\ttotal: 895ms\tremaining: 224ms\n",
      "16:\tlearn: 1894.8810337\ttotal: 956ms\tremaining: 169ms\n",
      "17:\tlearn: 1888.4144307\ttotal: 1.01s\tremaining: 112ms\n",
      "18:\tlearn: 1881.1613763\ttotal: 1.05s\tremaining: 55.4ms\n",
      "19:\tlearn: 1870.8763753\ttotal: 1.1s\tremaining: 0us\n",
      "0:\tlearn: 2736.4157438\ttotal: 58ms\tremaining: 1.1s\n",
      "1:\tlearn: 2485.5725694\ttotal: 112ms\tremaining: 1s\n",
      "2:\tlearn: 2371.4496883\ttotal: 169ms\tremaining: 955ms\n",
      "3:\tlearn: 2256.8496380\ttotal: 230ms\tremaining: 921ms\n",
      "4:\tlearn: 2190.4274689\ttotal: 280ms\tremaining: 840ms\n",
      "5:\tlearn: 2129.3725077\ttotal: 331ms\tremaining: 773ms\n",
      "6:\tlearn: 2100.8371466\ttotal: 376ms\tremaining: 698ms\n",
      "7:\tlearn: 2076.4135874\ttotal: 439ms\tremaining: 658ms\n",
      "8:\tlearn: 2032.0217328\ttotal: 499ms\tremaining: 609ms\n",
      "9:\tlearn: 2002.7736729\ttotal: 565ms\tremaining: 565ms\n",
      "10:\tlearn: 1972.4165636\ttotal: 628ms\tremaining: 514ms\n",
      "11:\tlearn: 1956.0639751\ttotal: 684ms\tremaining: 456ms\n",
      "12:\tlearn: 1945.5742400\ttotal: 743ms\tremaining: 400ms\n",
      "13:\tlearn: 1935.9456573\ttotal: 794ms\tremaining: 340ms\n",
      "14:\tlearn: 1922.1503240\ttotal: 851ms\tremaining: 284ms\n",
      "15:\tlearn: 1907.7835932\ttotal: 898ms\tremaining: 225ms\n",
      "16:\tlearn: 1899.0174460\ttotal: 958ms\tremaining: 169ms\n",
      "17:\tlearn: 1893.0100223\ttotal: 1s\tremaining: 111ms\n",
      "18:\tlearn: 1884.5884407\ttotal: 1.06s\tremaining: 56ms\n",
      "19:\tlearn: 1879.0194476\ttotal: 1.12s\tremaining: 0us\n",
      "0:\tlearn: 2712.6775897\ttotal: 50.7ms\tremaining: 1.47s\n",
      "1:\tlearn: 2424.4799816\ttotal: 101ms\tremaining: 1.41s\n",
      "2:\tlearn: 2293.0619626\ttotal: 156ms\tremaining: 1.41s\n",
      "3:\tlearn: 2198.3407052\ttotal: 219ms\tremaining: 1.43s\n",
      "4:\tlearn: 2151.3555511\ttotal: 264ms\tremaining: 1.32s\n",
      "5:\tlearn: 2111.8252403\ttotal: 313ms\tremaining: 1.25s\n",
      "6:\tlearn: 2065.2593260\ttotal: 368ms\tremaining: 1.21s\n",
      "7:\tlearn: 2043.4961256\ttotal: 418ms\tremaining: 1.15s\n",
      "8:\tlearn: 2027.8983911\ttotal: 463ms\tremaining: 1.08s\n",
      "9:\tlearn: 1989.3859648\ttotal: 520ms\tremaining: 1.04s\n",
      "10:\tlearn: 1963.7320117\ttotal: 583ms\tremaining: 1.01s\n",
      "11:\tlearn: 1949.3842847\ttotal: 638ms\tremaining: 957ms\n",
      "12:\tlearn: 1934.8888243\ttotal: 686ms\tremaining: 897ms\n",
      "13:\tlearn: 1923.8483236\ttotal: 739ms\tremaining: 845ms\n",
      "14:\tlearn: 1912.4658828\ttotal: 789ms\tremaining: 789ms\n",
      "15:\tlearn: 1900.8957819\ttotal: 845ms\tremaining: 739ms\n",
      "16:\tlearn: 1894.7775624\ttotal: 893ms\tremaining: 683ms\n",
      "17:\tlearn: 1885.2835213\ttotal: 955ms\tremaining: 637ms\n",
      "18:\tlearn: 1875.4324552\ttotal: 1s\tremaining: 582ms\n",
      "19:\tlearn: 1869.3737390\ttotal: 1.06s\tremaining: 529ms\n",
      "20:\tlearn: 1860.2623802\ttotal: 1.11s\tremaining: 477ms\n",
      "21:\tlearn: 1855.2957153\ttotal: 1.16s\tremaining: 422ms\n",
      "22:\tlearn: 1850.3164395\ttotal: 1.21s\tremaining: 368ms\n",
      "23:\tlearn: 1842.1039228\ttotal: 1.27s\tremaining: 317ms\n",
      "24:\tlearn: 1833.7758766\ttotal: 1.31s\tremaining: 263ms\n",
      "25:\tlearn: 1828.5732439\ttotal: 1.36s\tremaining: 210ms\n",
      "26:\tlearn: 1823.7890964\ttotal: 1.42s\tremaining: 157ms\n",
      "27:\tlearn: 1819.7116608\ttotal: 1.47s\tremaining: 105ms\n",
      "28:\tlearn: 1811.6423424\ttotal: 1.53s\tremaining: 52.9ms\n",
      "29:\tlearn: 1806.6352380\ttotal: 1.58s\tremaining: 0us\n",
      "0:\tlearn: 2738.6191061\ttotal: 49.4ms\tremaining: 1.43s\n",
      "1:\tlearn: 2464.5048980\ttotal: 98.6ms\tremaining: 1.38s\n",
      "2:\tlearn: 2355.5825123\ttotal: 150ms\tremaining: 1.35s\n",
      "3:\tlearn: 2257.8638830\ttotal: 211ms\tremaining: 1.37s\n",
      "4:\tlearn: 2202.6892921\ttotal: 270ms\tremaining: 1.35s\n",
      "5:\tlearn: 2135.6931831\ttotal: 329ms\tremaining: 1.31s\n",
      "6:\tlearn: 2101.4167128\ttotal: 375ms\tremaining: 1.23s\n",
      "7:\tlearn: 2072.8961923\ttotal: 418ms\tremaining: 1.15s\n",
      "8:\tlearn: 2019.0434033\ttotal: 481ms\tremaining: 1.12s\n",
      "9:\tlearn: 1999.7252099\ttotal: 531ms\tremaining: 1.06s\n",
      "10:\tlearn: 1986.0446792\ttotal: 585ms\tremaining: 1.01s\n",
      "11:\tlearn: 1965.0781800\ttotal: 649ms\tremaining: 973ms\n",
      "12:\tlearn: 1952.8713712\ttotal: 700ms\tremaining: 916ms\n",
      "13:\tlearn: 1930.2256518\ttotal: 759ms\tremaining: 868ms\n",
      "14:\tlearn: 1919.5689083\ttotal: 821ms\tremaining: 821ms\n",
      "15:\tlearn: 1906.6061507\ttotal: 879ms\tremaining: 769ms\n",
      "16:\tlearn: 1893.7047120\ttotal: 930ms\tremaining: 711ms\n",
      "17:\tlearn: 1883.9305424\ttotal: 986ms\tremaining: 657ms\n",
      "18:\tlearn: 1876.8892769\ttotal: 1.04s\tremaining: 602ms\n",
      "19:\tlearn: 1870.8739270\ttotal: 1.09s\tremaining: 547ms\n",
      "20:\tlearn: 1862.9290987\ttotal: 1.15s\tremaining: 495ms\n",
      "21:\tlearn: 1859.2619131\ttotal: 1.21s\tremaining: 442ms\n",
      "22:\tlearn: 1849.7504792\ttotal: 1.27s\tremaining: 385ms\n",
      "23:\tlearn: 1845.9690282\ttotal: 1.31s\tremaining: 329ms\n"
     ]
    },
    {
     "name": "stdout",
     "output_type": "stream",
     "text": [
      "24:\tlearn: 1841.0564893\ttotal: 1.37s\tremaining: 273ms\n",
      "25:\tlearn: 1835.8906723\ttotal: 1.42s\tremaining: 218ms\n",
      "26:\tlearn: 1826.3388808\ttotal: 1.48s\tremaining: 164ms\n",
      "27:\tlearn: 1822.0712559\ttotal: 1.53s\tremaining: 109ms\n",
      "28:\tlearn: 1817.6922591\ttotal: 1.58s\tremaining: 54.5ms\n",
      "29:\tlearn: 1813.5163698\ttotal: 1.64s\tremaining: 0us\n",
      "0:\tlearn: 2711.6974623\ttotal: 61.7ms\tremaining: 1.79s\n",
      "1:\tlearn: 2437.4379721\ttotal: 118ms\tremaining: 1.65s\n",
      "2:\tlearn: 2323.3973966\ttotal: 178ms\tremaining: 1.6s\n",
      "3:\tlearn: 2237.0494833\ttotal: 249ms\tremaining: 1.62s\n",
      "4:\tlearn: 2161.8735303\ttotal: 310ms\tremaining: 1.55s\n",
      "5:\tlearn: 2124.3003015\ttotal: 364ms\tremaining: 1.46s\n",
      "6:\tlearn: 2096.1889155\ttotal: 412ms\tremaining: 1.35s\n",
      "7:\tlearn: 2052.2990765\ttotal: 468ms\tremaining: 1.29s\n",
      "8:\tlearn: 2015.1175579\ttotal: 527ms\tremaining: 1.23s\n",
      "9:\tlearn: 1996.3204829\ttotal: 586ms\tremaining: 1.17s\n",
      "10:\tlearn: 1975.1511123\ttotal: 635ms\tremaining: 1.1s\n",
      "11:\tlearn: 1963.1578358\ttotal: 690ms\tremaining: 1.03s\n",
      "12:\tlearn: 1949.7078515\ttotal: 748ms\tremaining: 978ms\n",
      "13:\tlearn: 1937.3873746\ttotal: 800ms\tremaining: 915ms\n",
      "14:\tlearn: 1923.5148879\ttotal: 852ms\tremaining: 852ms\n",
      "15:\tlearn: 1911.8024725\ttotal: 902ms\tremaining: 789ms\n",
      "16:\tlearn: 1905.4305311\ttotal: 946ms\tremaining: 724ms\n",
      "17:\tlearn: 1897.3258619\ttotal: 996ms\tremaining: 664ms\n",
      "18:\tlearn: 1887.9142425\ttotal: 1.05s\tremaining: 608ms\n",
      "19:\tlearn: 1880.2484565\ttotal: 1.1s\tremaining: 549ms\n",
      "20:\tlearn: 1871.5409858\ttotal: 1.15s\tremaining: 492ms\n",
      "21:\tlearn: 1867.9612488\ttotal: 1.19s\tremaining: 434ms\n",
      "22:\tlearn: 1855.4072419\ttotal: 1.25s\tremaining: 381ms\n",
      "23:\tlearn: 1847.2505891\ttotal: 1.32s\tremaining: 329ms\n",
      "24:\tlearn: 1842.6914735\ttotal: 1.38s\tremaining: 275ms\n",
      "25:\tlearn: 1835.0725637\ttotal: 1.43s\tremaining: 220ms\n",
      "26:\tlearn: 1831.1428970\ttotal: 1.48s\tremaining: 165ms\n",
      "27:\tlearn: 1826.7551632\ttotal: 1.54s\tremaining: 110ms\n",
      "28:\tlearn: 1821.2032924\ttotal: 1.6s\tremaining: 55.2ms\n",
      "29:\tlearn: 1812.6032136\ttotal: 1.66s\tremaining: 0us\n",
      "0:\tlearn: 2710.4044599\ttotal: 60.7ms\tremaining: 1.76s\n",
      "1:\tlearn: 2427.0634312\ttotal: 112ms\tremaining: 1.56s\n",
      "2:\tlearn: 2304.9522874\ttotal: 170ms\tremaining: 1.53s\n",
      "3:\tlearn: 2242.0935896\ttotal: 218ms\tremaining: 1.42s\n",
      "4:\tlearn: 2184.5765190\ttotal: 278ms\tremaining: 1.39s\n",
      "5:\tlearn: 2122.1604466\ttotal: 340ms\tremaining: 1.36s\n",
      "6:\tlearn: 2078.4974134\ttotal: 393ms\tremaining: 1.29s\n",
      "7:\tlearn: 2043.2066977\ttotal: 453ms\tremaining: 1.25s\n",
      "8:\tlearn: 2006.4511764\ttotal: 511ms\tremaining: 1.19s\n",
      "9:\tlearn: 1986.7509710\ttotal: 563ms\tremaining: 1.13s\n",
      "10:\tlearn: 1965.7882866\ttotal: 630ms\tremaining: 1.09s\n",
      "11:\tlearn: 1954.7010741\ttotal: 684ms\tremaining: 1.02s\n",
      "12:\tlearn: 1941.7281113\ttotal: 732ms\tremaining: 957ms\n",
      "13:\tlearn: 1929.3932695\ttotal: 793ms\tremaining: 907ms\n",
      "14:\tlearn: 1920.7983305\ttotal: 853ms\tremaining: 853ms\n",
      "15:\tlearn: 1913.0297589\ttotal: 901ms\tremaining: 789ms\n",
      "16:\tlearn: 1894.8810337\ttotal: 970ms\tremaining: 742ms\n",
      "17:\tlearn: 1888.4144307\ttotal: 1.02s\tremaining: 681ms\n",
      "18:\tlearn: 1881.1613763\ttotal: 1.07s\tremaining: 618ms\n",
      "19:\tlearn: 1870.8763753\ttotal: 1.12s\tremaining: 559ms\n",
      "20:\tlearn: 1863.3545453\ttotal: 1.16s\tremaining: 498ms\n",
      "21:\tlearn: 1857.3990321\ttotal: 1.21s\tremaining: 439ms\n",
      "22:\tlearn: 1849.7878109\ttotal: 1.26s\tremaining: 385ms\n",
      "23:\tlearn: 1845.4098782\ttotal: 1.31s\tremaining: 329ms\n",
      "24:\tlearn: 1838.7646607\ttotal: 1.37s\tremaining: 273ms\n",
      "25:\tlearn: 1834.2958139\ttotal: 1.42s\tremaining: 218ms\n",
      "26:\tlearn: 1827.3711282\ttotal: 1.48s\tremaining: 165ms\n",
      "27:\tlearn: 1820.6753745\ttotal: 1.53s\tremaining: 110ms\n",
      "28:\tlearn: 1816.6274168\ttotal: 1.59s\tremaining: 54.9ms\n",
      "29:\tlearn: 1810.3267866\ttotal: 1.65s\tremaining: 0us\n",
      "0:\tlearn: 2736.4157438\ttotal: 59.6ms\tremaining: 1.73s\n",
      "1:\tlearn: 2485.5725694\ttotal: 114ms\tremaining: 1.6s\n",
      "2:\tlearn: 2371.4496883\ttotal: 171ms\tremaining: 1.54s\n",
      "3:\tlearn: 2256.8496380\ttotal: 232ms\tremaining: 1.51s\n",
      "4:\tlearn: 2190.4274689\ttotal: 283ms\tremaining: 1.42s\n",
      "5:\tlearn: 2129.3725077\ttotal: 336ms\tremaining: 1.34s\n",
      "6:\tlearn: 2100.8371466\ttotal: 379ms\tremaining: 1.24s\n",
      "7:\tlearn: 2076.4135874\ttotal: 438ms\tremaining: 1.2s\n",
      "8:\tlearn: 2032.0217328\ttotal: 489ms\tremaining: 1.14s\n",
      "9:\tlearn: 2002.7736729\ttotal: 556ms\tremaining: 1.11s\n",
      "10:\tlearn: 1972.4165636\ttotal: 617ms\tremaining: 1.06s\n",
      "11:\tlearn: 1956.0639751\ttotal: 668ms\tremaining: 1s\n",
      "12:\tlearn: 1945.5742400\ttotal: 722ms\tremaining: 944ms\n",
      "13:\tlearn: 1935.9456573\ttotal: 766ms\tremaining: 876ms\n",
      "14:\tlearn: 1922.1503240\ttotal: 821ms\tremaining: 821ms\n",
      "15:\tlearn: 1907.7835932\ttotal: 867ms\tremaining: 759ms\n",
      "16:\tlearn: 1899.0174460\ttotal: 924ms\tremaining: 707ms\n",
      "17:\tlearn: 1893.0100223\ttotal: 969ms\tremaining: 646ms\n",
      "18:\tlearn: 1884.5884407\ttotal: 1.02s\tremaining: 592ms\n",
      "19:\tlearn: 1879.0194476\ttotal: 1.07s\tremaining: 536ms\n",
      "20:\tlearn: 1873.1545448\ttotal: 1.13s\tremaining: 482ms\n",
      "21:\tlearn: 1865.9077340\ttotal: 1.18s\tremaining: 427ms\n",
      "22:\tlearn: 1855.6339088\ttotal: 1.23s\tremaining: 375ms\n",
      "23:\tlearn: 1849.2547105\ttotal: 1.28s\tremaining: 321ms\n",
      "24:\tlearn: 1840.5630003\ttotal: 1.34s\tremaining: 269ms\n",
      "25:\tlearn: 1835.6189747\ttotal: 1.4s\tremaining: 216ms\n",
      "26:\tlearn: 1827.4590784\ttotal: 1.46s\tremaining: 162ms\n",
      "27:\tlearn: 1823.2315274\ttotal: 1.51s\tremaining: 108ms\n",
      "28:\tlearn: 1820.1054186\ttotal: 1.56s\tremaining: 53.7ms\n",
      "29:\tlearn: 1817.4791007\ttotal: 1.61s\tremaining: 0us\n",
      "0:\tlearn: 2712.6775897\ttotal: 56ms\tremaining: 2.19s\n",
      "1:\tlearn: 2424.4799816\ttotal: 106ms\tremaining: 2.02s\n",
      "2:\tlearn: 2293.0619626\ttotal: 160ms\tremaining: 1.97s\n",
      "3:\tlearn: 2198.3407052\ttotal: 223ms\tremaining: 2s\n",
      "4:\tlearn: 2151.3555511\ttotal: 268ms\tremaining: 1.87s\n",
      "5:\tlearn: 2111.8252403\ttotal: 317ms\tremaining: 1.79s\n",
      "6:\tlearn: 2065.2593260\ttotal: 369ms\tremaining: 1.74s\n",
      "7:\tlearn: 2043.4961256\ttotal: 420ms\tremaining: 1.68s\n",
      "8:\tlearn: 2027.8983911\ttotal: 469ms\tremaining: 1.61s\n",
      "9:\tlearn: 1989.3859648\ttotal: 525ms\tremaining: 1.58s\n",
      "10:\tlearn: 1963.7320117\ttotal: 590ms\tremaining: 1.55s\n",
      "11:\tlearn: 1949.3842847\ttotal: 647ms\tremaining: 1.51s\n",
      "12:\tlearn: 1934.8888243\ttotal: 696ms\tremaining: 1.45s\n",
      "13:\tlearn: 1923.8483236\ttotal: 749ms\tremaining: 1.39s\n",
      "14:\tlearn: 1912.4658828\ttotal: 795ms\tremaining: 1.32s\n",
      "15:\tlearn: 1900.8957819\ttotal: 848ms\tremaining: 1.27s\n",
      "16:\tlearn: 1894.7775624\ttotal: 901ms\tremaining: 1.22s\n",
      "17:\tlearn: 1885.2835213\ttotal: 960ms\tremaining: 1.17s\n",
      "18:\tlearn: 1875.4324552\ttotal: 1.01s\tremaining: 1.12s\n",
      "19:\tlearn: 1869.3737390\ttotal: 1.06s\tremaining: 1.06s\n",
      "20:\tlearn: 1860.2623802\ttotal: 1.12s\tremaining: 1.01s\n",
      "21:\tlearn: 1855.2957153\ttotal: 1.17s\tremaining: 958ms\n",
      "22:\tlearn: 1850.3164395\ttotal: 1.23s\tremaining: 908ms\n",
      "23:\tlearn: 1842.1039228\ttotal: 1.29s\tremaining: 862ms\n",
      "24:\tlearn: 1833.7758766\ttotal: 1.34s\tremaining: 807ms\n",
      "25:\tlearn: 1828.5732439\ttotal: 1.4s\tremaining: 751ms\n",
      "26:\tlearn: 1823.7890964\ttotal: 1.44s\tremaining: 694ms\n",
      "27:\tlearn: 1819.7116608\ttotal: 1.5s\tremaining: 642ms\n",
      "28:\tlearn: 1811.6423424\ttotal: 1.56s\tremaining: 592ms\n",
      "29:\tlearn: 1806.6352380\ttotal: 1.61s\tremaining: 536ms\n",
      "30:\tlearn: 1802.9725673\ttotal: 1.65s\tremaining: 480ms\n",
      "31:\tlearn: 1800.4652752\ttotal: 1.71s\tremaining: 427ms\n",
      "32:\tlearn: 1796.6410272\ttotal: 1.76s\tremaining: 373ms\n",
      "33:\tlearn: 1792.4674443\ttotal: 1.81s\tremaining: 320ms\n",
      "34:\tlearn: 1786.8586054\ttotal: 1.86s\tremaining: 266ms\n",
      "35:\tlearn: 1781.1092318\ttotal: 1.91s\tremaining: 213ms\n",
      "36:\tlearn: 1775.9165510\ttotal: 1.96s\tremaining: 159ms\n",
      "37:\tlearn: 1772.9042749\ttotal: 2.01s\tremaining: 106ms\n",
      "38:\tlearn: 1770.0639942\ttotal: 2.07s\tremaining: 53ms\n",
      "39:\tlearn: 1766.0704345\ttotal: 2.13s\tremaining: 0us\n",
      "0:\tlearn: 2738.6191061\ttotal: 55.6ms\tremaining: 2.17s\n",
      "1:\tlearn: 2464.5048980\ttotal: 107ms\tremaining: 2.03s\n",
      "2:\tlearn: 2355.5825123\ttotal: 158ms\tremaining: 1.95s\n",
      "3:\tlearn: 2257.8638830\ttotal: 222ms\tremaining: 2s\n",
      "4:\tlearn: 2202.6892921\ttotal: 276ms\tremaining: 1.93s\n",
      "5:\tlearn: 2135.6931831\ttotal: 335ms\tremaining: 1.9s\n",
      "6:\tlearn: 2101.4167128\ttotal: 386ms\tremaining: 1.82s\n",
      "7:\tlearn: 2072.8961923\ttotal: 432ms\tremaining: 1.73s\n",
      "8:\tlearn: 2019.0434033\ttotal: 490ms\tremaining: 1.69s\n",
      "9:\tlearn: 1999.7252099\ttotal: 541ms\tremaining: 1.62s\n",
      "10:\tlearn: 1986.0446792\ttotal: 594ms\tremaining: 1.56s\n",
      "11:\tlearn: 1965.0781800\ttotal: 663ms\tremaining: 1.55s\n",
      "12:\tlearn: 1952.8713712\ttotal: 718ms\tremaining: 1.49s\n",
      "13:\tlearn: 1930.2256518\ttotal: 774ms\tremaining: 1.44s\n",
      "14:\tlearn: 1919.5689083\ttotal: 846ms\tremaining: 1.41s\n",
      "15:\tlearn: 1906.6061507\ttotal: 902ms\tremaining: 1.35s\n",
      "16:\tlearn: 1893.7047120\ttotal: 951ms\tremaining: 1.29s\n",
      "17:\tlearn: 1883.9305424\ttotal: 1s\tremaining: 1.23s\n",
      "18:\tlearn: 1876.8892769\ttotal: 1.05s\tremaining: 1.17s\n",
      "19:\tlearn: 1870.8739270\ttotal: 1.11s\tremaining: 1.11s\n"
     ]
    },
    {
     "name": "stdout",
     "output_type": "stream",
     "text": [
      "20:\tlearn: 1862.9290987\ttotal: 1.16s\tremaining: 1.05s\n",
      "21:\tlearn: 1859.2619131\ttotal: 1.23s\tremaining: 1.01s\n",
      "22:\tlearn: 1849.7504792\ttotal: 1.29s\tremaining: 951ms\n",
      "23:\tlearn: 1845.9690282\ttotal: 1.34s\tremaining: 891ms\n",
      "24:\tlearn: 1841.0564893\ttotal: 1.39s\tremaining: 832ms\n",
      "25:\tlearn: 1835.8906723\ttotal: 1.44s\tremaining: 774ms\n",
      "26:\tlearn: 1826.3388808\ttotal: 1.49s\tremaining: 718ms\n",
      "27:\tlearn: 1822.0712559\ttotal: 1.54s\tremaining: 661ms\n",
      "28:\tlearn: 1817.6922591\ttotal: 1.59s\tremaining: 605ms\n",
      "29:\tlearn: 1813.5163698\ttotal: 1.65s\tremaining: 550ms\n",
      "30:\tlearn: 1807.2793160\ttotal: 1.71s\tremaining: 496ms\n",
      "31:\tlearn: 1802.3701989\ttotal: 1.76s\tremaining: 441ms\n",
      "32:\tlearn: 1799.1701011\ttotal: 1.81s\tremaining: 385ms\n",
      "33:\tlearn: 1792.8725445\ttotal: 1.87s\tremaining: 331ms\n",
      "34:\tlearn: 1788.7092411\ttotal: 1.94s\tremaining: 277ms\n",
      "35:\tlearn: 1786.1468708\ttotal: 1.99s\tremaining: 221ms\n",
      "36:\tlearn: 1782.5580854\ttotal: 2.04s\tremaining: 165ms\n",
      "37:\tlearn: 1778.1805845\ttotal: 2.09s\tremaining: 110ms\n",
      "38:\tlearn: 1774.9240803\ttotal: 2.14s\tremaining: 54.9ms\n",
      "39:\tlearn: 1771.3174529\ttotal: 2.19s\tremaining: 0us\n",
      "0:\tlearn: 2711.6974623\ttotal: 51.8ms\tremaining: 2.02s\n",
      "1:\tlearn: 2437.4379721\ttotal: 106ms\tremaining: 2.01s\n",
      "2:\tlearn: 2323.3973966\ttotal: 164ms\tremaining: 2.02s\n",
      "3:\tlearn: 2237.0494833\ttotal: 229ms\tremaining: 2.06s\n",
      "4:\tlearn: 2161.8735303\ttotal: 286ms\tremaining: 2s\n",
      "5:\tlearn: 2124.3003015\ttotal: 339ms\tremaining: 1.92s\n",
      "6:\tlearn: 2096.1889155\ttotal: 389ms\tremaining: 1.83s\n",
      "7:\tlearn: 2052.2990765\ttotal: 444ms\tremaining: 1.77s\n",
      "8:\tlearn: 2015.1175579\ttotal: 501ms\tremaining: 1.73s\n",
      "9:\tlearn: 1996.3204829\ttotal: 559ms\tremaining: 1.68s\n",
      "10:\tlearn: 1975.1511123\ttotal: 611ms\tremaining: 1.61s\n",
      "11:\tlearn: 1963.1578358\ttotal: 664ms\tremaining: 1.55s\n",
      "12:\tlearn: 1949.7078515\ttotal: 727ms\tremaining: 1.51s\n",
      "13:\tlearn: 1937.3873746\ttotal: 782ms\tremaining: 1.45s\n",
      "14:\tlearn: 1923.5148879\ttotal: 834ms\tremaining: 1.39s\n",
      "15:\tlearn: 1911.8024725\ttotal: 883ms\tremaining: 1.32s\n",
      "16:\tlearn: 1905.4305311\ttotal: 929ms\tremaining: 1.26s\n",
      "17:\tlearn: 1897.3258619\ttotal: 980ms\tremaining: 1.2s\n",
      "18:\tlearn: 1887.9142425\ttotal: 1.03s\tremaining: 1.14s\n",
      "19:\tlearn: 1880.2484565\ttotal: 1.08s\tremaining: 1.08s\n",
      "20:\tlearn: 1871.5409858\ttotal: 1.13s\tremaining: 1.02s\n",
      "21:\tlearn: 1867.9612488\ttotal: 1.18s\tremaining: 965ms\n",
      "22:\tlearn: 1855.4072419\ttotal: 1.24s\tremaining: 913ms\n",
      "23:\tlearn: 1847.2505891\ttotal: 1.3s\tremaining: 867ms\n",
      "24:\tlearn: 1842.6914735\ttotal: 1.36s\tremaining: 818ms\n",
      "25:\tlearn: 1835.0725637\ttotal: 1.42s\tremaining: 764ms\n",
      "26:\tlearn: 1831.1428970\ttotal: 1.47s\tremaining: 708ms\n",
      "27:\tlearn: 1826.7551632\ttotal: 1.53s\tremaining: 656ms\n",
      "28:\tlearn: 1821.2032924\ttotal: 1.59s\tremaining: 603ms\n",
      "29:\tlearn: 1812.6032136\ttotal: 1.65s\tremaining: 549ms\n",
      "30:\tlearn: 1809.2812254\ttotal: 1.7s\tremaining: 494ms\n",
      "31:\tlearn: 1805.7826250\ttotal: 1.76s\tremaining: 440ms\n",
      "32:\tlearn: 1802.5603265\ttotal: 1.81s\tremaining: 383ms\n",
      "33:\tlearn: 1796.3690124\ttotal: 1.86s\tremaining: 329ms\n",
      "34:\tlearn: 1792.4528967\ttotal: 1.91s\tremaining: 273ms\n",
      "35:\tlearn: 1790.3441365\ttotal: 1.96s\tremaining: 218ms\n",
      "36:\tlearn: 1786.7348513\ttotal: 2.01s\tremaining: 163ms\n",
      "37:\tlearn: 1782.3799471\ttotal: 2.07s\tremaining: 109ms\n",
      "38:\tlearn: 1777.0689321\ttotal: 2.12s\tremaining: 54.4ms\n",
      "39:\tlearn: 1772.4014662\ttotal: 2.19s\tremaining: 0us\n",
      "0:\tlearn: 2710.4044599\ttotal: 60.4ms\tremaining: 2.36s\n",
      "1:\tlearn: 2427.0634312\ttotal: 116ms\tremaining: 2.2s\n",
      "2:\tlearn: 2304.9522874\ttotal: 175ms\tremaining: 2.16s\n",
      "3:\tlearn: 2242.0935896\ttotal: 227ms\tremaining: 2.05s\n",
      "4:\tlearn: 2184.5765190\ttotal: 276ms\tremaining: 1.93s\n",
      "5:\tlearn: 2122.1604466\ttotal: 340ms\tremaining: 1.93s\n",
      "6:\tlearn: 2078.4974134\ttotal: 387ms\tremaining: 1.82s\n",
      "7:\tlearn: 2043.2066977\ttotal: 445ms\tremaining: 1.78s\n",
      "8:\tlearn: 2006.4511764\ttotal: 500ms\tremaining: 1.72s\n",
      "9:\tlearn: 1986.7509710\ttotal: 548ms\tremaining: 1.64s\n",
      "10:\tlearn: 1965.7882866\ttotal: 610ms\tremaining: 1.61s\n",
      "11:\tlearn: 1954.7010741\ttotal: 665ms\tremaining: 1.55s\n",
      "12:\tlearn: 1941.7281113\ttotal: 718ms\tremaining: 1.49s\n",
      "13:\tlearn: 1929.3932695\ttotal: 774ms\tremaining: 1.44s\n",
      "14:\tlearn: 1920.7983305\ttotal: 833ms\tremaining: 1.39s\n",
      "15:\tlearn: 1913.0297589\ttotal: 879ms\tremaining: 1.32s\n",
      "16:\tlearn: 1894.8810337\ttotal: 944ms\tremaining: 1.28s\n",
      "17:\tlearn: 1888.4144307\ttotal: 991ms\tremaining: 1.21s\n",
      "18:\tlearn: 1881.1613763\ttotal: 1.04s\tremaining: 1.15s\n",
      "19:\tlearn: 1870.8763753\ttotal: 1.09s\tremaining: 1.09s\n",
      "20:\tlearn: 1863.3545453\ttotal: 1.14s\tremaining: 1.03s\n",
      "21:\tlearn: 1857.3990321\ttotal: 1.19s\tremaining: 974ms\n",
      "22:\tlearn: 1849.7878109\ttotal: 1.25s\tremaining: 926ms\n",
      "23:\tlearn: 1845.4098782\ttotal: 1.3s\tremaining: 870ms\n",
      "24:\tlearn: 1838.7646607\ttotal: 1.36s\tremaining: 818ms\n",
      "25:\tlearn: 1834.2958139\ttotal: 1.43s\tremaining: 768ms\n",
      "26:\tlearn: 1827.3711282\ttotal: 1.49s\tremaining: 718ms\n",
      "27:\tlearn: 1820.6753745\ttotal: 1.55s\tremaining: 663ms\n",
      "28:\tlearn: 1816.6274168\ttotal: 1.6s\tremaining: 607ms\n",
      "29:\tlearn: 1810.3267866\ttotal: 1.66s\tremaining: 554ms\n",
      "30:\tlearn: 1807.2245706\ttotal: 1.71s\tremaining: 498ms\n",
      "31:\tlearn: 1801.8928124\ttotal: 1.76s\tremaining: 440ms\n",
      "32:\tlearn: 1798.6280286\ttotal: 1.82s\tremaining: 385ms\n",
      "33:\tlearn: 1792.3559101\ttotal: 1.88s\tremaining: 331ms\n",
      "34:\tlearn: 1787.2183176\ttotal: 1.93s\tremaining: 275ms\n",
      "35:\tlearn: 1784.6317026\ttotal: 1.98s\tremaining: 220ms\n",
      "36:\tlearn: 1781.9412656\ttotal: 2.04s\tremaining: 165ms\n",
      "37:\tlearn: 1778.5214198\ttotal: 2.09s\tremaining: 110ms\n",
      "38:\tlearn: 1774.4604647\ttotal: 2.16s\tremaining: 55.4ms\n",
      "39:\tlearn: 1771.3721479\ttotal: 2.2s\tremaining: 0us\n",
      "0:\tlearn: 2736.4157438\ttotal: 60ms\tremaining: 2.34s\n",
      "1:\tlearn: 2485.5725694\ttotal: 114ms\tremaining: 2.16s\n",
      "2:\tlearn: 2371.4496883\ttotal: 171ms\tremaining: 2.11s\n",
      "3:\tlearn: 2256.8496380\ttotal: 228ms\tremaining: 2.05s\n",
      "4:\tlearn: 2190.4274689\ttotal: 281ms\tremaining: 1.97s\n",
      "5:\tlearn: 2129.3725077\ttotal: 332ms\tremaining: 1.88s\n",
      "6:\tlearn: 2100.8371466\ttotal: 376ms\tremaining: 1.77s\n",
      "7:\tlearn: 2076.4135874\ttotal: 435ms\tremaining: 1.74s\n",
      "8:\tlearn: 2032.0217328\ttotal: 488ms\tremaining: 1.68s\n",
      "9:\tlearn: 2002.7736729\ttotal: 560ms\tremaining: 1.68s\n",
      "10:\tlearn: 1972.4165636\ttotal: 620ms\tremaining: 1.63s\n",
      "11:\tlearn: 1956.0639751\ttotal: 668ms\tremaining: 1.56s\n",
      "12:\tlearn: 1945.5742400\ttotal: 725ms\tremaining: 1.5s\n",
      "13:\tlearn: 1935.9456573\ttotal: 774ms\tremaining: 1.44s\n",
      "14:\tlearn: 1922.1503240\ttotal: 828ms\tremaining: 1.38s\n",
      "15:\tlearn: 1907.7835932\ttotal: 877ms\tremaining: 1.31s\n",
      "16:\tlearn: 1899.0174460\ttotal: 933ms\tremaining: 1.26s\n",
      "17:\tlearn: 1893.0100223\ttotal: 976ms\tremaining: 1.19s\n",
      "18:\tlearn: 1884.5884407\ttotal: 1.02s\tremaining: 1.13s\n",
      "19:\tlearn: 1879.0194476\ttotal: 1.07s\tremaining: 1.07s\n",
      "20:\tlearn: 1873.1545448\ttotal: 1.12s\tremaining: 1.02s\n",
      "21:\tlearn: 1865.9077340\ttotal: 1.17s\tremaining: 960ms\n",
      "22:\tlearn: 1855.6339088\ttotal: 1.23s\tremaining: 909ms\n",
      "23:\tlearn: 1849.2547105\ttotal: 1.28s\tremaining: 856ms\n",
      "24:\tlearn: 1840.5630003\ttotal: 1.35s\tremaining: 811ms\n",
      "25:\tlearn: 1835.6189747\ttotal: 1.42s\tremaining: 763ms\n",
      "26:\tlearn: 1827.4590784\ttotal: 1.47s\tremaining: 708ms\n",
      "27:\tlearn: 1823.2315274\ttotal: 1.52s\tremaining: 651ms\n",
      "28:\tlearn: 1820.1054186\ttotal: 1.57s\tremaining: 596ms\n",
      "29:\tlearn: 1817.4791007\ttotal: 1.63s\tremaining: 542ms\n",
      "30:\tlearn: 1813.4622747\ttotal: 1.68s\tremaining: 488ms\n",
      "31:\tlearn: 1809.4502498\ttotal: 1.74s\tremaining: 434ms\n",
      "32:\tlearn: 1805.0857740\ttotal: 1.8s\tremaining: 381ms\n",
      "33:\tlearn: 1799.0946145\ttotal: 1.86s\tremaining: 328ms\n",
      "34:\tlearn: 1791.3123315\ttotal: 1.91s\tremaining: 273ms\n",
      "35:\tlearn: 1785.7583582\ttotal: 1.97s\tremaining: 219ms\n",
      "36:\tlearn: 1779.3316747\ttotal: 2.03s\tremaining: 165ms\n",
      "37:\tlearn: 1776.5436801\ttotal: 2.09s\tremaining: 110ms\n",
      "38:\tlearn: 1771.1103226\ttotal: 2.15s\tremaining: 55.1ms\n",
      "39:\tlearn: 1768.0206760\ttotal: 2.21s\tremaining: 0us\n",
      "0:\tlearn: 2712.6775897\ttotal: 54.2ms\tremaining: 2.66s\n",
      "1:\tlearn: 2424.4799816\ttotal: 105ms\tremaining: 2.52s\n",
      "2:\tlearn: 2293.0619626\ttotal: 165ms\tremaining: 2.58s\n",
      "3:\tlearn: 2198.3407052\ttotal: 231ms\tremaining: 2.65s\n",
      "4:\tlearn: 2151.3555511\ttotal: 277ms\tremaining: 2.5s\n",
      "5:\tlearn: 2111.8252403\ttotal: 325ms\tremaining: 2.39s\n",
      "6:\tlearn: 2065.2593260\ttotal: 373ms\tremaining: 2.29s\n",
      "7:\tlearn: 2043.4961256\ttotal: 424ms\tremaining: 2.23s\n",
      "8:\tlearn: 2027.8983911\ttotal: 470ms\tremaining: 2.14s\n",
      "9:\tlearn: 1989.3859648\ttotal: 530ms\tremaining: 2.12s\n",
      "10:\tlearn: 1963.7320117\ttotal: 589ms\tremaining: 2.09s\n",
      "11:\tlearn: 1949.3842847\ttotal: 640ms\tremaining: 2.03s\n",
      "12:\tlearn: 1934.8888243\ttotal: 686ms\tremaining: 1.95s\n"
     ]
    },
    {
     "name": "stdout",
     "output_type": "stream",
     "text": [
      "13:\tlearn: 1923.8483236\ttotal: 738ms\tremaining: 1.9s\n",
      "14:\tlearn: 1912.4658828\ttotal: 788ms\tremaining: 1.84s\n",
      "15:\tlearn: 1900.8957819\ttotal: 843ms\tremaining: 1.79s\n",
      "16:\tlearn: 1894.7775624\ttotal: 891ms\tremaining: 1.73s\n",
      "17:\tlearn: 1885.2835213\ttotal: 947ms\tremaining: 1.68s\n",
      "18:\tlearn: 1875.4324552\ttotal: 995ms\tremaining: 1.62s\n",
      "19:\tlearn: 1869.3737390\ttotal: 1.04s\tremaining: 1.57s\n",
      "20:\tlearn: 1860.2623802\ttotal: 1.1s\tremaining: 1.52s\n",
      "21:\tlearn: 1855.2957153\ttotal: 1.15s\tremaining: 1.46s\n",
      "22:\tlearn: 1850.3164395\ttotal: 1.2s\tremaining: 1.41s\n",
      "23:\tlearn: 1842.1039228\ttotal: 1.25s\tremaining: 1.36s\n",
      "24:\tlearn: 1833.7758766\ttotal: 1.3s\tremaining: 1.3s\n",
      "25:\tlearn: 1828.5732439\ttotal: 1.35s\tremaining: 1.25s\n",
      "26:\tlearn: 1823.7890964\ttotal: 1.4s\tremaining: 1.19s\n",
      "27:\tlearn: 1819.7116608\ttotal: 1.46s\tremaining: 1.15s\n",
      "28:\tlearn: 1811.6423424\ttotal: 1.52s\tremaining: 1.1s\n",
      "29:\tlearn: 1806.6352380\ttotal: 1.57s\tremaining: 1.05s\n",
      "30:\tlearn: 1802.9725673\ttotal: 1.63s\tremaining: 997ms\n",
      "31:\tlearn: 1800.4652752\ttotal: 1.69s\tremaining: 950ms\n",
      "32:\tlearn: 1796.6410272\ttotal: 1.74s\tremaining: 897ms\n",
      "33:\tlearn: 1792.4674443\ttotal: 1.8s\tremaining: 845ms\n",
      "34:\tlearn: 1786.8586054\ttotal: 1.84s\tremaining: 791ms\n",
      "35:\tlearn: 1781.1092318\ttotal: 1.9s\tremaining: 738ms\n",
      "36:\tlearn: 1775.9165510\ttotal: 1.95s\tremaining: 686ms\n",
      "37:\tlearn: 1772.9042749\ttotal: 2.01s\tremaining: 635ms\n",
      "38:\tlearn: 1770.0639942\ttotal: 2.07s\tremaining: 584ms\n",
      "39:\tlearn: 1766.0704345\ttotal: 2.13s\tremaining: 534ms\n",
      "40:\tlearn: 1763.0410429\ttotal: 2.19s\tremaining: 480ms\n",
      "41:\tlearn: 1760.0003275\ttotal: 2.24s\tremaining: 427ms\n",
      "42:\tlearn: 1753.5093758\ttotal: 2.3s\tremaining: 375ms\n",
      "43:\tlearn: 1749.8165865\ttotal: 2.35s\tremaining: 320ms\n",
      "44:\tlearn: 1747.8638253\ttotal: 2.4s\tremaining: 267ms\n",
      "45:\tlearn: 1745.4033388\ttotal: 2.45s\tremaining: 213ms\n",
      "46:\tlearn: 1741.5665876\ttotal: 2.51s\tremaining: 160ms\n",
      "47:\tlearn: 1738.8471079\ttotal: 2.56s\tremaining: 107ms\n",
      "48:\tlearn: 1735.5227973\ttotal: 2.62s\tremaining: 53.4ms\n",
      "49:\tlearn: 1733.9026906\ttotal: 2.66s\tremaining: 0us\n",
      "0:\tlearn: 2738.6191061\ttotal: 69.3ms\tremaining: 3.39s\n",
      "1:\tlearn: 2464.5048980\ttotal: 123ms\tremaining: 2.96s\n",
      "2:\tlearn: 2355.5825123\ttotal: 178ms\tremaining: 2.78s\n",
      "3:\tlearn: 2257.8638830\ttotal: 243ms\tremaining: 2.79s\n",
      "4:\tlearn: 2202.6892921\ttotal: 301ms\tremaining: 2.71s\n",
      "5:\tlearn: 2135.6931831\ttotal: 359ms\tremaining: 2.64s\n",
      "6:\tlearn: 2101.4167128\ttotal: 409ms\tremaining: 2.51s\n",
      "7:\tlearn: 2072.8961923\ttotal: 455ms\tremaining: 2.39s\n",
      "8:\tlearn: 2019.0434033\ttotal: 519ms\tremaining: 2.37s\n",
      "9:\tlearn: 1999.7252099\ttotal: 571ms\tremaining: 2.28s\n",
      "10:\tlearn: 1986.0446792\ttotal: 627ms\tremaining: 2.22s\n",
      "11:\tlearn: 1965.0781800\ttotal: 694ms\tremaining: 2.2s\n",
      "12:\tlearn: 1952.8713712\ttotal: 744ms\tremaining: 2.12s\n",
      "13:\tlearn: 1930.2256518\ttotal: 796ms\tremaining: 2.05s\n",
      "14:\tlearn: 1919.5689083\ttotal: 861ms\tremaining: 2.01s\n",
      "15:\tlearn: 1906.6061507\ttotal: 915ms\tremaining: 1.94s\n",
      "16:\tlearn: 1893.7047120\ttotal: 966ms\tremaining: 1.88s\n",
      "17:\tlearn: 1883.9305424\ttotal: 1.02s\tremaining: 1.82s\n",
      "18:\tlearn: 1876.8892769\ttotal: 1.07s\tremaining: 1.75s\n",
      "19:\tlearn: 1870.8739270\ttotal: 1.13s\tremaining: 1.69s\n",
      "20:\tlearn: 1862.9290987\ttotal: 1.19s\tremaining: 1.64s\n",
      "21:\tlearn: 1859.2619131\ttotal: 1.25s\tremaining: 1.59s\n",
      "22:\tlearn: 1849.7504792\ttotal: 1.3s\tremaining: 1.53s\n",
      "23:\tlearn: 1845.9690282\ttotal: 1.35s\tremaining: 1.47s\n",
      "24:\tlearn: 1841.0564893\ttotal: 1.4s\tremaining: 1.4s\n",
      "25:\tlearn: 1835.8906723\ttotal: 1.46s\tremaining: 1.34s\n",
      "26:\tlearn: 1826.3388808\ttotal: 1.52s\tremaining: 1.29s\n",
      "27:\tlearn: 1822.0712559\ttotal: 1.57s\tremaining: 1.23s\n",
      "28:\tlearn: 1817.6922591\ttotal: 1.62s\tremaining: 1.17s\n",
      "29:\tlearn: 1813.5163698\ttotal: 1.68s\tremaining: 1.12s\n",
      "30:\tlearn: 1807.2793160\ttotal: 1.74s\tremaining: 1.06s\n",
      "31:\tlearn: 1802.3701989\ttotal: 1.79s\tremaining: 1.01s\n",
      "32:\tlearn: 1799.1701011\ttotal: 1.84s\tremaining: 948ms\n",
      "33:\tlearn: 1792.8725445\ttotal: 1.9s\tremaining: 894ms\n",
      "34:\tlearn: 1788.7092411\ttotal: 1.96s\tremaining: 841ms\n",
      "35:\tlearn: 1786.1468708\ttotal: 2.01s\tremaining: 782ms\n",
      "36:\tlearn: 1782.5580854\ttotal: 2.06s\tremaining: 724ms\n",
      "37:\tlearn: 1778.1805845\ttotal: 2.12s\tremaining: 669ms\n",
      "38:\tlearn: 1774.9240803\ttotal: 2.16s\tremaining: 611ms\n",
      "39:\tlearn: 1771.3174529\ttotal: 2.22s\tremaining: 554ms\n",
      "40:\tlearn: 1766.6689296\ttotal: 2.29s\tremaining: 502ms\n",
      "41:\tlearn: 1763.1327211\ttotal: 2.35s\tremaining: 448ms\n",
      "42:\tlearn: 1758.6111225\ttotal: 2.41s\tremaining: 392ms\n",
      "43:\tlearn: 1755.1907402\ttotal: 2.46s\tremaining: 336ms\n",
      "44:\tlearn: 1752.6189197\ttotal: 2.52s\tremaining: 280ms\n",
      "45:\tlearn: 1749.9236608\ttotal: 2.58s\tremaining: 224ms\n",
      "46:\tlearn: 1746.1891076\ttotal: 2.63s\tremaining: 168ms\n",
      "47:\tlearn: 1743.2867492\ttotal: 2.68s\tremaining: 112ms\n",
      "48:\tlearn: 1741.7881234\ttotal: 2.74s\tremaining: 55.8ms\n",
      "49:\tlearn: 1739.1553019\ttotal: 2.8s\tremaining: 0us\n",
      "0:\tlearn: 2711.6974623\ttotal: 57.3ms\tremaining: 2.81s\n",
      "1:\tlearn: 2437.4379721\ttotal: 107ms\tremaining: 2.57s\n",
      "2:\tlearn: 2323.3973966\ttotal: 166ms\tremaining: 2.6s\n",
      "3:\tlearn: 2237.0494833\ttotal: 232ms\tremaining: 2.67s\n",
      "4:\tlearn: 2161.8735303\ttotal: 290ms\tremaining: 2.61s\n",
      "5:\tlearn: 2124.3003015\ttotal: 350ms\tremaining: 2.57s\n",
      "6:\tlearn: 2096.1889155\ttotal: 401ms\tremaining: 2.46s\n",
      "7:\tlearn: 2052.2990765\ttotal: 450ms\tremaining: 2.36s\n",
      "8:\tlearn: 2015.1175579\ttotal: 505ms\tremaining: 2.3s\n",
      "9:\tlearn: 1996.3204829\ttotal: 567ms\tremaining: 2.27s\n",
      "10:\tlearn: 1975.1511123\ttotal: 618ms\tremaining: 2.19s\n",
      "11:\tlearn: 1963.1578358\ttotal: 673ms\tremaining: 2.13s\n",
      "12:\tlearn: 1949.7078515\ttotal: 736ms\tremaining: 2.09s\n",
      "13:\tlearn: 1937.3873746\ttotal: 787ms\tremaining: 2.02s\n",
      "14:\tlearn: 1923.5148879\ttotal: 840ms\tremaining: 1.96s\n",
      "15:\tlearn: 1911.8024725\ttotal: 890ms\tremaining: 1.89s\n",
      "16:\tlearn: 1905.4305311\ttotal: 934ms\tremaining: 1.81s\n",
      "17:\tlearn: 1897.3258619\ttotal: 981ms\tremaining: 1.74s\n",
      "18:\tlearn: 1887.9142425\ttotal: 1.03s\tremaining: 1.69s\n",
      "19:\tlearn: 1880.2484565\ttotal: 1.08s\tremaining: 1.62s\n",
      "20:\tlearn: 1871.5409858\ttotal: 1.13s\tremaining: 1.57s\n",
      "21:\tlearn: 1867.9612488\ttotal: 1.18s\tremaining: 1.5s\n",
      "22:\tlearn: 1855.4072419\ttotal: 1.24s\tremaining: 1.45s\n",
      "23:\tlearn: 1847.2505891\ttotal: 1.3s\tremaining: 1.41s\n",
      "24:\tlearn: 1842.6914735\ttotal: 1.36s\tremaining: 1.36s\n",
      "25:\tlearn: 1835.0725637\ttotal: 1.42s\tremaining: 1.31s\n",
      "26:\tlearn: 1831.1428970\ttotal: 1.47s\tremaining: 1.25s\n",
      "27:\tlearn: 1826.7551632\ttotal: 1.54s\tremaining: 1.21s\n",
      "28:\tlearn: 1821.2032924\ttotal: 1.6s\tremaining: 1.16s\n",
      "29:\tlearn: 1812.6032136\ttotal: 1.66s\tremaining: 1.1s\n",
      "30:\tlearn: 1809.2812254\ttotal: 1.71s\tremaining: 1.05s\n",
      "31:\tlearn: 1805.7826250\ttotal: 1.76s\tremaining: 990ms\n",
      "32:\tlearn: 1802.5603265\ttotal: 1.81s\tremaining: 932ms\n",
      "33:\tlearn: 1796.3690124\ttotal: 1.87s\tremaining: 880ms\n",
      "34:\tlearn: 1792.4528967\ttotal: 1.92s\tremaining: 823ms\n",
      "35:\tlearn: 1790.3441365\ttotal: 1.97s\tremaining: 768ms\n",
      "36:\tlearn: 1786.7348513\ttotal: 2.03s\tremaining: 712ms\n",
      "37:\tlearn: 1782.3799471\ttotal: 2.08s\tremaining: 656ms\n",
      "38:\tlearn: 1777.0689321\ttotal: 2.13s\tremaining: 602ms\n",
      "39:\tlearn: 1772.4014662\ttotal: 2.2s\tremaining: 550ms\n",
      "40:\tlearn: 1766.0282884\ttotal: 2.27s\tremaining: 497ms\n",
      "41:\tlearn: 1763.0907446\ttotal: 2.32s\tremaining: 441ms\n",
      "42:\tlearn: 1759.5250104\ttotal: 2.37s\tremaining: 386ms\n",
      "43:\tlearn: 1755.0932727\ttotal: 2.44s\tremaining: 332ms\n",
      "44:\tlearn: 1752.0904392\ttotal: 2.49s\tremaining: 276ms\n",
      "45:\tlearn: 1748.8362623\ttotal: 2.54s\tremaining: 221ms\n",
      "46:\tlearn: 1747.1157260\ttotal: 2.59s\tremaining: 166ms\n",
      "47:\tlearn: 1743.7652842\ttotal: 2.65s\tremaining: 110ms\n",
      "48:\tlearn: 1741.8786892\ttotal: 2.7s\tremaining: 55.1ms\n",
      "49:\tlearn: 1739.2134908\ttotal: 2.75s\tremaining: 0us\n",
      "0:\tlearn: 2710.4044599\ttotal: 57.4ms\tremaining: 2.81s\n",
      "1:\tlearn: 2427.0634312\ttotal: 120ms\tremaining: 2.87s\n",
      "2:\tlearn: 2304.9522874\ttotal: 184ms\tremaining: 2.88s\n",
      "3:\tlearn: 2242.0935896\ttotal: 232ms\tremaining: 2.67s\n",
      "4:\tlearn: 2184.5765190\ttotal: 282ms\tremaining: 2.54s\n",
      "5:\tlearn: 2122.1604466\ttotal: 345ms\tremaining: 2.53s\n",
      "6:\tlearn: 2078.4974134\ttotal: 400ms\tremaining: 2.46s\n",
      "7:\tlearn: 2043.2066977\ttotal: 459ms\tremaining: 2.41s\n",
      "8:\tlearn: 2006.4511764\ttotal: 510ms\tremaining: 2.32s\n",
      "9:\tlearn: 1986.7509710\ttotal: 560ms\tremaining: 2.24s\n",
      "10:\tlearn: 1965.7882866\ttotal: 630ms\tremaining: 2.23s\n",
      "11:\tlearn: 1954.7010741\ttotal: 690ms\tremaining: 2.18s\n",
      "12:\tlearn: 1941.7281113\ttotal: 741ms\tremaining: 2.11s\n",
      "13:\tlearn: 1929.3932695\ttotal: 811ms\tremaining: 2.08s\n",
      "14:\tlearn: 1920.7983305\ttotal: 879ms\tremaining: 2.05s\n",
      "15:\tlearn: 1913.0297589\ttotal: 928ms\tremaining: 1.97s\n"
     ]
    },
    {
     "name": "stdout",
     "output_type": "stream",
     "text": [
      "16:\tlearn: 1894.8810337\ttotal: 990ms\tremaining: 1.92s\n",
      "17:\tlearn: 1888.4144307\ttotal: 1.04s\tremaining: 1.85s\n",
      "18:\tlearn: 1881.1613763\ttotal: 1.09s\tremaining: 1.78s\n",
      "19:\tlearn: 1870.8763753\ttotal: 1.15s\tremaining: 1.72s\n",
      "20:\tlearn: 1863.3545453\ttotal: 1.2s\tremaining: 1.65s\n",
      "21:\tlearn: 1857.3990321\ttotal: 1.24s\tremaining: 1.58s\n",
      "22:\tlearn: 1849.7878109\ttotal: 1.3s\tremaining: 1.53s\n",
      "23:\tlearn: 1845.4098782\ttotal: 1.35s\tremaining: 1.46s\n",
      "24:\tlearn: 1838.7646607\ttotal: 1.41s\tremaining: 1.41s\n",
      "25:\tlearn: 1834.2958139\ttotal: 1.46s\tremaining: 1.35s\n",
      "26:\tlearn: 1827.3711282\ttotal: 1.53s\tremaining: 1.3s\n",
      "27:\tlearn: 1820.6753745\ttotal: 1.58s\tremaining: 1.24s\n",
      "28:\tlearn: 1816.6274168\ttotal: 1.63s\tremaining: 1.18s\n",
      "29:\tlearn: 1810.3267866\ttotal: 1.69s\tremaining: 1.13s\n",
      "30:\tlearn: 1807.2245706\ttotal: 1.74s\tremaining: 1.06s\n",
      "31:\tlearn: 1801.8928124\ttotal: 1.78s\tremaining: 1s\n",
      "32:\tlearn: 1798.6280286\ttotal: 1.84s\tremaining: 948ms\n",
      "33:\tlearn: 1792.3559101\ttotal: 1.91s\tremaining: 899ms\n",
      "34:\tlearn: 1787.2183176\ttotal: 1.96s\tremaining: 840ms\n",
      "35:\tlearn: 1784.6317026\ttotal: 2.01s\tremaining: 781ms\n",
      "36:\tlearn: 1781.9412656\ttotal: 2.07s\tremaining: 727ms\n",
      "37:\tlearn: 1778.5214198\ttotal: 2.12s\tremaining: 671ms\n",
      "38:\tlearn: 1774.4604647\ttotal: 2.19s\tremaining: 617ms\n",
      "39:\tlearn: 1771.3721479\ttotal: 2.23s\tremaining: 558ms\n",
      "40:\tlearn: 1766.1012161\ttotal: 2.28s\tremaining: 501ms\n",
      "41:\tlearn: 1763.3703670\ttotal: 2.34s\tremaining: 445ms\n",
      "42:\tlearn: 1761.8735633\ttotal: 2.38s\tremaining: 388ms\n",
      "43:\tlearn: 1758.7671405\ttotal: 2.43s\tremaining: 332ms\n",
      "44:\tlearn: 1755.7844251\ttotal: 2.49s\tremaining: 276ms\n",
      "45:\tlearn: 1753.0143885\ttotal: 2.55s\tremaining: 222ms\n",
      "46:\tlearn: 1749.8450283\ttotal: 2.6s\tremaining: 166ms\n",
      "47:\tlearn: 1747.9237937\ttotal: 2.66s\tremaining: 111ms\n",
      "48:\tlearn: 1745.3683172\ttotal: 2.71s\tremaining: 55.3ms\n",
      "49:\tlearn: 1742.8166650\ttotal: 2.76s\tremaining: 0us\n",
      "0:\tlearn: 2736.4157438\ttotal: 61.7ms\tremaining: 3.02s\n",
      "1:\tlearn: 2485.5725694\ttotal: 121ms\tremaining: 2.91s\n",
      "2:\tlearn: 2371.4496883\ttotal: 181ms\tremaining: 2.83s\n",
      "3:\tlearn: 2256.8496380\ttotal: 240ms\tremaining: 2.76s\n",
      "4:\tlearn: 2190.4274689\ttotal: 296ms\tremaining: 2.67s\n",
      "5:\tlearn: 2129.3725077\ttotal: 348ms\tremaining: 2.55s\n",
      "6:\tlearn: 2100.8371466\ttotal: 398ms\tremaining: 2.44s\n",
      "7:\tlearn: 2076.4135874\ttotal: 453ms\tremaining: 2.38s\n",
      "8:\tlearn: 2032.0217328\ttotal: 507ms\tremaining: 2.31s\n",
      "9:\tlearn: 2002.7736729\ttotal: 573ms\tremaining: 2.29s\n",
      "10:\tlearn: 1972.4165636\ttotal: 636ms\tremaining: 2.26s\n",
      "11:\tlearn: 1956.0639751\ttotal: 688ms\tremaining: 2.18s\n",
      "12:\tlearn: 1945.5742400\ttotal: 743ms\tremaining: 2.11s\n",
      "13:\tlearn: 1935.9456573\ttotal: 790ms\tremaining: 2.03s\n",
      "14:\tlearn: 1922.1503240\ttotal: 844ms\tremaining: 1.97s\n",
      "15:\tlearn: 1907.7835932\ttotal: 889ms\tremaining: 1.89s\n",
      "16:\tlearn: 1899.0174460\ttotal: 947ms\tremaining: 1.84s\n",
      "17:\tlearn: 1893.0100223\ttotal: 994ms\tremaining: 1.77s\n",
      "18:\tlearn: 1884.5884407\ttotal: 1.05s\tremaining: 1.71s\n",
      "19:\tlearn: 1879.0194476\ttotal: 1.1s\tremaining: 1.65s\n",
      "20:\tlearn: 1873.1545448\ttotal: 1.15s\tremaining: 1.58s\n",
      "21:\tlearn: 1865.9077340\ttotal: 1.19s\tremaining: 1.52s\n",
      "22:\tlearn: 1855.6339088\ttotal: 1.25s\tremaining: 1.47s\n",
      "23:\tlearn: 1849.2547105\ttotal: 1.3s\tremaining: 1.41s\n",
      "24:\tlearn: 1840.5630003\ttotal: 1.37s\tremaining: 1.37s\n",
      "25:\tlearn: 1835.6189747\ttotal: 1.43s\tremaining: 1.32s\n",
      "26:\tlearn: 1827.4590784\ttotal: 1.48s\tremaining: 1.26s\n",
      "27:\tlearn: 1823.2315274\ttotal: 1.53s\tremaining: 1.2s\n",
      "28:\tlearn: 1820.1054186\ttotal: 1.58s\tremaining: 1.15s\n",
      "29:\tlearn: 1817.4791007\ttotal: 1.63s\tremaining: 1.09s\n",
      "30:\tlearn: 1813.4622747\ttotal: 1.69s\tremaining: 1.04s\n",
      "31:\tlearn: 1809.4502498\ttotal: 1.75s\tremaining: 984ms\n",
      "32:\tlearn: 1805.0857740\ttotal: 1.81s\tremaining: 931ms\n",
      "33:\tlearn: 1799.0946145\ttotal: 1.86s\tremaining: 875ms\n",
      "34:\tlearn: 1791.3123315\ttotal: 1.91s\tremaining: 820ms\n",
      "35:\tlearn: 1785.7583582\ttotal: 1.97s\tremaining: 767ms\n",
      "36:\tlearn: 1779.3316747\ttotal: 2.04s\tremaining: 715ms\n",
      "37:\tlearn: 1776.5436801\ttotal: 2.09s\tremaining: 660ms\n",
      "38:\tlearn: 1771.1103226\ttotal: 2.15s\tremaining: 607ms\n",
      "39:\tlearn: 1768.0206760\ttotal: 2.22s\tremaining: 555ms\n",
      "40:\tlearn: 1764.4106518\ttotal: 2.28s\tremaining: 500ms\n",
      "41:\tlearn: 1762.4681873\ttotal: 2.33s\tremaining: 443ms\n",
      "42:\tlearn: 1759.8990803\ttotal: 2.38s\tremaining: 387ms\n",
      "43:\tlearn: 1755.9745606\ttotal: 2.44s\tremaining: 332ms\n",
      "44:\tlearn: 1752.3701995\ttotal: 2.49s\tremaining: 277ms\n",
      "45:\tlearn: 1749.7875375\ttotal: 2.54s\tremaining: 221ms\n",
      "46:\tlearn: 1747.8779054\ttotal: 2.6s\tremaining: 166ms\n",
      "47:\tlearn: 1744.9394695\ttotal: 2.65s\tremaining: 110ms\n",
      "48:\tlearn: 1742.9901965\ttotal: 2.7s\tremaining: 55.2ms\n",
      "49:\tlearn: 1740.9607920\ttotal: 2.76s\tremaining: 0us\n",
      "0:\tlearn: 2739.8668762\ttotal: 99.8ms\tremaining: 1.9s\n",
      "1:\tlearn: 2465.2718935\ttotal: 170ms\tremaining: 1.53s\n",
      "2:\tlearn: 2354.9015326\ttotal: 238ms\tremaining: 1.35s\n",
      "3:\tlearn: 2257.8138492\ttotal: 324ms\tremaining: 1.29s\n",
      "4:\tlearn: 2200.9540315\ttotal: 406ms\tremaining: 1.22s\n",
      "5:\tlearn: 2138.0594858\ttotal: 489ms\tremaining: 1.14s\n",
      "6:\tlearn: 2100.1906324\ttotal: 556ms\tremaining: 1.03s\n",
      "7:\tlearn: 2071.6014049\ttotal: 622ms\tremaining: 933ms\n",
      "8:\tlearn: 2030.6281181\ttotal: 690ms\tremaining: 843ms\n",
      "9:\tlearn: 2005.4573469\ttotal: 766ms\tremaining: 766ms\n",
      "10:\tlearn: 1981.3020255\ttotal: 843ms\tremaining: 689ms\n",
      "11:\tlearn: 1966.6361154\ttotal: 924ms\tremaining: 616ms\n",
      "12:\tlearn: 1950.8551275\ttotal: 991ms\tremaining: 534ms\n",
      "13:\tlearn: 1937.5535063\ttotal: 1.05s\tremaining: 453ms\n",
      "14:\tlearn: 1927.4127036\ttotal: 1.13s\tremaining: 376ms\n",
      "15:\tlearn: 1917.9327187\ttotal: 1.19s\tremaining: 297ms\n",
      "16:\tlearn: 1904.4875559\ttotal: 1.27s\tremaining: 224ms\n",
      "17:\tlearn: 1896.3621342\ttotal: 1.34s\tremaining: 149ms\n",
      "18:\tlearn: 1889.4300265\ttotal: 1.4s\tremaining: 73.9ms\n",
      "19:\tlearn: 1882.1167759\ttotal: 1.46s\tremaining: 0us\n"
     ]
    }
   ],
   "source": [
    "cat_features = ['VehicleType',  'Gearbox', 'Brand', 'Model', 'FuelType', 'NotRepaired', 'CreateYear', 'CreateMonth', 'CreateDay', 'PostalCode']\n",
    "\n",
    "cat = CatBoostRegressor(learning_rate=0.9, loss_function='RMSE', random_seed=42)\n",
    "best_cb_model, best_cb_rmse, best_cb_time = build_model(\n",
    "                                                        cat, \n",
    "                                                        x_train, \n",
    "                                                        y_train, \n",
    "                                                        x_valid, \n",
    "                                                        y_valid,\n",
    "                                                        hyperparameters={'iterations': [20, 30, 40, 50]}, \n",
    "                                                        scoring=make_scorer(rmse), \n",
    "                                                        cv=5, \n",
    "                                                        model_str='catboost',\n",
    "                                                        cat_features=cat_features\n",
    "                                                       )"
   ]
  },
  {
   "cell_type": "code",
   "execution_count": 81,
   "metadata": {},
   "outputs": [],
   "source": [
    "model_results_df = pd.DataFrame({\n",
    "                                    'model': ['LinearRegression', 'RandomForestRegressor', 'CatBoostRegressor'],\n",
    "                                    'best_rmse': [best_lr_rmse, best_rf_rmse, best_cb_rmse],\n",
    "                                    'train_time': [best_lr_time, best_rf_time, best_cb_time]\n",
    "                                })"
   ]
  },
  {
   "cell_type": "code",
   "execution_count": 82,
   "metadata": {},
   "outputs": [
    {
     "data": {
      "text/html": [
       "<div>\n",
       "<style scoped>\n",
       "    .dataframe tbody tr th:only-of-type {\n",
       "        vertical-align: middle;\n",
       "    }\n",
       "\n",
       "    .dataframe tbody tr th {\n",
       "        vertical-align: top;\n",
       "    }\n",
       "\n",
       "    .dataframe thead th {\n",
       "        text-align: right;\n",
       "    }\n",
       "</style>\n",
       "<table border=\"1\" class=\"dataframe\">\n",
       "  <thead>\n",
       "    <tr style=\"text-align: right;\">\n",
       "      <th></th>\n",
       "      <th>model</th>\n",
       "      <th>best_rmse</th>\n",
       "      <th>train_time</th>\n",
       "    </tr>\n",
       "  </thead>\n",
       "  <tbody>\n",
       "    <tr>\n",
       "      <th>0</th>\n",
       "      <td>LinearRegression</td>\n",
       "      <td>3270.719292</td>\n",
       "      <td>0.34</td>\n",
       "    </tr>\n",
       "    <tr>\n",
       "      <th>1</th>\n",
       "      <td>RandomForestRegressor</td>\n",
       "      <td>1696.334771</td>\n",
       "      <td>48.95</td>\n",
       "    </tr>\n",
       "    <tr>\n",
       "      <th>2</th>\n",
       "      <td>CatBoostRegressor</td>\n",
       "      <td>1850.415514</td>\n",
       "      <td>7.52</td>\n",
       "    </tr>\n",
       "  </tbody>\n",
       "</table>\n",
       "</div>"
      ],
      "text/plain": [
       "                   model    best_rmse  train_time\n",
       "0       LinearRegression  3270.719292        0.34\n",
       "1  RandomForestRegressor  1696.334771       48.95\n",
       "2      CatBoostRegressor  1850.415514        7.52"
      ]
     },
     "execution_count": 82,
     "metadata": {},
     "output_type": "execute_result"
    }
   ],
   "source": [
    "model_results_df"
   ]
  },
  {
   "cell_type": "code",
   "execution_count": 83,
   "metadata": {},
   "outputs": [
    {
     "data": {
      "text/html": [
       "<div>\n",
       "<style scoped>\n",
       "    .dataframe tbody tr th:only-of-type {\n",
       "        vertical-align: middle;\n",
       "    }\n",
       "\n",
       "    .dataframe tbody tr th {\n",
       "        vertical-align: top;\n",
       "    }\n",
       "\n",
       "    .dataframe thead th {\n",
       "        text-align: right;\n",
       "    }\n",
       "</style>\n",
       "<table border=\"1\" class=\"dataframe\">\n",
       "  <thead>\n",
       "    <tr style=\"text-align: right;\">\n",
       "      <th></th>\n",
       "      <th>0</th>\n",
       "    </tr>\n",
       "  </thead>\n",
       "  <tbody>\n",
       "    <tr>\n",
       "      <th>RegistrationYear</th>\n",
       "      <td>0.470718</td>\n",
       "    </tr>\n",
       "    <tr>\n",
       "      <th>Power</th>\n",
       "      <td>0.253750</td>\n",
       "    </tr>\n",
       "    <tr>\n",
       "      <th>Mileage</th>\n",
       "      <td>0.051979</td>\n",
       "    </tr>\n",
       "    <tr>\n",
       "      <th>Brand</th>\n",
       "      <td>0.040811</td>\n",
       "    </tr>\n",
       "    <tr>\n",
       "      <th>VehicleType</th>\n",
       "      <td>0.035100</td>\n",
       "    </tr>\n",
       "    <tr>\n",
       "      <th>Model</th>\n",
       "      <td>0.032832</td>\n",
       "    </tr>\n",
       "    <tr>\n",
       "      <th>PostalCode</th>\n",
       "      <td>0.029839</td>\n",
       "    </tr>\n",
       "    <tr>\n",
       "      <th>DaysOnSite</th>\n",
       "      <td>0.024251</td>\n",
       "    </tr>\n",
       "    <tr>\n",
       "      <th>CreateDay</th>\n",
       "      <td>0.018200</td>\n",
       "    </tr>\n",
       "    <tr>\n",
       "      <th>RegistrationMonth</th>\n",
       "      <td>0.016879</td>\n",
       "    </tr>\n",
       "    <tr>\n",
       "      <th>NotRepaired</th>\n",
       "      <td>0.009478</td>\n",
       "    </tr>\n",
       "    <tr>\n",
       "      <th>FuelType</th>\n",
       "      <td>0.009308</td>\n",
       "    </tr>\n",
       "    <tr>\n",
       "      <th>Gearbox</th>\n",
       "      <td>0.005550</td>\n",
       "    </tr>\n",
       "    <tr>\n",
       "      <th>CreateMonth</th>\n",
       "      <td>0.001299</td>\n",
       "    </tr>\n",
       "    <tr>\n",
       "      <th>CreateYear</th>\n",
       "      <td>0.000006</td>\n",
       "    </tr>\n",
       "  </tbody>\n",
       "</table>\n",
       "</div>"
      ],
      "text/plain": [
       "                          0\n",
       "RegistrationYear   0.470718\n",
       "Power              0.253750\n",
       "Mileage            0.051979\n",
       "Brand              0.040811\n",
       "VehicleType        0.035100\n",
       "Model              0.032832\n",
       "PostalCode         0.029839\n",
       "DaysOnSite         0.024251\n",
       "CreateDay          0.018200\n",
       "RegistrationMonth  0.016879\n",
       "NotRepaired        0.009478\n",
       "FuelType           0.009308\n",
       "Gearbox            0.005550\n",
       "CreateMonth        0.001299\n",
       "CreateYear         0.000006"
      ]
     },
     "execution_count": 83,
     "metadata": {},
     "output_type": "execute_result"
    }
   ],
   "source": [
    "# best features from rf model\n",
    "pd.DataFrame(best_rf_model.feature_importances_, index=new_df.columns[1:].tolist()).sort_values(0, ascending=False)"
   ]
  },
  {
   "cell_type": "code",
   "execution_count": 84,
   "metadata": {},
   "outputs": [
    {
     "data": {
      "text/html": [
       "<div>\n",
       "<style scoped>\n",
       "    .dataframe tbody tr th:only-of-type {\n",
       "        vertical-align: middle;\n",
       "    }\n",
       "\n",
       "    .dataframe tbody tr th {\n",
       "        vertical-align: top;\n",
       "    }\n",
       "\n",
       "    .dataframe thead th {\n",
       "        text-align: right;\n",
       "    }\n",
       "</style>\n",
       "<table border=\"1\" class=\"dataframe\">\n",
       "  <thead>\n",
       "    <tr style=\"text-align: right;\">\n",
       "      <th></th>\n",
       "      <th>0</th>\n",
       "    </tr>\n",
       "  </thead>\n",
       "  <tbody>\n",
       "    <tr>\n",
       "      <th>RegistrationYear</th>\n",
       "      <td>49.226678</td>\n",
       "    </tr>\n",
       "    <tr>\n",
       "      <th>Power</th>\n",
       "      <td>27.215298</td>\n",
       "    </tr>\n",
       "    <tr>\n",
       "      <th>Mileage</th>\n",
       "      <td>6.379482</td>\n",
       "    </tr>\n",
       "    <tr>\n",
       "      <th>Brand</th>\n",
       "      <td>5.553353</td>\n",
       "    </tr>\n",
       "    <tr>\n",
       "      <th>VehicleType</th>\n",
       "      <td>4.373798</td>\n",
       "    </tr>\n",
       "    <tr>\n",
       "      <th>Model</th>\n",
       "      <td>2.877535</td>\n",
       "    </tr>\n",
       "    <tr>\n",
       "      <th>NotRepaired</th>\n",
       "      <td>1.464062</td>\n",
       "    </tr>\n",
       "    <tr>\n",
       "      <th>DaysOnSite</th>\n",
       "      <td>1.227861</td>\n",
       "    </tr>\n",
       "    <tr>\n",
       "      <th>FuelType</th>\n",
       "      <td>1.117343</td>\n",
       "    </tr>\n",
       "    <tr>\n",
       "      <th>Gearbox</th>\n",
       "      <td>0.265626</td>\n",
       "    </tr>\n",
       "    <tr>\n",
       "      <th>PostalCode</th>\n",
       "      <td>0.114259</td>\n",
       "    </tr>\n",
       "    <tr>\n",
       "      <th>CreateMonth</th>\n",
       "      <td>0.114248</td>\n",
       "    </tr>\n",
       "    <tr>\n",
       "      <th>RegistrationMonth</th>\n",
       "      <td>0.070455</td>\n",
       "    </tr>\n",
       "    <tr>\n",
       "      <th>CreateYear</th>\n",
       "      <td>0.000000</td>\n",
       "    </tr>\n",
       "    <tr>\n",
       "      <th>CreateDay</th>\n",
       "      <td>0.000000</td>\n",
       "    </tr>\n",
       "  </tbody>\n",
       "</table>\n",
       "</div>"
      ],
      "text/plain": [
       "                           0\n",
       "RegistrationYear   49.226678\n",
       "Power              27.215298\n",
       "Mileage             6.379482\n",
       "Brand               5.553353\n",
       "VehicleType         4.373798\n",
       "Model               2.877535\n",
       "NotRepaired         1.464062\n",
       "DaysOnSite          1.227861\n",
       "FuelType            1.117343\n",
       "Gearbox             0.265626\n",
       "PostalCode          0.114259\n",
       "CreateMonth         0.114248\n",
       "RegistrationMonth   0.070455\n",
       "CreateYear          0.000000\n",
       "CreateDay           0.000000"
      ]
     },
     "execution_count": 84,
     "metadata": {},
     "output_type": "execute_result"
    }
   ],
   "source": [
    "# best features from cb model\n",
    "pd.DataFrame(best_cb_model.feature_importances_, index=new_df.columns[1:].tolist()).sort_values(0, ascending=False)"
   ]
  },
  {
   "cell_type": "markdown",
   "metadata": {},
   "source": [
    "The RandomForestRegressor and CatBoostRegressor were trained using GridSearch with a CrossValidation of 5 folds. For the sake of time, only 1 hyperparameter was tuned - n_estimators/iterations\n",
    "\n",
    "The RandomForestRegressor has the worst performance with respect to training time; it has taken 48.95 seconds. Whereas, LinearRegression took the least amount of time - 0.34 seconds. However, on the validation set, RandomForestRegressor has the best RMSE of EUR 1696\n",
    "\n",
    "The top 3 important features from RandomForest and CatBoost are: RegistrationYear, Power, and Mileage.\n",
    "\n",
    "The consistency in the top features indicates that these features are truly significant in explaining the variance in the target variable (Price). This means that regardless of the specific algorithm, these features have a strong predictive power."
   ]
  },
  {
   "cell_type": "markdown",
   "metadata": {},
   "source": [
    "<div class=\"alert alert-block alert-danger\">\n",
    "<b>Reviewer's comment</b> <a class=\"tocSkip\"></a>\n",
    "    \n",
    "Everything is correct except training time calculation. You calculated not training time but: training time + hyperparameter tuning time + prediction time. But you need to calculate only train time for the best_estimator_\n",
    "\n",
    "</div>"
   ]
  },
  {
   "cell_type": "markdown",
   "metadata": {},
   "source": [
    "<div class=\"alert alert-block alert-info\">\n",
    "<b>Student answer.</b> <a class=\"tocSkip\"></a>\n",
    "\n",
    "code updated\n",
    "</div>"
   ]
  },
  {
   "cell_type": "markdown",
   "metadata": {},
   "source": [
    "<div class=\"alert alert-block alert-success\">\n",
    "<b>Reviewer's comment</b> <a class=\"tocSkip\"></a>\n",
    "    \n",
    "Well done!\n",
    "\n",
    "</div>"
   ]
  },
  {
   "cell_type": "markdown",
   "metadata": {},
   "source": [
    "## Model analysis"
   ]
  },
  {
   "cell_type": "code",
   "execution_count": 85,
   "metadata": {},
   "outputs": [],
   "source": [
    "def test_prediction(model, test_X, test_y):\n",
    "    start_time = time.time()\n",
    "    preds = model.predict(test_X)\n",
    "    prediction_time = time.time() - start_time\n",
    "    \n",
    "    return np.round(prediction_time, 2), rmse(test_y, preds)"
   ]
  },
  {
   "cell_type": "code",
   "execution_count": 86,
   "metadata": {},
   "outputs": [
    {
     "name": "stdout",
     "output_type": "stream",
     "text": [
      "The RMSE on the test set is 3194.3149745175806, and time to predict 0.01 seconds\n",
      "The RMSE on the test set is 1642.407858318605, and time to predict 0.22 seconds\n",
      "The RMSE on the test set is 1753.2470372478872, and time to predict 0.03 seconds\n"
     ]
    }
   ],
   "source": [
    "models = [best_lr_model, best_rf_model, best_cb_model]\n",
    "\n",
    "for model in models:\n",
    "    pred_time, best_rmse = test_prediction(model, x_test, y_test)\n",
    "    print(f'The RMSE on the test set is {best_rmse}, and time to predict {pred_time} seconds')"
   ]
  },
  {
   "cell_type": "markdown",
   "metadata": {},
   "source": [
    "<div class=\"alert alert-block alert-danger\">\n",
    "<b>Reviewer's comment</b> <a class=\"tocSkip\"></a>\n",
    "\n",
    "Negative time? This is weird:) I think you need to round the time after subtraction and not before\n",
    "\n",
    "</div>"
   ]
  },
  {
   "cell_type": "markdown",
   "metadata": {},
   "source": [
    "<div class=\"alert alert-block alert-info\">\n",
    "<b>Student answer.</b> <a class=\"tocSkip\"></a>\n",
    "\n",
    "Thank you, I actually did not notice that. code updated.\n",
    "</div>"
   ]
  },
  {
   "cell_type": "markdown",
   "metadata": {},
   "source": [
    "<div class=\"alert alert-block alert-success\">\n",
    "<b>Reviewer's comment</b> <a class=\"tocSkip\"></a>\n",
    "    \n",
    "Thank you:)\n",
    "\n",
    "</div>"
   ]
  },
  {
   "cell_type": "markdown",
   "metadata": {},
   "source": [
    "The results of testing the best models on the test set reveal that RandomForestRegressor has the best RMSE - 1642; However, the predictions took 220 milliseconds.\n",
    "\n",
    "While CatBoostRegressor has a slightly higher RMSE - 1753;But predictions took 30 milliseconds."
   ]
  },
  {
   "cell_type": "markdown",
   "metadata": {},
   "source": [
    "# Summary"
   ]
  },
  {
   "cell_type": "markdown",
   "metadata": {},
   "source": [
    "RustyBargain will have to make a compromise between a 7x increase in training time versus a +/- 1.1x increase in RMSE should it decide between the top 2 models - RandomForestRegression and CatBoostRegression.\n",
    "\n",
    "However, CatBoostRegressor offers several hyperparameters to play with, and increasing the number of iterations, and adding regularization may help in achieving a better RMSE. \n",
    "\n",
    "CatBoostRegressor also have a shorter training time than RandomForestRegression.\n",
    "\n",
    "Therefore, I believe RustyBargain should pick CatBoostRegression simply because it is really fast, and it offers several options to improve the evaluation metric."
   ]
  },
  {
   "cell_type": "markdown",
   "metadata": {},
   "source": [
    "# Checklist"
   ]
  },
  {
   "cell_type": "markdown",
   "metadata": {},
   "source": [
    "Type 'x' to check. Then press Shift+Enter."
   ]
  },
  {
   "cell_type": "markdown",
   "metadata": {},
   "source": [
    "- [x]  Jupyter Notebook is open\n",
    "- [x]  Code is error free\n",
    "- [x]  The cells with the code have been arranged in order of execution\n",
    "- [x]  The data has been downloaded and prepared\n",
    "- [x]  The models have been trained\n",
    "- [x]  The analysis of speed and quality of the models has been performed"
   ]
  },
  {
   "cell_type": "code",
   "execution_count": null,
   "metadata": {},
   "outputs": [],
   "source": []
  }
 ],
 "metadata": {
  "ExecuteTimeLog": [
   {
    "duration": 343,
    "start_time": "2024-07-13T04:09:57.142Z"
   },
   {
    "duration": 5835,
    "start_time": "2024-07-13T04:10:21.375Z"
   },
   {
    "duration": 826,
    "start_time": "2024-07-13T04:10:27.360Z"
   },
   {
    "duration": 24,
    "start_time": "2024-07-13T04:28:35.204Z"
   },
   {
    "duration": 5,
    "start_time": "2024-07-13T04:28:46.346Z"
   },
   {
    "duration": 148,
    "start_time": "2024-07-13T04:28:53.837Z"
   },
   {
    "duration": 137,
    "start_time": "2024-07-13T04:31:39.445Z"
   },
   {
    "duration": 396,
    "start_time": "2024-07-13T04:31:48.015Z"
   },
   {
    "duration": 408,
    "start_time": "2024-07-13T04:31:56.909Z"
   },
   {
    "duration": 112,
    "start_time": "2024-07-13T04:32:06.632Z"
   },
   {
    "duration": 2792,
    "start_time": "2024-07-13T05:47:55.638Z"
   },
   {
    "duration": 10,
    "start_time": "2024-07-13T05:47:58.434Z"
   },
   {
    "duration": 11,
    "start_time": "2024-07-13T05:47:58.605Z"
   },
   {
    "duration": 10,
    "start_time": "2024-07-13T05:47:58.998Z"
   },
   {
    "duration": 328,
    "start_time": "2024-07-13T05:47:59.303Z"
   },
   {
    "duration": 5,
    "start_time": "2024-07-13T05:47:59.634Z"
   },
   {
    "duration": 17,
    "start_time": "2024-07-13T05:48:00.012Z"
   },
   {
    "duration": 13,
    "start_time": "2024-07-13T05:48:00.376Z"
   },
   {
    "duration": 67,
    "start_time": "2024-07-13T05:48:01.144Z"
   },
   {
    "duration": 41,
    "start_time": "2024-07-13T05:48:50.552Z"
   },
   {
    "duration": 7,
    "start_time": "2024-07-13T05:49:01.473Z"
   },
   {
    "duration": 309,
    "start_time": "2024-07-16T04:45:57.952Z"
   },
   {
    "duration": 5,
    "start_time": "2024-07-16T04:47:05.203Z"
   },
   {
    "duration": 24,
    "start_time": "2024-07-16T06:03:36.191Z"
   },
   {
    "duration": 31,
    "start_time": "2024-07-16T06:04:13.666Z"
   },
   {
    "duration": 5,
    "start_time": "2024-07-16T06:11:29.575Z"
   },
   {
    "duration": 321,
    "start_time": "2024-07-24T02:15:58.305Z"
   },
   {
    "duration": 5573,
    "start_time": "2024-07-24T02:24:17.415Z"
   },
   {
    "duration": 829,
    "start_time": "2024-07-24T02:24:22.995Z"
   },
   {
    "duration": 24,
    "start_time": "2024-07-24T02:24:23.826Z"
   },
   {
    "duration": 6,
    "start_time": "2024-07-24T02:24:23.854Z"
   },
   {
    "duration": 197,
    "start_time": "2024-07-24T02:24:23.862Z"
   },
   {
    "duration": 180,
    "start_time": "2024-07-24T02:24:24.062Z"
   },
   {
    "duration": 464,
    "start_time": "2024-07-24T02:24:24.246Z"
   },
   {
    "duration": 516,
    "start_time": "2024-07-24T02:24:24.716Z"
   },
   {
    "duration": 137,
    "start_time": "2024-07-24T02:24:25.236Z"
   },
   {
    "duration": 2897,
    "start_time": "2024-07-24T02:24:25.381Z"
   },
   {
    "duration": 14,
    "start_time": "2024-07-24T02:24:28.281Z"
   },
   {
    "duration": 10,
    "start_time": "2024-07-24T02:24:28.309Z"
   },
   {
    "duration": 12,
    "start_time": "2024-07-24T02:24:28.324Z"
   },
   {
    "duration": 390,
    "start_time": "2024-07-24T02:24:28.339Z"
   },
   {
    "duration": 6,
    "start_time": "2024-07-24T02:24:28.732Z"
   },
   {
    "duration": 19,
    "start_time": "2024-07-24T02:24:28.741Z"
   },
   {
    "duration": 11,
    "start_time": "2024-07-24T02:24:28.762Z"
   },
   {
    "duration": 68,
    "start_time": "2024-07-24T02:24:28.810Z"
   },
   {
    "duration": 5,
    "start_time": "2024-07-24T02:24:28.881Z"
   },
   {
    "duration": 199,
    "start_time": "2024-07-24T02:24:28.909Z"
   },
   {
    "duration": 6,
    "start_time": "2024-07-24T02:24:29.111Z"
   },
   {
    "duration": 266,
    "start_time": "2024-07-24T02:24:29.120Z"
   },
   {
    "duration": 20,
    "start_time": "2024-07-24T02:24:29.389Z"
   },
   {
    "duration": 90587,
    "start_time": "2024-07-24T02:24:29.413Z"
   },
   {
    "duration": 21,
    "start_time": "2024-07-24T02:26:00.003Z"
   },
   {
    "duration": 38736,
    "start_time": "2024-07-24T02:26:00.028Z"
   },
   {
    "duration": 25,
    "start_time": "2024-07-24T02:26:38.769Z"
   },
   {
    "duration": 217,
    "start_time": "2024-07-24T02:26:38.817Z"
   },
   {
    "duration": 342,
    "start_time": "2024-07-24T02:26:39.039Z"
   },
   {
    "duration": 397,
    "start_time": "2024-07-24T02:26:39.385Z"
   },
   {
    "duration": 2117,
    "start_time": "2024-07-24T02:26:39.784Z"
   },
   {
    "duration": 6,
    "start_time": "2024-07-24T02:26:41.905Z"
   },
   {
    "duration": 16,
    "start_time": "2024-07-24T02:26:41.915Z"
   },
   {
    "duration": 15,
    "start_time": "2024-07-24T02:26:41.935Z"
   },
   {
    "duration": 101,
    "start_time": "2024-07-24T02:26:41.952Z"
   },
   {
    "duration": 30,
    "start_time": "2024-07-24T02:26:42.056Z"
   },
   {
    "duration": 46,
    "start_time": "2024-07-24T02:26:42.090Z"
   },
   {
    "duration": 137,
    "start_time": "2024-07-24T02:26:42.140Z"
   },
   {
    "duration": 9,
    "start_time": "2024-07-24T02:26:42.280Z"
   },
   {
    "duration": 22,
    "start_time": "2024-07-24T02:26:42.292Z"
   },
   {
    "duration": 16,
    "start_time": "2024-07-24T02:26:42.317Z"
   },
   {
    "duration": 16,
    "start_time": "2024-07-24T02:26:42.336Z"
   },
   {
    "duration": 63,
    "start_time": "2024-07-24T02:26:42.355Z"
   },
   {
    "duration": 28,
    "start_time": "2024-07-24T02:26:42.421Z"
   },
   {
    "duration": 15,
    "start_time": "2024-07-24T02:26:42.451Z"
   },
   {
    "duration": 55,
    "start_time": "2024-07-24T02:26:42.469Z"
   },
   {
    "duration": 15,
    "start_time": "2024-07-24T02:26:42.528Z"
   },
   {
    "duration": 1658,
    "start_time": "2024-07-24T02:26:42.546Z"
   },
   {
    "duration": 27,
    "start_time": "2024-07-24T02:26:44.209Z"
   },
   {
    "duration": 21,
    "start_time": "2024-07-24T02:26:44.239Z"
   },
   {
    "duration": 47,
    "start_time": "2024-07-24T02:26:44.263Z"
   },
   {
    "duration": 20,
    "start_time": "2024-07-24T02:26:44.313Z"
   },
   {
    "duration": 396,
    "start_time": "2024-07-24T02:26:44.336Z"
   },
   {
    "duration": 417,
    "start_time": "2024-07-24T02:26:44.735Z"
   },
   {
    "duration": 93,
    "start_time": "2024-07-24T02:26:45.155Z"
   },
   {
    "duration": 6,
    "start_time": "2024-07-24T02:26:45.254Z"
   },
   {
    "duration": 344,
    "start_time": "2024-07-24T02:26:45.263Z"
   },
   {
    "duration": 2268,
    "start_time": "2024-07-24T02:26:45.612Z"
   },
   {
    "duration": 1408,
    "start_time": "2024-07-24T02:26:47.887Z"
   },
   {
    "duration": 218,
    "start_time": "2024-07-24T02:26:49.298Z"
   },
   {
    "duration": 24,
    "start_time": "2024-07-24T02:26:49.527Z"
   },
   {
    "duration": 7,
    "start_time": "2024-07-24T02:26:49.555Z"
   },
   {
    "duration": 55,
    "start_time": "2024-07-24T02:26:49.565Z"
   },
   {
    "duration": 30,
    "start_time": "2024-07-24T02:26:49.623Z"
   },
   {
    "duration": 167,
    "start_time": "2024-07-24T02:26:49.657Z"
   },
   {
    "duration": 181,
    "start_time": "2024-07-24T02:26:49.828Z"
   },
   {
    "duration": 23,
    "start_time": "2024-07-24T02:26:50.012Z"
   },
   {
    "duration": 6,
    "start_time": "2024-07-24T02:26:50.038Z"
   },
   {
    "duration": 7,
    "start_time": "2024-07-24T02:26:50.046Z"
   },
   {
    "duration": 91,
    "start_time": "2024-07-24T02:26:50.056Z"
   },
   {
    "duration": 23,
    "start_time": "2024-07-24T02:26:50.150Z"
   },
   {
    "duration": 2533,
    "start_time": "2024-07-24T02:26:50.176Z"
   },
   {
    "duration": 124,
    "start_time": "2024-07-24T02:26:52.713Z"
   },
   {
    "duration": 19,
    "start_time": "2024-07-24T02:26:52.841Z"
   },
   {
    "duration": 8,
    "start_time": "2024-07-24T02:26:52.863Z"
   },
   {
    "duration": 32,
    "start_time": "2024-07-24T02:26:52.875Z"
   },
   {
    "duration": 10,
    "start_time": "2024-07-24T02:26:52.911Z"
   },
   {
    "duration": 2490,
    "start_time": "2024-07-24T02:26:52.924Z"
   },
   {
    "duration": 677,
    "start_time": "2024-07-24T02:26:55.417Z"
   },
   {
    "duration": 0,
    "start_time": "2024-07-24T02:26:56.098Z"
   },
   {
    "duration": 0,
    "start_time": "2024-07-24T02:26:56.100Z"
   },
   {
    "duration": 0,
    "start_time": "2024-07-24T02:26:56.101Z"
   },
   {
    "duration": 0,
    "start_time": "2024-07-24T02:26:56.102Z"
   },
   {
    "duration": 0,
    "start_time": "2024-07-24T02:26:56.108Z"
   },
   {
    "duration": 0,
    "start_time": "2024-07-24T02:26:56.113Z"
   },
   {
    "duration": 0,
    "start_time": "2024-07-24T02:26:56.115Z"
   },
   {
    "duration": 311,
    "start_time": "2024-07-24T03:05:27.555Z"
   },
   {
    "duration": 3,
    "start_time": "2024-07-24T03:06:12.920Z"
   },
   {
    "duration": 1687,
    "start_time": "2024-07-24T03:06:19.506Z"
   },
   {
    "duration": 750,
    "start_time": "2024-07-24T03:06:21.196Z"
   },
   {
    "duration": 23,
    "start_time": "2024-07-24T03:06:21.949Z"
   },
   {
    "duration": 6,
    "start_time": "2024-07-24T03:06:21.975Z"
   },
   {
    "duration": 153,
    "start_time": "2024-07-24T03:06:22.008Z"
   },
   {
    "duration": 151,
    "start_time": "2024-07-24T03:06:22.164Z"
   },
   {
    "duration": 417,
    "start_time": "2024-07-24T03:06:22.318Z"
   },
   {
    "duration": 431,
    "start_time": "2024-07-24T03:06:22.738Z"
   },
   {
    "duration": 120,
    "start_time": "2024-07-24T03:06:23.172Z"
   },
   {
    "duration": 2807,
    "start_time": "2024-07-24T03:06:23.308Z"
   },
   {
    "duration": 10,
    "start_time": "2024-07-24T03:06:26.118Z"
   },
   {
    "duration": 9,
    "start_time": "2024-07-24T03:06:26.132Z"
   },
   {
    "duration": 9,
    "start_time": "2024-07-24T03:06:26.144Z"
   },
   {
    "duration": 382,
    "start_time": "2024-07-24T03:06:26.155Z"
   },
   {
    "duration": 5,
    "start_time": "2024-07-24T03:06:26.540Z"
   },
   {
    "duration": 19,
    "start_time": "2024-07-24T03:06:26.548Z"
   },
   {
    "duration": 40,
    "start_time": "2024-07-24T03:06:26.570Z"
   },
   {
    "duration": 67,
    "start_time": "2024-07-24T03:06:26.613Z"
   },
   {
    "duration": 5,
    "start_time": "2024-07-24T03:06:26.683Z"
   },
   {
    "duration": 198,
    "start_time": "2024-07-24T03:06:26.710Z"
   },
   {
    "duration": 6,
    "start_time": "2024-07-24T03:06:26.911Z"
   },
   {
    "duration": 238,
    "start_time": "2024-07-24T03:06:26.920Z"
   },
   {
    "duration": 10,
    "start_time": "2024-07-24T03:06:27.162Z"
   },
   {
    "duration": 91841,
    "start_time": "2024-07-24T03:06:27.176Z"
   },
   {
    "duration": 21,
    "start_time": "2024-07-24T03:07:59.020Z"
   },
   {
    "duration": 39293,
    "start_time": "2024-07-24T03:07:59.045Z"
   },
   {
    "duration": 19,
    "start_time": "2024-07-24T03:08:38.341Z"
   },
   {
    "duration": 217,
    "start_time": "2024-07-24T03:08:38.371Z"
   },
   {
    "duration": 337,
    "start_time": "2024-07-24T03:08:38.591Z"
   },
   {
    "duration": 364,
    "start_time": "2024-07-24T03:08:38.931Z"
   },
   {
    "duration": 2051,
    "start_time": "2024-07-24T03:08:39.298Z"
   },
   {
    "duration": 5,
    "start_time": "2024-07-24T03:08:41.353Z"
   },
   {
    "duration": 14,
    "start_time": "2024-07-24T03:08:41.361Z"
   },
   {
    "duration": 13,
    "start_time": "2024-07-24T03:08:41.378Z"
   },
   {
    "duration": 69,
    "start_time": "2024-07-24T03:08:41.393Z"
   },
   {
    "duration": 51,
    "start_time": "2024-07-24T03:08:41.465Z"
   },
   {
    "duration": 30,
    "start_time": "2024-07-24T03:08:41.519Z"
   },
   {
    "duration": 138,
    "start_time": "2024-07-24T03:08:41.553Z"
   },
   {
    "duration": 20,
    "start_time": "2024-07-24T03:08:41.695Z"
   },
   {
    "duration": 13,
    "start_time": "2024-07-24T03:08:41.720Z"
   },
   {
    "duration": 18,
    "start_time": "2024-07-24T03:08:41.736Z"
   },
   {
    "duration": 60,
    "start_time": "2024-07-24T03:08:41.758Z"
   },
   {
    "duration": 15,
    "start_time": "2024-07-24T03:08:41.821Z"
   },
   {
    "duration": 28,
    "start_time": "2024-07-24T03:08:41.839Z"
   },
   {
    "duration": 43,
    "start_time": "2024-07-24T03:08:41.870Z"
   },
   {
    "duration": 23,
    "start_time": "2024-07-24T03:08:41.916Z"
   },
   {
    "duration": 14,
    "start_time": "2024-07-24T03:08:41.942Z"
   },
   {
    "duration": 1598,
    "start_time": "2024-07-24T03:08:41.960Z"
   },
   {
    "duration": 20,
    "start_time": "2024-07-24T03:08:43.561Z"
   },
   {
    "duration": 37,
    "start_time": "2024-07-24T03:08:43.583Z"
   },
   {
    "duration": 20,
    "start_time": "2024-07-24T03:08:43.623Z"
   },
   {
    "duration": 21,
    "start_time": "2024-07-24T03:08:43.648Z"
   },
   {
    "duration": 367,
    "start_time": "2024-07-24T03:08:43.672Z"
   },
   {
    "duration": 359,
    "start_time": "2024-07-24T03:08:44.042Z"
   },
   {
    "duration": 68,
    "start_time": "2024-07-24T03:08:44.403Z"
   },
   {
    "duration": 5,
    "start_time": "2024-07-24T03:08:44.474Z"
   },
   {
    "duration": 349,
    "start_time": "2024-07-24T03:08:44.482Z"
   },
   {
    "duration": 2147,
    "start_time": "2024-07-24T03:08:44.834Z"
   },
   {
    "duration": 1424,
    "start_time": "2024-07-24T03:08:46.984Z"
   },
   {
    "duration": 200,
    "start_time": "2024-07-24T03:08:48.411Z"
   },
   {
    "duration": 24,
    "start_time": "2024-07-24T03:08:48.614Z"
   },
   {
    "duration": 6,
    "start_time": "2024-07-24T03:08:48.640Z"
   },
   {
    "duration": 62,
    "start_time": "2024-07-24T03:08:48.650Z"
   },
   {
    "duration": 29,
    "start_time": "2024-07-24T03:08:48.714Z"
   },
   {
    "duration": 184,
    "start_time": "2024-07-24T03:08:48.746Z"
   },
   {
    "duration": 182,
    "start_time": "2024-07-24T03:08:48.933Z"
   },
   {
    "duration": 22,
    "start_time": "2024-07-24T03:08:49.118Z"
   },
   {
    "duration": 5,
    "start_time": "2024-07-24T03:08:49.143Z"
   },
   {
    "duration": 6,
    "start_time": "2024-07-24T03:08:49.151Z"
   },
   {
    "duration": 84,
    "start_time": "2024-07-24T03:08:49.162Z"
   },
   {
    "duration": 23,
    "start_time": "2024-07-24T03:08:49.249Z"
   },
   {
    "duration": 2483,
    "start_time": "2024-07-24T03:08:49.275Z"
   },
   {
    "duration": 111,
    "start_time": "2024-07-24T03:08:51.762Z"
   },
   {
    "duration": 17,
    "start_time": "2024-07-24T03:08:51.876Z"
   },
   {
    "duration": 17,
    "start_time": "2024-07-24T03:08:51.895Z"
   },
   {
    "duration": 3,
    "start_time": "2024-07-24T03:08:51.915Z"
   },
   {
    "duration": 7,
    "start_time": "2024-07-24T03:08:51.922Z"
   },
   {
    "duration": 1998,
    "start_time": "2024-07-24T03:08:51.932Z"
   },
   {
    "duration": 77,
    "start_time": "2024-07-24T03:08:53.933Z"
   },
   {
    "duration": 229,
    "start_time": "2024-07-24T03:08:54.014Z"
   },
   {
    "duration": 0,
    "start_time": "2024-07-24T03:08:54.246Z"
   },
   {
    "duration": 0,
    "start_time": "2024-07-24T03:08:54.248Z"
   },
   {
    "duration": 0,
    "start_time": "2024-07-24T03:08:54.251Z"
   },
   {
    "duration": 0,
    "start_time": "2024-07-24T03:08:54.254Z"
   },
   {
    "duration": 0,
    "start_time": "2024-07-24T03:08:54.257Z"
   },
   {
    "duration": 0,
    "start_time": "2024-07-24T03:08:54.259Z"
   },
   {
    "duration": 53607,
    "start_time": "2024-07-24T03:09:07.057Z"
   },
   {
    "duration": 1284625,
    "start_time": "2024-07-24T03:11:57.726Z"
   },
   {
    "duration": 5,
    "start_time": "2024-07-24T03:34:11.004Z"
   },
   {
    "duration": 10,
    "start_time": "2024-07-24T03:34:13.658Z"
   },
   {
    "duration": 80,
    "start_time": "2024-07-24T03:34:16.495Z"
   },
   {
    "duration": 11,
    "start_time": "2024-07-24T03:34:21.329Z"
   },
   {
    "duration": 5,
    "start_time": "2024-07-24T04:01:51.320Z"
   },
   {
    "duration": 27,
    "start_time": "2024-07-24T04:01:52.394Z"
   },
   {
    "duration": 253,
    "start_time": "2024-07-24T04:02:04.997Z"
   },
   {
    "duration": 5345,
    "start_time": "2024-07-24T09:00:08.650Z"
   },
   {
    "duration": 774,
    "start_time": "2024-07-24T09:00:14.000Z"
   },
   {
    "duration": 23,
    "start_time": "2024-07-24T09:00:14.777Z"
   },
   {
    "duration": 6,
    "start_time": "2024-07-24T09:00:14.804Z"
   },
   {
    "duration": 174,
    "start_time": "2024-07-24T09:00:14.813Z"
   },
   {
    "duration": 168,
    "start_time": "2024-07-24T09:00:14.990Z"
   },
   {
    "duration": 422,
    "start_time": "2024-07-24T09:00:15.167Z"
   },
   {
    "duration": 426,
    "start_time": "2024-07-24T09:00:15.592Z"
   },
   {
    "duration": 127,
    "start_time": "2024-07-24T09:00:16.020Z"
   },
   {
    "duration": 2805,
    "start_time": "2024-07-24T09:00:16.155Z"
   },
   {
    "duration": 10,
    "start_time": "2024-07-24T09:00:18.963Z"
   },
   {
    "duration": 9,
    "start_time": "2024-07-24T09:00:18.976Z"
   },
   {
    "duration": 9,
    "start_time": "2024-07-24T09:00:18.989Z"
   },
   {
    "duration": 390,
    "start_time": "2024-07-24T09:00:19.001Z"
   },
   {
    "duration": 5,
    "start_time": "2024-07-24T09:00:19.394Z"
   },
   {
    "duration": 18,
    "start_time": "2024-07-24T09:00:19.402Z"
   },
   {
    "duration": 45,
    "start_time": "2024-07-24T09:00:19.423Z"
   },
   {
    "duration": 68,
    "start_time": "2024-07-24T09:00:19.470Z"
   },
   {
    "duration": 4,
    "start_time": "2024-07-24T09:00:19.541Z"
   },
   {
    "duration": 185,
    "start_time": "2024-07-24T09:00:19.567Z"
   },
   {
    "duration": 13,
    "start_time": "2024-07-24T09:00:19.755Z"
   },
   {
    "duration": 227,
    "start_time": "2024-07-24T09:00:19.770Z"
   },
   {
    "duration": 11,
    "start_time": "2024-07-24T09:00:20.000Z"
   },
   {
    "duration": 88733,
    "start_time": "2024-07-24T09:00:20.014Z"
   },
   {
    "duration": 26,
    "start_time": "2024-07-24T09:01:48.750Z"
   },
   {
    "duration": 39737,
    "start_time": "2024-07-24T09:01:48.780Z"
   },
   {
    "duration": 20,
    "start_time": "2024-07-24T09:02:28.521Z"
   },
   {
    "duration": 184,
    "start_time": "2024-07-24T09:02:28.567Z"
   },
   {
    "duration": 339,
    "start_time": "2024-07-24T09:02:28.755Z"
   },
   {
    "duration": 386,
    "start_time": "2024-07-24T09:02:29.097Z"
   },
   {
    "duration": 1934,
    "start_time": "2024-07-24T09:02:29.486Z"
   },
   {
    "duration": 5,
    "start_time": "2024-07-24T09:02:31.423Z"
   },
   {
    "duration": 12,
    "start_time": "2024-07-24T09:02:31.431Z"
   },
   {
    "duration": 26,
    "start_time": "2024-07-24T09:02:31.446Z"
   },
   {
    "duration": 54,
    "start_time": "2024-07-24T09:02:31.474Z"
   },
   {
    "duration": 56,
    "start_time": "2024-07-24T09:02:31.531Z"
   },
   {
    "duration": 27,
    "start_time": "2024-07-24T09:02:31.590Z"
   },
   {
    "duration": 136,
    "start_time": "2024-07-24T09:02:31.620Z"
   },
   {
    "duration": 16,
    "start_time": "2024-07-24T09:02:31.759Z"
   },
   {
    "duration": 11,
    "start_time": "2024-07-24T09:02:31.778Z"
   },
   {
    "duration": 14,
    "start_time": "2024-07-24T09:02:31.791Z"
   },
   {
    "duration": 14,
    "start_time": "2024-07-24T09:02:31.811Z"
   },
   {
    "duration": 52,
    "start_time": "2024-07-24T09:02:31.828Z"
   },
   {
    "duration": 25,
    "start_time": "2024-07-24T09:02:31.883Z"
   },
   {
    "duration": 15,
    "start_time": "2024-07-24T09:02:31.911Z"
   },
   {
    "duration": 59,
    "start_time": "2024-07-24T09:02:31.929Z"
   },
   {
    "duration": 14,
    "start_time": "2024-07-24T09:02:31.990Z"
   },
   {
    "duration": 1623,
    "start_time": "2024-07-24T09:02:32.007Z"
   },
   {
    "duration": 20,
    "start_time": "2024-07-24T09:02:33.633Z"
   },
   {
    "duration": 20,
    "start_time": "2024-07-24T09:02:33.669Z"
   },
   {
    "duration": 21,
    "start_time": "2024-07-24T09:02:33.692Z"
   },
   {
    "duration": 54,
    "start_time": "2024-07-24T09:02:33.716Z"
   },
   {
    "duration": 348,
    "start_time": "2024-07-24T09:02:33.773Z"
   },
   {
    "duration": 374,
    "start_time": "2024-07-24T09:02:34.124Z"
   },
   {
    "duration": 73,
    "start_time": "2024-07-24T09:02:34.501Z"
   },
   {
    "duration": 6,
    "start_time": "2024-07-24T09:02:34.578Z"
   },
   {
    "duration": 329,
    "start_time": "2024-07-24T09:02:34.588Z"
   },
   {
    "duration": 2066,
    "start_time": "2024-07-24T09:02:34.920Z"
   },
   {
    "duration": 1501,
    "start_time": "2024-07-24T09:02:36.989Z"
   },
   {
    "duration": 201,
    "start_time": "2024-07-24T09:02:38.493Z"
   },
   {
    "duration": 20,
    "start_time": "2024-07-24T09:02:38.696Z"
   },
   {
    "duration": 6,
    "start_time": "2024-07-24T09:02:38.719Z"
   },
   {
    "duration": 56,
    "start_time": "2024-07-24T09:02:38.728Z"
   },
   {
    "duration": 29,
    "start_time": "2024-07-24T09:02:38.788Z"
   },
   {
    "duration": 174,
    "start_time": "2024-07-24T09:02:38.821Z"
   },
   {
    "duration": 167,
    "start_time": "2024-07-24T09:02:38.997Z"
   },
   {
    "duration": 22,
    "start_time": "2024-07-24T09:02:39.167Z"
   },
   {
    "duration": 5,
    "start_time": "2024-07-24T09:02:39.192Z"
   },
   {
    "duration": 6,
    "start_time": "2024-07-24T09:02:39.200Z"
   },
   {
    "duration": 90,
    "start_time": "2024-07-24T09:02:39.209Z"
   },
   {
    "duration": 23,
    "start_time": "2024-07-24T09:02:39.301Z"
   },
   {
    "duration": 2417,
    "start_time": "2024-07-24T09:02:39.327Z"
   },
   {
    "duration": 101,
    "start_time": "2024-07-24T09:02:41.747Z"
   },
   {
    "duration": 26,
    "start_time": "2024-07-24T09:02:41.851Z"
   },
   {
    "duration": 7,
    "start_time": "2024-07-24T09:02:41.880Z"
   },
   {
    "duration": 4,
    "start_time": "2024-07-24T09:02:41.891Z"
   },
   {
    "duration": 19,
    "start_time": "2024-07-24T09:34:36.949Z"
   },
   {
    "duration": 5626,
    "start_time": "2024-07-24T20:11:01.013Z"
   },
   {
    "duration": 944,
    "start_time": "2024-07-24T20:11:06.643Z"
   },
   {
    "duration": 28,
    "start_time": "2024-07-24T20:11:07.602Z"
   },
   {
    "duration": 6,
    "start_time": "2024-07-24T20:11:07.635Z"
   },
   {
    "duration": 196,
    "start_time": "2024-07-24T20:11:07.644Z"
   },
   {
    "duration": 151,
    "start_time": "2024-07-24T20:11:07.843Z"
   },
   {
    "duration": 475,
    "start_time": "2024-07-24T20:11:08.001Z"
   },
   {
    "duration": 525,
    "start_time": "2024-07-24T20:11:08.479Z"
   },
   {
    "duration": 130,
    "start_time": "2024-07-24T20:11:09.014Z"
   },
   {
    "duration": 2959,
    "start_time": "2024-07-24T20:11:09.147Z"
   },
   {
    "duration": 10,
    "start_time": "2024-07-24T20:11:12.109Z"
   },
   {
    "duration": 21,
    "start_time": "2024-07-24T20:11:12.123Z"
   },
   {
    "duration": 13,
    "start_time": "2024-07-24T20:11:12.156Z"
   },
   {
    "duration": 387,
    "start_time": "2024-07-24T20:11:12.174Z"
   },
   {
    "duration": 6,
    "start_time": "2024-07-24T20:11:12.564Z"
   },
   {
    "duration": 40,
    "start_time": "2024-07-24T20:11:12.574Z"
   },
   {
    "duration": 19,
    "start_time": "2024-07-24T20:11:12.623Z"
   },
   {
    "duration": 85,
    "start_time": "2024-07-24T20:11:12.649Z"
   },
   {
    "duration": 6,
    "start_time": "2024-07-24T20:11:12.742Z"
   },
   {
    "duration": 205,
    "start_time": "2024-07-24T20:11:12.752Z"
   },
   {
    "duration": 7,
    "start_time": "2024-07-24T20:11:12.960Z"
   },
   {
    "duration": 272,
    "start_time": "2024-07-24T20:11:12.972Z"
   },
   {
    "duration": 12,
    "start_time": "2024-07-24T20:11:13.249Z"
   },
   {
    "duration": 91701,
    "start_time": "2024-07-24T20:11:13.264Z"
   },
   {
    "duration": 41,
    "start_time": "2024-07-24T20:12:44.969Z"
   },
   {
    "duration": 39533,
    "start_time": "2024-07-24T20:12:45.014Z"
   },
   {
    "duration": 28,
    "start_time": "2024-07-24T20:13:24.554Z"
   },
   {
    "duration": 218,
    "start_time": "2024-07-24T20:13:24.586Z"
   },
   {
    "duration": 392,
    "start_time": "2024-07-24T20:13:24.807Z"
   },
   {
    "duration": 430,
    "start_time": "2024-07-24T20:13:25.204Z"
   },
   {
    "duration": 2138,
    "start_time": "2024-07-24T20:13:25.640Z"
   },
   {
    "duration": 9,
    "start_time": "2024-07-24T20:13:27.781Z"
   },
   {
    "duration": 16,
    "start_time": "2024-07-24T20:13:27.797Z"
   },
   {
    "duration": 19,
    "start_time": "2024-07-24T20:13:27.820Z"
   },
   {
    "duration": 77,
    "start_time": "2024-07-24T20:13:27.849Z"
   },
   {
    "duration": 41,
    "start_time": "2024-07-24T20:13:27.929Z"
   },
   {
    "duration": 39,
    "start_time": "2024-07-24T20:13:27.978Z"
   },
   {
    "duration": 138,
    "start_time": "2024-07-24T20:13:28.020Z"
   },
   {
    "duration": 17,
    "start_time": "2024-07-24T20:13:28.161Z"
   },
   {
    "duration": 18,
    "start_time": "2024-07-24T20:13:28.208Z"
   },
   {
    "duration": 28,
    "start_time": "2024-07-24T20:13:28.235Z"
   },
   {
    "duration": 19,
    "start_time": "2024-07-24T20:13:28.266Z"
   },
   {
    "duration": 27,
    "start_time": "2024-07-24T20:13:28.289Z"
   },
   {
    "duration": 26,
    "start_time": "2024-07-24T20:13:28.319Z"
   },
   {
    "duration": 16,
    "start_time": "2024-07-24T20:13:28.348Z"
   },
   {
    "duration": 50,
    "start_time": "2024-07-24T20:13:28.367Z"
   },
   {
    "duration": 16,
    "start_time": "2024-07-24T20:13:28.420Z"
   },
   {
    "duration": 1695,
    "start_time": "2024-07-24T20:13:28.439Z"
   },
   {
    "duration": 25,
    "start_time": "2024-07-24T20:13:30.139Z"
   },
   {
    "duration": 45,
    "start_time": "2024-07-24T20:13:30.170Z"
   },
   {
    "duration": 33,
    "start_time": "2024-07-24T20:13:30.223Z"
   },
   {
    "duration": 24,
    "start_time": "2024-07-24T20:13:30.263Z"
   },
   {
    "duration": 373,
    "start_time": "2024-07-24T20:13:30.302Z"
   },
   {
    "duration": 403,
    "start_time": "2024-07-24T20:13:30.679Z"
   },
   {
    "duration": 70,
    "start_time": "2024-07-24T20:13:31.086Z"
   },
   {
    "duration": 6,
    "start_time": "2024-07-24T20:13:31.159Z"
   },
   {
    "duration": 421,
    "start_time": "2024-07-24T20:13:31.169Z"
   },
   {
    "duration": 2164,
    "start_time": "2024-07-24T20:13:31.606Z"
   },
   {
    "duration": 1579,
    "start_time": "2024-07-24T20:13:33.774Z"
   },
   {
    "duration": 233,
    "start_time": "2024-07-24T20:13:35.356Z"
   },
   {
    "duration": 23,
    "start_time": "2024-07-24T20:13:35.601Z"
   },
   {
    "duration": 19,
    "start_time": "2024-07-24T20:13:35.630Z"
   },
   {
    "duration": 23,
    "start_time": "2024-07-24T20:13:35.653Z"
   },
   {
    "duration": 45,
    "start_time": "2024-07-24T20:13:35.680Z"
   },
   {
    "duration": 168,
    "start_time": "2024-07-24T20:13:35.730Z"
   },
   {
    "duration": 193,
    "start_time": "2024-07-24T20:13:35.910Z"
   },
   {
    "duration": 27,
    "start_time": "2024-07-24T20:13:36.106Z"
   },
   {
    "duration": 4,
    "start_time": "2024-07-24T20:13:36.137Z"
   },
   {
    "duration": 6,
    "start_time": "2024-07-24T20:13:36.146Z"
   },
   {
    "duration": 116,
    "start_time": "2024-07-24T20:13:36.156Z"
   },
   {
    "duration": 30,
    "start_time": "2024-07-24T20:13:36.276Z"
   },
   {
    "duration": 2863,
    "start_time": "2024-07-24T20:13:36.310Z"
   },
   {
    "duration": 155,
    "start_time": "2024-07-24T20:13:39.177Z"
   },
   {
    "duration": 17,
    "start_time": "2024-07-24T20:13:39.334Z"
   },
   {
    "duration": 7,
    "start_time": "2024-07-24T20:13:39.354Z"
   },
   {
    "duration": 5,
    "start_time": "2024-07-24T20:13:39.368Z"
   },
   {
    "duration": 9,
    "start_time": "2024-07-24T20:13:39.403Z"
   },
   {
    "duration": 2345,
    "start_time": "2024-07-24T20:13:39.419Z"
   },
   {
    "duration": 1467115,
    "start_time": "2024-07-24T20:13:41.802Z"
   },
   {
    "duration": 56278,
    "start_time": "2024-07-24T20:38:08.919Z"
   },
   {
    "duration": 8,
    "start_time": "2024-07-24T20:39:05.203Z"
   },
   {
    "duration": 15,
    "start_time": "2024-07-24T20:39:05.220Z"
   },
   {
    "duration": 82,
    "start_time": "2024-07-24T20:39:05.238Z"
   },
   {
    "duration": 14,
    "start_time": "2024-07-24T20:39:05.323Z"
   },
   {
    "duration": 8,
    "start_time": "2024-07-24T20:39:05.341Z"
   },
   {
    "duration": 266,
    "start_time": "2024-07-24T20:39:05.352Z"
   }
  ],
  "kernelspec": {
   "display_name": "Python 3 (ipykernel)",
   "language": "python",
   "name": "python3"
  },
  "language_info": {
   "codemirror_mode": {
    "name": "ipython",
    "version": 3
   },
   "file_extension": ".py",
   "mimetype": "text/x-python",
   "name": "python",
   "nbconvert_exporter": "python",
   "pygments_lexer": "ipython3",
   "version": "3.9.19"
  },
  "toc": {
   "base_numbering": 1,
   "nav_menu": {},
   "number_sections": true,
   "sideBar": true,
   "skip_h1_title": true,
   "title_cell": "Table of Contents",
   "title_sidebar": "Contents",
   "toc_cell": false,
   "toc_position": {},
   "toc_section_display": true,
   "toc_window_display": false
  }
 },
 "nbformat": 4,
 "nbformat_minor": 2
}
